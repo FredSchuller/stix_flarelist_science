{
 "cells": [
  {
   "cell_type": "code",
   "execution_count": 1,
   "id": "685943e2-509c-49b0-a61d-34ab31d70b0b",
   "metadata": {},
   "outputs": [],
   "source": [
    "import pandas as pd\n",
    "import matplotlib.pyplot as plt \n",
    "from astropy import units as u \n",
    "import astrospice\n",
    "from astropy.time import Time\n",
    "from sunpy.coordinates import frames\n",
    "from sunpy.net import Fido, attrs as a\n",
    "from stixpy.net.client import STIXClient\n",
    "import matplotlib.pyplot as plt\n",
    "import numpy as np "
   ]
  },
  {
   "cell_type": "code",
   "execution_count": 2,
   "id": "cd08dd67-628e-46bb-9a68-151af8e2c713",
   "metadata": {},
   "outputs": [],
   "source": [
    "stix_big_flares = pd.read_csv(\"stix_all_flare_list_20221109_20221114_with_files.csv\")"
   ]
  },
  {
   "cell_type": "code",
   "execution_count": 3,
   "id": "b42fd2e2-b8cb-45f6-8efb-daa83622939b",
   "metadata": {},
   "outputs": [
    {
     "data": {
      "text/html": [
       "<div>\n",
       "<style scoped>\n",
       "    .dataframe tbody tr th:only-of-type {\n",
       "        vertical-align: middle;\n",
       "    }\n",
       "\n",
       "    .dataframe tbody tr th {\n",
       "        vertical-align: top;\n",
       "    }\n",
       "\n",
       "    .dataframe thead th {\n",
       "        text-align: right;\n",
       "    }\n",
       "</style>\n",
       "<table border=\"1\" class=\"dataframe\">\n",
       "  <thead>\n",
       "    <tr style=\"text-align: right;\">\n",
       "      <th></th>\n",
       "      <th>flare_id</th>\n",
       "      <th>duration</th>\n",
       "      <th>att_in</th>\n",
       "      <th>peak_UTC</th>\n",
       "      <th>LC0_BKG</th>\n",
       "      <th>_id</th>\n",
       "      <th>GOES_class</th>\n",
       "      <th>GOES_flux</th>\n",
       "      <th>CFL_X_arcsec</th>\n",
       "      <th>CFL_Y_arcsec</th>\n",
       "      <th>...</th>\n",
       "      <th>LC1_PEAK_COUNTS_4S</th>\n",
       "      <th>LC1_BKG_COUNTS_4S</th>\n",
       "      <th>LC2_PEAK_COUNTS_4S</th>\n",
       "      <th>LC2_BKG_COUNTS_4S</th>\n",
       "      <th>LC3_PEAK_COUNTS_4S</th>\n",
       "      <th>LC3_BKG_COUNTS_4S</th>\n",
       "      <th>LC4_PEAK_COUNTS_4S</th>\n",
       "      <th>LC4_BKG_COUNTS_4S</th>\n",
       "      <th>number_available_files</th>\n",
       "      <th>available_file_request_IDs</th>\n",
       "    </tr>\n",
       "  </thead>\n",
       "  <tbody>\n",
       "    <tr>\n",
       "      <th>0</th>\n",
       "      <td>2211090050</td>\n",
       "      <td>492</td>\n",
       "      <td>False</td>\n",
       "      <td>2022-11-09 00:50:20.013</td>\n",
       "      <td>217.688788</td>\n",
       "      <td>18265</td>\n",
       "      <td>B6.1</td>\n",
       "      <td>6.073233e-07</td>\n",
       "      <td>NaN</td>\n",
       "      <td>NaN</td>\n",
       "      <td>...</td>\n",
       "      <td>271</td>\n",
       "      <td>41.0</td>\n",
       "      <td>135</td>\n",
       "      <td>57.0</td>\n",
       "      <td>799</td>\n",
       "      <td>735.0</td>\n",
       "      <td>463</td>\n",
       "      <td>399.0</td>\n",
       "      <td>1</td>\n",
       "      <td>[2211090305]</td>\n",
       "    </tr>\n",
       "    <tr>\n",
       "      <th>1</th>\n",
       "      <td>2211090720</td>\n",
       "      <td>628</td>\n",
       "      <td>False</td>\n",
       "      <td>2022-11-09 07:20:44.052</td>\n",
       "      <td>217.690166</td>\n",
       "      <td>18273</td>\n",
       "      <td>B9.6</td>\n",
       "      <td>9.645386e-07</td>\n",
       "      <td>NaN</td>\n",
       "      <td>NaN</td>\n",
       "      <td>...</td>\n",
       "      <td>247</td>\n",
       "      <td>45.0</td>\n",
       "      <td>115</td>\n",
       "      <td>57.0</td>\n",
       "      <td>799</td>\n",
       "      <td>735.0</td>\n",
       "      <td>463</td>\n",
       "      <td>399.0</td>\n",
       "      <td>1</td>\n",
       "      <td>[2211091049]</td>\n",
       "    </tr>\n",
       "    <tr>\n",
       "      <th>2</th>\n",
       "      <td>2211090908</td>\n",
       "      <td>976</td>\n",
       "      <td>False</td>\n",
       "      <td>2022-11-09 09:08:44.063</td>\n",
       "      <td>217.690166</td>\n",
       "      <td>18275</td>\n",
       "      <td>B6.6</td>\n",
       "      <td>6.582638e-07</td>\n",
       "      <td>NaN</td>\n",
       "      <td>NaN</td>\n",
       "      <td>...</td>\n",
       "      <td>135</td>\n",
       "      <td>45.0</td>\n",
       "      <td>107</td>\n",
       "      <td>57.0</td>\n",
       "      <td>863</td>\n",
       "      <td>735.0</td>\n",
       "      <td>463</td>\n",
       "      <td>399.0</td>\n",
       "      <td>1</td>\n",
       "      <td>[2211096407]</td>\n",
       "    </tr>\n",
       "    <tr>\n",
       "      <th>3</th>\n",
       "      <td>2211090958</td>\n",
       "      <td>636</td>\n",
       "      <td>False</td>\n",
       "      <td>2022-11-09 09:58:44.069</td>\n",
       "      <td>217.690166</td>\n",
       "      <td>18277</td>\n",
       "      <td>B6.2</td>\n",
       "      <td>6.191904e-07</td>\n",
       "      <td>NaN</td>\n",
       "      <td>NaN</td>\n",
       "      <td>...</td>\n",
       "      <td>75</td>\n",
       "      <td>45.0</td>\n",
       "      <td>75</td>\n",
       "      <td>57.0</td>\n",
       "      <td>799</td>\n",
       "      <td>735.0</td>\n",
       "      <td>463</td>\n",
       "      <td>399.0</td>\n",
       "      <td>1</td>\n",
       "      <td>[2211091409]</td>\n",
       "    </tr>\n",
       "    <tr>\n",
       "      <th>4</th>\n",
       "      <td>2211091013</td>\n",
       "      <td>296</td>\n",
       "      <td>False</td>\n",
       "      <td>2022-11-09 10:13:24.070</td>\n",
       "      <td>217.690166</td>\n",
       "      <td>18278</td>\n",
       "      <td>B6.2</td>\n",
       "      <td>6.162408e-07</td>\n",
       "      <td>NaN</td>\n",
       "      <td>NaN</td>\n",
       "      <td>...</td>\n",
       "      <td>115</td>\n",
       "      <td>45.0</td>\n",
       "      <td>75</td>\n",
       "      <td>57.0</td>\n",
       "      <td>799</td>\n",
       "      <td>735.0</td>\n",
       "      <td>463</td>\n",
       "      <td>399.0</td>\n",
       "      <td>1</td>\n",
       "      <td>[2211091673]</td>\n",
       "    </tr>\n",
       "  </tbody>\n",
       "</table>\n",
       "<p>5 rows × 24 columns</p>\n",
       "</div>"
      ],
      "text/plain": [
       "     flare_id  duration  att_in                 peak_UTC     LC0_BKG    _id  \\\n",
       "0  2211090050       492   False  2022-11-09 00:50:20.013  217.688788  18265   \n",
       "1  2211090720       628   False  2022-11-09 07:20:44.052  217.690166  18273   \n",
       "2  2211090908       976   False  2022-11-09 09:08:44.063  217.690166  18275   \n",
       "3  2211090958       636   False  2022-11-09 09:58:44.069  217.690166  18277   \n",
       "4  2211091013       296   False  2022-11-09 10:13:24.070  217.690166  18278   \n",
       "\n",
       "  GOES_class     GOES_flux  CFL_X_arcsec  CFL_Y_arcsec  ...  \\\n",
       "0       B6.1  6.073233e-07           NaN           NaN  ...   \n",
       "1       B9.6  9.645386e-07           NaN           NaN  ...   \n",
       "2       B6.6  6.582638e-07           NaN           NaN  ...   \n",
       "3       B6.2  6.191904e-07           NaN           NaN  ...   \n",
       "4       B6.2  6.162408e-07           NaN           NaN  ...   \n",
       "\n",
       "  LC1_PEAK_COUNTS_4S LC1_BKG_COUNTS_4S  LC2_PEAK_COUNTS_4S  LC2_BKG_COUNTS_4S  \\\n",
       "0                271              41.0                 135               57.0   \n",
       "1                247              45.0                 115               57.0   \n",
       "2                135              45.0                 107               57.0   \n",
       "3                 75              45.0                  75               57.0   \n",
       "4                115              45.0                  75               57.0   \n",
       "\n",
       "   LC3_PEAK_COUNTS_4S  LC3_BKG_COUNTS_4S  LC4_PEAK_COUNTS_4S  \\\n",
       "0                 799              735.0                 463   \n",
       "1                 799              735.0                 463   \n",
       "2                 863              735.0                 463   \n",
       "3                 799              735.0                 463   \n",
       "4                 799              735.0                 463   \n",
       "\n",
       "   LC4_BKG_COUNTS_4S  number_available_files  available_file_request_IDs  \n",
       "0              399.0                       1                [2211090305]  \n",
       "1              399.0                       1                [2211091049]  \n",
       "2              399.0                       1                [2211096407]  \n",
       "3              399.0                       1                [2211091409]  \n",
       "4              399.0                       1                [2211091673]  \n",
       "\n",
       "[5 rows x 24 columns]"
      ]
     },
     "execution_count": 3,
     "metadata": {},
     "output_type": "execute_result"
    }
   ],
   "source": [
    "stix_big_flares.head()"
   ]
  },
  {
   "cell_type": "code",
   "execution_count": 4,
   "id": "ff24bc69-2c01-4a01-a299-555ff2442ac0",
   "metadata": {},
   "outputs": [],
   "source": [
    "flare_peak_times = Time.strptime(stix_big_flares[\"peak_UTC\"].values.astype(str), format_string=\"%Y-%m-%d %H:%M:%S.%f\")"
   ]
  },
  {
   "cell_type": "code",
   "execution_count": 5,
   "id": "11f07a64-6ea1-4c61-8a65-95515ce9fbe0",
   "metadata": {},
   "outputs": [
    {
     "name": "stderr",
     "output_type": "stream",
     "text": [
      "/opt/anaconda3/envs/stix_conda/lib/python3.10/site-packages/erfa/core.py:154: ErfaWarning: ERFA function \"dtf2d\" yielded 1 of \"dubious year (Note 6)\"\n",
      "  warnings.warn('ERFA function \"{}\" yielded {}'.format(func_name, wmsg),\n"
     ]
    },
    {
     "data": {
      "application/vnd.jupyter.widget-view+json": {
       "model_id": "e72453ac82e4472181454d03316e03b7",
       "version_major": 2,
       "version_minor": 0
      },
      "text/plain": [
       "Files Downloaded:   0%|          | 0/1 [00:00<?, ?file/s]"
      ]
     },
     "metadata": {},
     "output_type": "display_data"
    }
   ],
   "source": [
    "kernals = astrospice.registry.get_kernels(\"solar orbiter\", \"predict\")"
   ]
  },
  {
   "cell_type": "code",
   "execution_count": 6,
   "id": "62f1a46c-826d-43d9-a6fd-ff4c729ee46e",
   "metadata": {},
   "outputs": [],
   "source": [
    "solo_coords = astrospice.generate_coords(\"SOLAR ORBITER\", flare_peak_times).heliographic_stonyhurst\n",
    "earth_coords = astrospice.generate_coords(\"earth\", flare_peak_times).heliographic_stonyhurst"
   ]
  },
  {
   "cell_type": "code",
   "execution_count": 7,
   "id": "19b83b68-3854-4525-a3aa-320465f04869",
   "metadata": {},
   "outputs": [],
   "source": [
    "stix_big_flares[\"solo_lat\"] = solo_coords.lat.value\n",
    "stix_big_flares[\"solo_lon\"] = solo_coords.lon.value\n",
    "stix_big_flares[\"solo_AU_distance\"] = solo_coords.radius.to(u.AU).value"
   ]
  },
  {
   "cell_type": "code",
   "execution_count": 8,
   "id": "99add5ac-2e80-4255-8ec2-7a83fdd8d935",
   "metadata": {},
   "outputs": [
    {
     "data": {
      "text/plain": [
       "Index(['flare_id', 'duration', 'att_in', 'peak_UTC', 'LC0_BKG', '_id',\n",
       "       'GOES_class', 'GOES_flux', 'CFL_X_arcsec', 'CFL_Y_arcsec', 'start_UTC',\n",
       "       'end_UTC', 'LC0_PEAK_COUNTS_4S', 'LC0_BKG_COUNTS_4S',\n",
       "       'LC1_PEAK_COUNTS_4S', 'LC1_BKG_COUNTS_4S', 'LC2_PEAK_COUNTS_4S',\n",
       "       'LC2_BKG_COUNTS_4S', 'LC3_PEAK_COUNTS_4S', 'LC3_BKG_COUNTS_4S',\n",
       "       'LC4_PEAK_COUNTS_4S', 'LC4_BKG_COUNTS_4S', 'number_available_files',\n",
       "       'available_file_request_IDs', 'solo_lat', 'solo_lon',\n",
       "       'solo_AU_distance'],\n",
       "      dtype='object')"
      ]
     },
     "execution_count": 8,
     "metadata": {},
     "output_type": "execute_result"
    }
   ],
   "source": [
    "stix_big_flares.keys()"
   ]
  },
  {
   "cell_type": "code",
   "execution_count": 9,
   "id": "6cabca7c-70c0-4607-876c-c159d96bd030",
   "metadata": {},
   "outputs": [],
   "source": [
    "stix_big_flares.rename(columns={'LC0_PEAK_COUNTS_4S': '4-10 keV', \n",
    "                                'LC1_PEAK_COUNTS_4S': \"10-15 keV\",\n",
    "                                'LC2_PEAK_COUNTS_4S': \"15-25 keV\", \n",
    "                                'LC3_PEAK_COUNTS_4S': \"25-50 keV\", \n",
    "                                'LC4_PEAK_COUNTS_4S': \"50-84 keV\"}, inplace=True)"
   ]
  },
  {
   "cell_type": "code",
   "execution_count": 10,
   "id": "21d14935-9e4c-4ec1-b0dc-0f66c1c8dc5d",
   "metadata": {},
   "outputs": [
    {
     "data": {
      "text/plain": [
       "Index(['flare_id', 'duration', 'att_in', 'peak_UTC', 'LC0_BKG', '_id',\n",
       "       'GOES_class', 'GOES_flux', 'CFL_X_arcsec', 'CFL_Y_arcsec', 'start_UTC',\n",
       "       'end_UTC', '4-10 keV', 'LC0_BKG_COUNTS_4S', '10-15 keV',\n",
       "       'LC1_BKG_COUNTS_4S', '15-25 keV', 'LC2_BKG_COUNTS_4S', '25-50 keV',\n",
       "       'LC3_BKG_COUNTS_4S', '50-84 keV', 'LC4_BKG_COUNTS_4S',\n",
       "       'number_available_files', 'available_file_request_IDs', 'solo_lat',\n",
       "       'solo_lon', 'solo_AU_distance'],\n",
       "      dtype='object')"
      ]
     },
     "execution_count": 10,
     "metadata": {},
     "output_type": "execute_result"
    }
   ],
   "source": [
    "stix_big_flares.keys()"
   ]
  },
  {
   "cell_type": "code",
   "execution_count": 11,
   "id": "4399b83e-2b26-49e8-a956-231bebf1ffad",
   "metadata": {},
   "outputs": [],
   "source": [
    "columns = ['flare_id', 'att_in','GOES_flux', 'start_UTC', 'peak_UTC', 'end_UTC', '4-10 keV', '10-15 keV',\n",
    "           'number_available_files', 'available_file_request_IDs', 'solo_lat', 'solo_lon',\n",
    "           'solo_AU_distance', '15-25 keV','25-50 keV', '50-84 keV', 'GOES_class']"
   ]
  },
  {
   "cell_type": "code",
   "execution_count": 12,
   "id": "09189a42-fe1f-4f18-9f3c-cb4ad80656e0",
   "metadata": {},
   "outputs": [],
   "source": [
    "stix_flares_tidy = stix_big_flares[columns]"
   ]
  },
  {
   "cell_type": "markdown",
   "id": "a86651df-ee0a-406c-a74a-edf8c5c365f6",
   "metadata": {},
   "source": [
    "## Lets find all flares with pixel data"
   ]
  },
  {
   "cell_type": "code",
   "execution_count": 13,
   "id": "8b98422a",
   "metadata": {},
   "outputs": [],
   "source": [
    "no_pixel_files = stix_flares_tidy[stix_flares_tidy[\"number_available_files\"]==0]\n",
    "no_pixel_files.to_csv('flares_apparently_without_pixel_data.csv') # (from Fido)"
   ]
  },
  {
   "cell_type": "code",
   "execution_count": 14,
   "id": "56319315",
   "metadata": {},
   "outputs": [
    {
     "data": {
      "text/plain": [
       "11"
      ]
     },
     "execution_count": 14,
     "metadata": {},
     "output_type": "execute_result"
    }
   ],
   "source": [
    "len(no_pixel_files)"
   ]
  },
  {
   "cell_type": "code",
   "execution_count": 15,
   "id": "4661cd31-ebbb-4c63-80c0-6f87b97f94a3",
   "metadata": {},
   "outputs": [],
   "source": [
    "stix_flare_w_files = stix_flares_tidy[stix_flares_tidy[\"number_available_files\"]>=1]\n",
    "stix_flare_w_files.reset_index(inplace=True, drop=True)"
   ]
  },
  {
   "cell_type": "code",
   "execution_count": 16,
   "id": "f2efecc5",
   "metadata": {},
   "outputs": [
    {
     "data": {
      "text/plain": [
       "(0.9438775510204082, 185, 196)"
      ]
     },
     "execution_count": 16,
     "metadata": {},
     "output_type": "execute_result"
    }
   ],
   "source": [
    "len(stix_flare_w_files)/len(stix_flares_tidy), len(stix_flare_w_files), len(stix_flares_tidy)"
   ]
  },
  {
   "cell_type": "code",
   "execution_count": 17,
   "id": "4e07c369",
   "metadata": {},
   "outputs": [],
   "source": [
    "pd.set_option('mode.chained_assignment', None)\n"
   ]
  },
  {
   "cell_type": "code",
   "execution_count": 18,
   "id": "a36bc2b4-3393-4a60-b4e4-879e4ce341da",
   "metadata": {},
   "outputs": [],
   "source": [
    "stix_flare_w_files.loc[:, \"Request IDs\"] = stix_flare_w_files[\"available_file_request_IDs\"].map(lambda x: x.strip('][').split(', ')[0])\n"
   ]
  },
  {
   "cell_type": "code",
   "execution_count": 19,
   "id": "acebce06-8c08-450e-8f0a-25b8aa661709",
   "metadata": {},
   "outputs": [
    {
     "data": {
      "text/html": [
       "<div>\n",
       "<style scoped>\n",
       "    .dataframe tbody tr th:only-of-type {\n",
       "        vertical-align: middle;\n",
       "    }\n",
       "\n",
       "    .dataframe tbody tr th {\n",
       "        vertical-align: top;\n",
       "    }\n",
       "\n",
       "    .dataframe thead th {\n",
       "        text-align: right;\n",
       "    }\n",
       "</style>\n",
       "<table border=\"1\" class=\"dataframe\">\n",
       "  <thead>\n",
       "    <tr style=\"text-align: right;\">\n",
       "      <th></th>\n",
       "      <th>flare_id</th>\n",
       "      <th>att_in</th>\n",
       "      <th>GOES_flux</th>\n",
       "      <th>start_UTC</th>\n",
       "      <th>peak_UTC</th>\n",
       "      <th>end_UTC</th>\n",
       "      <th>4-10 keV</th>\n",
       "      <th>10-15 keV</th>\n",
       "      <th>number_available_files</th>\n",
       "      <th>available_file_request_IDs</th>\n",
       "      <th>solo_lat</th>\n",
       "      <th>solo_lon</th>\n",
       "      <th>solo_AU_distance</th>\n",
       "      <th>15-25 keV</th>\n",
       "      <th>25-50 keV</th>\n",
       "      <th>50-84 keV</th>\n",
       "      <th>GOES_class</th>\n",
       "      <th>Request IDs</th>\n",
       "    </tr>\n",
       "  </thead>\n",
       "  <tbody>\n",
       "    <tr>\n",
       "      <th>0</th>\n",
       "      <td>2211090050</td>\n",
       "      <td>False</td>\n",
       "      <td>6.073233e-07</td>\n",
       "      <td>2022-11-09T00:44:44.012</td>\n",
       "      <td>2022-11-09 00:50:20.013</td>\n",
       "      <td>2022-11-09T00:52:56.013</td>\n",
       "      <td>1215</td>\n",
       "      <td>271</td>\n",
       "      <td>1</td>\n",
       "      <td>[2211090305]</td>\n",
       "      <td>9.180063</td>\n",
       "      <td>-24.156920</td>\n",
       "      <td>0.590873</td>\n",
       "      <td>135</td>\n",
       "      <td>799</td>\n",
       "      <td>463</td>\n",
       "      <td>B6.1</td>\n",
       "      <td>2211090305</td>\n",
       "    </tr>\n",
       "    <tr>\n",
       "      <th>1</th>\n",
       "      <td>2211090720</td>\n",
       "      <td>False</td>\n",
       "      <td>9.645386e-07</td>\n",
       "      <td>2022-11-09T07:18:12.052</td>\n",
       "      <td>2022-11-09 07:20:44.052</td>\n",
       "      <td>2022-11-09T07:28:40.053</td>\n",
       "      <td>2431</td>\n",
       "      <td>247</td>\n",
       "      <td>1</td>\n",
       "      <td>[2211091049]</td>\n",
       "      <td>9.176525</td>\n",
       "      <td>-23.910781</td>\n",
       "      <td>0.594137</td>\n",
       "      <td>115</td>\n",
       "      <td>799</td>\n",
       "      <td>463</td>\n",
       "      <td>B9.6</td>\n",
       "      <td>2211091049</td>\n",
       "    </tr>\n",
       "    <tr>\n",
       "      <th>2</th>\n",
       "      <td>2211090908</td>\n",
       "      <td>False</td>\n",
       "      <td>6.582638e-07</td>\n",
       "      <td>2022-11-09T08:58:40.062</td>\n",
       "      <td>2022-11-09 09:08:44.063</td>\n",
       "      <td>2022-11-09T09:14:56.064</td>\n",
       "      <td>607</td>\n",
       "      <td>135</td>\n",
       "      <td>1</td>\n",
       "      <td>[2211096407]</td>\n",
       "      <td>9.175424</td>\n",
       "      <td>-23.843695</td>\n",
       "      <td>0.595037</td>\n",
       "      <td>107</td>\n",
       "      <td>863</td>\n",
       "      <td>463</td>\n",
       "      <td>B6.6</td>\n",
       "      <td>2211096407</td>\n",
       "    </tr>\n",
       "    <tr>\n",
       "      <th>3</th>\n",
       "      <td>2211090958</td>\n",
       "      <td>False</td>\n",
       "      <td>6.191904e-07</td>\n",
       "      <td>2022-11-09T09:55:28.068</td>\n",
       "      <td>2022-11-09 09:58:44.069</td>\n",
       "      <td>2022-11-09T10:06:04.069</td>\n",
       "      <td>607</td>\n",
       "      <td>75</td>\n",
       "      <td>1</td>\n",
       "      <td>[2211091409]</td>\n",
       "      <td>9.174897</td>\n",
       "      <td>-23.812783</td>\n",
       "      <td>0.595453</td>\n",
       "      <td>75</td>\n",
       "      <td>799</td>\n",
       "      <td>463</td>\n",
       "      <td>B6.2</td>\n",
       "      <td>2211091409</td>\n",
       "    </tr>\n",
       "    <tr>\n",
       "      <th>4</th>\n",
       "      <td>2211091013</td>\n",
       "      <td>False</td>\n",
       "      <td>6.162408e-07</td>\n",
       "      <td>2022-11-09T10:11:28.070</td>\n",
       "      <td>2022-11-09 10:13:24.070</td>\n",
       "      <td>2022-11-09T10:16:24.070</td>\n",
       "      <td>735</td>\n",
       "      <td>115</td>\n",
       "      <td>1</td>\n",
       "      <td>[2211091673]</td>\n",
       "      <td>9.174741</td>\n",
       "      <td>-23.803733</td>\n",
       "      <td>0.595575</td>\n",
       "      <td>75</td>\n",
       "      <td>799</td>\n",
       "      <td>463</td>\n",
       "      <td>B6.2</td>\n",
       "      <td>2211091673</td>\n",
       "    </tr>\n",
       "    <tr>\n",
       "      <th>...</th>\n",
       "      <td>...</td>\n",
       "      <td>...</td>\n",
       "      <td>...</td>\n",
       "      <td>...</td>\n",
       "      <td>...</td>\n",
       "      <td>...</td>\n",
       "      <td>...</td>\n",
       "      <td>...</td>\n",
       "      <td>...</td>\n",
       "      <td>...</td>\n",
       "      <td>...</td>\n",
       "      <td>...</td>\n",
       "      <td>...</td>\n",
       "      <td>...</td>\n",
       "      <td>...</td>\n",
       "      <td>...</td>\n",
       "      <td>...</td>\n",
       "      <td>...</td>\n",
       "    </tr>\n",
       "    <tr>\n",
       "      <th>180</th>\n",
       "      <td>2211142151</td>\n",
       "      <td>False</td>\n",
       "      <td>4.388000e-06</td>\n",
       "      <td>2022-11-14T21:29:48.099</td>\n",
       "      <td>2022-11-14 21:51:20.101</td>\n",
       "      <td>2022-11-14T22:08:04.103</td>\n",
       "      <td>29695</td>\n",
       "      <td>2943</td>\n",
       "      <td>2</td>\n",
       "      <td>[2211145517, 2211140731]</td>\n",
       "      <td>8.978725</td>\n",
       "      <td>-19.941204</td>\n",
       "      <td>0.658157</td>\n",
       "      <td>335</td>\n",
       "      <td>863</td>\n",
       "      <td>463</td>\n",
       "      <td>C4.4</td>\n",
       "      <td>2211145517</td>\n",
       "    </tr>\n",
       "    <tr>\n",
       "      <th>181</th>\n",
       "      <td>2211142250</td>\n",
       "      <td>False</td>\n",
       "      <td>2.930119e-06</td>\n",
       "      <td>2022-11-14T22:19:44.104</td>\n",
       "      <td>2022-11-14 22:50:36.107</td>\n",
       "      <td>2022-11-14T23:08:28.109</td>\n",
       "      <td>6399</td>\n",
       "      <td>463</td>\n",
       "      <td>2</td>\n",
       "      <td>[2211147867, 2211143309]</td>\n",
       "      <td>8.976581</td>\n",
       "      <td>-19.918901</td>\n",
       "      <td>0.658602</td>\n",
       "      <td>123</td>\n",
       "      <td>799</td>\n",
       "      <td>463</td>\n",
       "      <td>C2.9</td>\n",
       "      <td>2211147867</td>\n",
       "    </tr>\n",
       "    <tr>\n",
       "      <th>182</th>\n",
       "      <td>2211142310</td>\n",
       "      <td>False</td>\n",
       "      <td>2.244843e-06</td>\n",
       "      <td>2022-11-14T23:09:56.109</td>\n",
       "      <td>2022-11-14 23:10:52.110</td>\n",
       "      <td>2022-11-14T23:11:48.110</td>\n",
       "      <td>543</td>\n",
       "      <td>67</td>\n",
       "      <td>1</td>\n",
       "      <td>[2211147867]</td>\n",
       "      <td>8.975846</td>\n",
       "      <td>-19.911295</td>\n",
       "      <td>0.658754</td>\n",
       "      <td>75</td>\n",
       "      <td>799</td>\n",
       "      <td>431</td>\n",
       "      <td>C2.2</td>\n",
       "      <td>2211147867</td>\n",
       "    </tr>\n",
       "    <tr>\n",
       "      <th>183</th>\n",
       "      <td>2211142324</td>\n",
       "      <td>False</td>\n",
       "      <td>1.959793e-06</td>\n",
       "      <td>2022-11-14T23:23:56.111</td>\n",
       "      <td>2022-11-14 23:24:48.111</td>\n",
       "      <td>2022-11-14T23:25:48.111</td>\n",
       "      <td>735</td>\n",
       "      <td>91</td>\n",
       "      <td>1</td>\n",
       "      <td>[2211141248]</td>\n",
       "      <td>8.975340</td>\n",
       "      <td>-19.906072</td>\n",
       "      <td>0.658859</td>\n",
       "      <td>91</td>\n",
       "      <td>799</td>\n",
       "      <td>431</td>\n",
       "      <td>C2.0</td>\n",
       "      <td>2211141248</td>\n",
       "    </tr>\n",
       "    <tr>\n",
       "      <th>184</th>\n",
       "      <td>2211142339</td>\n",
       "      <td>False</td>\n",
       "      <td>2.253802e-06</td>\n",
       "      <td>2022-11-14T23:23:56.111</td>\n",
       "      <td>2022-11-14 23:39:36.113</td>\n",
       "      <td>2022-11-14T23:59:36.115</td>\n",
       "      <td>3711</td>\n",
       "      <td>303</td>\n",
       "      <td>1</td>\n",
       "      <td>[2211141248]</td>\n",
       "      <td>8.974802</td>\n",
       "      <td>-19.900528</td>\n",
       "      <td>0.658970</td>\n",
       "      <td>99</td>\n",
       "      <td>863</td>\n",
       "      <td>463</td>\n",
       "      <td>C2.3</td>\n",
       "      <td>2211141248</td>\n",
       "    </tr>\n",
       "  </tbody>\n",
       "</table>\n",
       "<p>185 rows × 18 columns</p>\n",
       "</div>"
      ],
      "text/plain": [
       "       flare_id  att_in     GOES_flux                start_UTC  \\\n",
       "0    2211090050   False  6.073233e-07  2022-11-09T00:44:44.012   \n",
       "1    2211090720   False  9.645386e-07  2022-11-09T07:18:12.052   \n",
       "2    2211090908   False  6.582638e-07  2022-11-09T08:58:40.062   \n",
       "3    2211090958   False  6.191904e-07  2022-11-09T09:55:28.068   \n",
       "4    2211091013   False  6.162408e-07  2022-11-09T10:11:28.070   \n",
       "..          ...     ...           ...                      ...   \n",
       "180  2211142151   False  4.388000e-06  2022-11-14T21:29:48.099   \n",
       "181  2211142250   False  2.930119e-06  2022-11-14T22:19:44.104   \n",
       "182  2211142310   False  2.244843e-06  2022-11-14T23:09:56.109   \n",
       "183  2211142324   False  1.959793e-06  2022-11-14T23:23:56.111   \n",
       "184  2211142339   False  2.253802e-06  2022-11-14T23:23:56.111   \n",
       "\n",
       "                    peak_UTC                  end_UTC  4-10 keV  10-15 keV  \\\n",
       "0    2022-11-09 00:50:20.013  2022-11-09T00:52:56.013      1215        271   \n",
       "1    2022-11-09 07:20:44.052  2022-11-09T07:28:40.053      2431        247   \n",
       "2    2022-11-09 09:08:44.063  2022-11-09T09:14:56.064       607        135   \n",
       "3    2022-11-09 09:58:44.069  2022-11-09T10:06:04.069       607         75   \n",
       "4    2022-11-09 10:13:24.070  2022-11-09T10:16:24.070       735        115   \n",
       "..                       ...                      ...       ...        ...   \n",
       "180  2022-11-14 21:51:20.101  2022-11-14T22:08:04.103     29695       2943   \n",
       "181  2022-11-14 22:50:36.107  2022-11-14T23:08:28.109      6399        463   \n",
       "182  2022-11-14 23:10:52.110  2022-11-14T23:11:48.110       543         67   \n",
       "183  2022-11-14 23:24:48.111  2022-11-14T23:25:48.111       735         91   \n",
       "184  2022-11-14 23:39:36.113  2022-11-14T23:59:36.115      3711        303   \n",
       "\n",
       "     number_available_files available_file_request_IDs  solo_lat   solo_lon  \\\n",
       "0                         1               [2211090305]  9.180063 -24.156920   \n",
       "1                         1               [2211091049]  9.176525 -23.910781   \n",
       "2                         1               [2211096407]  9.175424 -23.843695   \n",
       "3                         1               [2211091409]  9.174897 -23.812783   \n",
       "4                         1               [2211091673]  9.174741 -23.803733   \n",
       "..                      ...                        ...       ...        ...   \n",
       "180                       2   [2211145517, 2211140731]  8.978725 -19.941204   \n",
       "181                       2   [2211147867, 2211143309]  8.976581 -19.918901   \n",
       "182                       1               [2211147867]  8.975846 -19.911295   \n",
       "183                       1               [2211141248]  8.975340 -19.906072   \n",
       "184                       1               [2211141248]  8.974802 -19.900528   \n",
       "\n",
       "     solo_AU_distance  15-25 keV  25-50 keV  50-84 keV GOES_class Request IDs  \n",
       "0            0.590873        135        799        463       B6.1  2211090305  \n",
       "1            0.594137        115        799        463       B9.6  2211091049  \n",
       "2            0.595037        107        863        463       B6.6  2211096407  \n",
       "3            0.595453         75        799        463       B6.2  2211091409  \n",
       "4            0.595575         75        799        463       B6.2  2211091673  \n",
       "..                ...        ...        ...        ...        ...         ...  \n",
       "180          0.658157        335        863        463       C4.4  2211145517  \n",
       "181          0.658602        123        799        463       C2.9  2211147867  \n",
       "182          0.658754         75        799        431       C2.2  2211147867  \n",
       "183          0.658859         91        799        431       C2.0  2211141248  \n",
       "184          0.658970         99        863        463       C2.3  2211141248  \n",
       "\n",
       "[185 rows x 18 columns]"
      ]
     },
     "execution_count": 19,
     "metadata": {},
     "output_type": "execute_result"
    }
   ],
   "source": [
    "stix_flare_w_files"
   ]
  },
  {
   "cell_type": "code",
   "execution_count": 20,
   "id": "1d12dae9-697e-409d-98c2-edbecf6bcae3",
   "metadata": {},
   "outputs": [],
   "source": [
    "def get_pixel_data(tstart, tend, request_id):\n",
    "    res = Fido.search(a.Time(tstart, tend), a.Instrument.stix, a.stix.DataProduct.sci_xray_cpd)\n",
    "    res = res[\"stix\"][res[\"stix\"][\"Request ID\"] == int(request_id)]\n",
    "    f = Fido.fetch(res, path=\"./pixel_data/{file}\")\n",
    "    if len(f)>0:\n",
    "        return \"./\"+f[0]\n",
    "    else:\n",
    "        return ''\n",
    "\n",
    "def get_aux_data(tstart, tend):\n",
    "    res = Fido.search(a.Time(tstart, tend), a.Instrument.stix, a.stix.DataProduct.aux_ephemeris)\n",
    "    f = Fido.fetch(res, path=\"./aux_data/{file}\")\n",
    "    if len(f)>0:\n",
    "        return \"./\"+f[0]\n",
    "    else:\n",
    "        return ''"
   ]
  },
  {
   "cell_type": "code",
   "execution_count": 21,
   "id": "04e6de01",
   "metadata": {},
   "outputs": [
    {
     "data": {
      "text/plain": [
       "185"
      ]
     },
     "execution_count": 21,
     "metadata": {},
     "output_type": "execute_result"
    }
   ],
   "source": [
    "len(stix_flare_w_files)"
   ]
  },
  {
   "cell_type": "code",
   "execution_count": 22,
   "id": "775cc9a8-0aa3-4c2b-ad81-5cbdf9d70272",
   "metadata": {},
   "outputs": [
    {
     "data": {
      "text/html": [
       "<div>\n",
       "<style scoped>\n",
       "    .dataframe tbody tr th:only-of-type {\n",
       "        vertical-align: middle;\n",
       "    }\n",
       "\n",
       "    .dataframe tbody tr th {\n",
       "        vertical-align: top;\n",
       "    }\n",
       "\n",
       "    .dataframe thead th {\n",
       "        text-align: right;\n",
       "    }\n",
       "</style>\n",
       "<table border=\"1\" class=\"dataframe\">\n",
       "  <thead>\n",
       "    <tr style=\"text-align: right;\">\n",
       "      <th></th>\n",
       "      <th>flare_id</th>\n",
       "      <th>att_in</th>\n",
       "      <th>GOES_flux</th>\n",
       "      <th>start_UTC</th>\n",
       "      <th>peak_UTC</th>\n",
       "      <th>end_UTC</th>\n",
       "      <th>4-10 keV</th>\n",
       "      <th>10-15 keV</th>\n",
       "      <th>number_available_files</th>\n",
       "      <th>available_file_request_IDs</th>\n",
       "      <th>solo_lat</th>\n",
       "      <th>solo_lon</th>\n",
       "      <th>solo_AU_distance</th>\n",
       "      <th>15-25 keV</th>\n",
       "      <th>25-50 keV</th>\n",
       "      <th>50-84 keV</th>\n",
       "      <th>GOES_class</th>\n",
       "      <th>Request IDs</th>\n",
       "    </tr>\n",
       "  </thead>\n",
       "  <tbody>\n",
       "    <tr>\n",
       "      <th>0</th>\n",
       "      <td>2211090050</td>\n",
       "      <td>False</td>\n",
       "      <td>6.073233e-07</td>\n",
       "      <td>2022-11-09T00:44:44.012</td>\n",
       "      <td>2022-11-09 00:50:20.013</td>\n",
       "      <td>2022-11-09T00:52:56.013</td>\n",
       "      <td>1215</td>\n",
       "      <td>271</td>\n",
       "      <td>1</td>\n",
       "      <td>[2211090305]</td>\n",
       "      <td>9.180063</td>\n",
       "      <td>-24.156920</td>\n",
       "      <td>0.590873</td>\n",
       "      <td>135</td>\n",
       "      <td>799</td>\n",
       "      <td>463</td>\n",
       "      <td>B6.1</td>\n",
       "      <td>2211090305</td>\n",
       "    </tr>\n",
       "    <tr>\n",
       "      <th>1</th>\n",
       "      <td>2211090720</td>\n",
       "      <td>False</td>\n",
       "      <td>9.645386e-07</td>\n",
       "      <td>2022-11-09T07:18:12.052</td>\n",
       "      <td>2022-11-09 07:20:44.052</td>\n",
       "      <td>2022-11-09T07:28:40.053</td>\n",
       "      <td>2431</td>\n",
       "      <td>247</td>\n",
       "      <td>1</td>\n",
       "      <td>[2211091049]</td>\n",
       "      <td>9.176525</td>\n",
       "      <td>-23.910781</td>\n",
       "      <td>0.594137</td>\n",
       "      <td>115</td>\n",
       "      <td>799</td>\n",
       "      <td>463</td>\n",
       "      <td>B9.6</td>\n",
       "      <td>2211091049</td>\n",
       "    </tr>\n",
       "    <tr>\n",
       "      <th>2</th>\n",
       "      <td>2211090908</td>\n",
       "      <td>False</td>\n",
       "      <td>6.582638e-07</td>\n",
       "      <td>2022-11-09T08:58:40.062</td>\n",
       "      <td>2022-11-09 09:08:44.063</td>\n",
       "      <td>2022-11-09T09:14:56.064</td>\n",
       "      <td>607</td>\n",
       "      <td>135</td>\n",
       "      <td>1</td>\n",
       "      <td>[2211096407]</td>\n",
       "      <td>9.175424</td>\n",
       "      <td>-23.843695</td>\n",
       "      <td>0.595037</td>\n",
       "      <td>107</td>\n",
       "      <td>863</td>\n",
       "      <td>463</td>\n",
       "      <td>B6.6</td>\n",
       "      <td>2211096407</td>\n",
       "    </tr>\n",
       "    <tr>\n",
       "      <th>3</th>\n",
       "      <td>2211090958</td>\n",
       "      <td>False</td>\n",
       "      <td>6.191904e-07</td>\n",
       "      <td>2022-11-09T09:55:28.068</td>\n",
       "      <td>2022-11-09 09:58:44.069</td>\n",
       "      <td>2022-11-09T10:06:04.069</td>\n",
       "      <td>607</td>\n",
       "      <td>75</td>\n",
       "      <td>1</td>\n",
       "      <td>[2211091409]</td>\n",
       "      <td>9.174897</td>\n",
       "      <td>-23.812783</td>\n",
       "      <td>0.595453</td>\n",
       "      <td>75</td>\n",
       "      <td>799</td>\n",
       "      <td>463</td>\n",
       "      <td>B6.2</td>\n",
       "      <td>2211091409</td>\n",
       "    </tr>\n",
       "    <tr>\n",
       "      <th>4</th>\n",
       "      <td>2211091013</td>\n",
       "      <td>False</td>\n",
       "      <td>6.162408e-07</td>\n",
       "      <td>2022-11-09T10:11:28.070</td>\n",
       "      <td>2022-11-09 10:13:24.070</td>\n",
       "      <td>2022-11-09T10:16:24.070</td>\n",
       "      <td>735</td>\n",
       "      <td>115</td>\n",
       "      <td>1</td>\n",
       "      <td>[2211091673]</td>\n",
       "      <td>9.174741</td>\n",
       "      <td>-23.803733</td>\n",
       "      <td>0.595575</td>\n",
       "      <td>75</td>\n",
       "      <td>799</td>\n",
       "      <td>463</td>\n",
       "      <td>B6.2</td>\n",
       "      <td>2211091673</td>\n",
       "    </tr>\n",
       "  </tbody>\n",
       "</table>\n",
       "</div>"
      ],
      "text/plain": [
       "     flare_id  att_in     GOES_flux                start_UTC  \\\n",
       "0  2211090050   False  6.073233e-07  2022-11-09T00:44:44.012   \n",
       "1  2211090720   False  9.645386e-07  2022-11-09T07:18:12.052   \n",
       "2  2211090908   False  6.582638e-07  2022-11-09T08:58:40.062   \n",
       "3  2211090958   False  6.191904e-07  2022-11-09T09:55:28.068   \n",
       "4  2211091013   False  6.162408e-07  2022-11-09T10:11:28.070   \n",
       "\n",
       "                  peak_UTC                  end_UTC  4-10 keV  10-15 keV  \\\n",
       "0  2022-11-09 00:50:20.013  2022-11-09T00:52:56.013      1215        271   \n",
       "1  2022-11-09 07:20:44.052  2022-11-09T07:28:40.053      2431        247   \n",
       "2  2022-11-09 09:08:44.063  2022-11-09T09:14:56.064       607        135   \n",
       "3  2022-11-09 09:58:44.069  2022-11-09T10:06:04.069       607         75   \n",
       "4  2022-11-09 10:13:24.070  2022-11-09T10:16:24.070       735        115   \n",
       "\n",
       "   number_available_files available_file_request_IDs  solo_lat   solo_lon  \\\n",
       "0                       1               [2211090305]  9.180063 -24.156920   \n",
       "1                       1               [2211091049]  9.176525 -23.910781   \n",
       "2                       1               [2211096407]  9.175424 -23.843695   \n",
       "3                       1               [2211091409]  9.174897 -23.812783   \n",
       "4                       1               [2211091673]  9.174741 -23.803733   \n",
       "\n",
       "   solo_AU_distance  15-25 keV  25-50 keV  50-84 keV GOES_class Request IDs  \n",
       "0          0.590873        135        799        463       B6.1  2211090305  \n",
       "1          0.594137        115        799        463       B9.6  2211091049  \n",
       "2          0.595037        107        863        463       B6.6  2211096407  \n",
       "3          0.595453         75        799        463       B6.2  2211091409  \n",
       "4          0.595575         75        799        463       B6.2  2211091673  "
      ]
     },
     "execution_count": 22,
     "metadata": {},
     "output_type": "execute_result"
    }
   ],
   "source": [
    "stix_flare_w_files.head()"
   ]
  },
  {
   "cell_type": "code",
   "execution_count": 23,
   "id": "054e8666-e223-412b-bfd3-6c6dbd5030ae",
   "metadata": {},
   "outputs": [
    {
     "data": {
      "application/vnd.jupyter.widget-view+json": {
       "model_id": "b83468926d704b2aaa2cfd36dc40ae1d",
       "version_major": 2,
       "version_minor": 0
      },
      "text/plain": [
       "Files Downloaded:   0%|          | 0/1 [00:00<?, ?file/s]"
      ]
     },
     "metadata": {},
     "output_type": "display_data"
    },
    {
     "data": {
      "application/vnd.jupyter.widget-view+json": {
       "model_id": "0ee81ca31e6a4162a8ead349ac3953e9",
       "version_major": 2,
       "version_minor": 0
      },
      "text/plain": [
       "Files Downloaded:   0%|          | 0/1 [00:00<?, ?file/s]"
      ]
     },
     "metadata": {},
     "output_type": "display_data"
    },
    {
     "data": {
      "application/vnd.jupyter.widget-view+json": {
       "model_id": "155738d2693444208a7472aa992b996a",
       "version_major": 2,
       "version_minor": 0
      },
      "text/plain": [
       "Files Downloaded:   0%|          | 0/1 [00:00<?, ?file/s]"
      ]
     },
     "metadata": {},
     "output_type": "display_data"
    },
    {
     "data": {
      "application/vnd.jupyter.widget-view+json": {
       "model_id": "f569b980b6804fdb9509b2bd1748b20a",
       "version_major": 2,
       "version_minor": 0
      },
      "text/plain": [
       "Files Downloaded:   0%|          | 0/1 [00:00<?, ?file/s]"
      ]
     },
     "metadata": {},
     "output_type": "display_data"
    },
    {
     "data": {
      "application/vnd.jupyter.widget-view+json": {
       "model_id": "49233185003942f3ab674a5c40485748",
       "version_major": 2,
       "version_minor": 0
      },
      "text/plain": [
       "Files Downloaded:   0%|          | 0/1 [00:00<?, ?file/s]"
      ]
     },
     "metadata": {},
     "output_type": "display_data"
    },
    {
     "data": {
      "application/vnd.jupyter.widget-view+json": {
       "model_id": "63c5295f1ba94281ad0146f61707a12c",
       "version_major": 2,
       "version_minor": 0
      },
      "text/plain": [
       "Files Downloaded:   0%|          | 0/1 [00:00<?, ?file/s]"
      ]
     },
     "metadata": {},
     "output_type": "display_data"
    },
    {
     "data": {
      "application/vnd.jupyter.widget-view+json": {
       "model_id": "1c9fed537e194a15b83568a62a40d0e9",
       "version_major": 2,
       "version_minor": 0
      },
      "text/plain": [
       "Files Downloaded:   0%|          | 0/1 [00:00<?, ?file/s]"
      ]
     },
     "metadata": {},
     "output_type": "display_data"
    },
    {
     "data": {
      "application/vnd.jupyter.widget-view+json": {
       "model_id": "2e707535f5a5460dae8aa4bbeba8cc81",
       "version_major": 2,
       "version_minor": 0
      },
      "text/plain": [
       "Files Downloaded:   0%|          | 0/1 [00:00<?, ?file/s]"
      ]
     },
     "metadata": {},
     "output_type": "display_data"
    },
    {
     "data": {
      "application/vnd.jupyter.widget-view+json": {
       "model_id": "a65414c2c271477483a7e9e1d50d75be",
       "version_major": 2,
       "version_minor": 0
      },
      "text/plain": [
       "Files Downloaded:   0%|          | 0/1 [00:00<?, ?file/s]"
      ]
     },
     "metadata": {},
     "output_type": "display_data"
    },
    {
     "data": {
      "application/vnd.jupyter.widget-view+json": {
       "model_id": "f4c123c4204847c2b98c808b0ad47872",
       "version_major": 2,
       "version_minor": 0
      },
      "text/plain": [
       "Files Downloaded:   0%|          | 0/1 [00:00<?, ?file/s]"
      ]
     },
     "metadata": {},
     "output_type": "display_data"
    },
    {
     "data": {
      "application/vnd.jupyter.widget-view+json": {
       "model_id": "401fdec958b04ffe9b7f9ad1dbcf6dbd",
       "version_major": 2,
       "version_minor": 0
      },
      "text/plain": [
       "Files Downloaded:   0%|          | 0/1 [00:00<?, ?file/s]"
      ]
     },
     "metadata": {},
     "output_type": "display_data"
    },
    {
     "data": {
      "application/vnd.jupyter.widget-view+json": {
       "model_id": "ce7a702c8c1244e692be3df5fd0b8af9",
       "version_major": 2,
       "version_minor": 0
      },
      "text/plain": [
       "Files Downloaded:   0%|          | 0/1 [00:00<?, ?file/s]"
      ]
     },
     "metadata": {},
     "output_type": "display_data"
    },
    {
     "data": {
      "application/vnd.jupyter.widget-view+json": {
       "model_id": "5ada8e6b9105450bb34949df12eda8c0",
       "version_major": 2,
       "version_minor": 0
      },
      "text/plain": [
       "Files Downloaded:   0%|          | 0/1 [00:00<?, ?file/s]"
      ]
     },
     "metadata": {},
     "output_type": "display_data"
    },
    {
     "data": {
      "application/vnd.jupyter.widget-view+json": {
       "model_id": "e77274eecc8343c78b26a902e34606e6",
       "version_major": 2,
       "version_minor": 0
      },
      "text/plain": [
       "Files Downloaded:   0%|          | 0/1 [00:00<?, ?file/s]"
      ]
     },
     "metadata": {},
     "output_type": "display_data"
    },
    {
     "data": {
      "application/vnd.jupyter.widget-view+json": {
       "model_id": "a76bf979d685475284970a483027b6b7",
       "version_major": 2,
       "version_minor": 0
      },
      "text/plain": [
       "Files Downloaded:   0%|          | 0/1 [00:00<?, ?file/s]"
      ]
     },
     "metadata": {},
     "output_type": "display_data"
    },
    {
     "data": {
      "application/vnd.jupyter.widget-view+json": {
       "model_id": "2b62d0b6132145c4abc72b57af891023",
       "version_major": 2,
       "version_minor": 0
      },
      "text/plain": [
       "Files Downloaded:   0%|          | 0/1 [00:00<?, ?file/s]"
      ]
     },
     "metadata": {},
     "output_type": "display_data"
    },
    {
     "data": {
      "application/vnd.jupyter.widget-view+json": {
       "model_id": "f2a44d73cb484725bc6a3ec92edb3ea6",
       "version_major": 2,
       "version_minor": 0
      },
      "text/plain": [
       "Files Downloaded:   0%|          | 0/1 [00:00<?, ?file/s]"
      ]
     },
     "metadata": {},
     "output_type": "display_data"
    },
    {
     "data": {
      "application/vnd.jupyter.widget-view+json": {
       "model_id": "e7d3402e07a94f3e8fac4fa959768643",
       "version_major": 2,
       "version_minor": 0
      },
      "text/plain": [
       "Files Downloaded:   0%|          | 0/1 [00:00<?, ?file/s]"
      ]
     },
     "metadata": {},
     "output_type": "display_data"
    },
    {
     "data": {
      "application/vnd.jupyter.widget-view+json": {
       "model_id": "93c2142bc064465d80eb8ad45b54f8f8",
       "version_major": 2,
       "version_minor": 0
      },
      "text/plain": [
       "Files Downloaded:   0%|          | 0/1 [00:00<?, ?file/s]"
      ]
     },
     "metadata": {},
     "output_type": "display_data"
    },
    {
     "data": {
      "application/vnd.jupyter.widget-view+json": {
       "model_id": "5b97624186964c54888741f755f75a91",
       "version_major": 2,
       "version_minor": 0
      },
      "text/plain": [
       "Files Downloaded:   0%|          | 0/1 [00:00<?, ?file/s]"
      ]
     },
     "metadata": {},
     "output_type": "display_data"
    },
    {
     "data": {
      "application/vnd.jupyter.widget-view+json": {
       "model_id": "ac1906d42c7747f7b32ab5b10681d427",
       "version_major": 2,
       "version_minor": 0
      },
      "text/plain": [
       "Files Downloaded:   0%|          | 0/1 [00:00<?, ?file/s]"
      ]
     },
     "metadata": {},
     "output_type": "display_data"
    },
    {
     "data": {
      "application/vnd.jupyter.widget-view+json": {
       "model_id": "24973b25dc9f452d9756ee9318d3cd83",
       "version_major": 2,
       "version_minor": 0
      },
      "text/plain": [
       "Files Downloaded:   0%|          | 0/1 [00:00<?, ?file/s]"
      ]
     },
     "metadata": {},
     "output_type": "display_data"
    },
    {
     "data": {
      "application/vnd.jupyter.widget-view+json": {
       "model_id": "899ecdb6b3e848849f8e1473390d36c8",
       "version_major": 2,
       "version_minor": 0
      },
      "text/plain": [
       "Files Downloaded:   0%|          | 0/1 [00:00<?, ?file/s]"
      ]
     },
     "metadata": {},
     "output_type": "display_data"
    },
    {
     "data": {
      "application/vnd.jupyter.widget-view+json": {
       "model_id": "926c26957a5b4fdabd7a403fb9617369",
       "version_major": 2,
       "version_minor": 0
      },
      "text/plain": [
       "Files Downloaded:   0%|          | 0/1 [00:00<?, ?file/s]"
      ]
     },
     "metadata": {},
     "output_type": "display_data"
    },
    {
     "data": {
      "application/vnd.jupyter.widget-view+json": {
       "model_id": "2ee1c877d7584fffad594f0aca1964c3",
       "version_major": 2,
       "version_minor": 0
      },
      "text/plain": [
       "Files Downloaded:   0%|          | 0/1 [00:00<?, ?file/s]"
      ]
     },
     "metadata": {},
     "output_type": "display_data"
    },
    {
     "data": {
      "application/vnd.jupyter.widget-view+json": {
       "model_id": "367304b2c69f4ec4b49004a7e7e81ff2",
       "version_major": 2,
       "version_minor": 0
      },
      "text/plain": [
       "Files Downloaded:   0%|          | 0/1 [00:00<?, ?file/s]"
      ]
     },
     "metadata": {},
     "output_type": "display_data"
    },
    {
     "data": {
      "application/vnd.jupyter.widget-view+json": {
       "model_id": "a02d199defdb4722a0de4a93cfdfc982",
       "version_major": 2,
       "version_minor": 0
      },
      "text/plain": [
       "Files Downloaded:   0%|          | 0/1 [00:00<?, ?file/s]"
      ]
     },
     "metadata": {},
     "output_type": "display_data"
    },
    {
     "data": {
      "application/vnd.jupyter.widget-view+json": {
       "model_id": "b355b25be6d94868b45328951717d6a2",
       "version_major": 2,
       "version_minor": 0
      },
      "text/plain": [
       "Files Downloaded:   0%|          | 0/1 [00:00<?, ?file/s]"
      ]
     },
     "metadata": {},
     "output_type": "display_data"
    },
    {
     "data": {
      "application/vnd.jupyter.widget-view+json": {
       "model_id": "29268d7a7502477c9ddf73de3d81b9d8",
       "version_major": 2,
       "version_minor": 0
      },
      "text/plain": [
       "Files Downloaded:   0%|          | 0/1 [00:00<?, ?file/s]"
      ]
     },
     "metadata": {},
     "output_type": "display_data"
    },
    {
     "data": {
      "application/vnd.jupyter.widget-view+json": {
       "model_id": "0a9c4412fe434ab6827b73d7ea06142d",
       "version_major": 2,
       "version_minor": 0
      },
      "text/plain": [
       "Files Downloaded:   0%|          | 0/1 [00:00<?, ?file/s]"
      ]
     },
     "metadata": {},
     "output_type": "display_data"
    },
    {
     "data": {
      "application/vnd.jupyter.widget-view+json": {
       "model_id": "e050cddedfd048848fd5771acb845cf0",
       "version_major": 2,
       "version_minor": 0
      },
      "text/plain": [
       "Files Downloaded:   0%|          | 0/1 [00:00<?, ?file/s]"
      ]
     },
     "metadata": {},
     "output_type": "display_data"
    },
    {
     "data": {
      "application/vnd.jupyter.widget-view+json": {
       "model_id": "04a6fd48dd52455ea1711f3b6306249e",
       "version_major": 2,
       "version_minor": 0
      },
      "text/plain": [
       "Files Downloaded:   0%|          | 0/1 [00:00<?, ?file/s]"
      ]
     },
     "metadata": {},
     "output_type": "display_data"
    },
    {
     "data": {
      "application/vnd.jupyter.widget-view+json": {
       "model_id": "af67421e86654355beaf80e6b5f0d70e",
       "version_major": 2,
       "version_minor": 0
      },
      "text/plain": [
       "Files Downloaded:   0%|          | 0/1 [00:00<?, ?file/s]"
      ]
     },
     "metadata": {},
     "output_type": "display_data"
    },
    {
     "data": {
      "application/vnd.jupyter.widget-view+json": {
       "model_id": "3205022599e446c6bc4cd286736b9237",
       "version_major": 2,
       "version_minor": 0
      },
      "text/plain": [
       "Files Downloaded:   0%|          | 0/1 [00:00<?, ?file/s]"
      ]
     },
     "metadata": {},
     "output_type": "display_data"
    },
    {
     "data": {
      "application/vnd.jupyter.widget-view+json": {
       "model_id": "8cf0f398b4f54c0abf3caec2237aebd3",
       "version_major": 2,
       "version_minor": 0
      },
      "text/plain": [
       "Files Downloaded:   0%|          | 0/1 [00:00<?, ?file/s]"
      ]
     },
     "metadata": {},
     "output_type": "display_data"
    },
    {
     "data": {
      "application/vnd.jupyter.widget-view+json": {
       "model_id": "93f9f0df18ef46d08c78b7efca4f4fc9",
       "version_major": 2,
       "version_minor": 0
      },
      "text/plain": [
       "Files Downloaded:   0%|          | 0/1 [00:00<?, ?file/s]"
      ]
     },
     "metadata": {},
     "output_type": "display_data"
    },
    {
     "data": {
      "application/vnd.jupyter.widget-view+json": {
       "model_id": "97c3e6652f7c4c0882d75b7e7ce3769d",
       "version_major": 2,
       "version_minor": 0
      },
      "text/plain": [
       "Files Downloaded:   0%|          | 0/1 [00:00<?, ?file/s]"
      ]
     },
     "metadata": {},
     "output_type": "display_data"
    },
    {
     "data": {
      "application/vnd.jupyter.widget-view+json": {
       "model_id": "4865de34b5e5486086feb6aa28188678",
       "version_major": 2,
       "version_minor": 0
      },
      "text/plain": [
       "Files Downloaded:   0%|          | 0/1 [00:00<?, ?file/s]"
      ]
     },
     "metadata": {},
     "output_type": "display_data"
    },
    {
     "data": {
      "application/vnd.jupyter.widget-view+json": {
       "model_id": "7ab50c5b9f214f6287d301f35c797176",
       "version_major": 2,
       "version_minor": 0
      },
      "text/plain": [
       "Files Downloaded:   0%|          | 0/1 [00:00<?, ?file/s]"
      ]
     },
     "metadata": {},
     "output_type": "display_data"
    },
    {
     "data": {
      "application/vnd.jupyter.widget-view+json": {
       "model_id": "c4e33846742a47588f6a68c0134a4252",
       "version_major": 2,
       "version_minor": 0
      },
      "text/plain": [
       "Files Downloaded:   0%|          | 0/1 [00:00<?, ?file/s]"
      ]
     },
     "metadata": {},
     "output_type": "display_data"
    },
    {
     "data": {
      "application/vnd.jupyter.widget-view+json": {
       "model_id": "bc4c28ebd99a4647afaf541e472f8ff7",
       "version_major": 2,
       "version_minor": 0
      },
      "text/plain": [
       "Files Downloaded:   0%|          | 0/1 [00:00<?, ?file/s]"
      ]
     },
     "metadata": {},
     "output_type": "display_data"
    },
    {
     "data": {
      "application/vnd.jupyter.widget-view+json": {
       "model_id": "708664666b294f9d9b7b9a8049287a39",
       "version_major": 2,
       "version_minor": 0
      },
      "text/plain": [
       "Files Downloaded:   0%|          | 0/1 [00:00<?, ?file/s]"
      ]
     },
     "metadata": {},
     "output_type": "display_data"
    },
    {
     "data": {
      "application/vnd.jupyter.widget-view+json": {
       "model_id": "9a4422f5f8df4fe7acbaa37db14a0c60",
       "version_major": 2,
       "version_minor": 0
      },
      "text/plain": [
       "Files Downloaded:   0%|          | 0/1 [00:00<?, ?file/s]"
      ]
     },
     "metadata": {},
     "output_type": "display_data"
    },
    {
     "data": {
      "application/vnd.jupyter.widget-view+json": {
       "model_id": "f0f014b7aeef45dbbdd68fbbdd614e7b",
       "version_major": 2,
       "version_minor": 0
      },
      "text/plain": [
       "Files Downloaded:   0%|          | 0/1 [00:00<?, ?file/s]"
      ]
     },
     "metadata": {},
     "output_type": "display_data"
    },
    {
     "data": {
      "application/vnd.jupyter.widget-view+json": {
       "model_id": "d289121f95074ff3a6a0041f9cdd2664",
       "version_major": 2,
       "version_minor": 0
      },
      "text/plain": [
       "Files Downloaded:   0%|          | 0/1 [00:00<?, ?file/s]"
      ]
     },
     "metadata": {},
     "output_type": "display_data"
    },
    {
     "data": {
      "application/vnd.jupyter.widget-view+json": {
       "model_id": "4bfead49c6bc4811a4c91316922929c1",
       "version_major": 2,
       "version_minor": 0
      },
      "text/plain": [
       "Files Downloaded:   0%|          | 0/1 [00:00<?, ?file/s]"
      ]
     },
     "metadata": {},
     "output_type": "display_data"
    },
    {
     "data": {
      "application/vnd.jupyter.widget-view+json": {
       "model_id": "238e1ba9220343b2acde1f57e2da146b",
       "version_major": 2,
       "version_minor": 0
      },
      "text/plain": [
       "Files Downloaded:   0%|          | 0/1 [00:00<?, ?file/s]"
      ]
     },
     "metadata": {},
     "output_type": "display_data"
    },
    {
     "data": {
      "application/vnd.jupyter.widget-view+json": {
       "model_id": "7acd4173431c486785a4ee15c3273ef0",
       "version_major": 2,
       "version_minor": 0
      },
      "text/plain": [
       "Files Downloaded:   0%|          | 0/1 [00:00<?, ?file/s]"
      ]
     },
     "metadata": {},
     "output_type": "display_data"
    },
    {
     "data": {
      "application/vnd.jupyter.widget-view+json": {
       "model_id": "fa3b189a85d44ede8be614804938a74d",
       "version_major": 2,
       "version_minor": 0
      },
      "text/plain": [
       "Files Downloaded:   0%|          | 0/1 [00:00<?, ?file/s]"
      ]
     },
     "metadata": {},
     "output_type": "display_data"
    },
    {
     "data": {
      "application/vnd.jupyter.widget-view+json": {
       "model_id": "9fcd1cb305f04f408c79217e96c59869",
       "version_major": 2,
       "version_minor": 0
      },
      "text/plain": [
       "Files Downloaded:   0%|          | 0/1 [00:00<?, ?file/s]"
      ]
     },
     "metadata": {},
     "output_type": "display_data"
    },
    {
     "name": "stderr",
     "output_type": "stream",
     "text": [
      "Exception ignored in: <function BaseEventLoop.__del__ at 0x10daccb80>\n",
      "Traceback (most recent call last):\n",
      "  File \"/opt/anaconda3/envs/stix_conda/lib/python3.10/asyncio/base_events.py\", line 682, in __del__\n",
      "    self.close()\n",
      "  File \"/opt/anaconda3/envs/stix_conda/lib/python3.10/asyncio/unix_events.py\", line 71, in close\n",
      "    self.remove_signal_handler(sig)\n",
      "  File \"/opt/anaconda3/envs/stix_conda/lib/python3.10/asyncio/unix_events.py\", line 160, in remove_signal_handler\n",
      "    signal.signal(sig, handler)\n",
      "  File \"/opt/anaconda3/envs/stix_conda/lib/python3.10/signal.py\", line 56, in signal\n",
      "    handler = _signal.signal(_enum_to_int(signalnum), _enum_to_int(handler))\n",
      "ValueError: signal only works in main thread of the main interpreter\n",
      "Exception ignored in: <function BaseEventLoop.__del__ at 0x10daccb80>\n",
      "Traceback (most recent call last):\n",
      "  File \"/opt/anaconda3/envs/stix_conda/lib/python3.10/asyncio/base_events.py\", line 682, in __del__\n",
      "    self.close()\n",
      "  File \"/opt/anaconda3/envs/stix_conda/lib/python3.10/asyncio/unix_events.py\", line 71, in close\n",
      "    self.remove_signal_handler(sig)\n",
      "  File \"/opt/anaconda3/envs/stix_conda/lib/python3.10/asyncio/unix_events.py\", line 160, in remove_signal_handler\n",
      "    signal.signal(sig, handler)\n",
      "  File \"/opt/anaconda3/envs/stix_conda/lib/python3.10/signal.py\", line 56, in signal\n",
      "    handler = _signal.signal(_enum_to_int(signalnum), _enum_to_int(handler))\n",
      "ValueError: signal only works in main thread of the main interpreter\n"
     ]
    },
    {
     "data": {
      "application/vnd.jupyter.widget-view+json": {
       "model_id": "0d28edec4f77415f9a8ff0ae2cbf6aaa",
       "version_major": 2,
       "version_minor": 0
      },
      "text/plain": [
       "Files Downloaded:   0%|          | 0/1 [00:00<?, ?file/s]"
      ]
     },
     "metadata": {},
     "output_type": "display_data"
    },
    {
     "data": {
      "application/vnd.jupyter.widget-view+json": {
       "model_id": "6575948079b342aa9e93effc693f76f0",
       "version_major": 2,
       "version_minor": 0
      },
      "text/plain": [
       "Files Downloaded:   0%|          | 0/1 [00:00<?, ?file/s]"
      ]
     },
     "metadata": {},
     "output_type": "display_data"
    },
    {
     "data": {
      "application/vnd.jupyter.widget-view+json": {
       "model_id": "b62bb25cb2894054b73d46aae3951a0d",
       "version_major": 2,
       "version_minor": 0
      },
      "text/plain": [
       "Files Downloaded:   0%|          | 0/1 [00:00<?, ?file/s]"
      ]
     },
     "metadata": {},
     "output_type": "display_data"
    },
    {
     "data": {
      "application/vnd.jupyter.widget-view+json": {
       "model_id": "6bc9e5bfef27458ba191b9e0ceee5370",
       "version_major": 2,
       "version_minor": 0
      },
      "text/plain": [
       "Files Downloaded:   0%|          | 0/1 [00:00<?, ?file/s]"
      ]
     },
     "metadata": {},
     "output_type": "display_data"
    },
    {
     "data": {
      "application/vnd.jupyter.widget-view+json": {
       "model_id": "1bd348c2c050495898361a7430479a9d",
       "version_major": 2,
       "version_minor": 0
      },
      "text/plain": [
       "Files Downloaded:   0%|          | 0/1 [00:00<?, ?file/s]"
      ]
     },
     "metadata": {},
     "output_type": "display_data"
    },
    {
     "data": {
      "application/vnd.jupyter.widget-view+json": {
       "model_id": "29ab9eb35859416882449d9af8aeb171",
       "version_major": 2,
       "version_minor": 0
      },
      "text/plain": [
       "Files Downloaded:   0%|          | 0/1 [00:00<?, ?file/s]"
      ]
     },
     "metadata": {},
     "output_type": "display_data"
    },
    {
     "data": {
      "application/vnd.jupyter.widget-view+json": {
       "model_id": "dc3f613811a84344abae76874c06f8ac",
       "version_major": 2,
       "version_minor": 0
      },
      "text/plain": [
       "Files Downloaded:   0%|          | 0/1 [00:00<?, ?file/s]"
      ]
     },
     "metadata": {},
     "output_type": "display_data"
    },
    {
     "data": {
      "application/vnd.jupyter.widget-view+json": {
       "model_id": "ed72e4b5addb47e69c0fa1c24df1d511",
       "version_major": 2,
       "version_minor": 0
      },
      "text/plain": [
       "Files Downloaded:   0%|          | 0/1 [00:00<?, ?file/s]"
      ]
     },
     "metadata": {},
     "output_type": "display_data"
    },
    {
     "data": {
      "application/vnd.jupyter.widget-view+json": {
       "model_id": "14a41df0851c45c187d21d003cafd0c9",
       "version_major": 2,
       "version_minor": 0
      },
      "text/plain": [
       "Files Downloaded:   0%|          | 0/1 [00:00<?, ?file/s]"
      ]
     },
     "metadata": {},
     "output_type": "display_data"
    },
    {
     "data": {
      "application/vnd.jupyter.widget-view+json": {
       "model_id": "14f5612fb1534d89a7872cebf0e3a36c",
       "version_major": 2,
       "version_minor": 0
      },
      "text/plain": [
       "Files Downloaded:   0%|          | 0/2 [00:00<?, ?file/s]"
      ]
     },
     "metadata": {},
     "output_type": "display_data"
    },
    {
     "data": {
      "application/vnd.jupyter.widget-view+json": {
       "model_id": "a5cb335720f4479e93e8987dc4bf7321",
       "version_major": 2,
       "version_minor": 0
      },
      "text/plain": [
       "Files Downloaded:   0%|          | 0/1 [00:00<?, ?file/s]"
      ]
     },
     "metadata": {},
     "output_type": "display_data"
    },
    {
     "data": {
      "application/vnd.jupyter.widget-view+json": {
       "model_id": "a350517ec1ef43f7bb4f28347236bf94",
       "version_major": 2,
       "version_minor": 0
      },
      "text/plain": [
       "Files Downloaded:   0%|          | 0/1 [00:00<?, ?file/s]"
      ]
     },
     "metadata": {},
     "output_type": "display_data"
    },
    {
     "data": {
      "application/vnd.jupyter.widget-view+json": {
       "model_id": "1b758f27797c4766b89b880ab6a46062",
       "version_major": 2,
       "version_minor": 0
      },
      "text/plain": [
       "Files Downloaded:   0%|          | 0/1 [00:00<?, ?file/s]"
      ]
     },
     "metadata": {},
     "output_type": "display_data"
    },
    {
     "data": {
      "application/vnd.jupyter.widget-view+json": {
       "model_id": "7dbfbdc9448c4880b20f67522760795f",
       "version_major": 2,
       "version_minor": 0
      },
      "text/plain": [
       "Files Downloaded:   0%|          | 0/1 [00:00<?, ?file/s]"
      ]
     },
     "metadata": {},
     "output_type": "display_data"
    },
    {
     "data": {
      "application/vnd.jupyter.widget-view+json": {
       "model_id": "af0d91d8f9ee44ae9ad520f947122bd4",
       "version_major": 2,
       "version_minor": 0
      },
      "text/plain": [
       "Files Downloaded:   0%|          | 0/1 [00:00<?, ?file/s]"
      ]
     },
     "metadata": {},
     "output_type": "display_data"
    },
    {
     "data": {
      "application/vnd.jupyter.widget-view+json": {
       "model_id": "38092f435476418789b863e643e04953",
       "version_major": 2,
       "version_minor": 0
      },
      "text/plain": [
       "Files Downloaded:   0%|          | 0/1 [00:00<?, ?file/s]"
      ]
     },
     "metadata": {},
     "output_type": "display_data"
    },
    {
     "data": {
      "application/vnd.jupyter.widget-view+json": {
       "model_id": "e68449edf6854c0b91537a4635c299e3",
       "version_major": 2,
       "version_minor": 0
      },
      "text/plain": [
       "Files Downloaded:   0%|          | 0/1 [00:00<?, ?file/s]"
      ]
     },
     "metadata": {},
     "output_type": "display_data"
    },
    {
     "data": {
      "application/vnd.jupyter.widget-view+json": {
       "model_id": "8601b27d01a445e69eab953d5e13a10c",
       "version_major": 2,
       "version_minor": 0
      },
      "text/plain": [
       "Files Downloaded:   0%|          | 0/1 [00:00<?, ?file/s]"
      ]
     },
     "metadata": {},
     "output_type": "display_data"
    },
    {
     "data": {
      "application/vnd.jupyter.widget-view+json": {
       "model_id": "a290a055605d4fba9100974f8dd94511",
       "version_major": 2,
       "version_minor": 0
      },
      "text/plain": [
       "Files Downloaded:   0%|          | 0/1 [00:00<?, ?file/s]"
      ]
     },
     "metadata": {},
     "output_type": "display_data"
    },
    {
     "data": {
      "application/vnd.jupyter.widget-view+json": {
       "model_id": "766fd6091ee64a61b9d081e869fe5463",
       "version_major": 2,
       "version_minor": 0
      },
      "text/plain": [
       "Files Downloaded:   0%|          | 0/1 [00:00<?, ?file/s]"
      ]
     },
     "metadata": {},
     "output_type": "display_data"
    },
    {
     "data": {
      "application/vnd.jupyter.widget-view+json": {
       "model_id": "8420c2c4a7cd41dba5dd1130e9d6550e",
       "version_major": 2,
       "version_minor": 0
      },
      "text/plain": [
       "Files Downloaded:   0%|          | 0/1 [00:00<?, ?file/s]"
      ]
     },
     "metadata": {},
     "output_type": "display_data"
    },
    {
     "data": {
      "application/vnd.jupyter.widget-view+json": {
       "model_id": "d8436e33740847faa555fb15118cd9a6",
       "version_major": 2,
       "version_minor": 0
      },
      "text/plain": [
       "Files Downloaded:   0%|          | 0/1 [00:00<?, ?file/s]"
      ]
     },
     "metadata": {},
     "output_type": "display_data"
    },
    {
     "data": {
      "application/vnd.jupyter.widget-view+json": {
       "model_id": "27c78e328e7d4ce1acc16d34e2d631c8",
       "version_major": 2,
       "version_minor": 0
      },
      "text/plain": [
       "Files Downloaded:   0%|          | 0/1 [00:00<?, ?file/s]"
      ]
     },
     "metadata": {},
     "output_type": "display_data"
    },
    {
     "data": {
      "application/vnd.jupyter.widget-view+json": {
       "model_id": "dc1f7336f1fd4926a7d9038be7bf4a7d",
       "version_major": 2,
       "version_minor": 0
      },
      "text/plain": [
       "Files Downloaded:   0%|          | 0/1 [00:00<?, ?file/s]"
      ]
     },
     "metadata": {},
     "output_type": "display_data"
    },
    {
     "data": {
      "application/vnd.jupyter.widget-view+json": {
       "model_id": "add2168ef2f04a07a1d98e72ddab30d4",
       "version_major": 2,
       "version_minor": 0
      },
      "text/plain": [
       "Files Downloaded:   0%|          | 0/1 [00:00<?, ?file/s]"
      ]
     },
     "metadata": {},
     "output_type": "display_data"
    },
    {
     "data": {
      "application/vnd.jupyter.widget-view+json": {
       "model_id": "f2c82a63a7e74e2abdd05082eabd8aa8",
       "version_major": 2,
       "version_minor": 0
      },
      "text/plain": [
       "Files Downloaded:   0%|          | 0/1 [00:00<?, ?file/s]"
      ]
     },
     "metadata": {},
     "output_type": "display_data"
    },
    {
     "data": {
      "application/vnd.jupyter.widget-view+json": {
       "model_id": "d6f06870909e4a909b365c1910637e04",
       "version_major": 2,
       "version_minor": 0
      },
      "text/plain": [
       "Files Downloaded:   0%|          | 0/1 [00:00<?, ?file/s]"
      ]
     },
     "metadata": {},
     "output_type": "display_data"
    },
    {
     "data": {
      "application/vnd.jupyter.widget-view+json": {
       "model_id": "bfffc2c573244c0cbf3b7741da13379e",
       "version_major": 2,
       "version_minor": 0
      },
      "text/plain": [
       "Files Downloaded:   0%|          | 0/1 [00:00<?, ?file/s]"
      ]
     },
     "metadata": {},
     "output_type": "display_data"
    },
    {
     "data": {
      "application/vnd.jupyter.widget-view+json": {
       "model_id": "22ded40d98e94be1afca843c7df9b5e3",
       "version_major": 2,
       "version_minor": 0
      },
      "text/plain": [
       "Files Downloaded:   0%|          | 0/1 [00:00<?, ?file/s]"
      ]
     },
     "metadata": {},
     "output_type": "display_data"
    },
    {
     "data": {
      "application/vnd.jupyter.widget-view+json": {
       "model_id": "577bb4adbd7b44e7bffef46ad60e4984",
       "version_major": 2,
       "version_minor": 0
      },
      "text/plain": [
       "Files Downloaded:   0%|          | 0/1 [00:00<?, ?file/s]"
      ]
     },
     "metadata": {},
     "output_type": "display_data"
    },
    {
     "data": {
      "application/vnd.jupyter.widget-view+json": {
       "model_id": "17540f82ca1c4301937bb0d162c5876b",
       "version_major": 2,
       "version_minor": 0
      },
      "text/plain": [
       "Files Downloaded:   0%|          | 0/1 [00:00<?, ?file/s]"
      ]
     },
     "metadata": {},
     "output_type": "display_data"
    },
    {
     "data": {
      "application/vnd.jupyter.widget-view+json": {
       "model_id": "18ae16b989294a7b821a75d420a784e6",
       "version_major": 2,
       "version_minor": 0
      },
      "text/plain": [
       "Files Downloaded:   0%|          | 0/1 [00:00<?, ?file/s]"
      ]
     },
     "metadata": {},
     "output_type": "display_data"
    },
    {
     "data": {
      "application/vnd.jupyter.widget-view+json": {
       "model_id": "fbf3136de84248d9abf29c6893dbaba6",
       "version_major": 2,
       "version_minor": 0
      },
      "text/plain": [
       "Files Downloaded:   0%|          | 0/1 [00:00<?, ?file/s]"
      ]
     },
     "metadata": {},
     "output_type": "display_data"
    },
    {
     "data": {
      "application/vnd.jupyter.widget-view+json": {
       "model_id": "92fcc15b858b4085a330cc8c8662c3aa",
       "version_major": 2,
       "version_minor": 0
      },
      "text/plain": [
       "Files Downloaded:   0%|          | 0/1 [00:00<?, ?file/s]"
      ]
     },
     "metadata": {},
     "output_type": "display_data"
    },
    {
     "data": {
      "application/vnd.jupyter.widget-view+json": {
       "model_id": "e92c7be49c53461082e184562e010317",
       "version_major": 2,
       "version_minor": 0
      },
      "text/plain": [
       "Files Downloaded:   0%|          | 0/1 [00:00<?, ?file/s]"
      ]
     },
     "metadata": {},
     "output_type": "display_data"
    },
    {
     "data": {
      "application/vnd.jupyter.widget-view+json": {
       "model_id": "8cc1a65f04904eb9a42259a94f4dd343",
       "version_major": 2,
       "version_minor": 0
      },
      "text/plain": [
       "Files Downloaded:   0%|          | 0/1 [00:00<?, ?file/s]"
      ]
     },
     "metadata": {},
     "output_type": "display_data"
    },
    {
     "data": {
      "application/vnd.jupyter.widget-view+json": {
       "model_id": "682b755e13c7432bac62fb484272709d",
       "version_major": 2,
       "version_minor": 0
      },
      "text/plain": [
       "Files Downloaded:   0%|          | 0/1 [00:00<?, ?file/s]"
      ]
     },
     "metadata": {},
     "output_type": "display_data"
    },
    {
     "data": {
      "application/vnd.jupyter.widget-view+json": {
       "model_id": "ead43e0953014a55a46bbc2c91431961",
       "version_major": 2,
       "version_minor": 0
      },
      "text/plain": [
       "Files Downloaded:   0%|          | 0/1 [00:00<?, ?file/s]"
      ]
     },
     "metadata": {},
     "output_type": "display_data"
    },
    {
     "data": {
      "application/vnd.jupyter.widget-view+json": {
       "model_id": "cdc0c310c86948ca85192608d590fbd4",
       "version_major": 2,
       "version_minor": 0
      },
      "text/plain": [
       "Files Downloaded:   0%|          | 0/1 [00:00<?, ?file/s]"
      ]
     },
     "metadata": {},
     "output_type": "display_data"
    },
    {
     "data": {
      "application/vnd.jupyter.widget-view+json": {
       "model_id": "3bf6155fb56e40e59488cd73601f1c2d",
       "version_major": 2,
       "version_minor": 0
      },
      "text/plain": [
       "Files Downloaded:   0%|          | 0/1 [00:00<?, ?file/s]"
      ]
     },
     "metadata": {},
     "output_type": "display_data"
    },
    {
     "data": {
      "application/vnd.jupyter.widget-view+json": {
       "model_id": "d11d7cbc083c45cc8c455e0b2e235765",
       "version_major": 2,
       "version_minor": 0
      },
      "text/plain": [
       "Files Downloaded:   0%|          | 0/1 [00:00<?, ?file/s]"
      ]
     },
     "metadata": {},
     "output_type": "display_data"
    },
    {
     "data": {
      "application/vnd.jupyter.widget-view+json": {
       "model_id": "93d797247fe0439c9e8d4d159b08dea4",
       "version_major": 2,
       "version_minor": 0
      },
      "text/plain": [
       "Files Downloaded:   0%|          | 0/1 [00:00<?, ?file/s]"
      ]
     },
     "metadata": {},
     "output_type": "display_data"
    },
    {
     "data": {
      "application/vnd.jupyter.widget-view+json": {
       "model_id": "70723fbad2e042b8bf5976ac09ace0a5",
       "version_major": 2,
       "version_minor": 0
      },
      "text/plain": [
       "Files Downloaded:   0%|          | 0/1 [00:00<?, ?file/s]"
      ]
     },
     "metadata": {},
     "output_type": "display_data"
    },
    {
     "data": {
      "application/vnd.jupyter.widget-view+json": {
       "model_id": "47fd08c3c7f14682bbff413ab4a8e8eb",
       "version_major": 2,
       "version_minor": 0
      },
      "text/plain": [
       "Files Downloaded:   0%|          | 0/1 [00:00<?, ?file/s]"
      ]
     },
     "metadata": {},
     "output_type": "display_data"
    },
    {
     "data": {
      "application/vnd.jupyter.widget-view+json": {
       "model_id": "3b9b4c4eb5ab43f19d8fca7e48dc3487",
       "version_major": 2,
       "version_minor": 0
      },
      "text/plain": [
       "Files Downloaded:   0%|          | 0/1 [00:00<?, ?file/s]"
      ]
     },
     "metadata": {},
     "output_type": "display_data"
    },
    {
     "data": {
      "application/vnd.jupyter.widget-view+json": {
       "model_id": "53cd4e78f04a46a998ce3ee20ab2611d",
       "version_major": 2,
       "version_minor": 0
      },
      "text/plain": [
       "Files Downloaded:   0%|          | 0/1 [00:00<?, ?file/s]"
      ]
     },
     "metadata": {},
     "output_type": "display_data"
    },
    {
     "data": {
      "application/vnd.jupyter.widget-view+json": {
       "model_id": "d4c2d61884dc4f44a2b15ebec8629633",
       "version_major": 2,
       "version_minor": 0
      },
      "text/plain": [
       "Files Downloaded:   0%|          | 0/1 [00:00<?, ?file/s]"
      ]
     },
     "metadata": {},
     "output_type": "display_data"
    },
    {
     "data": {
      "application/vnd.jupyter.widget-view+json": {
       "model_id": "4a475444333e49f2a8864671bfa4e224",
       "version_major": 2,
       "version_minor": 0
      },
      "text/plain": [
       "Files Downloaded:   0%|          | 0/1 [00:00<?, ?file/s]"
      ]
     },
     "metadata": {},
     "output_type": "display_data"
    },
    {
     "data": {
      "application/vnd.jupyter.widget-view+json": {
       "model_id": "430d48267961418aa850367c658f5f7b",
       "version_major": 2,
       "version_minor": 0
      },
      "text/plain": [
       "Files Downloaded:   0%|          | 0/1 [00:00<?, ?file/s]"
      ]
     },
     "metadata": {},
     "output_type": "display_data"
    },
    {
     "data": {
      "application/vnd.jupyter.widget-view+json": {
       "model_id": "c479f25aed3d4c7698c67abb73e0c9d0",
       "version_major": 2,
       "version_minor": 0
      },
      "text/plain": [
       "Files Downloaded:   0%|          | 0/1 [00:00<?, ?file/s]"
      ]
     },
     "metadata": {},
     "output_type": "display_data"
    },
    {
     "data": {
      "application/vnd.jupyter.widget-view+json": {
       "model_id": "d3179067af8741ab848ae2b5149991fb",
       "version_major": 2,
       "version_minor": 0
      },
      "text/plain": [
       "Files Downloaded:   0%|          | 0/1 [00:00<?, ?file/s]"
      ]
     },
     "metadata": {},
     "output_type": "display_data"
    },
    {
     "data": {
      "application/vnd.jupyter.widget-view+json": {
       "model_id": "fbdca236d64340159446e457cbbf03a4",
       "version_major": 2,
       "version_minor": 0
      },
      "text/plain": [
       "Files Downloaded:   0%|          | 0/1 [00:00<?, ?file/s]"
      ]
     },
     "metadata": {},
     "output_type": "display_data"
    },
    {
     "data": {
      "application/vnd.jupyter.widget-view+json": {
       "model_id": "1537b407ad074c139a8f14c9e1d588fc",
       "version_major": 2,
       "version_minor": 0
      },
      "text/plain": [
       "Files Downloaded:   0%|          | 0/1 [00:00<?, ?file/s]"
      ]
     },
     "metadata": {},
     "output_type": "display_data"
    },
    {
     "data": {
      "application/vnd.jupyter.widget-view+json": {
       "model_id": "943aa02c2aaa4157a2428a04ecfd6fd3",
       "version_major": 2,
       "version_minor": 0
      },
      "text/plain": [
       "Files Downloaded:   0%|          | 0/1 [00:00<?, ?file/s]"
      ]
     },
     "metadata": {},
     "output_type": "display_data"
    },
    {
     "data": {
      "application/vnd.jupyter.widget-view+json": {
       "model_id": "b46be5acdaae4435a5da24022ecccfe9",
       "version_major": 2,
       "version_minor": 0
      },
      "text/plain": [
       "Files Downloaded:   0%|          | 0/1 [00:00<?, ?file/s]"
      ]
     },
     "metadata": {},
     "output_type": "display_data"
    },
    {
     "data": {
      "application/vnd.jupyter.widget-view+json": {
       "model_id": "b951d927e98a4eb787ac0188083ba16f",
       "version_major": 2,
       "version_minor": 0
      },
      "text/plain": [
       "Files Downloaded:   0%|          | 0/1 [00:00<?, ?file/s]"
      ]
     },
     "metadata": {},
     "output_type": "display_data"
    },
    {
     "data": {
      "application/vnd.jupyter.widget-view+json": {
       "model_id": "a12d50d820a74824828233b31cb37d49",
       "version_major": 2,
       "version_minor": 0
      },
      "text/plain": [
       "Files Downloaded:   0%|          | 0/1 [00:00<?, ?file/s]"
      ]
     },
     "metadata": {},
     "output_type": "display_data"
    },
    {
     "data": {
      "application/vnd.jupyter.widget-view+json": {
       "model_id": "2c13087f70d5435d9ea97e8b37ebaef8",
       "version_major": 2,
       "version_minor": 0
      },
      "text/plain": [
       "Files Downloaded:   0%|          | 0/1 [00:00<?, ?file/s]"
      ]
     },
     "metadata": {},
     "output_type": "display_data"
    },
    {
     "data": {
      "application/vnd.jupyter.widget-view+json": {
       "model_id": "e25e81ea37b24344afabaca464920b0f",
       "version_major": 2,
       "version_minor": 0
      },
      "text/plain": [
       "Files Downloaded:   0%|          | 0/1 [00:00<?, ?file/s]"
      ]
     },
     "metadata": {},
     "output_type": "display_data"
    },
    {
     "data": {
      "application/vnd.jupyter.widget-view+json": {
       "model_id": "38d38fdcb3b34b32a2c0b1c0c64ebc21",
       "version_major": 2,
       "version_minor": 0
      },
      "text/plain": [
       "Files Downloaded:   0%|          | 0/1 [00:00<?, ?file/s]"
      ]
     },
     "metadata": {},
     "output_type": "display_data"
    },
    {
     "data": {
      "application/vnd.jupyter.widget-view+json": {
       "model_id": "a79a7fb095374ac0aef8ae71e6a85750",
       "version_major": 2,
       "version_minor": 0
      },
      "text/plain": [
       "Files Downloaded:   0%|          | 0/1 [00:00<?, ?file/s]"
      ]
     },
     "metadata": {},
     "output_type": "display_data"
    },
    {
     "data": {
      "application/vnd.jupyter.widget-view+json": {
       "model_id": "130a024bc13a4e4db931f1c5d0944ff1",
       "version_major": 2,
       "version_minor": 0
      },
      "text/plain": [
       "Files Downloaded:   0%|          | 0/1 [00:00<?, ?file/s]"
      ]
     },
     "metadata": {},
     "output_type": "display_data"
    },
    {
     "data": {
      "application/vnd.jupyter.widget-view+json": {
       "model_id": "c904d1abb06d44449efa537018a41673",
       "version_major": 2,
       "version_minor": 0
      },
      "text/plain": [
       "Files Downloaded:   0%|          | 0/1 [00:00<?, ?file/s]"
      ]
     },
     "metadata": {},
     "output_type": "display_data"
    },
    {
     "data": {
      "application/vnd.jupyter.widget-view+json": {
       "model_id": "2d1c098b6115472f89893e546ca31767",
       "version_major": 2,
       "version_minor": 0
      },
      "text/plain": [
       "Files Downloaded:   0%|          | 0/1 [00:00<?, ?file/s]"
      ]
     },
     "metadata": {},
     "output_type": "display_data"
    },
    {
     "data": {
      "application/vnd.jupyter.widget-view+json": {
       "model_id": "0380d84919df4d2289ee189a14919102",
       "version_major": 2,
       "version_minor": 0
      },
      "text/plain": [
       "Files Downloaded:   0%|          | 0/1 [00:00<?, ?file/s]"
      ]
     },
     "metadata": {},
     "output_type": "display_data"
    },
    {
     "data": {
      "application/vnd.jupyter.widget-view+json": {
       "model_id": "a78a0710c3f74f5bb6a5cc7d24e2532b",
       "version_major": 2,
       "version_minor": 0
      },
      "text/plain": [
       "Files Downloaded:   0%|          | 0/1 [00:00<?, ?file/s]"
      ]
     },
     "metadata": {},
     "output_type": "display_data"
    },
    {
     "data": {
      "application/vnd.jupyter.widget-view+json": {
       "model_id": "a0f6221e24f54444978603444257a51d",
       "version_major": 2,
       "version_minor": 0
      },
      "text/plain": [
       "Files Downloaded:   0%|          | 0/1 [00:00<?, ?file/s]"
      ]
     },
     "metadata": {},
     "output_type": "display_data"
    },
    {
     "data": {
      "application/vnd.jupyter.widget-view+json": {
       "model_id": "4b4fbf2ad1014e2aa956a123354111c6",
       "version_major": 2,
       "version_minor": 0
      },
      "text/plain": [
       "Files Downloaded:   0%|          | 0/1 [00:00<?, ?file/s]"
      ]
     },
     "metadata": {},
     "output_type": "display_data"
    },
    {
     "data": {
      "application/vnd.jupyter.widget-view+json": {
       "model_id": "2f3169cc6c7f4271a61b7a23be385700",
       "version_major": 2,
       "version_minor": 0
      },
      "text/plain": [
       "Files Downloaded:   0%|          | 0/1 [00:00<?, ?file/s]"
      ]
     },
     "metadata": {},
     "output_type": "display_data"
    },
    {
     "data": {
      "application/vnd.jupyter.widget-view+json": {
       "model_id": "6751d895d1d0439187028bea2083f2a3",
       "version_major": 2,
       "version_minor": 0
      },
      "text/plain": [
       "Files Downloaded:   0%|          | 0/1 [00:00<?, ?file/s]"
      ]
     },
     "metadata": {},
     "output_type": "display_data"
    },
    {
     "data": {
      "application/vnd.jupyter.widget-view+json": {
       "model_id": "a6932471399843779d39eaf3f4fe0834",
       "version_major": 2,
       "version_minor": 0
      },
      "text/plain": [
       "Files Downloaded:   0%|          | 0/1 [00:00<?, ?file/s]"
      ]
     },
     "metadata": {},
     "output_type": "display_data"
    },
    {
     "data": {
      "application/vnd.jupyter.widget-view+json": {
       "model_id": "467cc196b53f421baac000b7038c84cd",
       "version_major": 2,
       "version_minor": 0
      },
      "text/plain": [
       "Files Downloaded:   0%|          | 0/1 [00:00<?, ?file/s]"
      ]
     },
     "metadata": {},
     "output_type": "display_data"
    },
    {
     "data": {
      "application/vnd.jupyter.widget-view+json": {
       "model_id": "8e50f4483b884b48bd779608bbeb9334",
       "version_major": 2,
       "version_minor": 0
      },
      "text/plain": [
       "Files Downloaded:   0%|          | 0/1 [00:00<?, ?file/s]"
      ]
     },
     "metadata": {},
     "output_type": "display_data"
    },
    {
     "data": {
      "application/vnd.jupyter.widget-view+json": {
       "model_id": "e67b0cfd1c6046d5b9d145c27edb98a9",
       "version_major": 2,
       "version_minor": 0
      },
      "text/plain": [
       "Files Downloaded:   0%|          | 0/1 [00:00<?, ?file/s]"
      ]
     },
     "metadata": {},
     "output_type": "display_data"
    },
    {
     "data": {
      "application/vnd.jupyter.widget-view+json": {
       "model_id": "b95058e49d1e4a4798c6a426ed5ddae9",
       "version_major": 2,
       "version_minor": 0
      },
      "text/plain": [
       "Files Downloaded:   0%|          | 0/1 [00:00<?, ?file/s]"
      ]
     },
     "metadata": {},
     "output_type": "display_data"
    },
    {
     "data": {
      "application/vnd.jupyter.widget-view+json": {
       "model_id": "",
       "version_major": 2,
       "version_minor": 0
      },
      "text/plain": [
       "solo_L1_stix-sci-xray-cpd_20221112T000334-20221112T010230_V01_2211125869-55148.fits:   0%|          | 0.00/1.4…"
      ]
     },
     "metadata": {},
     "output_type": "display_data"
    },
    {
     "data": {
      "application/vnd.jupyter.widget-view+json": {
       "model_id": "341a6db04fe24f66b176bc079512662e",
       "version_major": 2,
       "version_minor": 0
      },
      "text/plain": [
       "Files Downloaded:   0%|          | 0/1 [00:00<?, ?file/s]"
      ]
     },
     "metadata": {},
     "output_type": "display_data"
    },
    {
     "data": {
      "application/vnd.jupyter.widget-view+json": {
       "model_id": "",
       "version_major": 2,
       "version_minor": 0
      },
      "text/plain": [
       "solo_L2_stix-aux-ephemeris_20221112_V01.fits:   0%|          | 0.00/397k [00:00<?, ?B/s]"
      ]
     },
     "metadata": {},
     "output_type": "display_data"
    },
    {
     "data": {
      "application/vnd.jupyter.widget-view+json": {
       "model_id": "e6cb8eb97db74012aef88216671e9855",
       "version_major": 2,
       "version_minor": 0
      },
      "text/plain": [
       "Files Downloaded:   0%|          | 0/1 [00:00<?, ?file/s]"
      ]
     },
     "metadata": {},
     "output_type": "display_data"
    },
    {
     "data": {
      "application/vnd.jupyter.widget-view+json": {
       "model_id": "",
       "version_major": 2,
       "version_minor": 0
      },
      "text/plain": [
       "solo_L1_stix-sci-xray-cpd_20221112T011450-20221112T012630_V01_2211122872-54729.fits:   0%|          | 0.00/69.…"
      ]
     },
     "metadata": {},
     "output_type": "display_data"
    },
    {
     "data": {
      "application/vnd.jupyter.widget-view+json": {
       "model_id": "2baaf1722b2e4f19b7bf61999fcd2f0f",
       "version_major": 2,
       "version_minor": 0
      },
      "text/plain": [
       "Files Downloaded:   0%|          | 0/1 [00:00<?, ?file/s]"
      ]
     },
     "metadata": {},
     "output_type": "display_data"
    },
    {
     "data": {
      "application/vnd.jupyter.widget-view+json": {
       "model_id": "a5f4a3432f6f4bc9a5e02492fbb37284",
       "version_major": 2,
       "version_minor": 0
      },
      "text/plain": [
       "Files Downloaded:   0%|          | 0/1 [00:00<?, ?file/s]"
      ]
     },
     "metadata": {},
     "output_type": "display_data"
    },
    {
     "data": {
      "application/vnd.jupyter.widget-view+json": {
       "model_id": "",
       "version_major": 2,
       "version_minor": 0
      },
      "text/plain": [
       "solo_L1_stix-sci-xray-cpd_20221112T021410-20221112T023310_V01_2211128850-54730.fits:   0%|          | 0.00/2.4…"
      ]
     },
     "metadata": {},
     "output_type": "display_data"
    },
    {
     "data": {
      "application/vnd.jupyter.widget-view+json": {
       "model_id": "972e22d2bd78461db9030aa7ec4f76a3",
       "version_major": 2,
       "version_minor": 0
      },
      "text/plain": [
       "Files Downloaded:   0%|          | 0/1 [00:00<?, ?file/s]"
      ]
     },
     "metadata": {},
     "output_type": "display_data"
    },
    {
     "data": {
      "application/vnd.jupyter.widget-view+json": {
       "model_id": "37edaafe1695428f92643018ae971210",
       "version_major": 2,
       "version_minor": 0
      },
      "text/plain": [
       "Files Downloaded:   0%|          | 0/1 [00:00<?, ?file/s]"
      ]
     },
     "metadata": {},
     "output_type": "display_data"
    },
    {
     "data": {
      "application/vnd.jupyter.widget-view+json": {
       "model_id": "",
       "version_major": 2,
       "version_minor": 0
      },
      "text/plain": [
       "solo_L1_stix-sci-xray-cpd_20221112T031155-20221112T033352_V01_2211126219-54731.fits:   0%|          | 0.00/386…"
      ]
     },
     "metadata": {},
     "output_type": "display_data"
    },
    {
     "data": {
      "application/vnd.jupyter.widget-view+json": {
       "model_id": "bfc466a4360d4500886ee3eadb341405",
       "version_major": 2,
       "version_minor": 0
      },
      "text/plain": [
       "Files Downloaded:   0%|          | 0/1 [00:00<?, ?file/s]"
      ]
     },
     "metadata": {},
     "output_type": "display_data"
    },
    {
     "data": {
      "application/vnd.jupyter.widget-view+json": {
       "model_id": "2eec2a6a08ed4834abc9677f463c8e3f",
       "version_major": 2,
       "version_minor": 0
      },
      "text/plain": [
       "Files Downloaded:   0%|          | 0/1 [00:00<?, ?file/s]"
      ]
     },
     "metadata": {},
     "output_type": "display_data"
    },
    {
     "data": {
      "application/vnd.jupyter.widget-view+json": {
       "model_id": "",
       "version_major": 2,
       "version_minor": 0
      },
      "text/plain": [
       "solo_L1_stix-sci-xray-cpd_20221112T042752-20221112T043349_V01_2211122670-50746.fits:   0%|          | 0.00/1.6…"
      ]
     },
     "metadata": {},
     "output_type": "display_data"
    },
    {
     "data": {
      "application/vnd.jupyter.widget-view+json": {
       "model_id": "7cc5e62078c44d388431a49c36f784d3",
       "version_major": 2,
       "version_minor": 0
      },
      "text/plain": [
       "Files Downloaded:   0%|          | 0/1 [00:00<?, ?file/s]"
      ]
     },
     "metadata": {},
     "output_type": "display_data"
    },
    {
     "data": {
      "application/vnd.jupyter.widget-view+json": {
       "model_id": "8a0ae98089c848e28fda9bf086cc184d",
       "version_major": 2,
       "version_minor": 0
      },
      "text/plain": [
       "Files Downloaded:   0%|          | 0/1 [00:00<?, ?file/s]"
      ]
     },
     "metadata": {},
     "output_type": "display_data"
    },
    {
     "data": {
      "application/vnd.jupyter.widget-view+json": {
       "model_id": "",
       "version_major": 2,
       "version_minor": 0
      },
      "text/plain": [
       "solo_L1_stix-sci-xray-cpd_20221112T043625-20221112T044056_V01_2211128403-54732.fits:   0%|          | 0.00/386…"
      ]
     },
     "metadata": {},
     "output_type": "display_data"
    },
    {
     "data": {
      "application/vnd.jupyter.widget-view+json": {
       "model_id": "9202a305e7b14aba98d0e2dd7e9ac840",
       "version_major": 2,
       "version_minor": 0
      },
      "text/plain": [
       "Files Downloaded:   0%|          | 0/1 [00:00<?, ?file/s]"
      ]
     },
     "metadata": {},
     "output_type": "display_data"
    },
    {
     "data": {
      "application/vnd.jupyter.widget-view+json": {
       "model_id": "0a221897b79d48dda41d8f1a46f45861",
       "version_major": 2,
       "version_minor": 0
      },
      "text/plain": [
       "Files Downloaded:   0%|          | 0/1 [00:00<?, ?file/s]"
      ]
     },
     "metadata": {},
     "output_type": "display_data"
    },
    {
     "data": {
      "application/vnd.jupyter.widget-view+json": {
       "model_id": "",
       "version_major": 2,
       "version_minor": 0
      },
      "text/plain": [
       "solo_L1_stix-sci-xray-cpd_20221112T060311-20221112T060741_V01_2211128970-54733.fits:   0%|          | 0.00/467…"
      ]
     },
     "metadata": {},
     "output_type": "display_data"
    },
    {
     "data": {
      "application/vnd.jupyter.widget-view+json": {
       "model_id": "36a8a06b81c249cf82c2daac6400bbcb",
       "version_major": 2,
       "version_minor": 0
      },
      "text/plain": [
       "Files Downloaded:   0%|          | 0/1 [00:00<?, ?file/s]"
      ]
     },
     "metadata": {},
     "output_type": "display_data"
    },
    {
     "data": {
      "application/vnd.jupyter.widget-view+json": {
       "model_id": "de3b4889c061411a9d3b77643c5f986e",
       "version_major": 2,
       "version_minor": 0
      },
      "text/plain": [
       "Files Downloaded:   0%|          | 0/1 [00:00<?, ?file/s]"
      ]
     },
     "metadata": {},
     "output_type": "display_data"
    },
    {
     "data": {
      "application/vnd.jupyter.widget-view+json": {
       "model_id": "",
       "version_major": 2,
       "version_minor": 0
      },
      "text/plain": [
       "solo_L1_stix-sci-xray-cpd_20221112T064925-20221112T074705_V01_2211125198-54735.fits:   0%|          | 0.00/521…"
      ]
     },
     "metadata": {},
     "output_type": "display_data"
    },
    {
     "data": {
      "application/vnd.jupyter.widget-view+json": {
       "model_id": "0f8127120e9645a9b4123e8e9d4a42d7",
       "version_major": 2,
       "version_minor": 0
      },
      "text/plain": [
       "Files Downloaded:   0%|          | 0/1 [00:00<?, ?file/s]"
      ]
     },
     "metadata": {},
     "output_type": "display_data"
    },
    {
     "data": {
      "application/vnd.jupyter.widget-view+json": {
       "model_id": "cb75526bfe5f4f67b1c4140f103ad2a6",
       "version_major": 2,
       "version_minor": 0
      },
      "text/plain": [
       "Files Downloaded:   0%|          | 0/1 [00:00<?, ?file/s]"
      ]
     },
     "metadata": {},
     "output_type": "display_data"
    },
    {
     "data": {
      "application/vnd.jupyter.widget-view+json": {
       "model_id": "",
       "version_major": 2,
       "version_minor": 0
      },
      "text/plain": [
       "solo_L1_stix-sci-xray-cpd_20221112T094326-20221112T100850_V01_2211128100-54737.fits:   0%|          | 0.00/69.…"
      ]
     },
     "metadata": {},
     "output_type": "display_data"
    },
    {
     "data": {
      "application/vnd.jupyter.widget-view+json": {
       "model_id": "e4efe39c43af472cafff338edf356b19",
       "version_major": 2,
       "version_minor": 0
      },
      "text/plain": [
       "Files Downloaded:   0%|          | 0/1 [00:00<?, ?file/s]"
      ]
     },
     "metadata": {},
     "output_type": "display_data"
    },
    {
     "data": {
      "application/vnd.jupyter.widget-view+json": {
       "model_id": "1ff2dd687bd54705af805ada04c7a374",
       "version_major": 2,
       "version_minor": 0
      },
      "text/plain": [
       "Files Downloaded:   0%|          | 0/1 [00:00<?, ?file/s]"
      ]
     },
     "metadata": {},
     "output_type": "display_data"
    },
    {
     "data": {
      "application/vnd.jupyter.widget-view+json": {
       "model_id": "",
       "version_major": 2,
       "version_minor": 0
      },
      "text/plain": [
       "solo_L1_stix-sci-xray-cpd_20221112T115058-20221112T115741_V01_2211128495-54738.fits:   0%|          | 0.00/150…"
      ]
     },
     "metadata": {},
     "output_type": "display_data"
    },
    {
     "data": {
      "application/vnd.jupyter.widget-view+json": {
       "model_id": "f3cec2607bff48fc8ff891203e493f66",
       "version_major": 2,
       "version_minor": 0
      },
      "text/plain": [
       "Files Downloaded:   0%|          | 0/1 [00:00<?, ?file/s]"
      ]
     },
     "metadata": {},
     "output_type": "display_data"
    },
    {
     "data": {
      "application/vnd.jupyter.widget-view+json": {
       "model_id": "6ca497d145de42e79863be8558ffc719",
       "version_major": 2,
       "version_minor": 0
      },
      "text/plain": [
       "Files Downloaded:   0%|          | 0/1 [00:00<?, ?file/s]"
      ]
     },
     "metadata": {},
     "output_type": "display_data"
    },
    {
     "data": {
      "application/vnd.jupyter.widget-view+json": {
       "model_id": "",
       "version_major": 2,
       "version_minor": 0
      },
      "text/plain": [
       "solo_L1_stix-sci-xray-cpd_20221112T121701-20221112T124012_V01_2211125576-54739.fits:   0%|          | 0.00/420…"
      ]
     },
     "metadata": {},
     "output_type": "display_data"
    },
    {
     "data": {
      "application/vnd.jupyter.widget-view+json": {
       "model_id": "c0691945a8e943848daea9e13be507fb",
       "version_major": 2,
       "version_minor": 0
      },
      "text/plain": [
       "Files Downloaded:   0%|          | 0/1 [00:00<?, ?file/s]"
      ]
     },
     "metadata": {},
     "output_type": "display_data"
    },
    {
     "data": {
      "application/vnd.jupyter.widget-view+json": {
       "model_id": "e136ec48c9e5437d8dcf05530e5d891e",
       "version_major": 2,
       "version_minor": 0
      },
      "text/plain": [
       "Files Downloaded:   0%|          | 0/1 [00:00<?, ?file/s]"
      ]
     },
     "metadata": {},
     "output_type": "display_data"
    },
    {
     "data": {
      "application/vnd.jupyter.widget-view+json": {
       "model_id": "",
       "version_major": 2,
       "version_minor": 0
      },
      "text/plain": [
       "solo_L1_stix-sci-xray-cpd_20221112T124452-20221112T142451_V01_2211124232-54740.fits:   0%|          | 0.00/873…"
      ]
     },
     "metadata": {},
     "output_type": "display_data"
    },
    {
     "data": {
      "application/vnd.jupyter.widget-view+json": {
       "model_id": "1a7c4f9e104b457b9983d2e06727a74c",
       "version_major": 2,
       "version_minor": 0
      },
      "text/plain": [
       "Files Downloaded:   0%|          | 0/1 [00:00<?, ?file/s]"
      ]
     },
     "metadata": {},
     "output_type": "display_data"
    },
    {
     "data": {
      "application/vnd.jupyter.widget-view+json": {
       "model_id": "fb7436e577ab4498b028baf99a8b7d1e",
       "version_major": 2,
       "version_minor": 0
      },
      "text/plain": [
       "Files Downloaded:   0%|          | 0/1 [00:00<?, ?file/s]"
      ]
     },
     "metadata": {},
     "output_type": "display_data"
    },
    {
     "data": {
      "application/vnd.jupyter.widget-view+json": {
       "model_id": "f30a860c4193406e855916114e1d44c6",
       "version_major": 2,
       "version_minor": 0
      },
      "text/plain": [
       "Files Downloaded:   0%|          | 0/1 [00:00<?, ?file/s]"
      ]
     },
     "metadata": {},
     "output_type": "display_data"
    },
    {
     "data": {
      "application/vnd.jupyter.widget-view+json": {
       "model_id": "5df6be5989b14ab0b6e5818717a5ccba",
       "version_major": 2,
       "version_minor": 0
      },
      "text/plain": [
       "Files Downloaded:   0%|          | 0/1 [00:00<?, ?file/s]"
      ]
     },
     "metadata": {},
     "output_type": "display_data"
    },
    {
     "data": {
      "application/vnd.jupyter.widget-view+json": {
       "model_id": "",
       "version_major": 2,
       "version_minor": 0
      },
      "text/plain": [
       "solo_L1_stix-sci-xray-cpd_20221112T142751-20221112T143245_V01_2211127520-54741.fits:   0%|          | 0.00/66.…"
      ]
     },
     "metadata": {},
     "output_type": "display_data"
    },
    {
     "data": {
      "application/vnd.jupyter.widget-view+json": {
       "model_id": "29685f9821184656b5b81316d1c2ffbd",
       "version_major": 2,
       "version_minor": 0
      },
      "text/plain": [
       "Files Downloaded:   0%|          | 0/1 [00:00<?, ?file/s]"
      ]
     },
     "metadata": {},
     "output_type": "display_data"
    },
    {
     "data": {
      "application/vnd.jupyter.widget-view+json": {
       "model_id": "e6e50e70af724f31ac02cfabd53f6a93",
       "version_major": 2,
       "version_minor": 0
      },
      "text/plain": [
       "Files Downloaded:   0%|          | 0/1 [00:00<?, ?file/s]"
      ]
     },
     "metadata": {},
     "output_type": "display_data"
    },
    {
     "data": {
      "application/vnd.jupyter.widget-view+json": {
       "model_id": "",
       "version_major": 2,
       "version_minor": 0
      },
      "text/plain": [
       "solo_L1_stix-sci-xray-cpd_20221112T144207-20221112T144532_V01_2211127241-54742.fits:   0%|          | 0.00/66.…"
      ]
     },
     "metadata": {},
     "output_type": "display_data"
    },
    {
     "data": {
      "application/vnd.jupyter.widget-view+json": {
       "model_id": "58a4497f9ff14b5680b80dfa55fa1d79",
       "version_major": 2,
       "version_minor": 0
      },
      "text/plain": [
       "Files Downloaded:   0%|          | 0/1 [00:00<?, ?file/s]"
      ]
     },
     "metadata": {},
     "output_type": "display_data"
    },
    {
     "data": {
      "application/vnd.jupyter.widget-view+json": {
       "model_id": "6f541b0316ef42629156cfb9495f124e",
       "version_major": 2,
       "version_minor": 0
      },
      "text/plain": [
       "Files Downloaded:   0%|          | 0/1 [00:00<?, ?file/s]"
      ]
     },
     "metadata": {},
     "output_type": "display_data"
    },
    {
     "data": {
      "application/vnd.jupyter.widget-view+json": {
       "model_id": "",
       "version_major": 2,
       "version_minor": 0
      },
      "text/plain": [
       "solo_L1_stix-sci-xray-cpd_20221112T144700-20221112T152424_V01_2211129187-54743.fits:   0%|          | 0.00/996…"
      ]
     },
     "metadata": {},
     "output_type": "display_data"
    },
    {
     "data": {
      "application/vnd.jupyter.widget-view+json": {
       "model_id": "b9ea3bfd8f1f47149e3ccd4595272654",
       "version_major": 2,
       "version_minor": 0
      },
      "text/plain": [
       "Files Downloaded:   0%|          | 0/1 [00:00<?, ?file/s]"
      ]
     },
     "metadata": {},
     "output_type": "display_data"
    },
    {
     "data": {
      "application/vnd.jupyter.widget-view+json": {
       "model_id": "6190bd2f22be48c5926d68d81c3b845c",
       "version_major": 2,
       "version_minor": 0
      },
      "text/plain": [
       "Files Downloaded:   0%|          | 0/1 [00:00<?, ?file/s]"
      ]
     },
     "metadata": {},
     "output_type": "display_data"
    },
    {
     "data": {
      "application/vnd.jupyter.widget-view+json": {
       "model_id": "",
       "version_major": 2,
       "version_minor": 0
      },
      "text/plain": [
       "solo_L1_stix-sci-xray-cpd_20221112T152240-20221112T154703_V01_2211123760-54744.fits:   0%|          | 0.00/438…"
      ]
     },
     "metadata": {},
     "output_type": "display_data"
    },
    {
     "data": {
      "application/vnd.jupyter.widget-view+json": {
       "model_id": "d77843724b24494f8b2ebb643fe182ed",
       "version_major": 2,
       "version_minor": 0
      },
      "text/plain": [
       "Files Downloaded:   0%|          | 0/1 [00:00<?, ?file/s]"
      ]
     },
     "metadata": {},
     "output_type": "display_data"
    },
    {
     "data": {
      "application/vnd.jupyter.widget-view+json": {
       "model_id": "dea72696eb46410f8e38a9eb73fbf42e",
       "version_major": 2,
       "version_minor": 0
      },
      "text/plain": [
       "Files Downloaded:   0%|          | 0/1 [00:00<?, ?file/s]"
      ]
     },
     "metadata": {},
     "output_type": "display_data"
    },
    {
     "data": {
      "application/vnd.jupyter.widget-view+json": {
       "model_id": "",
       "version_major": 2,
       "version_minor": 0
      },
      "text/plain": [
       "solo_L1_stix-sci-xray-cpd_20221112T154949-20221112T160231_V01_2211125558-54745.fits:   0%|          | 0.00/69.…"
      ]
     },
     "metadata": {},
     "output_type": "display_data"
    },
    {
     "data": {
      "application/vnd.jupyter.widget-view+json": {
       "model_id": "4e5ce92adeb040289854173e9e06e363",
       "version_major": 2,
       "version_minor": 0
      },
      "text/plain": [
       "Files Downloaded:   0%|          | 0/1 [00:00<?, ?file/s]"
      ]
     },
     "metadata": {},
     "output_type": "display_data"
    },
    {
     "data": {
      "application/vnd.jupyter.widget-view+json": {
       "model_id": "8b48b9b34fad44c496c893abb1112b46",
       "version_major": 2,
       "version_minor": 0
      },
      "text/plain": [
       "Files Downloaded:   0%|          | 0/1 [00:00<?, ?file/s]"
      ]
     },
     "metadata": {},
     "output_type": "display_data"
    },
    {
     "data": {
      "application/vnd.jupyter.widget-view+json": {
       "model_id": "",
       "version_major": 2,
       "version_minor": 0
      },
      "text/plain": [
       "solo_L1_stix-sci-xray-cpd_20221112T161756-20221112T171920_V01_2211124875-54746.fits:   0%|          | 0.00/1.2…"
      ]
     },
     "metadata": {},
     "output_type": "display_data"
    },
    {
     "data": {
      "application/vnd.jupyter.widget-view+json": {
       "model_id": "7aae8f70a09e4e8d991c2db82169fb95",
       "version_major": 2,
       "version_minor": 0
      },
      "text/plain": [
       "Files Downloaded:   0%|          | 0/1 [00:00<?, ?file/s]"
      ]
     },
     "metadata": {},
     "output_type": "display_data"
    },
    {
     "data": {
      "application/vnd.jupyter.widget-view+json": {
       "model_id": "56f4b1f4349c414eac6d0859b8175308",
       "version_major": 2,
       "version_minor": 0
      },
      "text/plain": [
       "Files Downloaded:   0%|          | 0/1 [00:00<?, ?file/s]"
      ]
     },
     "metadata": {},
     "output_type": "display_data"
    },
    {
     "data": {
      "application/vnd.jupyter.widget-view+json": {
       "model_id": "",
       "version_major": 2,
       "version_minor": 0
      },
      "text/plain": [
       "solo_L1_stix-sci-xray-cpd_20221112T173153-20221112T175733_V01_2211121565-54747.fits:   0%|          | 0.00/392…"
      ]
     },
     "metadata": {},
     "output_type": "display_data"
    },
    {
     "data": {
      "application/vnd.jupyter.widget-view+json": {
       "model_id": "36c1f661412141b3a2454a3fdc555b18",
       "version_major": 2,
       "version_minor": 0
      },
      "text/plain": [
       "Files Downloaded:   0%|          | 0/1 [00:00<?, ?file/s]"
      ]
     },
     "metadata": {},
     "output_type": "display_data"
    },
    {
     "data": {
      "application/vnd.jupyter.widget-view+json": {
       "model_id": "b561dae94da5473eb0a144e25d11f9dc",
       "version_major": 2,
       "version_minor": 0
      },
      "text/plain": [
       "Files Downloaded:   0%|          | 0/1 [00:00<?, ?file/s]"
      ]
     },
     "metadata": {},
     "output_type": "display_data"
    },
    {
     "data": {
      "application/vnd.jupyter.widget-view+json": {
       "model_id": "807830ab91bc4945bf722cf667942e9b",
       "version_major": 2,
       "version_minor": 0
      },
      "text/plain": [
       "Files Downloaded:   0%|          | 0/1 [00:00<?, ?file/s]"
      ]
     },
     "metadata": {},
     "output_type": "display_data"
    },
    {
     "data": {
      "application/vnd.jupyter.widget-view+json": {
       "model_id": "a6673893d28744168df897f82bf8ba44",
       "version_major": 2,
       "version_minor": 0
      },
      "text/plain": [
       "Files Downloaded:   0%|          | 0/1 [00:00<?, ?file/s]"
      ]
     },
     "metadata": {},
     "output_type": "display_data"
    },
    {
     "data": {
      "application/vnd.jupyter.widget-view+json": {
       "model_id": "",
       "version_major": 2,
       "version_minor": 0
      },
      "text/plain": [
       "solo_L1_stix-sci-xray-cpd_20221112T175715-20221112T180135_V01_2211124837-54910.fits:   0%|          | 0.00/14.…"
      ]
     },
     "metadata": {},
     "output_type": "display_data"
    },
    {
     "data": {
      "application/vnd.jupyter.widget-view+json": {
       "model_id": "746b65c5ac5b479996ca47b9e496f122",
       "version_major": 2,
       "version_minor": 0
      },
      "text/plain": [
       "Files Downloaded:   0%|          | 0/1 [00:00<?, ?file/s]"
      ]
     },
     "metadata": {},
     "output_type": "display_data"
    },
    {
     "data": {
      "application/vnd.jupyter.widget-view+json": {
       "model_id": "1328434acf0e4fd28f2995c1db6571a1",
       "version_major": 2,
       "version_minor": 0
      },
      "text/plain": [
       "Files Downloaded:   0%|          | 0/1 [00:00<?, ?file/s]"
      ]
     },
     "metadata": {},
     "output_type": "display_data"
    },
    {
     "name": "stderr",
     "output_type": "stream",
     "text": [
      "Exception ignored in: <function BaseEventLoop.__del__ at 0x10daccb80>\n",
      "Traceback (most recent call last):\n",
      "  File \"/opt/anaconda3/envs/stix_conda/lib/python3.10/asyncio/base_events.py\", line 682, in __del__\n",
      "    self.close()\n",
      "  File \"/opt/anaconda3/envs/stix_conda/lib/python3.10/asyncio/unix_events.py\", line 71, in close\n",
      "    self.remove_signal_handler(sig)\n",
      "  File \"/opt/anaconda3/envs/stix_conda/lib/python3.10/asyncio/unix_events.py\", line 160, in remove_signal_handler\n",
      "    signal.signal(sig, handler)\n",
      "  File \"/opt/anaconda3/envs/stix_conda/lib/python3.10/signal.py\", line 56, in signal\n",
      "    handler = _signal.signal(_enum_to_int(signalnum), _enum_to_int(handler))\n",
      "ValueError: signal only works in main thread of the main interpreter\n",
      "Exception ignored in: <function BaseEventLoop.__del__ at 0x10daccb80>\n",
      "Traceback (most recent call last):\n",
      "  File \"/opt/anaconda3/envs/stix_conda/lib/python3.10/asyncio/base_events.py\", line 682, in __del__\n",
      "    self.close()\n",
      "  File \"/opt/anaconda3/envs/stix_conda/lib/python3.10/asyncio/unix_events.py\", line 71, in close\n",
      "    self.remove_signal_handler(sig)\n",
      "  File \"/opt/anaconda3/envs/stix_conda/lib/python3.10/asyncio/unix_events.py\", line 160, in remove_signal_handler\n",
      "    signal.signal(sig, handler)\n",
      "  File \"/opt/anaconda3/envs/stix_conda/lib/python3.10/signal.py\", line 56, in signal\n",
      "    handler = _signal.signal(_enum_to_int(signalnum), _enum_to_int(handler))\n",
      "ValueError: signal only works in main thread of the main interpreter\n",
      "Exception ignored in: <function BaseEventLoop.__del__ at 0x10daccb80>\n",
      "Traceback (most recent call last):\n",
      "  File \"/opt/anaconda3/envs/stix_conda/lib/python3.10/asyncio/base_events.py\", line 682, in __del__\n",
      "    self.close()\n",
      "  File \"/opt/anaconda3/envs/stix_conda/lib/python3.10/asyncio/unix_events.py\", line 71, in close\n",
      "    self.remove_signal_handler(sig)\n",
      "  File \"/opt/anaconda3/envs/stix_conda/lib/python3.10/asyncio/unix_events.py\", line 160, in remove_signal_handler\n",
      "    signal.signal(sig, handler)\n",
      "  File \"/opt/anaconda3/envs/stix_conda/lib/python3.10/signal.py\", line 56, in signal\n",
      "    handler = _signal.signal(_enum_to_int(signalnum), _enum_to_int(handler))\n",
      "ValueError: signal only works in main thread of the main interpreter\n"
     ]
    },
    {
     "data": {
      "application/vnd.jupyter.widget-view+json": {
       "model_id": "",
       "version_major": 2,
       "version_minor": 0
      },
      "text/plain": [
       "solo_L1_stix-sci-xray-cpd_20221112T180330-20221112T182151_V01_2211124459-55146.fits:   0%|          | 0.00/1.4…"
      ]
     },
     "metadata": {},
     "output_type": "display_data"
    },
    {
     "data": {
      "application/vnd.jupyter.widget-view+json": {
       "model_id": "d706eabd5a5a4748b259e3742a77a486",
       "version_major": 2,
       "version_minor": 0
      },
      "text/plain": [
       "Files Downloaded:   0%|          | 0/1 [00:00<?, ?file/s]"
      ]
     },
     "metadata": {},
     "output_type": "display_data"
    },
    {
     "data": {
      "application/vnd.jupyter.widget-view+json": {
       "model_id": "e2c9dee39e684db2b842c1f4db60cf04",
       "version_major": 2,
       "version_minor": 0
      },
      "text/plain": [
       "Files Downloaded:   0%|          | 0/1 [00:00<?, ?file/s]"
      ]
     },
     "metadata": {},
     "output_type": "display_data"
    },
    {
     "data": {
      "application/vnd.jupyter.widget-view+json": {
       "model_id": "",
       "version_major": 2,
       "version_minor": 0
      },
      "text/plain": [
       "solo_L1_stix-sci-xray-cpd_20221112T200717-20221112T201243_V01_2211122486-54749.fits:   0%|          | 0.00/66.…"
      ]
     },
     "metadata": {},
     "output_type": "display_data"
    },
    {
     "data": {
      "application/vnd.jupyter.widget-view+json": {
       "model_id": "7811ac4d437e4f0e8db7938bb6ca55cc",
       "version_major": 2,
       "version_minor": 0
      },
      "text/plain": [
       "Files Downloaded:   0%|          | 0/1 [00:00<?, ?file/s]"
      ]
     },
     "metadata": {},
     "output_type": "display_data"
    },
    {
     "data": {
      "application/vnd.jupyter.widget-view+json": {
       "model_id": "ea48e537da084e0b9928c9c33ca2e3dc",
       "version_major": 2,
       "version_minor": 0
      },
      "text/plain": [
       "Files Downloaded:   0%|          | 0/1 [00:00<?, ?file/s]"
      ]
     },
     "metadata": {},
     "output_type": "display_data"
    },
    {
     "name": "stderr",
     "output_type": "stream",
     "text": [
      "Exception ignored in: <function BaseEventLoop.__del__ at 0x10daccb80>\n",
      "Traceback (most recent call last):\n",
      "  File \"/opt/anaconda3/envs/stix_conda/lib/python3.10/asyncio/base_events.py\", line 682, in __del__\n",
      "    self.close()\n",
      "  File \"/opt/anaconda3/envs/stix_conda/lib/python3.10/asyncio/unix_events.py\", line 71, in close\n",
      "    self.remove_signal_handler(sig)\n",
      "  File \"/opt/anaconda3/envs/stix_conda/lib/python3.10/asyncio/unix_events.py\", line 160, in remove_signal_handler\n",
      "    signal.signal(sig, handler)\n",
      "  File \"/opt/anaconda3/envs/stix_conda/lib/python3.10/signal.py\", line 56, in signal\n",
      "    handler = _signal.signal(_enum_to_int(signalnum), _enum_to_int(handler))\n",
      "ValueError: signal only works in main thread of the main interpreter\n",
      "Exception ignored in: <function BaseEventLoop.__del__ at 0x10daccb80>\n",
      "Traceback (most recent call last):\n",
      "  File \"/opt/anaconda3/envs/stix_conda/lib/python3.10/asyncio/base_events.py\", line 682, in __del__\n",
      "    self.close()\n",
      "  File \"/opt/anaconda3/envs/stix_conda/lib/python3.10/asyncio/unix_events.py\", line 71, in close\n",
      "    self.remove_signal_handler(sig)\n",
      "  File \"/opt/anaconda3/envs/stix_conda/lib/python3.10/asyncio/unix_events.py\", line 160, in remove_signal_handler\n",
      "    signal.signal(sig, handler)\n",
      "  File \"/opt/anaconda3/envs/stix_conda/lib/python3.10/signal.py\", line 56, in signal\n",
      "    handler = _signal.signal(_enum_to_int(signalnum), _enum_to_int(handler))\n",
      "ValueError: signal only works in main thread of the main interpreter\n",
      "Exception ignored in: <function BaseEventLoop.__del__ at 0x10daccb80>\n",
      "Traceback (most recent call last):\n",
      "  File \"/opt/anaconda3/envs/stix_conda/lib/python3.10/asyncio/base_events.py\", line 682, in __del__\n",
      "    self.close()\n",
      "  File \"/opt/anaconda3/envs/stix_conda/lib/python3.10/asyncio/unix_events.py\", line 71, in close\n",
      "    self.remove_signal_handler(sig)\n",
      "  File \"/opt/anaconda3/envs/stix_conda/lib/python3.10/asyncio/unix_events.py\", line 160, in remove_signal_handler\n",
      "    signal.signal(sig, handler)\n",
      "  File \"/opt/anaconda3/envs/stix_conda/lib/python3.10/signal.py\", line 56, in signal\n",
      "    handler = _signal.signal(_enum_to_int(signalnum), _enum_to_int(handler))\n",
      "ValueError: signal only works in main thread of the main interpreter\n"
     ]
    },
    {
     "data": {
      "application/vnd.jupyter.widget-view+json": {
       "model_id": "",
       "version_major": 2,
       "version_minor": 0
      },
      "text/plain": [
       "solo_L1_stix-sci-xray-cpd_20221112T203220-20221112T211141_V01_2211120140-54750.fits:   0%|          | 0.00/795…"
      ]
     },
     "metadata": {},
     "output_type": "display_data"
    },
    {
     "data": {
      "application/vnd.jupyter.widget-view+json": {
       "model_id": "ab722bae78e44abc903bbb70bab269f6",
       "version_major": 2,
       "version_minor": 0
      },
      "text/plain": [
       "Files Downloaded:   0%|          | 0/1 [00:00<?, ?file/s]"
      ]
     },
     "metadata": {},
     "output_type": "display_data"
    },
    {
     "data": {
      "application/vnd.jupyter.widget-view+json": {
       "model_id": "4fca6c7b3bea475d86d71240c10facf3",
       "version_major": 2,
       "version_minor": 0
      },
      "text/plain": [
       "Files Downloaded:   0%|          | 0/1 [00:00<?, ?file/s]"
      ]
     },
     "metadata": {},
     "output_type": "display_data"
    },
    {
     "data": {
      "application/vnd.jupyter.widget-view+json": {
       "model_id": "",
       "version_major": 2,
       "version_minor": 0
      },
      "text/plain": [
       "solo_L1_stix-sci-xray-cpd_20221112T214821-20221112T220158_V01_2211128626-54751.fits:   0%|          | 0.00/752…"
      ]
     },
     "metadata": {},
     "output_type": "display_data"
    },
    {
     "data": {
      "application/vnd.jupyter.widget-view+json": {
       "model_id": "9ddb7a8e54a444b6ac29f2ef83c40d23",
       "version_major": 2,
       "version_minor": 0
      },
      "text/plain": [
       "Files Downloaded:   0%|          | 0/1 [00:00<?, ?file/s]"
      ]
     },
     "metadata": {},
     "output_type": "display_data"
    },
    {
     "data": {
      "application/vnd.jupyter.widget-view+json": {
       "model_id": "b54e3373bbd549f5b1bdfe96275d8810",
       "version_major": 2,
       "version_minor": 0
      },
      "text/plain": [
       "Files Downloaded:   0%|          | 0/1 [00:00<?, ?file/s]"
      ]
     },
     "metadata": {},
     "output_type": "display_data"
    },
    {
     "name": "stderr",
     "output_type": "stream",
     "text": [
      "Exception ignored in: <function BaseEventLoop.__del__ at 0x10daccb80>\n",
      "Traceback (most recent call last):\n",
      "  File \"/opt/anaconda3/envs/stix_conda/lib/python3.10/asyncio/base_events.py\", line 682, in __del__\n",
      "    self.close()\n",
      "  File \"/opt/anaconda3/envs/stix_conda/lib/python3.10/asyncio/unix_events.py\", line 71, in close\n",
      "    self.remove_signal_handler(sig)\n",
      "  File \"/opt/anaconda3/envs/stix_conda/lib/python3.10/asyncio/unix_events.py\", line 160, in remove_signal_handler\n",
      "    signal.signal(sig, handler)\n",
      "  File \"/opt/anaconda3/envs/stix_conda/lib/python3.10/signal.py\", line 56, in signal\n",
      "    handler = _signal.signal(_enum_to_int(signalnum), _enum_to_int(handler))\n",
      "ValueError: signal only works in main thread of the main interpreter\n",
      "Exception ignored in: <function BaseEventLoop.__del__ at 0x10daccb80>\n",
      "Traceback (most recent call last):\n",
      "  File \"/opt/anaconda3/envs/stix_conda/lib/python3.10/asyncio/base_events.py\", line 682, in __del__\n",
      "    self.close()\n",
      "  File \"/opt/anaconda3/envs/stix_conda/lib/python3.10/asyncio/unix_events.py\", line 71, in close\n",
      "    self.remove_signal_handler(sig)\n",
      "  File \"/opt/anaconda3/envs/stix_conda/lib/python3.10/asyncio/unix_events.py\", line 160, in remove_signal_handler\n",
      "    signal.signal(sig, handler)\n",
      "  File \"/opt/anaconda3/envs/stix_conda/lib/python3.10/signal.py\", line 56, in signal\n",
      "    handler = _signal.signal(_enum_to_int(signalnum), _enum_to_int(handler))\n",
      "ValueError: signal only works in main thread of the main interpreter\n",
      "Exception ignored in: <function BaseEventLoop.__del__ at 0x10daccb80>\n",
      "Traceback (most recent call last):\n",
      "  File \"/opt/anaconda3/envs/stix_conda/lib/python3.10/asyncio/base_events.py\", line 682, in __del__\n",
      "    self.close()\n",
      "  File \"/opt/anaconda3/envs/stix_conda/lib/python3.10/asyncio/unix_events.py\", line 71, in close\n",
      "    self.remove_signal_handler(sig)\n",
      "  File \"/opt/anaconda3/envs/stix_conda/lib/python3.10/asyncio/unix_events.py\", line 160, in remove_signal_handler\n",
      "    signal.signal(sig, handler)\n",
      "  File \"/opt/anaconda3/envs/stix_conda/lib/python3.10/signal.py\", line 56, in signal\n",
      "    handler = _signal.signal(_enum_to_int(signalnum), _enum_to_int(handler))\n",
      "ValueError: signal only works in main thread of the main interpreter\n"
     ]
    },
    {
     "data": {
      "application/vnd.jupyter.widget-view+json": {
       "model_id": "",
       "version_major": 2,
       "version_minor": 0
      },
      "text/plain": [
       "solo_L1_stix-sci-xray-cpd_20221112T221218-20221112T222236_V01_2211124230-54752.fits:   0%|          | 0.00/66.…"
      ]
     },
     "metadata": {},
     "output_type": "display_data"
    },
    {
     "data": {
      "application/vnd.jupyter.widget-view+json": {
       "model_id": "77dab55510524e4f93c93e067db718b5",
       "version_major": 2,
       "version_minor": 0
      },
      "text/plain": [
       "Files Downloaded:   0%|          | 0/1 [00:00<?, ?file/s]"
      ]
     },
     "metadata": {},
     "output_type": "display_data"
    },
    {
     "data": {
      "application/vnd.jupyter.widget-view+json": {
       "model_id": "9aa000248dea40da9170137baf2c4555",
       "version_major": 2,
       "version_minor": 0
      },
      "text/plain": [
       "Files Downloaded:   0%|          | 0/1 [00:00<?, ?file/s]"
      ]
     },
     "metadata": {},
     "output_type": "display_data"
    },
    {
     "data": {
      "application/vnd.jupyter.widget-view+json": {
       "model_id": "",
       "version_major": 2,
       "version_minor": 0
      },
      "text/plain": [
       "solo_L1_stix-sci-xray-cpd_20221113T000809-20221113T002643_V01_2211135045-54754.fits:   0%|          | 0.00/69.…"
      ]
     },
     "metadata": {},
     "output_type": "display_data"
    },
    {
     "data": {
      "application/vnd.jupyter.widget-view+json": {
       "model_id": "2bbdaf9ef5f8497bafd04eb00cb54d11",
       "version_major": 2,
       "version_minor": 0
      },
      "text/plain": [
       "Files Downloaded:   0%|          | 0/1 [00:00<?, ?file/s]"
      ]
     },
     "metadata": {},
     "output_type": "display_data"
    },
    {
     "data": {
      "application/vnd.jupyter.widget-view+json": {
       "model_id": "",
       "version_major": 2,
       "version_minor": 0
      },
      "text/plain": [
       "solo_L2_stix-aux-ephemeris_20221113_V01.fits:   0%|          | 0.00/397k [00:00<?, ?B/s]"
      ]
     },
     "metadata": {},
     "output_type": "display_data"
    },
    {
     "data": {
      "application/vnd.jupyter.widget-view+json": {
       "model_id": "700b7f7027124a3a8c0c269ff0fb4d78",
       "version_major": 2,
       "version_minor": 0
      },
      "text/plain": [
       "Files Downloaded:   0%|          | 0/1 [00:00<?, ?file/s]"
      ]
     },
     "metadata": {},
     "output_type": "display_data"
    },
    {
     "data": {
      "application/vnd.jupyter.widget-view+json": {
       "model_id": "",
       "version_major": 2,
       "version_minor": 0
      },
      "text/plain": [
       "solo_L1_stix-sci-xray-cpd_20221113T005923-20221113T012311_V01_2211132712-54755.fits:   0%|          | 0.00/510…"
      ]
     },
     "metadata": {},
     "output_type": "display_data"
    },
    {
     "data": {
      "application/vnd.jupyter.widget-view+json": {
       "model_id": "d8e19f07754845e0b80e29211128868a",
       "version_major": 2,
       "version_minor": 0
      },
      "text/plain": [
       "Files Downloaded:   0%|          | 0/1 [00:00<?, ?file/s]"
      ]
     },
     "metadata": {},
     "output_type": "display_data"
    },
    {
     "data": {
      "application/vnd.jupyter.widget-view+json": {
       "model_id": "620af69b0042479197ea201de74030e8",
       "version_major": 2,
       "version_minor": 0
      },
      "text/plain": [
       "Files Downloaded:   0%|          | 0/1 [00:00<?, ?file/s]"
      ]
     },
     "metadata": {},
     "output_type": "display_data"
    },
    {
     "data": {
      "application/vnd.jupyter.widget-view+json": {
       "model_id": "",
       "version_major": 2,
       "version_minor": 0
      },
      "text/plain": [
       "solo_L1_stix-sci-xray-cpd_20221113T012411-20221113T013503_V01_2211137388-54756.fits:   0%|          | 0.00/66.…"
      ]
     },
     "metadata": {},
     "output_type": "display_data"
    },
    {
     "data": {
      "application/vnd.jupyter.widget-view+json": {
       "model_id": "1870a1171a7a47019be4d811210f1cba",
       "version_major": 2,
       "version_minor": 0
      },
      "text/plain": [
       "Files Downloaded:   0%|          | 0/1 [00:00<?, ?file/s]"
      ]
     },
     "metadata": {},
     "output_type": "display_data"
    },
    {
     "data": {
      "application/vnd.jupyter.widget-view+json": {
       "model_id": "de582266040e4e539355509b0af411da",
       "version_major": 2,
       "version_minor": 0
      },
      "text/plain": [
       "Files Downloaded:   0%|          | 0/1 [00:00<?, ?file/s]"
      ]
     },
     "metadata": {},
     "output_type": "display_data"
    },
    {
     "data": {
      "application/vnd.jupyter.widget-view+json": {
       "model_id": "",
       "version_major": 2,
       "version_minor": 0
      },
      "text/plain": [
       "solo_L1_stix-sci-xray-cpd_20221113T015437-20221113T022725_V01_2211135081-54757.fits:   0%|          | 0.00/1.2…"
      ]
     },
     "metadata": {},
     "output_type": "display_data"
    },
    {
     "data": {
      "application/vnd.jupyter.widget-view+json": {
       "model_id": "6f23ec74912f4882be427ebe418c7b6a",
       "version_major": 2,
       "version_minor": 0
      },
      "text/plain": [
       "Files Downloaded:   0%|          | 0/1 [00:00<?, ?file/s]"
      ]
     },
     "metadata": {},
     "output_type": "display_data"
    },
    {
     "data": {
      "application/vnd.jupyter.widget-view+json": {
       "model_id": "7629f2ca1fbc42e0b779013416f125c0",
       "version_major": 2,
       "version_minor": 0
      },
      "text/plain": [
       "Files Downloaded:   0%|          | 0/1 [00:00<?, ?file/s]"
      ]
     },
     "metadata": {},
     "output_type": "display_data"
    },
    {
     "name": "stderr",
     "output_type": "stream",
     "text": [
      "Exception ignored in: <function BaseEventLoop.__del__ at 0x10daccb80>\n",
      "Traceback (most recent call last):\n",
      "  File \"/opt/anaconda3/envs/stix_conda/lib/python3.10/asyncio/base_events.py\", line 682, in __del__\n",
      "    self.close()\n",
      "  File \"/opt/anaconda3/envs/stix_conda/lib/python3.10/asyncio/unix_events.py\", line 71, in close\n",
      "    self.remove_signal_handler(sig)\n",
      "  File \"/opt/anaconda3/envs/stix_conda/lib/python3.10/asyncio/unix_events.py\", line 160, in remove_signal_handler\n",
      "    signal.signal(sig, handler)\n",
      "  File \"/opt/anaconda3/envs/stix_conda/lib/python3.10/signal.py\", line 56, in signal\n",
      "    handler = _signal.signal(_enum_to_int(signalnum), _enum_to_int(handler))\n",
      "ValueError: signal only works in main thread of the main interpreter\n",
      "Exception ignored in: <function BaseEventLoop.__del__ at 0x10daccb80>\n",
      "Traceback (most recent call last):\n",
      "  File \"/opt/anaconda3/envs/stix_conda/lib/python3.10/asyncio/base_events.py\", line 682, in __del__\n",
      "    self.close()\n",
      "  File \"/opt/anaconda3/envs/stix_conda/lib/python3.10/asyncio/unix_events.py\", line 71, in close\n",
      "    self.remove_signal_handler(sig)\n",
      "  File \"/opt/anaconda3/envs/stix_conda/lib/python3.10/asyncio/unix_events.py\", line 160, in remove_signal_handler\n",
      "    signal.signal(sig, handler)\n",
      "  File \"/opt/anaconda3/envs/stix_conda/lib/python3.10/signal.py\", line 56, in signal\n",
      "    handler = _signal.signal(_enum_to_int(signalnum), _enum_to_int(handler))\n",
      "ValueError: signal only works in main thread of the main interpreter\n"
     ]
    },
    {
     "data": {
      "application/vnd.jupyter.widget-view+json": {
       "model_id": "e84e119c719643e1b951e3de69160b0e",
       "version_major": 2,
       "version_minor": 0
      },
      "text/plain": [
       "Files Downloaded:   0%|          | 0/1 [00:00<?, ?file/s]"
      ]
     },
     "metadata": {},
     "output_type": "display_data"
    },
    {
     "data": {
      "application/vnd.jupyter.widget-view+json": {
       "model_id": "a450b9d5b10c406c87337ab2b5fec38c",
       "version_major": 2,
       "version_minor": 0
      },
      "text/plain": [
       "Files Downloaded:   0%|          | 0/1 [00:00<?, ?file/s]"
      ]
     },
     "metadata": {},
     "output_type": "display_data"
    },
    {
     "data": {
      "application/vnd.jupyter.widget-view+json": {
       "model_id": "",
       "version_major": 2,
       "version_minor": 0
      },
      "text/plain": [
       "solo_L1_stix-sci-xray-cpd_20221113T031046-20221113T031926_V01_2211136211-54758.fits:   0%|          | 0.00/184…"
      ]
     },
     "metadata": {},
     "output_type": "display_data"
    },
    {
     "data": {
      "application/vnd.jupyter.widget-view+json": {
       "model_id": "521dfc241c5d4dd79a4292a74f5da414",
       "version_major": 2,
       "version_minor": 0
      },
      "text/plain": [
       "Files Downloaded:   0%|          | 0/1 [00:00<?, ?file/s]"
      ]
     },
     "metadata": {},
     "output_type": "display_data"
    },
    {
     "data": {
      "application/vnd.jupyter.widget-view+json": {
       "model_id": "73377017851842559a5ccb42457a476b",
       "version_major": 2,
       "version_minor": 0
      },
      "text/plain": [
       "Files Downloaded:   0%|          | 0/1 [00:00<?, ?file/s]"
      ]
     },
     "metadata": {},
     "output_type": "display_data"
    },
    {
     "data": {
      "application/vnd.jupyter.widget-view+json": {
       "model_id": "",
       "version_major": 2,
       "version_minor": 0
      },
      "text/plain": [
       "solo_L1_stix-sci-xray-cpd_20221113T033426-20221113T041157_V01_2211130406-54759.fits:   0%|          | 0.00/412…"
      ]
     },
     "metadata": {},
     "output_type": "display_data"
    },
    {
     "data": {
      "application/vnd.jupyter.widget-view+json": {
       "model_id": "a7f71bd2c3624bdea62b23a72b18572b",
       "version_major": 2,
       "version_minor": 0
      },
      "text/plain": [
       "Files Downloaded:   0%|          | 0/1 [00:00<?, ?file/s]"
      ]
     },
     "metadata": {},
     "output_type": "display_data"
    },
    {
     "data": {
      "application/vnd.jupyter.widget-view+json": {
       "model_id": "1cdc2f8e25fa40ca852c306213386d47",
       "version_major": 2,
       "version_minor": 0
      },
      "text/plain": [
       "Files Downloaded:   0%|          | 0/1 [00:00<?, ?file/s]"
      ]
     },
     "metadata": {},
     "output_type": "display_data"
    },
    {
     "data": {
      "application/vnd.jupyter.widget-view+json": {
       "model_id": "",
       "version_major": 2,
       "version_minor": 0
      },
      "text/plain": [
       "solo_L1_stix-sci-xray-cpd_20221113T041117-20221113T041800_V01_2211138222-50747.fits:   0%|          | 0.00/775…"
      ]
     },
     "metadata": {},
     "output_type": "display_data"
    },
    {
     "data": {
      "application/vnd.jupyter.widget-view+json": {
       "model_id": "c26b613061d54f33a958cfa453ad67bb",
       "version_major": 2,
       "version_minor": 0
      },
      "text/plain": [
       "Files Downloaded:   0%|          | 0/1 [00:00<?, ?file/s]"
      ]
     },
     "metadata": {},
     "output_type": "display_data"
    },
    {
     "data": {
      "application/vnd.jupyter.widget-view+json": {
       "model_id": "1ea557290f7840d3b7fa3451f3262898",
       "version_major": 2,
       "version_minor": 0
      },
      "text/plain": [
       "Files Downloaded:   0%|          | 0/1 [00:00<?, ?file/s]"
      ]
     },
     "metadata": {},
     "output_type": "display_data"
    },
    {
     "data": {
      "application/vnd.jupyter.widget-view+json": {
       "model_id": "",
       "version_major": 2,
       "version_minor": 0
      },
      "text/plain": [
       "solo_L1_stix-sci-xray-cpd_20221113T042746-20221113T043423_V01_2211133272-54760.fits:   0%|          | 0.00/302…"
      ]
     },
     "metadata": {},
     "output_type": "display_data"
    },
    {
     "data": {
      "application/vnd.jupyter.widget-view+json": {
       "model_id": "20d2268ccbd240f3b231c4c664ffad7e",
       "version_major": 2,
       "version_minor": 0
      },
      "text/plain": [
       "Files Downloaded:   0%|          | 0/1 [00:00<?, ?file/s]"
      ]
     },
     "metadata": {},
     "output_type": "display_data"
    },
    {
     "data": {
      "application/vnd.jupyter.widget-view+json": {
       "model_id": "b505b5cf21894f758b995e7775d03790",
       "version_major": 2,
       "version_minor": 0
      },
      "text/plain": [
       "Files Downloaded:   0%|          | 0/1 [00:00<?, ?file/s]"
      ]
     },
     "metadata": {},
     "output_type": "display_data"
    },
    {
     "data": {
      "application/vnd.jupyter.widget-view+json": {
       "model_id": "",
       "version_major": 2,
       "version_minor": 0
      },
      "text/plain": [
       "solo_L1_stix-sci-xray-cpd_20221113T043218-20221113T055406_V01_2211138751-54761.fits:   0%|          | 0.00/706…"
      ]
     },
     "metadata": {},
     "output_type": "display_data"
    },
    {
     "name": "stderr",
     "output_type": "stream",
     "text": [
      "Exception ignored in: <function BaseEventLoop.__del__ at 0x10daccb80>\n",
      "Traceback (most recent call last):\n",
      "  File \"/opt/anaconda3/envs/stix_conda/lib/python3.10/asyncio/base_events.py\", line 682, in __del__\n",
      "    self.close()\n",
      "  File \"/opt/anaconda3/envs/stix_conda/lib/python3.10/asyncio/unix_events.py\", line 71, in close\n",
      "    self.remove_signal_handler(sig)\n",
      "  File \"/opt/anaconda3/envs/stix_conda/lib/python3.10/asyncio/unix_events.py\", line 160, in remove_signal_handler\n",
      "    signal.signal(sig, handler)\n",
      "  File \"/opt/anaconda3/envs/stix_conda/lib/python3.10/signal.py\", line 56, in signal\n",
      "    handler = _signal.signal(_enum_to_int(signalnum), _enum_to_int(handler))\n",
      "ValueError: signal only works in main thread of the main interpreter\n",
      "Exception ignored in: <function BaseEventLoop.__del__ at 0x10daccb80>\n",
      "Traceback (most recent call last):\n",
      "  File \"/opt/anaconda3/envs/stix_conda/lib/python3.10/asyncio/base_events.py\", line 682, in __del__\n",
      "    self.close()\n",
      "  File \"/opt/anaconda3/envs/stix_conda/lib/python3.10/asyncio/unix_events.py\", line 71, in close\n",
      "    self.remove_signal_handler(sig)\n",
      "  File \"/opt/anaconda3/envs/stix_conda/lib/python3.10/asyncio/unix_events.py\", line 160, in remove_signal_handler\n",
      "    signal.signal(sig, handler)\n",
      "  File \"/opt/anaconda3/envs/stix_conda/lib/python3.10/signal.py\", line 56, in signal\n",
      "    handler = _signal.signal(_enum_to_int(signalnum), _enum_to_int(handler))\n",
      "ValueError: signal only works in main thread of the main interpreter\n",
      "Exception ignored in: <function BaseEventLoop.__del__ at 0x10daccb80>\n",
      "Traceback (most recent call last):\n",
      "  File \"/opt/anaconda3/envs/stix_conda/lib/python3.10/asyncio/base_events.py\", line 682, in __del__\n",
      "    self.close()\n",
      "  File \"/opt/anaconda3/envs/stix_conda/lib/python3.10/asyncio/unix_events.py\", line 71, in close\n",
      "    self.remove_signal_handler(sig)\n",
      "  File \"/opt/anaconda3/envs/stix_conda/lib/python3.10/asyncio/unix_events.py\", line 160, in remove_signal_handler\n",
      "    signal.signal(sig, handler)\n",
      "  File \"/opt/anaconda3/envs/stix_conda/lib/python3.10/signal.py\", line 56, in signal\n",
      "    handler = _signal.signal(_enum_to_int(signalnum), _enum_to_int(handler))\n",
      "ValueError: signal only works in main thread of the main interpreter\n"
     ]
    },
    {
     "data": {
      "application/vnd.jupyter.widget-view+json": {
       "model_id": "7be41d78260a46aea8c5e393cc983751",
       "version_major": 2,
       "version_minor": 0
      },
      "text/plain": [
       "Files Downloaded:   0%|          | 0/1 [00:00<?, ?file/s]"
      ]
     },
     "metadata": {},
     "output_type": "display_data"
    },
    {
     "data": {
      "application/vnd.jupyter.widget-view+json": {
       "model_id": "e360093db4fa4bb09f8c480ae9dbbfed",
       "version_major": 2,
       "version_minor": 0
      },
      "text/plain": [
       "Files Downloaded:   0%|          | 0/1 [00:00<?, ?file/s]"
      ]
     },
     "metadata": {},
     "output_type": "display_data"
    },
    {
     "data": {
      "application/vnd.jupyter.widget-view+json": {
       "model_id": "eff46a42830c4b369d12b103b0e61f6d",
       "version_major": 2,
       "version_minor": 0
      },
      "text/plain": [
       "Files Downloaded:   0%|          | 0/1 [00:00<?, ?file/s]"
      ]
     },
     "metadata": {},
     "output_type": "display_data"
    },
    {
     "data": {
      "application/vnd.jupyter.widget-view+json": {
       "model_id": "3646a558082b4f07a2cbb6c3ea6262a9",
       "version_major": 2,
       "version_minor": 0
      },
      "text/plain": [
       "Files Downloaded:   0%|          | 0/1 [00:00<?, ?file/s]"
      ]
     },
     "metadata": {},
     "output_type": "display_data"
    },
    {
     "data": {
      "application/vnd.jupyter.widget-view+json": {
       "model_id": "",
       "version_major": 2,
       "version_minor": 0
      },
      "text/plain": [
       "solo_L1_stix-sci-xray-cpd_20221113T055642-20221113T060445_V01_2211133301-54762.fits:   0%|          | 0.00/639…"
      ]
     },
     "metadata": {},
     "output_type": "display_data"
    },
    {
     "data": {
      "application/vnd.jupyter.widget-view+json": {
       "model_id": "6c787f6d8d51470d82292a0c69b923e8",
       "version_major": 2,
       "version_minor": 0
      },
      "text/plain": [
       "Files Downloaded:   0%|          | 0/1 [00:00<?, ?file/s]"
      ]
     },
     "metadata": {},
     "output_type": "display_data"
    },
    {
     "data": {
      "application/vnd.jupyter.widget-view+json": {
       "model_id": "60fbae7d288b4aada72eedbab34d3f91",
       "version_major": 2,
       "version_minor": 0
      },
      "text/plain": [
       "Files Downloaded:   0%|          | 0/1 [00:00<?, ?file/s]"
      ]
     },
     "metadata": {},
     "output_type": "display_data"
    },
    {
     "data": {
      "application/vnd.jupyter.widget-view+json": {
       "model_id": "",
       "version_major": 2,
       "version_minor": 0
      },
      "text/plain": [
       "solo_L1_stix-sci-xray-cpd_20221113T061348-20221113T062353_V01_2211132304-52143.fits:   0%|          | 0.00/4.4…"
      ]
     },
     "metadata": {},
     "output_type": "display_data"
    },
    {
     "data": {
      "application/vnd.jupyter.widget-view+json": {
       "model_id": "c23bac0441ce40b0a858ee2a899af9fa",
       "version_major": 2,
       "version_minor": 0
      },
      "text/plain": [
       "Files Downloaded:   0%|          | 0/1 [00:00<?, ?file/s]"
      ]
     },
     "metadata": {},
     "output_type": "display_data"
    },
    {
     "data": {
      "application/vnd.jupyter.widget-view+json": {
       "model_id": "9881bee1d467419fb19ec927ae4d9e14",
       "version_major": 2,
       "version_minor": 0
      },
      "text/plain": [
       "Files Downloaded:   0%|          | 0/1 [00:00<?, ?file/s]"
      ]
     },
     "metadata": {},
     "output_type": "display_data"
    },
    {
     "data": {
      "application/vnd.jupyter.widget-view+json": {
       "model_id": "",
       "version_major": 2,
       "version_minor": 0
      },
      "text/plain": [
       "solo_L1_stix-sci-xray-cpd_20221113T062338-20221113T064645_V01_2211131808-54763.fits:   0%|          | 0.00/236…"
      ]
     },
     "metadata": {},
     "output_type": "display_data"
    },
    {
     "data": {
      "application/vnd.jupyter.widget-view+json": {
       "model_id": "2e4783bebae14303b481bdb63f6df6fc",
       "version_major": 2,
       "version_minor": 0
      },
      "text/plain": [
       "Files Downloaded:   0%|          | 0/1 [00:00<?, ?file/s]"
      ]
     },
     "metadata": {},
     "output_type": "display_data"
    },
    {
     "data": {
      "application/vnd.jupyter.widget-view+json": {
       "model_id": "591af07202784590b5969c5c05c2fb06",
       "version_major": 2,
       "version_minor": 0
      },
      "text/plain": [
       "Files Downloaded:   0%|          | 0/1 [00:00<?, ?file/s]"
      ]
     },
     "metadata": {},
     "output_type": "display_data"
    },
    {
     "data": {
      "application/vnd.jupyter.widget-view+json": {
       "model_id": "13f42faaf2444f348a9923edae04a40e",
       "version_major": 2,
       "version_minor": 0
      },
      "text/plain": [
       "Files Downloaded:   0%|          | 0/1 [00:00<?, ?file/s]"
      ]
     },
     "metadata": {},
     "output_type": "display_data"
    },
    {
     "data": {
      "application/vnd.jupyter.widget-view+json": {
       "model_id": "fd89dd2f5a184554b825e9c65767c74a",
       "version_major": 2,
       "version_minor": 0
      },
      "text/plain": [
       "Files Downloaded:   0%|          | 0/1 [00:00<?, ?file/s]"
      ]
     },
     "metadata": {},
     "output_type": "display_data"
    },
    {
     "data": {
      "application/vnd.jupyter.widget-view+json": {
       "model_id": "",
       "version_major": 2,
       "version_minor": 0
      },
      "text/plain": [
       "solo_L1_stix-sci-xray-cpd_20221113T064525-20221113T065617_V01_2211134748-54764.fits:   0%|          | 0.00/271…"
      ]
     },
     "metadata": {},
     "output_type": "display_data"
    },
    {
     "data": {
      "application/vnd.jupyter.widget-view+json": {
       "model_id": "652d10abfa6949bc88e92df42106aaa1",
       "version_major": 2,
       "version_minor": 0
      },
      "text/plain": [
       "Files Downloaded:   0%|          | 0/1 [00:00<?, ?file/s]"
      ]
     },
     "metadata": {},
     "output_type": "display_data"
    },
    {
     "data": {
      "application/vnd.jupyter.widget-view+json": {
       "model_id": "8abd4e0c0ff045b7ae273c630679c2c1",
       "version_major": 2,
       "version_minor": 0
      },
      "text/plain": [
       "Files Downloaded:   0%|          | 0/1 [00:00<?, ?file/s]"
      ]
     },
     "metadata": {},
     "output_type": "display_data"
    },
    {
     "name": "stderr",
     "output_type": "stream",
     "text": [
      "Exception ignored in: <function BaseEventLoop.__del__ at 0x10daccb80>\n",
      "Traceback (most recent call last):\n",
      "  File \"/opt/anaconda3/envs/stix_conda/lib/python3.10/asyncio/base_events.py\", line 682, in __del__\n",
      "    self.close()\n",
      "  File \"/opt/anaconda3/envs/stix_conda/lib/python3.10/asyncio/unix_events.py\", line 71, in close\n",
      "    self.remove_signal_handler(sig)\n",
      "  File \"/opt/anaconda3/envs/stix_conda/lib/python3.10/asyncio/unix_events.py\", line 160, in remove_signal_handler\n",
      "    signal.signal(sig, handler)\n",
      "  File \"/opt/anaconda3/envs/stix_conda/lib/python3.10/signal.py\", line 56, in signal\n",
      "    handler = _signal.signal(_enum_to_int(signalnum), _enum_to_int(handler))\n",
      "ValueError: signal only works in main thread of the main interpreter\n",
      "Exception ignored in: <function BaseEventLoop.__del__ at 0x10daccb80>\n",
      "Traceback (most recent call last):\n",
      "  File \"/opt/anaconda3/envs/stix_conda/lib/python3.10/asyncio/base_events.py\", line 682, in __del__\n",
      "    self.close()\n",
      "  File \"/opt/anaconda3/envs/stix_conda/lib/python3.10/asyncio/unix_events.py\", line 71, in close\n",
      "    self.remove_signal_handler(sig)\n",
      "  File \"/opt/anaconda3/envs/stix_conda/lib/python3.10/asyncio/unix_events.py\", line 160, in remove_signal_handler\n",
      "    signal.signal(sig, handler)\n",
      "  File \"/opt/anaconda3/envs/stix_conda/lib/python3.10/signal.py\", line 56, in signal\n",
      "    handler = _signal.signal(_enum_to_int(signalnum), _enum_to_int(handler))\n",
      "ValueError: signal only works in main thread of the main interpreter\n"
     ]
    },
    {
     "data": {
      "application/vnd.jupyter.widget-view+json": {
       "model_id": "",
       "version_major": 2,
       "version_minor": 0
      },
      "text/plain": [
       "solo_L1_stix-sci-xray-cpd_20221113T071811-20221113T074019_V01_2211138416-54766.fits:   0%|          | 0.00/69.…"
      ]
     },
     "metadata": {},
     "output_type": "display_data"
    },
    {
     "data": {
      "application/vnd.jupyter.widget-view+json": {
       "model_id": "019ade6314e24c4e96a80b11f942c18d",
       "version_major": 2,
       "version_minor": 0
      },
      "text/plain": [
       "Files Downloaded:   0%|          | 0/1 [00:00<?, ?file/s]"
      ]
     },
     "metadata": {},
     "output_type": "display_data"
    },
    {
     "data": {
      "application/vnd.jupyter.widget-view+json": {
       "model_id": "0bcb728ccc1e4c608152314a5109b783",
       "version_major": 2,
       "version_minor": 0
      },
      "text/plain": [
       "Files Downloaded:   0%|          | 0/1 [00:00<?, ?file/s]"
      ]
     },
     "metadata": {},
     "output_type": "display_data"
    },
    {
     "data": {
      "application/vnd.jupyter.widget-view+json": {
       "model_id": "",
       "version_major": 2,
       "version_minor": 0
      },
      "text/plain": [
       "solo_L1_stix-sci-xray-cpd_20221113T074316-20221113T080552_V01_2211137431-54767.fits:   0%|          | 0.00/708…"
      ]
     },
     "metadata": {},
     "output_type": "display_data"
    },
    {
     "data": {
      "application/vnd.jupyter.widget-view+json": {
       "model_id": "d3adaaaea1a84c68a2ee8259ad99d773",
       "version_major": 2,
       "version_minor": 0
      },
      "text/plain": [
       "Files Downloaded:   0%|          | 0/1 [00:00<?, ?file/s]"
      ]
     },
     "metadata": {},
     "output_type": "display_data"
    },
    {
     "data": {
      "application/vnd.jupyter.widget-view+json": {
       "model_id": "c6b649a2015f40c99af0e93eb8a80812",
       "version_major": 2,
       "version_minor": 0
      },
      "text/plain": [
       "Files Downloaded:   0%|          | 0/1 [00:00<?, ?file/s]"
      ]
     },
     "metadata": {},
     "output_type": "display_data"
    },
    {
     "data": {
      "application/vnd.jupyter.widget-view+json": {
       "model_id": "",
       "version_major": 2,
       "version_minor": 0
      },
      "text/plain": [
       "solo_L1_stix-sci-xray-cpd_20221113T091031-20221113T094213_V01_2211138455-54769.fits:   0%|          | 0.00/302…"
      ]
     },
     "metadata": {},
     "output_type": "display_data"
    },
    {
     "data": {
      "application/vnd.jupyter.widget-view+json": {
       "model_id": "bf33ec8555bf4987ab4cece5ad35e09c",
       "version_major": 2,
       "version_minor": 0
      },
      "text/plain": [
       "Files Downloaded:   0%|          | 0/1 [00:00<?, ?file/s]"
      ]
     },
     "metadata": {},
     "output_type": "display_data"
    },
    {
     "data": {
      "application/vnd.jupyter.widget-view+json": {
       "model_id": "eee13393364a4801983cceae43f9ad37",
       "version_major": 2,
       "version_minor": 0
      },
      "text/plain": [
       "Files Downloaded:   0%|          | 0/1 [00:00<?, ?file/s]"
      ]
     },
     "metadata": {},
     "output_type": "display_data"
    },
    {
     "data": {
      "application/vnd.jupyter.widget-view+json": {
       "model_id": "",
       "version_major": 2,
       "version_minor": 0
      },
      "text/plain": [
       "solo_L1_stix-sci-xray-cpd_20221113T111046-20221113T111512_V01_2211137120-54770.fits:   0%|          | 0.00/444…"
      ]
     },
     "metadata": {},
     "output_type": "display_data"
    },
    {
     "data": {
      "application/vnd.jupyter.widget-view+json": {
       "model_id": "daa0300f9a384b499404e20a2f1bc9e7",
       "version_major": 2,
       "version_minor": 0
      },
      "text/plain": [
       "Files Downloaded:   0%|          | 0/1 [00:00<?, ?file/s]"
      ]
     },
     "metadata": {},
     "output_type": "display_data"
    },
    {
     "data": {
      "application/vnd.jupyter.widget-view+json": {
       "model_id": "d416917a2c454b0f8fa49ce4a1a7e1bf",
       "version_major": 2,
       "version_minor": 0
      },
      "text/plain": [
       "Files Downloaded:   0%|          | 0/1 [00:00<?, ?file/s]"
      ]
     },
     "metadata": {},
     "output_type": "display_data"
    },
    {
     "data": {
      "application/vnd.jupyter.widget-view+json": {
       "model_id": "",
       "version_major": 2,
       "version_minor": 0
      },
      "text/plain": [
       "solo_L1_stix-sci-xray-cpd_20221113T122118-20221113T123447_V01_2211132241-54773.fits:   0%|          | 0.00/251…"
      ]
     },
     "metadata": {},
     "output_type": "display_data"
    },
    {
     "data": {
      "application/vnd.jupyter.widget-view+json": {
       "model_id": "aeb22e839643478fae9b2a51c67cd453",
       "version_major": 2,
       "version_minor": 0
      },
      "text/plain": [
       "Files Downloaded:   0%|          | 0/1 [00:00<?, ?file/s]"
      ]
     },
     "metadata": {},
     "output_type": "display_data"
    },
    {
     "data": {
      "application/vnd.jupyter.widget-view+json": {
       "model_id": "41f71b9e6447415a93c5636370f1cc7d",
       "version_major": 2,
       "version_minor": 0
      },
      "text/plain": [
       "Files Downloaded:   0%|          | 0/1 [00:00<?, ?file/s]"
      ]
     },
     "metadata": {},
     "output_type": "display_data"
    },
    {
     "data": {
      "application/vnd.jupyter.widget-view+json": {
       "model_id": "",
       "version_major": 2,
       "version_minor": 0
      },
      "text/plain": [
       "solo_L1_stix-sci-xray-cpd_20221113T124907-20221113T130715_V01_2211138362-54774.fits:   0%|          | 0.00/1.2…"
      ]
     },
     "metadata": {},
     "output_type": "display_data"
    },
    {
     "name": "stderr",
     "output_type": "stream",
     "text": [
      "Exception ignored in: <function BaseEventLoop.__del__ at 0x10daccb80>\n",
      "Traceback (most recent call last):\n",
      "  File \"/opt/anaconda3/envs/stix_conda/lib/python3.10/asyncio/base_events.py\", line 682, in __del__\n",
      "    self.close()\n",
      "  File \"/opt/anaconda3/envs/stix_conda/lib/python3.10/asyncio/unix_events.py\", line 71, in close\n",
      "    self.remove_signal_handler(sig)\n",
      "  File \"/opt/anaconda3/envs/stix_conda/lib/python3.10/asyncio/unix_events.py\", line 160, in remove_signal_handler\n",
      "    signal.signal(sig, handler)\n",
      "  File \"/opt/anaconda3/envs/stix_conda/lib/python3.10/signal.py\", line 56, in signal\n",
      "    handler = _signal.signal(_enum_to_int(signalnum), _enum_to_int(handler))\n",
      "ValueError: signal only works in main thread of the main interpreter\n",
      "Exception ignored in: <function BaseEventLoop.__del__ at 0x10daccb80>\n",
      "Traceback (most recent call last):\n",
      "  File \"/opt/anaconda3/envs/stix_conda/lib/python3.10/asyncio/base_events.py\", line 682, in __del__\n",
      "    self.close()\n",
      "  File \"/opt/anaconda3/envs/stix_conda/lib/python3.10/asyncio/unix_events.py\", line 71, in close\n",
      "    self.remove_signal_handler(sig)\n",
      "  File \"/opt/anaconda3/envs/stix_conda/lib/python3.10/asyncio/unix_events.py\", line 160, in remove_signal_handler\n",
      "    signal.signal(sig, handler)\n",
      "  File \"/opt/anaconda3/envs/stix_conda/lib/python3.10/signal.py\", line 56, in signal\n",
      "    handler = _signal.signal(_enum_to_int(signalnum), _enum_to_int(handler))\n",
      "ValueError: signal only works in main thread of the main interpreter\n",
      "Exception ignored in: <function BaseEventLoop.__del__ at 0x10daccb80>\n",
      "Traceback (most recent call last):\n",
      "  File \"/opt/anaconda3/envs/stix_conda/lib/python3.10/asyncio/base_events.py\", line 682, in __del__\n",
      "    self.close()\n",
      "  File \"/opt/anaconda3/envs/stix_conda/lib/python3.10/asyncio/unix_events.py\", line 71, in close\n",
      "    self.remove_signal_handler(sig)\n",
      "  File \"/opt/anaconda3/envs/stix_conda/lib/python3.10/asyncio/unix_events.py\", line 160, in remove_signal_handler\n",
      "    signal.signal(sig, handler)\n",
      "  File \"/opt/anaconda3/envs/stix_conda/lib/python3.10/signal.py\", line 56, in signal\n",
      "    handler = _signal.signal(_enum_to_int(signalnum), _enum_to_int(handler))\n",
      "ValueError: signal only works in main thread of the main interpreter\n"
     ]
    },
    {
     "data": {
      "application/vnd.jupyter.widget-view+json": {
       "model_id": "bff4c80678d2435280af934b4f100da6",
       "version_major": 2,
       "version_minor": 0
      },
      "text/plain": [
       "Files Downloaded:   0%|          | 0/1 [00:00<?, ?file/s]"
      ]
     },
     "metadata": {},
     "output_type": "display_data"
    },
    {
     "data": {
      "application/vnd.jupyter.widget-view+json": {
       "model_id": "b2062661973243e7afa5a1968c9c2fc0",
       "version_major": 2,
       "version_minor": 0
      },
      "text/plain": [
       "Files Downloaded:   0%|          | 0/1 [00:00<?, ?file/s]"
      ]
     },
     "metadata": {},
     "output_type": "display_data"
    },
    {
     "data": {
      "application/vnd.jupyter.widget-view+json": {
       "model_id": "",
       "version_major": 2,
       "version_minor": 0
      },
      "text/plain": [
       "solo_L1_stix-sci-xray-cpd_20221113T141640-20221113T142523_V01_2211133776-55145.fits:   0%|          | 0.00/553…"
      ]
     },
     "metadata": {},
     "output_type": "display_data"
    },
    {
     "data": {
      "application/vnd.jupyter.widget-view+json": {
       "model_id": "13eac63800214f219a5d6c3be754166b",
       "version_major": 2,
       "version_minor": 0
      },
      "text/plain": [
       "Files Downloaded:   0%|          | 0/1 [00:00<?, ?file/s]"
      ]
     },
     "metadata": {},
     "output_type": "display_data"
    },
    {
     "data": {
      "application/vnd.jupyter.widget-view+json": {
       "model_id": "7660d5ba043c4edf8d33fbda84f95832",
       "version_major": 2,
       "version_minor": 0
      },
      "text/plain": [
       "Files Downloaded:   0%|          | 0/1 [00:00<?, ?file/s]"
      ]
     },
     "metadata": {},
     "output_type": "display_data"
    },
    {
     "data": {
      "application/vnd.jupyter.widget-view+json": {
       "model_id": "",
       "version_major": 2,
       "version_minor": 0
      },
      "text/plain": [
       "solo_L1_stix-sci-xray-cpd_20221113T154626-20221113T163159_V01_2211139008-54778.fits:   0%|          | 0.00/994…"
      ]
     },
     "metadata": {},
     "output_type": "display_data"
    },
    {
     "data": {
      "application/vnd.jupyter.widget-view+json": {
       "model_id": "b48a242ccf4644388c4f4398cf58b2c9",
       "version_major": 2,
       "version_minor": 0
      },
      "text/plain": [
       "Files Downloaded:   0%|          | 0/1 [00:00<?, ?file/s]"
      ]
     },
     "metadata": {},
     "output_type": "display_data"
    },
    {
     "data": {
      "application/vnd.jupyter.widget-view+json": {
       "model_id": "fbbe50f0e57146dbbc01361991bbe7d9",
       "version_major": 2,
       "version_minor": 0
      },
      "text/plain": [
       "Files Downloaded:   0%|          | 0/1 [00:00<?, ?file/s]"
      ]
     },
     "metadata": {},
     "output_type": "display_data"
    },
    {
     "data": {
      "application/vnd.jupyter.widget-view+json": {
       "model_id": "",
       "version_major": 2,
       "version_minor": 0
      },
      "text/plain": [
       "solo_L1_stix-sci-xray-cpd_20221113T164813-20221113T165417_V01_2211137589-50786.fits:   0%|          | 0.00/1.1…"
      ]
     },
     "metadata": {},
     "output_type": "display_data"
    },
    {
     "data": {
      "application/vnd.jupyter.widget-view+json": {
       "model_id": "a133376ed9024f14a56503989e6e0e44",
       "version_major": 2,
       "version_minor": 0
      },
      "text/plain": [
       "Files Downloaded:   0%|          | 0/1 [00:00<?, ?file/s]"
      ]
     },
     "metadata": {},
     "output_type": "display_data"
    },
    {
     "data": {
      "application/vnd.jupyter.widget-view+json": {
       "model_id": "cf6b069dfade492f96c961aba07293af",
       "version_major": 2,
       "version_minor": 0
      },
      "text/plain": [
       "Files Downloaded:   0%|          | 0/1 [00:00<?, ?file/s]"
      ]
     },
     "metadata": {},
     "output_type": "display_data"
    },
    {
     "data": {
      "application/vnd.jupyter.widget-view+json": {
       "model_id": "",
       "version_major": 2,
       "version_minor": 0
      },
      "text/plain": [
       "solo_L1_stix-sci-xray-cpd_20221113T170653-20221113T171555_V01_2211136274-54779.fits:   0%|          | 0.00/202…"
      ]
     },
     "metadata": {},
     "output_type": "display_data"
    },
    {
     "data": {
      "application/vnd.jupyter.widget-view+json": {
       "model_id": "67480c237bf2428a804014940987bcfa",
       "version_major": 2,
       "version_minor": 0
      },
      "text/plain": [
       "Files Downloaded:   0%|          | 0/1 [00:00<?, ?file/s]"
      ]
     },
     "metadata": {},
     "output_type": "display_data"
    },
    {
     "data": {
      "application/vnd.jupyter.widget-view+json": {
       "model_id": "9f0dc2585e43456f9ba34025384217f5",
       "version_major": 2,
       "version_minor": 0
      },
      "text/plain": [
       "Files Downloaded:   0%|          | 0/1 [00:00<?, ?file/s]"
      ]
     },
     "metadata": {},
     "output_type": "display_data"
    },
    {
     "data": {
      "application/vnd.jupyter.widget-view+json": {
       "model_id": "",
       "version_major": 2,
       "version_minor": 0
      },
      "text/plain": [
       "solo_L1_stix-sci-xray-cpd_20221113T172215-20221113T174320_V01_2211132897-54780.fits:   0%|          | 0.00/386…"
      ]
     },
     "metadata": {},
     "output_type": "display_data"
    },
    {
     "data": {
      "application/vnd.jupyter.widget-view+json": {
       "model_id": "8e0b42daed6b4db9b7804b3dc05a93a9",
       "version_major": 2,
       "version_minor": 0
      },
      "text/plain": [
       "Files Downloaded:   0%|          | 0/1 [00:00<?, ?file/s]"
      ]
     },
     "metadata": {},
     "output_type": "display_data"
    },
    {
     "data": {
      "application/vnd.jupyter.widget-view+json": {
       "model_id": "3e9fe4d8f22b4008801c901da9cbf7ed",
       "version_major": 2,
       "version_minor": 0
      },
      "text/plain": [
       "Files Downloaded:   0%|          | 0/1 [00:00<?, ?file/s]"
      ]
     },
     "metadata": {},
     "output_type": "display_data"
    },
    {
     "data": {
      "application/vnd.jupyter.widget-view+json": {
       "model_id": "",
       "version_major": 2,
       "version_minor": 0
      },
      "text/plain": [
       "solo_L1_stix-sci-xray-cpd_20221113T174722-20221113T181541_V01_2211131374-54781.fits:   0%|          | 0.00/487…"
      ]
     },
     "metadata": {},
     "output_type": "display_data"
    },
    {
     "data": {
      "application/vnd.jupyter.widget-view+json": {
       "model_id": "bd07ec2c582a4b2dbe76f3d1ebb4607a",
       "version_major": 2,
       "version_minor": 0
      },
      "text/plain": [
       "Files Downloaded:   0%|          | 0/1 [00:00<?, ?file/s]"
      ]
     },
     "metadata": {},
     "output_type": "display_data"
    },
    {
     "data": {
      "application/vnd.jupyter.widget-view+json": {
       "model_id": "3276a70a0325482d897b7033fccc982a",
       "version_major": 2,
       "version_minor": 0
      },
      "text/plain": [
       "Files Downloaded:   0%|          | 0/1 [00:00<?, ?file/s]"
      ]
     },
     "metadata": {},
     "output_type": "display_data"
    },
    {
     "data": {
      "application/vnd.jupyter.widget-view+json": {
       "model_id": "1f2e2195b6844afb9715fc67fbb07bc5",
       "version_major": 2,
       "version_minor": 0
      },
      "text/plain": [
       "Files Downloaded:   0%|          | 0/1 [00:00<?, ?file/s]"
      ]
     },
     "metadata": {},
     "output_type": "display_data"
    },
    {
     "data": {
      "application/vnd.jupyter.widget-view+json": {
       "model_id": "90f78b8244c74628b83fcf706ef5b798",
       "version_major": 2,
       "version_minor": 0
      },
      "text/plain": [
       "Files Downloaded:   0%|          | 0/1 [00:00<?, ?file/s]"
      ]
     },
     "metadata": {},
     "output_type": "display_data"
    },
    {
     "data": {
      "application/vnd.jupyter.widget-view+json": {
       "model_id": "",
       "version_major": 2,
       "version_minor": 0
      },
      "text/plain": [
       "solo_L1_stix-sci-xray-cpd_20221113T193017-20221113T223329_V01_2211139227-56324.fits:   0%|          | 0.00/4.4…"
      ]
     },
     "metadata": {},
     "output_type": "display_data"
    },
    {
     "data": {
      "application/vnd.jupyter.widget-view+json": {
       "model_id": "fce152659b774570995ba1dbfe51304d",
       "version_major": 2,
       "version_minor": 0
      },
      "text/plain": [
       "Files Downloaded:   0%|          | 0/1 [00:00<?, ?file/s]"
      ]
     },
     "metadata": {},
     "output_type": "display_data"
    },
    {
     "data": {
      "application/vnd.jupyter.widget-view+json": {
       "model_id": "71a22b3eae044dbebf797466370eb609",
       "version_major": 2,
       "version_minor": 0
      },
      "text/plain": [
       "Files Downloaded:   0%|          | 0/1 [00:00<?, ?file/s]"
      ]
     },
     "metadata": {},
     "output_type": "display_data"
    },
    {
     "data": {
      "application/vnd.jupyter.widget-view+json": {
       "model_id": "d16fcf1f48264a8f9978c20438d409cd",
       "version_major": 2,
       "version_minor": 0
      },
      "text/plain": [
       "Files Downloaded:   0%|          | 0/1 [00:00<?, ?file/s]"
      ]
     },
     "metadata": {},
     "output_type": "display_data"
    },
    {
     "data": {
      "application/vnd.jupyter.widget-view+json": {
       "model_id": "30508b30e53343f79318d0ea0402bc52",
       "version_major": 2,
       "version_minor": 0
      },
      "text/plain": [
       "Files Downloaded:   0%|          | 0/1 [00:00<?, ?file/s]"
      ]
     },
     "metadata": {},
     "output_type": "display_data"
    },
    {
     "data": {
      "application/vnd.jupyter.widget-view+json": {
       "model_id": "9df06c51dc604fbba68da0398110c2c1",
       "version_major": 2,
       "version_minor": 0
      },
      "text/plain": [
       "Files Downloaded:   0%|          | 0/1 [00:00<?, ?file/s]"
      ]
     },
     "metadata": {},
     "output_type": "display_data"
    },
    {
     "data": {
      "application/vnd.jupyter.widget-view+json": {
       "model_id": "6d8f31d9ff864f8795e6741210d02c64",
       "version_major": 2,
       "version_minor": 0
      },
      "text/plain": [
       "Files Downloaded:   0%|          | 0/1 [00:00<?, ?file/s]"
      ]
     },
     "metadata": {},
     "output_type": "display_data"
    },
    {
     "data": {
      "application/vnd.jupyter.widget-view+json": {
       "model_id": "379a03ffea474cf1bc3977bdd34533a4",
       "version_major": 2,
       "version_minor": 0
      },
      "text/plain": [
       "Files Downloaded:   0%|          | 0/1 [00:00<?, ?file/s]"
      ]
     },
     "metadata": {},
     "output_type": "display_data"
    },
    {
     "data": {
      "application/vnd.jupyter.widget-view+json": {
       "model_id": "795bac63545d4bf8aab3b4ca8043cbc1",
       "version_major": 2,
       "version_minor": 0
      },
      "text/plain": [
       "Files Downloaded:   0%|          | 0/1 [00:00<?, ?file/s]"
      ]
     },
     "metadata": {},
     "output_type": "display_data"
    },
    {
     "data": {
      "application/vnd.jupyter.widget-view+json": {
       "model_id": "5e382f20e6a44515bbcce91c3e37e531",
       "version_major": 2,
       "version_minor": 0
      },
      "text/plain": [
       "Files Downloaded:   0%|          | 0/1 [00:00<?, ?file/s]"
      ]
     },
     "metadata": {},
     "output_type": "display_data"
    },
    {
     "data": {
      "application/vnd.jupyter.widget-view+json": {
       "model_id": "1ed271e2cd50411a93806d7f508ae029",
       "version_major": 2,
       "version_minor": 0
      },
      "text/plain": [
       "Files Downloaded:   0%|          | 0/1 [00:00<?, ?file/s]"
      ]
     },
     "metadata": {},
     "output_type": "display_data"
    },
    {
     "data": {
      "application/vnd.jupyter.widget-view+json": {
       "model_id": "",
       "version_major": 2,
       "version_minor": 0
      },
      "text/plain": [
       "solo_L1_stix-sci-xray-cpd_20221113T223816-20221113T225554_V01_2211136551-54789.fits:   0%|          | 0.00/337…"
      ]
     },
     "metadata": {},
     "output_type": "display_data"
    },
    {
     "data": {
      "application/vnd.jupyter.widget-view+json": {
       "model_id": "47e1d5103de3487199a877f53035d81f",
       "version_major": 2,
       "version_minor": 0
      },
      "text/plain": [
       "Files Downloaded:   0%|          | 0/1 [00:00<?, ?file/s]"
      ]
     },
     "metadata": {},
     "output_type": "display_data"
    },
    {
     "data": {
      "application/vnd.jupyter.widget-view+json": {
       "model_id": "0c4409d0b00e4172b8d4c438212666eb",
       "version_major": 2,
       "version_minor": 0
      },
      "text/plain": [
       "Files Downloaded:   0%|          | 0/1 [00:00<?, ?file/s]"
      ]
     },
     "metadata": {},
     "output_type": "display_data"
    },
    {
     "data": {
      "application/vnd.jupyter.widget-view+json": {
       "model_id": "",
       "version_major": 2,
       "version_minor": 0
      },
      "text/plain": [
       "solo_L1_stix-sci-xray-cpd_20221113T230113-20221113T230618_V01_2211134639-54790.fits:   0%|          | 0.00/66.…"
      ]
     },
     "metadata": {},
     "output_type": "display_data"
    },
    {
     "name": "stderr",
     "output_type": "stream",
     "text": [
      "Exception ignored in: <function BaseEventLoop.__del__ at 0x10daccb80>\n",
      "Traceback (most recent call last):\n",
      "  File \"/opt/anaconda3/envs/stix_conda/lib/python3.10/asyncio/base_events.py\", line 682, in __del__\n",
      "    self.close()\n",
      "  File \"/opt/anaconda3/envs/stix_conda/lib/python3.10/asyncio/unix_events.py\", line 71, in close\n",
      "    self.remove_signal_handler(sig)\n",
      "  File \"/opt/anaconda3/envs/stix_conda/lib/python3.10/asyncio/unix_events.py\", line 160, in remove_signal_handler\n",
      "    signal.signal(sig, handler)\n",
      "  File \"/opt/anaconda3/envs/stix_conda/lib/python3.10/signal.py\", line 56, in signal\n",
      "    handler = _signal.signal(_enum_to_int(signalnum), _enum_to_int(handler))\n",
      "ValueError: signal only works in main thread of the main interpreter\n",
      "Exception ignored in: <function BaseEventLoop.__del__ at 0x10daccb80>\n",
      "Traceback (most recent call last):\n",
      "  File \"/opt/anaconda3/envs/stix_conda/lib/python3.10/asyncio/base_events.py\", line 682, in __del__\n",
      "    self.close()\n",
      "  File \"/opt/anaconda3/envs/stix_conda/lib/python3.10/asyncio/unix_events.py\", line 71, in close\n",
      "    self.remove_signal_handler(sig)\n",
      "  File \"/opt/anaconda3/envs/stix_conda/lib/python3.10/asyncio/unix_events.py\", line 160, in remove_signal_handler\n",
      "    signal.signal(sig, handler)\n",
      "  File \"/opt/anaconda3/envs/stix_conda/lib/python3.10/signal.py\", line 56, in signal\n",
      "    handler = _signal.signal(_enum_to_int(signalnum), _enum_to_int(handler))\n",
      "ValueError: signal only works in main thread of the main interpreter\n",
      "Exception ignored in: <function BaseEventLoop.__del__ at 0x10daccb80>\n",
      "Traceback (most recent call last):\n",
      "  File \"/opt/anaconda3/envs/stix_conda/lib/python3.10/asyncio/base_events.py\", line 682, in __del__\n",
      "    self.close()\n",
      "  File \"/opt/anaconda3/envs/stix_conda/lib/python3.10/asyncio/unix_events.py\", line 71, in close\n",
      "    self.remove_signal_handler(sig)\n",
      "  File \"/opt/anaconda3/envs/stix_conda/lib/python3.10/asyncio/unix_events.py\", line 160, in remove_signal_handler\n",
      "    signal.signal(sig, handler)\n",
      "  File \"/opt/anaconda3/envs/stix_conda/lib/python3.10/signal.py\", line 56, in signal\n",
      "    handler = _signal.signal(_enum_to_int(signalnum), _enum_to_int(handler))\n",
      "ValueError: signal only works in main thread of the main interpreter\n"
     ]
    },
    {
     "data": {
      "application/vnd.jupyter.widget-view+json": {
       "model_id": "c6d9f076006a4e1fb6a10a190a412dbc",
       "version_major": 2,
       "version_minor": 0
      },
      "text/plain": [
       "Files Downloaded:   0%|          | 0/1 [00:00<?, ?file/s]"
      ]
     },
     "metadata": {},
     "output_type": "display_data"
    },
    {
     "data": {
      "application/vnd.jupyter.widget-view+json": {
       "model_id": "bbad1d25c5fa436b9af6408fad3d470b",
       "version_major": 2,
       "version_minor": 0
      },
      "text/plain": [
       "Files Downloaded:   0%|          | 0/1 [00:00<?, ?file/s]"
      ]
     },
     "metadata": {},
     "output_type": "display_data"
    },
    {
     "data": {
      "application/vnd.jupyter.widget-view+json": {
       "model_id": "",
       "version_major": 2,
       "version_minor": 0
      },
      "text/plain": [
       "solo_L1_stix-sci-xray-cpd_20221113T231345-20221113T231934_V01_2211134872-54791.fits:   0%|          | 0.00/487…"
      ]
     },
     "metadata": {},
     "output_type": "display_data"
    },
    {
     "data": {
      "application/vnd.jupyter.widget-view+json": {
       "model_id": "0c640f31578f4587843a6078e6e81aca",
       "version_major": 2,
       "version_minor": 0
      },
      "text/plain": [
       "Files Downloaded:   0%|          | 0/1 [00:00<?, ?file/s]"
      ]
     },
     "metadata": {},
     "output_type": "display_data"
    },
    {
     "data": {
      "application/vnd.jupyter.widget-view+json": {
       "model_id": "ca1cfe0983b047a4892371f8bde73a2a",
       "version_major": 2,
       "version_minor": 0
      },
      "text/plain": [
       "Files Downloaded:   0%|          | 0/1 [00:00<?, ?file/s]"
      ]
     },
     "metadata": {},
     "output_type": "display_data"
    },
    {
     "data": {
      "application/vnd.jupyter.widget-view+json": {
       "model_id": "",
       "version_major": 2,
       "version_minor": 0
      },
      "text/plain": [
       "solo_L1_stix-sci-xray-cpd_20221113T232020-20221113T232352_V01_2211131187-54792.fits:   0%|          | 0.00/66.…"
      ]
     },
     "metadata": {},
     "output_type": "display_data"
    },
    {
     "data": {
      "application/vnd.jupyter.widget-view+json": {
       "model_id": "652e704f35d14b0c9feec618b8a8730e",
       "version_major": 2,
       "version_minor": 0
      },
      "text/plain": [
       "Files Downloaded:   0%|          | 0/1 [00:00<?, ?file/s]"
      ]
     },
     "metadata": {},
     "output_type": "display_data"
    },
    {
     "data": {
      "application/vnd.jupyter.widget-view+json": {
       "model_id": "7d3a4754e20c43639ce01bcb2389e335",
       "version_major": 2,
       "version_minor": 0
      },
      "text/plain": [
       "Files Downloaded:   0%|          | 0/1 [00:00<?, ?file/s]"
      ]
     },
     "metadata": {},
     "output_type": "display_data"
    },
    {
     "data": {
      "application/vnd.jupyter.widget-view+json": {
       "model_id": "",
       "version_major": 2,
       "version_minor": 0
      },
      "text/plain": [
       "solo_L1_stix-sci-xray-cpd_20221113T232519-20221113T232944_V01_2211135705-54793.fits:   0%|          | 0.00/69.…"
      ]
     },
     "metadata": {},
     "output_type": "display_data"
    },
    {
     "data": {
      "application/vnd.jupyter.widget-view+json": {
       "model_id": "9e4c1e9808354b6bb5972fb474f3c11a",
       "version_major": 2,
       "version_minor": 0
      },
      "text/plain": [
       "Files Downloaded:   0%|          | 0/1 [00:00<?, ?file/s]"
      ]
     },
     "metadata": {},
     "output_type": "display_data"
    },
    {
     "data": {
      "application/vnd.jupyter.widget-view+json": {
       "model_id": "94889f3f30af4215bd4f3800fee6f24c",
       "version_major": 2,
       "version_minor": 0
      },
      "text/plain": [
       "Files Downloaded:   0%|          | 0/1 [00:00<?, ?file/s]"
      ]
     },
     "metadata": {},
     "output_type": "display_data"
    },
    {
     "data": {
      "application/vnd.jupyter.widget-view+json": {
       "model_id": "",
       "version_major": 2,
       "version_minor": 0
      },
      "text/plain": [
       "solo_L1_stix-sci-xray-cpd_20221113T233505-20221113T233747_V01_2211133513-54794.fits:   0%|          | 0.00/66.…"
      ]
     },
     "metadata": {},
     "output_type": "display_data"
    },
    {
     "data": {
      "application/vnd.jupyter.widget-view+json": {
       "model_id": "cadf6a62bf3c44c589831f7c57e2269c",
       "version_major": 2,
       "version_minor": 0
      },
      "text/plain": [
       "Files Downloaded:   0%|          | 0/1 [00:00<?, ?file/s]"
      ]
     },
     "metadata": {},
     "output_type": "display_data"
    },
    {
     "data": {
      "application/vnd.jupyter.widget-view+json": {
       "model_id": "aa6bbf209cda4bd5b298332919f1675b",
       "version_major": 2,
       "version_minor": 0
      },
      "text/plain": [
       "Files Downloaded:   0%|          | 0/1 [00:00<?, ?file/s]"
      ]
     },
     "metadata": {},
     "output_type": "display_data"
    },
    {
     "data": {
      "application/vnd.jupyter.widget-view+json": {
       "model_id": "",
       "version_major": 2,
       "version_minor": 0
      },
      "text/plain": [
       "solo_L1_stix-sci-xray-cpd_20221113T233747-20221114T001011_V01_2211131162-54795.fits:   0%|          | 0.00/890…"
      ]
     },
     "metadata": {},
     "output_type": "display_data"
    },
    {
     "data": {
      "application/vnd.jupyter.widget-view+json": {
       "model_id": "151e48911eea434c880adf73da19937f",
       "version_major": 2,
       "version_minor": 0
      },
      "text/plain": [
       "Files Downloaded:   0%|          | 0/2 [00:00<?, ?file/s]"
      ]
     },
     "metadata": {},
     "output_type": "display_data"
    },
    {
     "data": {
      "application/vnd.jupyter.widget-view+json": {
       "model_id": "",
       "version_major": 2,
       "version_minor": 0
      },
      "text/plain": [
       "solo_L2_stix-aux-ephemeris_20221114_V01.fits:   0%|          | 0.00/397k [00:00<?, ?B/s]"
      ]
     },
     "metadata": {},
     "output_type": "display_data"
    },
    {
     "data": {
      "application/vnd.jupyter.widget-view+json": {
       "model_id": "ff0ed1dc2a6b43c2aafe26f4a070236f",
       "version_major": 2,
       "version_minor": 0
      },
      "text/plain": [
       "Files Downloaded:   0%|          | 0/1 [00:00<?, ?file/s]"
      ]
     },
     "metadata": {},
     "output_type": "display_data"
    },
    {
     "data": {
      "application/vnd.jupyter.widget-view+json": {
       "model_id": "",
       "version_major": 2,
       "version_minor": 0
      },
      "text/plain": [
       "solo_L1_stix-sci-xray-cpd_20221114T003055-20221114T010844_V01_2211142740-54798.fits:   0%|          | 0.00/1.0…"
      ]
     },
     "metadata": {},
     "output_type": "display_data"
    },
    {
     "data": {
      "application/vnd.jupyter.widget-view+json": {
       "model_id": "a786e67e0d4f47ecbfc151b1c1add771",
       "version_major": 2,
       "version_minor": 0
      },
      "text/plain": [
       "Files Downloaded:   0%|          | 0/1 [00:00<?, ?file/s]"
      ]
     },
     "metadata": {},
     "output_type": "display_data"
    },
    {
     "data": {
      "application/vnd.jupyter.widget-view+json": {
       "model_id": "5895c41cc2f24b008640c91461c550ba",
       "version_major": 2,
       "version_minor": 0
      },
      "text/plain": [
       "Files Downloaded:   0%|          | 0/1 [00:00<?, ?file/s]"
      ]
     },
     "metadata": {},
     "output_type": "display_data"
    },
    {
     "data": {
      "application/vnd.jupyter.widget-view+json": {
       "model_id": "",
       "version_major": 2,
       "version_minor": 0
      },
      "text/plain": [
       "solo_L1_stix-sci-xray-cpd_20221114T011144-20221114T012921_V01_2211141346-54799.fits:   0%|          | 0.00/524…"
      ]
     },
     "metadata": {},
     "output_type": "display_data"
    },
    {
     "data": {
      "application/vnd.jupyter.widget-view+json": {
       "model_id": "a55e221bbb44468492c996a09a8eaa4e",
       "version_major": 2,
       "version_minor": 0
      },
      "text/plain": [
       "Files Downloaded:   0%|          | 0/1 [00:00<?, ?file/s]"
      ]
     },
     "metadata": {},
     "output_type": "display_data"
    },
    {
     "data": {
      "application/vnd.jupyter.widget-view+json": {
       "model_id": "e70d4a4780f04b5abb37fc9290f44bec",
       "version_major": 2,
       "version_minor": 0
      },
      "text/plain": [
       "Files Downloaded:   0%|          | 0/1 [00:00<?, ?file/s]"
      ]
     },
     "metadata": {},
     "output_type": "display_data"
    },
    {
     "data": {
      "application/vnd.jupyter.widget-view+json": {
       "model_id": "",
       "version_major": 2,
       "version_minor": 0
      },
      "text/plain": [
       "solo_L1_stix-sci-xray-cpd_20221114T015250-20221114T015626_V01_2211149386-54800.fits:   0%|          | 0.00/66.…"
      ]
     },
     "metadata": {},
     "output_type": "display_data"
    },
    {
     "data": {
      "application/vnd.jupyter.widget-view+json": {
       "model_id": "e3bbaf2ba7b74517b45a2aa9cd61f133",
       "version_major": 2,
       "version_minor": 0
      },
      "text/plain": [
       "Files Downloaded:   0%|          | 0/1 [00:00<?, ?file/s]"
      ]
     },
     "metadata": {},
     "output_type": "display_data"
    },
    {
     "data": {
      "application/vnd.jupyter.widget-view+json": {
       "model_id": "66592449fdd74c439d5d9a085d387be4",
       "version_major": 2,
       "version_minor": 0
      },
      "text/plain": [
       "Files Downloaded:   0%|          | 0/1 [00:00<?, ?file/s]"
      ]
     },
     "metadata": {},
     "output_type": "display_data"
    },
    {
     "data": {
      "application/vnd.jupyter.widget-view+json": {
       "model_id": "",
       "version_major": 2,
       "version_minor": 0
      },
      "text/plain": [
       "solo_L1_stix-sci-xray-cpd_20221114T020015-20221114T023340_V01_2211149572-54801.fits:   0%|          | 0.00/890…"
      ]
     },
     "metadata": {},
     "output_type": "display_data"
    },
    {
     "data": {
      "application/vnd.jupyter.widget-view+json": {
       "model_id": "524c7f79451d46f0b95ebdd5b3f4c3ac",
       "version_major": 2,
       "version_minor": 0
      },
      "text/plain": [
       "Files Downloaded:   0%|          | 0/1 [00:00<?, ?file/s]"
      ]
     },
     "metadata": {},
     "output_type": "display_data"
    },
    {
     "data": {
      "application/vnd.jupyter.widget-view+json": {
       "model_id": "24a81f6ba6204d838dbf809a08b61c20",
       "version_major": 2,
       "version_minor": 0
      },
      "text/plain": [
       "Files Downloaded:   0%|          | 0/1 [00:00<?, ?file/s]"
      ]
     },
     "metadata": {},
     "output_type": "display_data"
    },
    {
     "data": {
      "application/vnd.jupyter.widget-view+json": {
       "model_id": "",
       "version_major": 2,
       "version_minor": 0
      },
      "text/plain": [
       "solo_L1_stix-sci-xray-cpd_20221114T024020-20221114T031936_V01_2211147410-54802.fits:   0%|          | 0.00/1.0…"
      ]
     },
     "metadata": {},
     "output_type": "display_data"
    },
    {
     "data": {
      "application/vnd.jupyter.widget-view+json": {
       "model_id": "3d1b244d3ca1451697d6517a297fd2a5",
       "version_major": 2,
       "version_minor": 0
      },
      "text/plain": [
       "Files Downloaded:   0%|          | 0/1 [00:00<?, ?file/s]"
      ]
     },
     "metadata": {},
     "output_type": "display_data"
    },
    {
     "data": {
      "application/vnd.jupyter.widget-view+json": {
       "model_id": "3fd5ae1d684940f18a0896c9e20a8a33",
       "version_major": 2,
       "version_minor": 0
      },
      "text/plain": [
       "Files Downloaded:   0%|          | 0/1 [00:00<?, ?file/s]"
      ]
     },
     "metadata": {},
     "output_type": "display_data"
    },
    {
     "data": {
      "application/vnd.jupyter.widget-view+json": {
       "model_id": "",
       "version_major": 2,
       "version_minor": 0
      },
      "text/plain": [
       "solo_L1_stix-sci-xray-cpd_20221114T032653-20221114T033851_V01_2211146178-54803.fits:   0%|          | 0.00/69.…"
      ]
     },
     "metadata": {},
     "output_type": "display_data"
    },
    {
     "data": {
      "application/vnd.jupyter.widget-view+json": {
       "model_id": "cf496733be0c4bd08a443c948986d400",
       "version_major": 2,
       "version_minor": 0
      },
      "text/plain": [
       "Files Downloaded:   0%|          | 0/1 [00:00<?, ?file/s]"
      ]
     },
     "metadata": {},
     "output_type": "display_data"
    },
    {
     "data": {
      "application/vnd.jupyter.widget-view+json": {
       "model_id": "5b8da378e2fc43329eeab512ecaeb19d",
       "version_major": 2,
       "version_minor": 0
      },
      "text/plain": [
       "Files Downloaded:   0%|          | 0/1 [00:00<?, ?file/s]"
      ]
     },
     "metadata": {},
     "output_type": "display_data"
    },
    {
     "data": {
      "application/vnd.jupyter.widget-view+json": {
       "model_id": "",
       "version_major": 2,
       "version_minor": 0
      },
      "text/plain": [
       "solo_L1_stix-sci-xray-cpd_20221114T033928-20221114T041700_V01_2211144119-54804.fits:   0%|          | 0.00/996…"
      ]
     },
     "metadata": {},
     "output_type": "display_data"
    },
    {
     "data": {
      "application/vnd.jupyter.widget-view+json": {
       "model_id": "a3385d71f687496299e5334cb16b9748",
       "version_major": 2,
       "version_minor": 0
      },
      "text/plain": [
       "Files Downloaded:   0%|          | 0/1 [00:00<?, ?file/s]"
      ]
     },
     "metadata": {},
     "output_type": "display_data"
    },
    {
     "data": {
      "application/vnd.jupyter.widget-view+json": {
       "model_id": "bc2f34a707704be5811e96eed2873276",
       "version_major": 2,
       "version_minor": 0
      },
      "text/plain": [
       "Files Downloaded:   0%|          | 0/1 [00:00<?, ?file/s]"
      ]
     },
     "metadata": {},
     "output_type": "display_data"
    },
    {
     "data": {
      "application/vnd.jupyter.widget-view+json": {
       "model_id": "",
       "version_major": 2,
       "version_minor": 0
      },
      "text/plain": [
       "solo_L1_stix-sci-xray-cpd_20221114T041933-20221114T044003_V01_2211140911-54805.fits:   0%|          | 0.00/219…"
      ]
     },
     "metadata": {},
     "output_type": "display_data"
    },
    {
     "data": {
      "application/vnd.jupyter.widget-view+json": {
       "model_id": "57717b376f7a4fbf934950fa238f9afa",
       "version_major": 2,
       "version_minor": 0
      },
      "text/plain": [
       "Files Downloaded:   0%|          | 0/1 [00:00<?, ?file/s]"
      ]
     },
     "metadata": {},
     "output_type": "display_data"
    },
    {
     "data": {
      "application/vnd.jupyter.widget-view+json": {
       "model_id": "05e4ed6281224ba0a9d1eac4277de0ca",
       "version_major": 2,
       "version_minor": 0
      },
      "text/plain": [
       "Files Downloaded:   0%|          | 0/1 [00:00<?, ?file/s]"
      ]
     },
     "metadata": {},
     "output_type": "display_data"
    },
    {
     "data": {
      "application/vnd.jupyter.widget-view+json": {
       "model_id": "",
       "version_major": 2,
       "version_minor": 0
      },
      "text/plain": [
       "solo_L1_stix-sci-xray-cpd_20221114T044832-20221114T045757_V01_2211148919-54806.fits:   0%|          | 0.00/202…"
      ]
     },
     "metadata": {},
     "output_type": "display_data"
    },
    {
     "data": {
      "application/vnd.jupyter.widget-view+json": {
       "model_id": "4ae0152d133f4dd09257c50a8dbabdec",
       "version_major": 2,
       "version_minor": 0
      },
      "text/plain": [
       "Files Downloaded:   0%|          | 0/1 [00:00<?, ?file/s]"
      ]
     },
     "metadata": {},
     "output_type": "display_data"
    },
    {
     "data": {
      "application/vnd.jupyter.widget-view+json": {
       "model_id": "aa04eeb7964a4eb1bb3f0d7c92610345",
       "version_major": 2,
       "version_minor": 0
      },
      "text/plain": [
       "Files Downloaded:   0%|          | 0/1 [00:00<?, ?file/s]"
      ]
     },
     "metadata": {},
     "output_type": "display_data"
    },
    {
     "data": {
      "application/vnd.jupyter.widget-view+json": {
       "model_id": "",
       "version_major": 2,
       "version_minor": 0
      },
      "text/plain": [
       "solo_L1_stix-sci-xray-cpd_20221114T050416-20221114T052548_V01_2211146873-54807.fits:   0%|          | 0.00/403…"
      ]
     },
     "metadata": {},
     "output_type": "display_data"
    },
    {
     "data": {
      "application/vnd.jupyter.widget-view+json": {
       "model_id": "cc63c194dfdc4dfd89abbc5c73827ca5",
       "version_major": 2,
       "version_minor": 0
      },
      "text/plain": [
       "Files Downloaded:   0%|          | 0/1 [00:00<?, ?file/s]"
      ]
     },
     "metadata": {},
     "output_type": "display_data"
    },
    {
     "data": {
      "application/vnd.jupyter.widget-view+json": {
       "model_id": "af8a2d501f9e4bff9975157ce114e6c6",
       "version_major": 2,
       "version_minor": 0
      },
      "text/plain": [
       "Files Downloaded:   0%|          | 0/1 [00:00<?, ?file/s]"
      ]
     },
     "metadata": {},
     "output_type": "display_data"
    },
    {
     "data": {
      "application/vnd.jupyter.widget-view+json": {
       "model_id": "",
       "version_major": 2,
       "version_minor": 0
      },
      "text/plain": [
       "solo_L1_stix-sci-xray-cpd_20221114T053129-20221114T053705_V01_2211148216-54808.fits:   0%|          | 0.00/66.…"
      ]
     },
     "metadata": {},
     "output_type": "display_data"
    },
    {
     "data": {
      "application/vnd.jupyter.widget-view+json": {
       "model_id": "b8e76cabb6fd45c1b33d59fc96dfd6d5",
       "version_major": 2,
       "version_minor": 0
      },
      "text/plain": [
       "Files Downloaded:   0%|          | 0/1 [00:00<?, ?file/s]"
      ]
     },
     "metadata": {},
     "output_type": "display_data"
    },
    {
     "data": {
      "application/vnd.jupyter.widget-view+json": {
       "model_id": "59a21617259e405f94d5cb735d6cfeb1",
       "version_major": 2,
       "version_minor": 0
      },
      "text/plain": [
       "Files Downloaded:   0%|          | 0/1 [00:00<?, ?file/s]"
      ]
     },
     "metadata": {},
     "output_type": "display_data"
    },
    {
     "data": {
      "application/vnd.jupyter.widget-view+json": {
       "model_id": "",
       "version_major": 2,
       "version_minor": 0
      },
      "text/plain": [
       "solo_L1_stix-sci-xray-cpd_20221114T054456-20221114T054749_V01_2211149264-54809.fits:   0%|          | 0.00/66.…"
      ]
     },
     "metadata": {},
     "output_type": "display_data"
    },
    {
     "data": {
      "application/vnd.jupyter.widget-view+json": {
       "model_id": "374407ccbc3c448981812b6e544ebce8",
       "version_major": 2,
       "version_minor": 0
      },
      "text/plain": [
       "Files Downloaded:   0%|          | 0/1 [00:00<?, ?file/s]"
      ]
     },
     "metadata": {},
     "output_type": "display_data"
    },
    {
     "data": {
      "application/vnd.jupyter.widget-view+json": {
       "model_id": "e4a8f22b696c44509d2130e6ad86edc5",
       "version_major": 2,
       "version_minor": 0
      },
      "text/plain": [
       "Files Downloaded:   0%|          | 0/1 [00:00<?, ?file/s]"
      ]
     },
     "metadata": {},
     "output_type": "display_data"
    },
    {
     "data": {
      "application/vnd.jupyter.widget-view+json": {
       "model_id": "",
       "version_major": 2,
       "version_minor": 0
      },
      "text/plain": [
       "solo_L1_stix-sci-xray-cpd_20221114T055420-20221114T055738_V01_2211142068-54810.fits:   0%|          | 0.00/66.…"
      ]
     },
     "metadata": {},
     "output_type": "display_data"
    },
    {
     "data": {
      "application/vnd.jupyter.widget-view+json": {
       "model_id": "9a4f68d774ea4364af34c3baf21c2e88",
       "version_major": 2,
       "version_minor": 0
      },
      "text/plain": [
       "Files Downloaded:   0%|          | 0/1 [00:00<?, ?file/s]"
      ]
     },
     "metadata": {},
     "output_type": "display_data"
    },
    {
     "data": {
      "application/vnd.jupyter.widget-view+json": {
       "model_id": "ca9c3366f61043e1b0a54958bcfaab46",
       "version_major": 2,
       "version_minor": 0
      },
      "text/plain": [
       "Files Downloaded:   0%|          | 0/1 [00:00<?, ?file/s]"
      ]
     },
     "metadata": {},
     "output_type": "display_data"
    },
    {
     "data": {
      "application/vnd.jupyter.widget-view+json": {
       "model_id": "",
       "version_major": 2,
       "version_minor": 0
      },
      "text/plain": [
       "solo_L1_stix-sci-xray-cpd_20221114T055804-20221114T070215_V01_2211147455-54811.fits:   0%|          | 0.00/1.3…"
      ]
     },
     "metadata": {},
     "output_type": "display_data"
    },
    {
     "data": {
      "application/vnd.jupyter.widget-view+json": {
       "model_id": "525c931490ae435db870bb2a714e04ef",
       "version_major": 2,
       "version_minor": 0
      },
      "text/plain": [
       "Files Downloaded:   0%|          | 0/1 [00:00<?, ?file/s]"
      ]
     },
     "metadata": {},
     "output_type": "display_data"
    },
    {
     "data": {
      "application/vnd.jupyter.widget-view+json": {
       "model_id": "f4748c8579fa416a9a7e20015d3d1dff",
       "version_major": 2,
       "version_minor": 0
      },
      "text/plain": [
       "Files Downloaded:   0%|          | 0/1 [00:00<?, ?file/s]"
      ]
     },
     "metadata": {},
     "output_type": "display_data"
    },
    {
     "data": {
      "application/vnd.jupyter.widget-view+json": {
       "model_id": "ec811bb488764253a543947e3aa5fa3d",
       "version_major": 2,
       "version_minor": 0
      },
      "text/plain": [
       "Files Downloaded:   0%|          | 0/1 [00:00<?, ?file/s]"
      ]
     },
     "metadata": {},
     "output_type": "display_data"
    },
    {
     "data": {
      "application/vnd.jupyter.widget-view+json": {
       "model_id": "829cab0afc87479d8b79aa48b4760045",
       "version_major": 2,
       "version_minor": 0
      },
      "text/plain": [
       "Files Downloaded:   0%|          | 0/1 [00:00<?, ?file/s]"
      ]
     },
     "metadata": {},
     "output_type": "display_data"
    },
    {
     "data": {
      "application/vnd.jupyter.widget-view+json": {
       "model_id": "",
       "version_major": 2,
       "version_minor": 0
      },
      "text/plain": [
       "solo_L1_stix-sci-xray-cpd_20221114T070200-20221114T072423_V01_2211147324-55143.fits:   0%|          | 0.00/628…"
      ]
     },
     "metadata": {},
     "output_type": "display_data"
    },
    {
     "data": {
      "application/vnd.jupyter.widget-view+json": {
       "model_id": "006a8a8a788f48e3a9e30c021ae935c0",
       "version_major": 2,
       "version_minor": 0
      },
      "text/plain": [
       "Files Downloaded:   0%|          | 0/1 [00:00<?, ?file/s]"
      ]
     },
     "metadata": {},
     "output_type": "display_data"
    },
    {
     "data": {
      "application/vnd.jupyter.widget-view+json": {
       "model_id": "0745d65f1dc24da5a5a431cedf8b163c",
       "version_major": 2,
       "version_minor": 0
      },
      "text/plain": [
       "Files Downloaded:   0%|          | 0/1 [00:00<?, ?file/s]"
      ]
     },
     "metadata": {},
     "output_type": "display_data"
    },
    {
     "data": {
      "application/vnd.jupyter.widget-view+json": {
       "model_id": "",
       "version_major": 2,
       "version_minor": 0
      },
      "text/plain": [
       "solo_L1_stix-sci-xray-cpd_20221114T072249-20221114T082925_V01_2211148533-54812.fits:   0%|          | 0.00/714…"
      ]
     },
     "metadata": {},
     "output_type": "display_data"
    },
    {
     "data": {
      "application/vnd.jupyter.widget-view+json": {
       "model_id": "b945922a28a14e3898760c189f26fd37",
       "version_major": 2,
       "version_minor": 0
      },
      "text/plain": [
       "Files Downloaded:   0%|          | 0/1 [00:00<?, ?file/s]"
      ]
     },
     "metadata": {},
     "output_type": "display_data"
    },
    {
     "data": {
      "application/vnd.jupyter.widget-view+json": {
       "model_id": "d0433e922785489cacf8a34cb4efb1fa",
       "version_major": 2,
       "version_minor": 0
      },
      "text/plain": [
       "Files Downloaded:   0%|          | 0/1 [00:00<?, ?file/s]"
      ]
     },
     "metadata": {},
     "output_type": "display_data"
    },
    {
     "data": {
      "application/vnd.jupyter.widget-view+json": {
       "model_id": "c344433a333542279c7ef3193cd9380d",
       "version_major": 2,
       "version_minor": 0
      },
      "text/plain": [
       "Files Downloaded:   0%|          | 0/1 [00:00<?, ?file/s]"
      ]
     },
     "metadata": {},
     "output_type": "display_data"
    },
    {
     "data": {
      "application/vnd.jupyter.widget-view+json": {
       "model_id": "9418c9e28d02424d91f118919d778b12",
       "version_major": 2,
       "version_minor": 0
      },
      "text/plain": [
       "Files Downloaded:   0%|          | 0/1 [00:00<?, ?file/s]"
      ]
     },
     "metadata": {},
     "output_type": "display_data"
    },
    {
     "name": "stderr",
     "output_type": "stream",
     "text": [
      "Exception ignored in: <function BaseEventLoop.__del__ at 0x10daccb80>\n",
      "Traceback (most recent call last):\n",
      "  File \"/opt/anaconda3/envs/stix_conda/lib/python3.10/asyncio/base_events.py\", line 682, in __del__\n",
      "    self.close()\n",
      "  File \"/opt/anaconda3/envs/stix_conda/lib/python3.10/asyncio/unix_events.py\", line 71, in close\n",
      "    self.remove_signal_handler(sig)\n",
      "  File \"/opt/anaconda3/envs/stix_conda/lib/python3.10/asyncio/unix_events.py\", line 160, in remove_signal_handler\n",
      "    signal.signal(sig, handler)\n",
      "  File \"/opt/anaconda3/envs/stix_conda/lib/python3.10/signal.py\", line 56, in signal\n",
      "    handler = _signal.signal(_enum_to_int(signalnum), _enum_to_int(handler))\n",
      "ValueError: signal only works in main thread of the main interpreter\n",
      "Exception ignored in: <function BaseEventLoop.__del__ at 0x10daccb80>\n",
      "Traceback (most recent call last):\n",
      "  File \"/opt/anaconda3/envs/stix_conda/lib/python3.10/asyncio/base_events.py\", line 682, in __del__\n",
      "    self.close()\n",
      "  File \"/opt/anaconda3/envs/stix_conda/lib/python3.10/asyncio/unix_events.py\", line 71, in close\n",
      "    self.remove_signal_handler(sig)\n",
      "  File \"/opt/anaconda3/envs/stix_conda/lib/python3.10/asyncio/unix_events.py\", line 160, in remove_signal_handler\n",
      "    signal.signal(sig, handler)\n",
      "  File \"/opt/anaconda3/envs/stix_conda/lib/python3.10/signal.py\", line 56, in signal\n",
      "    handler = _signal.signal(_enum_to_int(signalnum), _enum_to_int(handler))\n",
      "ValueError: signal only works in main thread of the main interpreter\n"
     ]
    },
    {
     "data": {
      "application/vnd.jupyter.widget-view+json": {
       "model_id": "6f97fb0a9d1b44e091ddc68c1f21d9e4",
       "version_major": 2,
       "version_minor": 0
      },
      "text/plain": [
       "Files Downloaded:   0%|          | 0/1 [00:00<?, ?file/s]"
      ]
     },
     "metadata": {},
     "output_type": "display_data"
    },
    {
     "data": {
      "application/vnd.jupyter.widget-view+json": {
       "model_id": "de4bf061076b4245877f4ca940f6496f",
       "version_major": 2,
       "version_minor": 0
      },
      "text/plain": [
       "Files Downloaded:   0%|          | 0/1 [00:00<?, ?file/s]"
      ]
     },
     "metadata": {},
     "output_type": "display_data"
    },
    {
     "data": {
      "application/vnd.jupyter.widget-view+json": {
       "model_id": "8cbfb3eb49054695a4913066ed6ce825",
       "version_major": 2,
       "version_minor": 0
      },
      "text/plain": [
       "Files Downloaded:   0%|          | 0/1 [00:00<?, ?file/s]"
      ]
     },
     "metadata": {},
     "output_type": "display_data"
    },
    {
     "data": {
      "application/vnd.jupyter.widget-view+json": {
       "model_id": "cc0b69a044634152946556158f5ae8b3",
       "version_major": 2,
       "version_minor": 0
      },
      "text/plain": [
       "Files Downloaded:   0%|          | 0/1 [00:00<?, ?file/s]"
      ]
     },
     "metadata": {},
     "output_type": "display_data"
    },
    {
     "data": {
      "application/vnd.jupyter.widget-view+json": {
       "model_id": "",
       "version_major": 2,
       "version_minor": 0
      },
      "text/plain": [
       "solo_L1_stix-sci-xray-cpd_20221114T082343-20221114T092008_V01_2211147925-54870.fits:   0%|          | 0.00/1.4…"
      ]
     },
     "metadata": {},
     "output_type": "display_data"
    },
    {
     "data": {
      "application/vnd.jupyter.widget-view+json": {
       "model_id": "be4a22f7f5eb4129919aa00fabc8b8dc",
       "version_major": 2,
       "version_minor": 0
      },
      "text/plain": [
       "Files Downloaded:   0%|          | 0/1 [00:00<?, ?file/s]"
      ]
     },
     "metadata": {},
     "output_type": "display_data"
    },
    {
     "data": {
      "application/vnd.jupyter.widget-view+json": {
       "model_id": "2bde3d9d40ff4c0983585fb30ae1676e",
       "version_major": 2,
       "version_minor": 0
      },
      "text/plain": [
       "Files Downloaded:   0%|          | 0/1 [00:00<?, ?file/s]"
      ]
     },
     "metadata": {},
     "output_type": "display_data"
    },
    {
     "data": {
      "application/vnd.jupyter.widget-view+json": {
       "model_id": "557aada1d1eb44e68081326222478827",
       "version_major": 2,
       "version_minor": 0
      },
      "text/plain": [
       "Files Downloaded:   0%|          | 0/1 [00:00<?, ?file/s]"
      ]
     },
     "metadata": {},
     "output_type": "display_data"
    },
    {
     "name": "stderr",
     "output_type": "stream",
     "text": [
      "Exception ignored in: <function BaseEventLoop.__del__ at 0x10daccb80>\n",
      "Traceback (most recent call last):\n",
      "  File \"/opt/anaconda3/envs/stix_conda/lib/python3.10/asyncio/base_events.py\", line 682, in __del__\n",
      "    self.close()\n",
      "  File \"/opt/anaconda3/envs/stix_conda/lib/python3.10/asyncio/unix_events.py\", line 71, in close\n",
      "    self.remove_signal_handler(sig)\n",
      "  File \"/opt/anaconda3/envs/stix_conda/lib/python3.10/asyncio/unix_events.py\", line 160, in remove_signal_handler\n",
      "    signal.signal(sig, handler)\n",
      "  File \"/opt/anaconda3/envs/stix_conda/lib/python3.10/signal.py\", line 56, in signal\n",
      "    handler = _signal.signal(_enum_to_int(signalnum), _enum_to_int(handler))\n",
      "ValueError: signal only works in main thread of the main interpreter\n",
      "Exception ignored in: <function BaseEventLoop.__del__ at 0x10daccb80>\n",
      "Traceback (most recent call last):\n",
      "  File \"/opt/anaconda3/envs/stix_conda/lib/python3.10/asyncio/base_events.py\", line 682, in __del__\n",
      "    self.close()\n",
      "  File \"/opt/anaconda3/envs/stix_conda/lib/python3.10/asyncio/unix_events.py\", line 71, in close\n",
      "    self.remove_signal_handler(sig)\n",
      "  File \"/opt/anaconda3/envs/stix_conda/lib/python3.10/asyncio/unix_events.py\", line 160, in remove_signal_handler\n",
      "    signal.signal(sig, handler)\n",
      "  File \"/opt/anaconda3/envs/stix_conda/lib/python3.10/signal.py\", line 56, in signal\n",
      "    handler = _signal.signal(_enum_to_int(signalnum), _enum_to_int(handler))\n",
      "ValueError: signal only works in main thread of the main interpreter\n"
     ]
    },
    {
     "data": {
      "application/vnd.jupyter.widget-view+json": {
       "model_id": "7d219e34a2af456380a11e02839c70e7",
       "version_major": 2,
       "version_minor": 0
      },
      "text/plain": [
       "Files Downloaded:   0%|          | 0/1 [00:00<?, ?file/s]"
      ]
     },
     "metadata": {},
     "output_type": "display_data"
    },
    {
     "data": {
      "application/vnd.jupyter.widget-view+json": {
       "model_id": "",
       "version_major": 2,
       "version_minor": 0
      },
      "text/plain": [
       "solo_L1_stix-sci-xray-cpd_20221114T092529-20221114T092831_V01_2211146824-54872.fits:   0%|          | 0.00/66.…"
      ]
     },
     "metadata": {},
     "output_type": "display_data"
    },
    {
     "data": {
      "application/vnd.jupyter.widget-view+json": {
       "model_id": "07b3bbb0b4234ddd9d57d53efe120eda",
       "version_major": 2,
       "version_minor": 0
      },
      "text/plain": [
       "Files Downloaded:   0%|          | 0/1 [00:00<?, ?file/s]"
      ]
     },
     "metadata": {},
     "output_type": "display_data"
    },
    {
     "data": {
      "application/vnd.jupyter.widget-view+json": {
       "model_id": "e3b0059aeaaf49acafa28c984d988c2f",
       "version_major": 2,
       "version_minor": 0
      },
      "text/plain": [
       "Files Downloaded:   0%|          | 0/1 [00:00<?, ?file/s]"
      ]
     },
     "metadata": {},
     "output_type": "display_data"
    },
    {
     "data": {
      "application/vnd.jupyter.widget-view+json": {
       "model_id": "",
       "version_major": 2,
       "version_minor": 0
      },
      "text/plain": [
       "solo_L1_stix-sci-xray-cpd_20221114T102039-20221114T102740_V01_2211144450-54873.fits:   0%|          | 0.00/708…"
      ]
     },
     "metadata": {},
     "output_type": "display_data"
    },
    {
     "data": {
      "application/vnd.jupyter.widget-view+json": {
       "model_id": "22720c038a7a4bfdaaddfe67b3dcafcb",
       "version_major": 2,
       "version_minor": 0
      },
      "text/plain": [
       "Files Downloaded:   0%|          | 0/1 [00:00<?, ?file/s]"
      ]
     },
     "metadata": {},
     "output_type": "display_data"
    },
    {
     "data": {
      "application/vnd.jupyter.widget-view+json": {
       "model_id": "36be3483c7754e0cac2058eb4416b86b",
       "version_major": 2,
       "version_minor": 0
      },
      "text/plain": [
       "Files Downloaded:   0%|          | 0/1 [00:00<?, ?file/s]"
      ]
     },
     "metadata": {},
     "output_type": "display_data"
    },
    {
     "data": {
      "application/vnd.jupyter.widget-view+json": {
       "model_id": "",
       "version_major": 2,
       "version_minor": 0
      },
      "text/plain": [
       "solo_L1_stix-sci-xray-cpd_20221114T103319-20221114T104109_V01_2211146890-54874.fits:   0%|          | 0.00/351…"
      ]
     },
     "metadata": {},
     "output_type": "display_data"
    },
    {
     "name": "stderr",
     "output_type": "stream",
     "text": [
      "Exception ignored in: <function BaseEventLoop.__del__ at 0x10daccb80>\n",
      "Traceback (most recent call last):\n",
      "  File \"/opt/anaconda3/envs/stix_conda/lib/python3.10/asyncio/base_events.py\", line 682, in __del__\n",
      "    self.close()\n",
      "  File \"/opt/anaconda3/envs/stix_conda/lib/python3.10/asyncio/unix_events.py\", line 71, in close\n",
      "    self.remove_signal_handler(sig)\n",
      "  File \"/opt/anaconda3/envs/stix_conda/lib/python3.10/asyncio/unix_events.py\", line 160, in remove_signal_handler\n",
      "    signal.signal(sig, handler)\n",
      "  File \"/opt/anaconda3/envs/stix_conda/lib/python3.10/signal.py\", line 56, in signal\n",
      "    handler = _signal.signal(_enum_to_int(signalnum), _enum_to_int(handler))\n",
      "ValueError: signal only works in main thread of the main interpreter\n",
      "Exception ignored in: <function BaseEventLoop.__del__ at 0x10daccb80>\n",
      "Traceback (most recent call last):\n",
      "  File \"/opt/anaconda3/envs/stix_conda/lib/python3.10/asyncio/base_events.py\", line 682, in __del__\n",
      "    self.close()\n",
      "  File \"/opt/anaconda3/envs/stix_conda/lib/python3.10/asyncio/unix_events.py\", line 71, in close\n",
      "    self.remove_signal_handler(sig)\n",
      "  File \"/opt/anaconda3/envs/stix_conda/lib/python3.10/asyncio/unix_events.py\", line 160, in remove_signal_handler\n",
      "    signal.signal(sig, handler)\n",
      "  File \"/opt/anaconda3/envs/stix_conda/lib/python3.10/signal.py\", line 56, in signal\n",
      "    handler = _signal.signal(_enum_to_int(signalnum), _enum_to_int(handler))\n",
      "ValueError: signal only works in main thread of the main interpreter\n",
      "Exception ignored in: <function BaseEventLoop.__del__ at 0x10daccb80>\n",
      "Traceback (most recent call last):\n",
      "  File \"/opt/anaconda3/envs/stix_conda/lib/python3.10/asyncio/base_events.py\", line 682, in __del__\n",
      "    self.close()\n",
      "  File \"/opt/anaconda3/envs/stix_conda/lib/python3.10/asyncio/unix_events.py\", line 71, in close\n",
      "    self.remove_signal_handler(sig)\n",
      "  File \"/opt/anaconda3/envs/stix_conda/lib/python3.10/asyncio/unix_events.py\", line 160, in remove_signal_handler\n",
      "    signal.signal(sig, handler)\n",
      "  File \"/opt/anaconda3/envs/stix_conda/lib/python3.10/signal.py\", line 56, in signal\n",
      "    handler = _signal.signal(_enum_to_int(signalnum), _enum_to_int(handler))\n",
      "ValueError: signal only works in main thread of the main interpreter\n"
     ]
    },
    {
     "data": {
      "application/vnd.jupyter.widget-view+json": {
       "model_id": "eba68323957f4349b1ee5a6b1ec2b9ad",
       "version_major": 2,
       "version_minor": 0
      },
      "text/plain": [
       "Files Downloaded:   0%|          | 0/1 [00:00<?, ?file/s]"
      ]
     },
     "metadata": {},
     "output_type": "display_data"
    },
    {
     "data": {
      "application/vnd.jupyter.widget-view+json": {
       "model_id": "d2a43bae24fc4c3fabc37ec3770cfa3b",
       "version_major": 2,
       "version_minor": 0
      },
      "text/plain": [
       "Files Downloaded:   0%|          | 0/1 [00:00<?, ?file/s]"
      ]
     },
     "metadata": {},
     "output_type": "display_data"
    },
    {
     "data": {
      "application/vnd.jupyter.widget-view+json": {
       "model_id": "",
       "version_major": 2,
       "version_minor": 0
      },
      "text/plain": [
       "solo_L1_stix-sci-xray-cpd_20221114T105351-20221114T115254_V01_2211140730-54875.fits:   0%|          | 0.00/1.4…"
      ]
     },
     "metadata": {},
     "output_type": "display_data"
    },
    {
     "data": {
      "application/vnd.jupyter.widget-view+json": {
       "model_id": "c2f720433973484cb00ed3d2338e9aaa",
       "version_major": 2,
       "version_minor": 0
      },
      "text/plain": [
       "Files Downloaded:   0%|          | 0/1 [00:00<?, ?file/s]"
      ]
     },
     "metadata": {},
     "output_type": "display_data"
    },
    {
     "data": {
      "application/vnd.jupyter.widget-view+json": {
       "model_id": "1a143419d50f4f028d774d689e6ad3e1",
       "version_major": 2,
       "version_minor": 0
      },
      "text/plain": [
       "Files Downloaded:   0%|          | 0/1 [00:00<?, ?file/s]"
      ]
     },
     "metadata": {},
     "output_type": "display_data"
    },
    {
     "data": {
      "application/vnd.jupyter.widget-view+json": {
       "model_id": "",
       "version_major": 2,
       "version_minor": 0
      },
      "text/plain": [
       "solo_L1_stix-sci-xray-cpd_20221114T122112-20221114T123330_V01_2211142883-54876.fits:   0%|          | 0.00/66.…"
      ]
     },
     "metadata": {},
     "output_type": "display_data"
    },
    {
     "data": {
      "application/vnd.jupyter.widget-view+json": {
       "model_id": "ba76965216e84ae7b29dfc6045d6b94d",
       "version_major": 2,
       "version_minor": 0
      },
      "text/plain": [
       "Files Downloaded:   0%|          | 0/1 [00:00<?, ?file/s]"
      ]
     },
     "metadata": {},
     "output_type": "display_data"
    },
    {
     "data": {
      "application/vnd.jupyter.widget-view+json": {
       "model_id": "d073c19d7d2b4070a49dc850f3c75010",
       "version_major": 2,
       "version_minor": 0
      },
      "text/plain": [
       "Files Downloaded:   0%|          | 0/1 [00:00<?, ?file/s]"
      ]
     },
     "metadata": {},
     "output_type": "display_data"
    },
    {
     "data": {
      "application/vnd.jupyter.widget-view+json": {
       "model_id": "",
       "version_major": 2,
       "version_minor": 0
      },
      "text/plain": [
       "solo_L1_stix-sci-xray-cpd_20221114T125227-20221114T132445_V01_2211141441-54877.fits:   0%|          | 0.00/864…"
      ]
     },
     "metadata": {},
     "output_type": "display_data"
    },
    {
     "name": "stderr",
     "output_type": "stream",
     "text": [
      "Exception ignored in: <function BaseEventLoop.__del__ at 0x10daccb80>\n",
      "Traceback (most recent call last):\n",
      "  File \"/opt/anaconda3/envs/stix_conda/lib/python3.10/asyncio/base_events.py\", line 682, in __del__\n",
      "    self.close()\n",
      "  File \"/opt/anaconda3/envs/stix_conda/lib/python3.10/asyncio/unix_events.py\", line 71, in close\n",
      "    self.remove_signal_handler(sig)\n",
      "  File \"/opt/anaconda3/envs/stix_conda/lib/python3.10/asyncio/unix_events.py\", line 160, in remove_signal_handler\n",
      "    signal.signal(sig, handler)\n",
      "  File \"/opt/anaconda3/envs/stix_conda/lib/python3.10/signal.py\", line 56, in signal\n",
      "    handler = _signal.signal(_enum_to_int(signalnum), _enum_to_int(handler))\n",
      "ValueError: signal only works in main thread of the main interpreter\n",
      "Exception ignored in: <function BaseEventLoop.__del__ at 0x10daccb80>\n",
      "Traceback (most recent call last):\n",
      "  File \"/opt/anaconda3/envs/stix_conda/lib/python3.10/asyncio/base_events.py\", line 682, in __del__\n",
      "    self.close()\n",
      "  File \"/opt/anaconda3/envs/stix_conda/lib/python3.10/asyncio/unix_events.py\", line 71, in close\n",
      "    self.remove_signal_handler(sig)\n",
      "  File \"/opt/anaconda3/envs/stix_conda/lib/python3.10/asyncio/unix_events.py\", line 160, in remove_signal_handler\n",
      "    signal.signal(sig, handler)\n",
      "  File \"/opt/anaconda3/envs/stix_conda/lib/python3.10/signal.py\", line 56, in signal\n",
      "    handler = _signal.signal(_enum_to_int(signalnum), _enum_to_int(handler))\n",
      "ValueError: signal only works in main thread of the main interpreter\n",
      "Exception ignored in: <function BaseEventLoop.__del__ at 0x10daccb80>\n",
      "Traceback (most recent call last):\n",
      "  File \"/opt/anaconda3/envs/stix_conda/lib/python3.10/asyncio/base_events.py\", line 682, in __del__\n",
      "    self.close()\n",
      "  File \"/opt/anaconda3/envs/stix_conda/lib/python3.10/asyncio/unix_events.py\", line 71, in close\n",
      "    self.remove_signal_handler(sig)\n",
      "  File \"/opt/anaconda3/envs/stix_conda/lib/python3.10/asyncio/unix_events.py\", line 160, in remove_signal_handler\n",
      "    signal.signal(sig, handler)\n",
      "  File \"/opt/anaconda3/envs/stix_conda/lib/python3.10/signal.py\", line 56, in signal\n",
      "    handler = _signal.signal(_enum_to_int(signalnum), _enum_to_int(handler))\n",
      "ValueError: signal only works in main thread of the main interpreter\n"
     ]
    },
    {
     "data": {
      "application/vnd.jupyter.widget-view+json": {
       "model_id": "6f4a4e0c1acc4fa0bc8a61017cbb0bde",
       "version_major": 2,
       "version_minor": 0
      },
      "text/plain": [
       "Files Downloaded:   0%|          | 0/1 [00:00<?, ?file/s]"
      ]
     },
     "metadata": {},
     "output_type": "display_data"
    },
    {
     "data": {
      "application/vnd.jupyter.widget-view+json": {
       "model_id": "1664d4a1ee994107ad8971993e30f49e",
       "version_major": 2,
       "version_minor": 0
      },
      "text/plain": [
       "Files Downloaded:   0%|          | 0/1 [00:00<?, ?file/s]"
      ]
     },
     "metadata": {},
     "output_type": "display_data"
    },
    {
     "data": {
      "application/vnd.jupyter.widget-view+json": {
       "model_id": "",
       "version_major": 2,
       "version_minor": 0
      },
      "text/plain": [
       "solo_L1_stix-sci-xray-cpd_20221114T133426-20221114T134357_V01_2211141852-50748.fits:   0%|          | 0.00/5.1…"
      ]
     },
     "metadata": {},
     "output_type": "display_data"
    },
    {
     "data": {
      "application/vnd.jupyter.widget-view+json": {
       "model_id": "98baa653b57a4c18b9d2395f44d5e060",
       "version_major": 2,
       "version_minor": 0
      },
      "text/plain": [
       "Files Downloaded:   0%|          | 0/1 [00:00<?, ?file/s]"
      ]
     },
     "metadata": {},
     "output_type": "display_data"
    },
    {
     "data": {
      "application/vnd.jupyter.widget-view+json": {
       "model_id": "66d21bd6e3a944fb9a4811a9692a6c08",
       "version_major": 2,
       "version_minor": 0
      },
      "text/plain": [
       "Files Downloaded:   0%|          | 0/1 [00:00<?, ?file/s]"
      ]
     },
     "metadata": {},
     "output_type": "display_data"
    },
    {
     "data": {
      "application/vnd.jupyter.widget-view+json": {
       "model_id": "",
       "version_major": 2,
       "version_minor": 0
      },
      "text/plain": [
       "solo_L1_stix-sci-xray-cpd_20221114T140644-20221114T141645_V01_2211141520-50790.fits:   0%|          | 0.00/1.3…"
      ]
     },
     "metadata": {},
     "output_type": "display_data"
    },
    {
     "data": {
      "application/vnd.jupyter.widget-view+json": {
       "model_id": "1137577f02d9424cb5096202260674c3",
       "version_major": 2,
       "version_minor": 0
      },
      "text/plain": [
       "Files Downloaded:   0%|          | 0/1 [00:00<?, ?file/s]"
      ]
     },
     "metadata": {},
     "output_type": "display_data"
    },
    {
     "data": {
      "application/vnd.jupyter.widget-view+json": {
       "model_id": "1f8ed40a2da74270a289ee74a31289a6",
       "version_major": 2,
       "version_minor": 0
      },
      "text/plain": [
       "Files Downloaded:   0%|          | 0/1 [00:00<?, ?file/s]"
      ]
     },
     "metadata": {},
     "output_type": "display_data"
    },
    {
     "data": {
      "application/vnd.jupyter.widget-view+json": {
       "model_id": "",
       "version_major": 2,
       "version_minor": 0
      },
      "text/plain": [
       "solo_L1_stix-sci-xray-cpd_20221114T141923-20221114T142207_V01_2211146551-54879.fits:   0%|          | 0.00/66.…"
      ]
     },
     "metadata": {},
     "output_type": "display_data"
    },
    {
     "name": "stderr",
     "output_type": "stream",
     "text": [
      "Exception ignored in: <function BaseEventLoop.__del__ at 0x10daccb80>\n",
      "Traceback (most recent call last):\n",
      "  File \"/opt/anaconda3/envs/stix_conda/lib/python3.10/asyncio/base_events.py\", line 682, in __del__\n",
      "    self.close()\n",
      "  File \"/opt/anaconda3/envs/stix_conda/lib/python3.10/asyncio/unix_events.py\", line 71, in close\n",
      "    self.remove_signal_handler(sig)\n",
      "  File \"/opt/anaconda3/envs/stix_conda/lib/python3.10/asyncio/unix_events.py\", line 160, in remove_signal_handler\n",
      "    signal.signal(sig, handler)\n",
      "  File \"/opt/anaconda3/envs/stix_conda/lib/python3.10/signal.py\", line 56, in signal\n",
      "    handler = _signal.signal(_enum_to_int(signalnum), _enum_to_int(handler))\n",
      "ValueError: signal only works in main thread of the main interpreter\n",
      "Exception ignored in: <function BaseEventLoop.__del__ at 0x10daccb80>\n",
      "Traceback (most recent call last):\n",
      "  File \"/opt/anaconda3/envs/stix_conda/lib/python3.10/asyncio/base_events.py\", line 682, in __del__\n",
      "    self.close()\n",
      "  File \"/opt/anaconda3/envs/stix_conda/lib/python3.10/asyncio/unix_events.py\", line 71, in close\n",
      "    self.remove_signal_handler(sig)\n",
      "  File \"/opt/anaconda3/envs/stix_conda/lib/python3.10/asyncio/unix_events.py\", line 160, in remove_signal_handler\n",
      "    signal.signal(sig, handler)\n",
      "  File \"/opt/anaconda3/envs/stix_conda/lib/python3.10/signal.py\", line 56, in signal\n",
      "    handler = _signal.signal(_enum_to_int(signalnum), _enum_to_int(handler))\n",
      "ValueError: signal only works in main thread of the main interpreter\n",
      "Exception ignored in: <function BaseEventLoop.__del__ at 0x10daccb80>\n",
      "Traceback (most recent call last):\n",
      "  File \"/opt/anaconda3/envs/stix_conda/lib/python3.10/asyncio/base_events.py\", line 682, in __del__\n",
      "    self.close()\n",
      "  File \"/opt/anaconda3/envs/stix_conda/lib/python3.10/asyncio/unix_events.py\", line 71, in close\n",
      "    self.remove_signal_handler(sig)\n",
      "  File \"/opt/anaconda3/envs/stix_conda/lib/python3.10/asyncio/unix_events.py\", line 160, in remove_signal_handler\n",
      "    signal.signal(sig, handler)\n",
      "  File \"/opt/anaconda3/envs/stix_conda/lib/python3.10/signal.py\", line 56, in signal\n",
      "    handler = _signal.signal(_enum_to_int(signalnum), _enum_to_int(handler))\n",
      "ValueError: signal only works in main thread of the main interpreter\n"
     ]
    },
    {
     "data": {
      "application/vnd.jupyter.widget-view+json": {
       "model_id": "0b67daa4eca84d0eaed2a0032fb26f20",
       "version_major": 2,
       "version_minor": 0
      },
      "text/plain": [
       "Files Downloaded:   0%|          | 0/1 [00:00<?, ?file/s]"
      ]
     },
     "metadata": {},
     "output_type": "display_data"
    },
    {
     "data": {
      "application/vnd.jupyter.widget-view+json": {
       "model_id": "0a01daaca0de45cab0fc4949078c07fd",
       "version_major": 2,
       "version_minor": 0
      },
      "text/plain": [
       "Files Downloaded:   0%|          | 0/1 [00:00<?, ?file/s]"
      ]
     },
     "metadata": {},
     "output_type": "display_data"
    },
    {
     "data": {
      "application/vnd.jupyter.widget-view+json": {
       "model_id": "",
       "version_major": 2,
       "version_minor": 0
      },
      "text/plain": [
       "solo_L1_stix-sci-xray-cpd_20221114T143913-20221114T150958_V01_2211148352-54880.fits:   0%|          | 0.00/539…"
      ]
     },
     "metadata": {},
     "output_type": "display_data"
    },
    {
     "data": {
      "application/vnd.jupyter.widget-view+json": {
       "model_id": "6baf34aa727f40b99951fcf79ae03aa4",
       "version_major": 2,
       "version_minor": 0
      },
      "text/plain": [
       "Files Downloaded:   0%|          | 0/1 [00:00<?, ?file/s]"
      ]
     },
     "metadata": {},
     "output_type": "display_data"
    },
    {
     "data": {
      "application/vnd.jupyter.widget-view+json": {
       "model_id": "afb41af8cb1743c8940c955f744fdd11",
       "version_major": 2,
       "version_minor": 0
      },
      "text/plain": [
       "Files Downloaded:   0%|          | 0/1 [00:00<?, ?file/s]"
      ]
     },
     "metadata": {},
     "output_type": "display_data"
    },
    {
     "data": {
      "application/vnd.jupyter.widget-view+json": {
       "model_id": "",
       "version_major": 2,
       "version_minor": 0
      },
      "text/plain": [
       "solo_L1_stix-sci-xray-cpd_20221114T145002-20221114T175331_V01_2211145952-56325.fits:   0%|          | 0.00/4.5…"
      ]
     },
     "metadata": {},
     "output_type": "display_data"
    },
    {
     "data": {
      "application/vnd.jupyter.widget-view+json": {
       "model_id": "fc672bb3f0484414a54c3f9749795443",
       "version_major": 2,
       "version_minor": 0
      },
      "text/plain": [
       "Files Downloaded:   0%|          | 0/1 [00:00<?, ?file/s]"
      ]
     },
     "metadata": {},
     "output_type": "display_data"
    },
    {
     "data": {
      "application/vnd.jupyter.widget-view+json": {
       "model_id": "3fc581623a52439fa4e355c1ad3ebb0f",
       "version_major": 2,
       "version_minor": 0
      },
      "text/plain": [
       "Files Downloaded:   0%|          | 0/1 [00:00<?, ?file/s]"
      ]
     },
     "metadata": {},
     "output_type": "display_data"
    },
    {
     "data": {
      "application/vnd.jupyter.widget-view+json": {
       "model_id": "68bb41865dcd4a2c98bb94ad3bfe9897",
       "version_major": 2,
       "version_minor": 0
      },
      "text/plain": [
       "Files Downloaded:   0%|          | 0/1 [00:00<?, ?file/s]"
      ]
     },
     "metadata": {},
     "output_type": "display_data"
    },
    {
     "data": {
      "application/vnd.jupyter.widget-view+json": {
       "model_id": "354c6cb5619c4620891724eddfbe8c66",
       "version_major": 2,
       "version_minor": 0
      },
      "text/plain": [
       "Files Downloaded:   0%|          | 0/1 [00:00<?, ?file/s]"
      ]
     },
     "metadata": {},
     "output_type": "display_data"
    },
    {
     "data": {
      "application/vnd.jupyter.widget-view+json": {
       "model_id": "9a4bf4bddb164026884839435ed7b9c5",
       "version_major": 2,
       "version_minor": 0
      },
      "text/plain": [
       "Files Downloaded:   0%|          | 0/1 [00:00<?, ?file/s]"
      ]
     },
     "metadata": {},
     "output_type": "display_data"
    },
    {
     "data": {
      "application/vnd.jupyter.widget-view+json": {
       "model_id": "41ca36f1142346759f7a33ae52ba2eac",
       "version_major": 2,
       "version_minor": 0
      },
      "text/plain": [
       "Files Downloaded:   0%|          | 0/1 [00:00<?, ?file/s]"
      ]
     },
     "metadata": {},
     "output_type": "display_data"
    },
    {
     "data": {
      "application/vnd.jupyter.widget-view+json": {
       "model_id": "861b4a3b83674b60bdec5fb10d0dff0f",
       "version_major": 2,
       "version_minor": 0
      },
      "text/plain": [
       "Files Downloaded:   0%|          | 0/1 [00:00<?, ?file/s]"
      ]
     },
     "metadata": {},
     "output_type": "display_data"
    },
    {
     "data": {
      "application/vnd.jupyter.widget-view+json": {
       "model_id": "3c66686e00484b7fb05e981e2490c566",
       "version_major": 2,
       "version_minor": 0
      },
      "text/plain": [
       "Files Downloaded:   0%|          | 0/1 [00:00<?, ?file/s]"
      ]
     },
     "metadata": {},
     "output_type": "display_data"
    },
    {
     "data": {
      "application/vnd.jupyter.widget-view+json": {
       "model_id": "d3fa723daffd43d5ab5365198e951373",
       "version_major": 2,
       "version_minor": 0
      },
      "text/plain": [
       "Files Downloaded:   0%|          | 0/1 [00:00<?, ?file/s]"
      ]
     },
     "metadata": {},
     "output_type": "display_data"
    },
    {
     "data": {
      "application/vnd.jupyter.widget-view+json": {
       "model_id": "2b496ded89cd476394d58f95e19f6dec",
       "version_major": 2,
       "version_minor": 0
      },
      "text/plain": [
       "Files Downloaded:   0%|          | 0/1 [00:00<?, ?file/s]"
      ]
     },
     "metadata": {},
     "output_type": "display_data"
    },
    {
     "data": {
      "application/vnd.jupyter.widget-view+json": {
       "model_id": "3d83272ef7db43f89a9e756babf816fe",
       "version_major": 2,
       "version_minor": 0
      },
      "text/plain": [
       "Files Downloaded:   0%|          | 0/1 [00:00<?, ?file/s]"
      ]
     },
     "metadata": {},
     "output_type": "display_data"
    },
    {
     "data": {
      "application/vnd.jupyter.widget-view+json": {
       "model_id": "72af4a77eb4a4893a9c51d673cf8f242",
       "version_major": 2,
       "version_minor": 0
      },
      "text/plain": [
       "Files Downloaded:   0%|          | 0/1 [00:00<?, ?file/s]"
      ]
     },
     "metadata": {},
     "output_type": "display_data"
    },
    {
     "name": "stderr",
     "output_type": "stream",
     "text": [
      "Exception ignored in: <function BaseEventLoop.__del__ at 0x10daccb80>\n",
      "Traceback (most recent call last):\n",
      "  File \"/opt/anaconda3/envs/stix_conda/lib/python3.10/asyncio/base_events.py\", line 682, in __del__\n",
      "    self.close()\n",
      "  File \"/opt/anaconda3/envs/stix_conda/lib/python3.10/asyncio/unix_events.py\", line 71, in close\n",
      "    self.remove_signal_handler(sig)\n",
      "  File \"/opt/anaconda3/envs/stix_conda/lib/python3.10/asyncio/unix_events.py\", line 160, in remove_signal_handler\n",
      "    signal.signal(sig, handler)\n",
      "  File \"/opt/anaconda3/envs/stix_conda/lib/python3.10/signal.py\", line 56, in signal\n",
      "    handler = _signal.signal(_enum_to_int(signalnum), _enum_to_int(handler))\n",
      "ValueError: signal only works in main thread of the main interpreter\n",
      "Exception ignored in: <function BaseEventLoop.__del__ at 0x10daccb80>\n",
      "Traceback (most recent call last):\n",
      "  File \"/opt/anaconda3/envs/stix_conda/lib/python3.10/asyncio/base_events.py\", line 682, in __del__\n",
      "    self.close()\n",
      "  File \"/opt/anaconda3/envs/stix_conda/lib/python3.10/asyncio/unix_events.py\", line 71, in close\n",
      "    self.remove_signal_handler(sig)\n",
      "  File \"/opt/anaconda3/envs/stix_conda/lib/python3.10/asyncio/unix_events.py\", line 160, in remove_signal_handler\n",
      "    signal.signal(sig, handler)\n",
      "  File \"/opt/anaconda3/envs/stix_conda/lib/python3.10/signal.py\", line 56, in signal\n",
      "    handler = _signal.signal(_enum_to_int(signalnum), _enum_to_int(handler))\n",
      "ValueError: signal only works in main thread of the main interpreter\n"
     ]
    },
    {
     "data": {
      "application/vnd.jupyter.widget-view+json": {
       "model_id": "9df6f9caf7634b6fb56f3bb20a0155de",
       "version_major": 2,
       "version_minor": 0
      },
      "text/plain": [
       "Files Downloaded:   0%|          | 0/1 [00:00<?, ?file/s]"
      ]
     },
     "metadata": {},
     "output_type": "display_data"
    },
    {
     "data": {
      "application/vnd.jupyter.widget-view+json": {
       "model_id": "bd92e981387545c5a8a1e6e3d417b399",
       "version_major": 2,
       "version_minor": 0
      },
      "text/plain": [
       "Files Downloaded:   0%|          | 0/1 [00:00<?, ?file/s]"
      ]
     },
     "metadata": {},
     "output_type": "display_data"
    },
    {
     "data": {
      "application/vnd.jupyter.widget-view+json": {
       "model_id": "093e8c4ffbcd46faa92db835a74c2671",
       "version_major": 2,
       "version_minor": 0
      },
      "text/plain": [
       "Files Downloaded:   0%|          | 0/1 [00:00<?, ?file/s]"
      ]
     },
     "metadata": {},
     "output_type": "display_data"
    },
    {
     "data": {
      "application/vnd.jupyter.widget-view+json": {
       "model_id": "6a15c085cab4432b8fa44277cabceed8",
       "version_major": 2,
       "version_minor": 0
      },
      "text/plain": [
       "Files Downloaded:   0%|          | 0/1 [00:00<?, ?file/s]"
      ]
     },
     "metadata": {},
     "output_type": "display_data"
    },
    {
     "data": {
      "application/vnd.jupyter.widget-view+json": {
       "model_id": "eb1e8be5efc547e390f8010df10678be",
       "version_major": 2,
       "version_minor": 0
      },
      "text/plain": [
       "Files Downloaded:   0%|          | 0/1 [00:00<?, ?file/s]"
      ]
     },
     "metadata": {},
     "output_type": "display_data"
    },
    {
     "data": {
      "application/vnd.jupyter.widget-view+json": {
       "model_id": "3aebd234da1541dfbebaec8a2bb7ce3d",
       "version_major": 2,
       "version_minor": 0
      },
      "text/plain": [
       "Files Downloaded:   0%|          | 0/1 [00:00<?, ?file/s]"
      ]
     },
     "metadata": {},
     "output_type": "display_data"
    },
    {
     "data": {
      "application/vnd.jupyter.widget-view+json": {
       "model_id": "",
       "version_major": 2,
       "version_minor": 0
      },
      "text/plain": [
       "solo_L1_stix-sci-xray-cpd_20221114T175317-20221114T185820_V01_2211146020-54887.fits:   0%|          | 0.00/1.3…"
      ]
     },
     "metadata": {},
     "output_type": "display_data"
    },
    {
     "name": "stderr",
     "output_type": "stream",
     "text": [
      "Exception ignored in: <function BaseEventLoop.__del__ at 0x10daccb80>\n",
      "Traceback (most recent call last):\n",
      "  File \"/opt/anaconda3/envs/stix_conda/lib/python3.10/asyncio/base_events.py\", line 682, in __del__\n",
      "    self.close()\n",
      "  File \"/opt/anaconda3/envs/stix_conda/lib/python3.10/asyncio/unix_events.py\", line 71, in close\n",
      "    self.remove_signal_handler(sig)\n",
      "  File \"/opt/anaconda3/envs/stix_conda/lib/python3.10/asyncio/unix_events.py\", line 160, in remove_signal_handler\n",
      "    signal.signal(sig, handler)\n",
      "  File \"/opt/anaconda3/envs/stix_conda/lib/python3.10/signal.py\", line 56, in signal\n",
      "    handler = _signal.signal(_enum_to_int(signalnum), _enum_to_int(handler))\n",
      "ValueError: signal only works in main thread of the main interpreter\n",
      "Exception ignored in: <function BaseEventLoop.__del__ at 0x10daccb80>\n",
      "Traceback (most recent call last):\n",
      "  File \"/opt/anaconda3/envs/stix_conda/lib/python3.10/asyncio/base_events.py\", line 682, in __del__\n",
      "    self.close()\n",
      "  File \"/opt/anaconda3/envs/stix_conda/lib/python3.10/asyncio/unix_events.py\", line 71, in close\n",
      "    self.remove_signal_handler(sig)\n",
      "  File \"/opt/anaconda3/envs/stix_conda/lib/python3.10/asyncio/unix_events.py\", line 160, in remove_signal_handler\n",
      "    signal.signal(sig, handler)\n",
      "  File \"/opt/anaconda3/envs/stix_conda/lib/python3.10/signal.py\", line 56, in signal\n",
      "    handler = _signal.signal(_enum_to_int(signalnum), _enum_to_int(handler))\n",
      "ValueError: signal only works in main thread of the main interpreter\n",
      "Exception ignored in: <function BaseEventLoop.__del__ at 0x10daccb80>\n",
      "Traceback (most recent call last):\n",
      "  File \"/opt/anaconda3/envs/stix_conda/lib/python3.10/asyncio/base_events.py\", line 682, in __del__\n",
      "    self.close()\n",
      "  File \"/opt/anaconda3/envs/stix_conda/lib/python3.10/asyncio/unix_events.py\", line 71, in close\n",
      "    self.remove_signal_handler(sig)\n",
      "  File \"/opt/anaconda3/envs/stix_conda/lib/python3.10/asyncio/unix_events.py\", line 160, in remove_signal_handler\n",
      "    signal.signal(sig, handler)\n",
      "  File \"/opt/anaconda3/envs/stix_conda/lib/python3.10/signal.py\", line 56, in signal\n",
      "    handler = _signal.signal(_enum_to_int(signalnum), _enum_to_int(handler))\n",
      "ValueError: signal only works in main thread of the main interpreter\n"
     ]
    },
    {
     "data": {
      "application/vnd.jupyter.widget-view+json": {
       "model_id": "6191ba84bc8e4ebb8c1f8e14b6cff0e0",
       "version_major": 2,
       "version_minor": 0
      },
      "text/plain": [
       "Files Downloaded:   0%|          | 0/1 [00:00<?, ?file/s]"
      ]
     },
     "metadata": {},
     "output_type": "display_data"
    },
    {
     "data": {
      "application/vnd.jupyter.widget-view+json": {
       "model_id": "5bf8e6695fc44d9587b3dad3907ae9ce",
       "version_major": 2,
       "version_minor": 0
      },
      "text/plain": [
       "Files Downloaded:   0%|          | 0/1 [00:00<?, ?file/s]"
      ]
     },
     "metadata": {},
     "output_type": "display_data"
    },
    {
     "data": {
      "application/vnd.jupyter.widget-view+json": {
       "model_id": "edd43d39795a44f8a45f0640658685f5",
       "version_major": 2,
       "version_minor": 0
      },
      "text/plain": [
       "Files Downloaded:   0%|          | 0/1 [00:00<?, ?file/s]"
      ]
     },
     "metadata": {},
     "output_type": "display_data"
    },
    {
     "data": {
      "application/vnd.jupyter.widget-view+json": {
       "model_id": "cd45a7e1089f4664b98d3ec657ddc191",
       "version_major": 2,
       "version_minor": 0
      },
      "text/plain": [
       "Files Downloaded:   0%|          | 0/1 [00:00<?, ?file/s]"
      ]
     },
     "metadata": {},
     "output_type": "display_data"
    },
    {
     "data": {
      "application/vnd.jupyter.widget-view+json": {
       "model_id": "fd2cd88e33364e2ea687f42dbd84cd54",
       "version_major": 2,
       "version_minor": 0
      },
      "text/plain": [
       "Files Downloaded:   0%|          | 0/1 [00:00<?, ?file/s]"
      ]
     },
     "metadata": {},
     "output_type": "display_data"
    },
    {
     "data": {
      "application/vnd.jupyter.widget-view+json": {
       "model_id": "4bd94162de424cfea3ceb4405593e1eb",
       "version_major": 2,
       "version_minor": 0
      },
      "text/plain": [
       "Files Downloaded:   0%|          | 0/1 [00:00<?, ?file/s]"
      ]
     },
     "metadata": {},
     "output_type": "display_data"
    },
    {
     "data": {
      "application/vnd.jupyter.widget-view+json": {
       "model_id": "",
       "version_major": 2,
       "version_minor": 0
      },
      "text/plain": [
       "solo_L1_stix-sci-xray-cpd_20221114T190411-20221114T200012_V01_2211149211-54888.fits:   0%|          | 0.00/3.9…"
      ]
     },
     "metadata": {},
     "output_type": "display_data"
    },
    {
     "data": {
      "application/vnd.jupyter.widget-view+json": {
       "model_id": "9022947765e346339ec9da3778ff2126",
       "version_major": 2,
       "version_minor": 0
      },
      "text/plain": [
       "Files Downloaded:   0%|          | 0/1 [00:00<?, ?file/s]"
      ]
     },
     "metadata": {},
     "output_type": "display_data"
    },
    {
     "data": {
      "application/vnd.jupyter.widget-view+json": {
       "model_id": "7c1e9f9d7ffd492392baeb758d51afaf",
       "version_major": 2,
       "version_minor": 0
      },
      "text/plain": [
       "Files Downloaded:   0%|          | 0/1 [00:00<?, ?file/s]"
      ]
     },
     "metadata": {},
     "output_type": "display_data"
    },
    {
     "data": {
      "application/vnd.jupyter.widget-view+json": {
       "model_id": "",
       "version_major": 2,
       "version_minor": 0
      },
      "text/plain": [
       "solo_L1_stix-sci-xray-cpd_20221114T200258-20221114T201024_V01_2211144192-54889.fits:   0%|          | 0.00/69.…"
      ]
     },
     "metadata": {},
     "output_type": "display_data"
    },
    {
     "data": {
      "application/vnd.jupyter.widget-view+json": {
       "model_id": "0dc2d78e85e643b4833fd74435559724",
       "version_major": 2,
       "version_minor": 0
      },
      "text/plain": [
       "Files Downloaded:   0%|          | 0/1 [00:00<?, ?file/s]"
      ]
     },
     "metadata": {},
     "output_type": "display_data"
    },
    {
     "data": {
      "application/vnd.jupyter.widget-view+json": {
       "model_id": "70db4ded8fb14fcfb9fc6040a381384c",
       "version_major": 2,
       "version_minor": 0
      },
      "text/plain": [
       "Files Downloaded:   0%|          | 0/1 [00:00<?, ?file/s]"
      ]
     },
     "metadata": {},
     "output_type": "display_data"
    },
    {
     "data": {
      "application/vnd.jupyter.widget-view+json": {
       "model_id": "",
       "version_major": 2,
       "version_minor": 0
      },
      "text/plain": [
       "solo_L1_stix-sci-xray-cpd_20221114T203522-20221114T205119_V01_2211149647-54890.fits:   0%|          | 0.00/469…"
      ]
     },
     "metadata": {},
     "output_type": "display_data"
    },
    {
     "data": {
      "application/vnd.jupyter.widget-view+json": {
       "model_id": "bcd5791814364d9ebf3176a691fee0f1",
       "version_major": 2,
       "version_minor": 0
      },
      "text/plain": [
       "Files Downloaded:   0%|          | 0/1 [00:00<?, ?file/s]"
      ]
     },
     "metadata": {},
     "output_type": "display_data"
    },
    {
     "data": {
      "application/vnd.jupyter.widget-view+json": {
       "model_id": "d88b360a40344ec88d16bbb0bd31d768",
       "version_major": 2,
       "version_minor": 0
      },
      "text/plain": [
       "Files Downloaded:   0%|          | 0/1 [00:00<?, ?file/s]"
      ]
     },
     "metadata": {},
     "output_type": "display_data"
    },
    {
     "data": {
      "application/vnd.jupyter.widget-view+json": {
       "model_id": "",
       "version_major": 2,
       "version_minor": 0
      },
      "text/plain": [
       "solo_L1_stix-sci-xray-cpd_20221114T210919-20221114T211606_V01_2211148609-54891.fits:   0%|          | 0.00/1.7…"
      ]
     },
     "metadata": {},
     "output_type": "display_data"
    },
    {
     "data": {
      "application/vnd.jupyter.widget-view+json": {
       "model_id": "34ddc6c69f66498aa528b306c74a8b14",
       "version_major": 2,
       "version_minor": 0
      },
      "text/plain": [
       "Files Downloaded:   0%|          | 0/1 [00:00<?, ?file/s]"
      ]
     },
     "metadata": {},
     "output_type": "display_data"
    },
    {
     "data": {
      "application/vnd.jupyter.widget-view+json": {
       "model_id": "cd108121352340778445865f00b01458",
       "version_major": 2,
       "version_minor": 0
      },
      "text/plain": [
       "Files Downloaded:   0%|          | 0/1 [00:00<?, ?file/s]"
      ]
     },
     "metadata": {},
     "output_type": "display_data"
    },
    {
     "data": {
      "application/vnd.jupyter.widget-view+json": {
       "model_id": "",
       "version_major": 2,
       "version_minor": 0
      },
      "text/plain": [
       "solo_L1_stix-sci-xray-cpd_20221114T212938-20221114T214539_V01_2211141558-54893.fits:   0%|          | 0.00/444…"
      ]
     },
     "metadata": {},
     "output_type": "display_data"
    },
    {
     "data": {
      "application/vnd.jupyter.widget-view+json": {
       "model_id": "82b39ea9116449ea82d05abe239b6960",
       "version_major": 2,
       "version_minor": 0
      },
      "text/plain": [
       "Files Downloaded:   0%|          | 0/1 [00:00<?, ?file/s]"
      ]
     },
     "metadata": {},
     "output_type": "display_data"
    },
    {
     "data": {
      "application/vnd.jupyter.widget-view+json": {
       "model_id": "83f8c6784a6e4f55aae23e9e932108f0",
       "version_major": 2,
       "version_minor": 0
      },
      "text/plain": [
       "Files Downloaded:   0%|          | 0/1 [00:00<?, ?file/s]"
      ]
     },
     "metadata": {},
     "output_type": "display_data"
    },
    {
     "data": {
      "application/vnd.jupyter.widget-view+json": {
       "model_id": "be7b0aea0a75457791522aa47d370bf7",
       "version_major": 2,
       "version_minor": 0
      },
      "text/plain": [
       "Files Downloaded:   0%|          | 0/1 [00:00<?, ?file/s]"
      ]
     },
     "metadata": {},
     "output_type": "display_data"
    },
    {
     "data": {
      "application/vnd.jupyter.widget-view+json": {
       "model_id": "b815533c131b40cb9a1a4b9ac52c68a1",
       "version_major": 2,
       "version_minor": 0
      },
      "text/plain": [
       "Files Downloaded:   0%|          | 0/1 [00:00<?, ?file/s]"
      ]
     },
     "metadata": {},
     "output_type": "display_data"
    },
    {
     "data": {
      "application/vnd.jupyter.widget-view+json": {
       "model_id": "",
       "version_major": 2,
       "version_minor": 0
      },
      "text/plain": [
       "solo_L1_stix-sci-xray-cpd_20221114T214344-20221114T220820_V01_2211145517-54894.fits:   0%|          | 0.00/366…"
      ]
     },
     "metadata": {},
     "output_type": "display_data"
    },
    {
     "data": {
      "application/vnd.jupyter.widget-view+json": {
       "model_id": "6c478374aefd417cb87efbcf4fd9866f",
       "version_major": 2,
       "version_minor": 0
      },
      "text/plain": [
       "Files Downloaded:   0%|          | 0/1 [00:00<?, ?file/s]"
      ]
     },
     "metadata": {},
     "output_type": "display_data"
    },
    {
     "data": {
      "application/vnd.jupyter.widget-view+json": {
       "model_id": "0146de5758004f05becc60a02c703b8d",
       "version_major": 2,
       "version_minor": 0
      },
      "text/plain": [
       "Files Downloaded:   0%|          | 0/1 [00:00<?, ?file/s]"
      ]
     },
     "metadata": {},
     "output_type": "display_data"
    },
    {
     "data": {
      "application/vnd.jupyter.widget-view+json": {
       "model_id": "",
       "version_major": 2,
       "version_minor": 0
      },
      "text/plain": [
       "solo_L1_stix-sci-xray-cpd_20221114T221558-20221114T231318_V01_2211147867-54895.fits:   0%|          | 0.00/786…"
      ]
     },
     "metadata": {},
     "output_type": "display_data"
    },
    {
     "data": {
      "application/vnd.jupyter.widget-view+json": {
       "model_id": "2a458b358ec64123b5fb2bb033d1c16d",
       "version_major": 2,
       "version_minor": 0
      },
      "text/plain": [
       "Files Downloaded:   0%|          | 0/1 [00:00<?, ?file/s]"
      ]
     },
     "metadata": {},
     "output_type": "display_data"
    },
    {
     "data": {
      "application/vnd.jupyter.widget-view+json": {
       "model_id": "30cfa1108de145f6a8d69722ed2da2f0",
       "version_major": 2,
       "version_minor": 0
      },
      "text/plain": [
       "Files Downloaded:   0%|          | 0/1 [00:00<?, ?file/s]"
      ]
     },
     "metadata": {},
     "output_type": "display_data"
    },
    {
     "data": {
      "application/vnd.jupyter.widget-view+json": {
       "model_id": "5a17fb928f5c43b6a444de4aec780364",
       "version_major": 2,
       "version_minor": 0
      },
      "text/plain": [
       "Files Downloaded:   0%|          | 0/1 [00:00<?, ?file/s]"
      ]
     },
     "metadata": {},
     "output_type": "display_data"
    },
    {
     "data": {
      "application/vnd.jupyter.widget-view+json": {
       "model_id": "d1cec0d0f2b840b7b38f44c2b080d3eb",
       "version_major": 2,
       "version_minor": 0
      },
      "text/plain": [
       "Files Downloaded:   0%|          | 0/1 [00:00<?, ?file/s]"
      ]
     },
     "metadata": {},
     "output_type": "display_data"
    },
    {
     "data": {
      "application/vnd.jupyter.widget-view+json": {
       "model_id": "",
       "version_major": 2,
       "version_minor": 0
      },
      "text/plain": [
       "solo_L1_stix-sci-xray-cpd_20221114T232129-20221115T000832_V01_2211141248-54896.fits:   0%|          | 0.00/1.2…"
      ]
     },
     "metadata": {},
     "output_type": "display_data"
    },
    {
     "data": {
      "application/vnd.jupyter.widget-view+json": {
       "model_id": "5df7b33f86c448c2b898646608669a08",
       "version_major": 2,
       "version_minor": 0
      },
      "text/plain": [
       "Files Downloaded:   0%|          | 0/1 [00:00<?, ?file/s]"
      ]
     },
     "metadata": {},
     "output_type": "display_data"
    },
    {
     "data": {
      "application/vnd.jupyter.widget-view+json": {
       "model_id": "95f84cf2422841d4b9d1559247c4f18c",
       "version_major": 2,
       "version_minor": 0
      },
      "text/plain": [
       "Files Downloaded:   0%|          | 0/1 [00:00<?, ?file/s]"
      ]
     },
     "metadata": {},
     "output_type": "display_data"
    },
    {
     "data": {
      "application/vnd.jupyter.widget-view+json": {
       "model_id": "6c1d23cb5d3e4776aeb7c8f7fd0d547e",
       "version_major": 2,
       "version_minor": 0
      },
      "text/plain": [
       "Files Downloaded:   0%|          | 0/1 [00:00<?, ?file/s]"
      ]
     },
     "metadata": {},
     "output_type": "display_data"
    }
   ],
   "source": [
    "aux_paths = []\n",
    "pixel_paths = []\n",
    "for i in range(len(stix_flare_w_files)):\n",
    "    row = stix_flare_w_files.iloc[i]\n",
    "    tstart, tend, request_id = row[\"start_UTC\"], row[\"end_UTC\"], row[\"Request IDs\"]\n",
    "    pixel_paths.append(get_pixel_data(tstart, tend, request_id))\n",
    "    aux_paths.append(get_aux_data(tstart, tend))\n",
    "    "
   ]
  },
  {
   "cell_type": "code",
   "execution_count": 24,
   "id": "e7313a56-d883-4697-b17a-d0856a1b5770",
   "metadata": {},
   "outputs": [],
   "source": [
    "stix_flare_w_files[\"aux_paths\"] = aux_paths\n",
    "stix_flare_w_files[\"pixel_paths\"] = pixel_paths"
   ]
  },
  {
   "cell_type": "code",
   "execution_count": 25,
   "id": "d55688f9",
   "metadata": {},
   "outputs": [
    {
     "data": {
      "text/html": [
       "<div>\n",
       "<style scoped>\n",
       "    .dataframe tbody tr th:only-of-type {\n",
       "        vertical-align: middle;\n",
       "    }\n",
       "\n",
       "    .dataframe tbody tr th {\n",
       "        vertical-align: top;\n",
       "    }\n",
       "\n",
       "    .dataframe thead th {\n",
       "        text-align: right;\n",
       "    }\n",
       "</style>\n",
       "<table border=\"1\" class=\"dataframe\">\n",
       "  <thead>\n",
       "    <tr style=\"text-align: right;\">\n",
       "      <th></th>\n",
       "      <th>flare_id</th>\n",
       "      <th>att_in</th>\n",
       "      <th>GOES_flux</th>\n",
       "      <th>start_UTC</th>\n",
       "      <th>peak_UTC</th>\n",
       "      <th>end_UTC</th>\n",
       "      <th>4-10 keV</th>\n",
       "      <th>10-15 keV</th>\n",
       "      <th>number_available_files</th>\n",
       "      <th>available_file_request_IDs</th>\n",
       "      <th>solo_lat</th>\n",
       "      <th>solo_lon</th>\n",
       "      <th>solo_AU_distance</th>\n",
       "      <th>15-25 keV</th>\n",
       "      <th>25-50 keV</th>\n",
       "      <th>50-84 keV</th>\n",
       "      <th>GOES_class</th>\n",
       "      <th>Request IDs</th>\n",
       "      <th>aux_paths</th>\n",
       "      <th>pixel_paths</th>\n",
       "    </tr>\n",
       "  </thead>\n",
       "  <tbody>\n",
       "    <tr>\n",
       "      <th>0</th>\n",
       "      <td>2211090050</td>\n",
       "      <td>False</td>\n",
       "      <td>6.073233e-07</td>\n",
       "      <td>2022-11-09T00:44:44.012</td>\n",
       "      <td>2022-11-09 00:50:20.013</td>\n",
       "      <td>2022-11-09T00:52:56.013</td>\n",
       "      <td>1215</td>\n",
       "      <td>271</td>\n",
       "      <td>1</td>\n",
       "      <td>[2211090305]</td>\n",
       "      <td>9.180063</td>\n",
       "      <td>-24.156920</td>\n",
       "      <td>0.590873</td>\n",
       "      <td>135</td>\n",
       "      <td>799</td>\n",
       "      <td>463</td>\n",
       "      <td>B6.1</td>\n",
       "      <td>2211090305</td>\n",
       "      <td>./aux_data/solo_L2_stix-aux-ephemeris_20221109...</td>\n",
       "      <td>./pixel_data/solo_L1_stix-sci-xray-cpd_2022110...</td>\n",
       "    </tr>\n",
       "    <tr>\n",
       "      <th>1</th>\n",
       "      <td>2211090720</td>\n",
       "      <td>False</td>\n",
       "      <td>9.645386e-07</td>\n",
       "      <td>2022-11-09T07:18:12.052</td>\n",
       "      <td>2022-11-09 07:20:44.052</td>\n",
       "      <td>2022-11-09T07:28:40.053</td>\n",
       "      <td>2431</td>\n",
       "      <td>247</td>\n",
       "      <td>1</td>\n",
       "      <td>[2211091049]</td>\n",
       "      <td>9.176525</td>\n",
       "      <td>-23.910781</td>\n",
       "      <td>0.594137</td>\n",
       "      <td>115</td>\n",
       "      <td>799</td>\n",
       "      <td>463</td>\n",
       "      <td>B9.6</td>\n",
       "      <td>2211091049</td>\n",
       "      <td>./aux_data/solo_L2_stix-aux-ephemeris_20221109...</td>\n",
       "      <td>./pixel_data/solo_L1_stix-sci-xray-cpd_2022110...</td>\n",
       "    </tr>\n",
       "    <tr>\n",
       "      <th>2</th>\n",
       "      <td>2211090908</td>\n",
       "      <td>False</td>\n",
       "      <td>6.582638e-07</td>\n",
       "      <td>2022-11-09T08:58:40.062</td>\n",
       "      <td>2022-11-09 09:08:44.063</td>\n",
       "      <td>2022-11-09T09:14:56.064</td>\n",
       "      <td>607</td>\n",
       "      <td>135</td>\n",
       "      <td>1</td>\n",
       "      <td>[2211096407]</td>\n",
       "      <td>9.175424</td>\n",
       "      <td>-23.843695</td>\n",
       "      <td>0.595037</td>\n",
       "      <td>107</td>\n",
       "      <td>863</td>\n",
       "      <td>463</td>\n",
       "      <td>B6.6</td>\n",
       "      <td>2211096407</td>\n",
       "      <td>./aux_data/solo_L2_stix-aux-ephemeris_20221109...</td>\n",
       "      <td>./pixel_data/solo_L1_stix-sci-xray-cpd_2022110...</td>\n",
       "    </tr>\n",
       "    <tr>\n",
       "      <th>3</th>\n",
       "      <td>2211090958</td>\n",
       "      <td>False</td>\n",
       "      <td>6.191904e-07</td>\n",
       "      <td>2022-11-09T09:55:28.068</td>\n",
       "      <td>2022-11-09 09:58:44.069</td>\n",
       "      <td>2022-11-09T10:06:04.069</td>\n",
       "      <td>607</td>\n",
       "      <td>75</td>\n",
       "      <td>1</td>\n",
       "      <td>[2211091409]</td>\n",
       "      <td>9.174897</td>\n",
       "      <td>-23.812783</td>\n",
       "      <td>0.595453</td>\n",
       "      <td>75</td>\n",
       "      <td>799</td>\n",
       "      <td>463</td>\n",
       "      <td>B6.2</td>\n",
       "      <td>2211091409</td>\n",
       "      <td>./aux_data/solo_L2_stix-aux-ephemeris_20221109...</td>\n",
       "      <td>./pixel_data/solo_L1_stix-sci-xray-cpd_2022110...</td>\n",
       "    </tr>\n",
       "    <tr>\n",
       "      <th>4</th>\n",
       "      <td>2211091013</td>\n",
       "      <td>False</td>\n",
       "      <td>6.162408e-07</td>\n",
       "      <td>2022-11-09T10:11:28.070</td>\n",
       "      <td>2022-11-09 10:13:24.070</td>\n",
       "      <td>2022-11-09T10:16:24.070</td>\n",
       "      <td>735</td>\n",
       "      <td>115</td>\n",
       "      <td>1</td>\n",
       "      <td>[2211091673]</td>\n",
       "      <td>9.174741</td>\n",
       "      <td>-23.803733</td>\n",
       "      <td>0.595575</td>\n",
       "      <td>75</td>\n",
       "      <td>799</td>\n",
       "      <td>463</td>\n",
       "      <td>B6.2</td>\n",
       "      <td>2211091673</td>\n",
       "      <td>./aux_data/solo_L2_stix-aux-ephemeris_20221109...</td>\n",
       "      <td>./pixel_data/solo_L1_stix-sci-xray-cpd_2022110...</td>\n",
       "    </tr>\n",
       "  </tbody>\n",
       "</table>\n",
       "</div>"
      ],
      "text/plain": [
       "     flare_id  att_in     GOES_flux                start_UTC  \\\n",
       "0  2211090050   False  6.073233e-07  2022-11-09T00:44:44.012   \n",
       "1  2211090720   False  9.645386e-07  2022-11-09T07:18:12.052   \n",
       "2  2211090908   False  6.582638e-07  2022-11-09T08:58:40.062   \n",
       "3  2211090958   False  6.191904e-07  2022-11-09T09:55:28.068   \n",
       "4  2211091013   False  6.162408e-07  2022-11-09T10:11:28.070   \n",
       "\n",
       "                  peak_UTC                  end_UTC  4-10 keV  10-15 keV  \\\n",
       "0  2022-11-09 00:50:20.013  2022-11-09T00:52:56.013      1215        271   \n",
       "1  2022-11-09 07:20:44.052  2022-11-09T07:28:40.053      2431        247   \n",
       "2  2022-11-09 09:08:44.063  2022-11-09T09:14:56.064       607        135   \n",
       "3  2022-11-09 09:58:44.069  2022-11-09T10:06:04.069       607         75   \n",
       "4  2022-11-09 10:13:24.070  2022-11-09T10:16:24.070       735        115   \n",
       "\n",
       "   number_available_files available_file_request_IDs  solo_lat   solo_lon  \\\n",
       "0                       1               [2211090305]  9.180063 -24.156920   \n",
       "1                       1               [2211091049]  9.176525 -23.910781   \n",
       "2                       1               [2211096407]  9.175424 -23.843695   \n",
       "3                       1               [2211091409]  9.174897 -23.812783   \n",
       "4                       1               [2211091673]  9.174741 -23.803733   \n",
       "\n",
       "   solo_AU_distance  15-25 keV  25-50 keV  50-84 keV GOES_class Request IDs  \\\n",
       "0          0.590873        135        799        463       B6.1  2211090305   \n",
       "1          0.594137        115        799        463       B9.6  2211091049   \n",
       "2          0.595037        107        863        463       B6.6  2211096407   \n",
       "3          0.595453         75        799        463       B6.2  2211091409   \n",
       "4          0.595575         75        799        463       B6.2  2211091673   \n",
       "\n",
       "                                           aux_paths  \\\n",
       "0  ./aux_data/solo_L2_stix-aux-ephemeris_20221109...   \n",
       "1  ./aux_data/solo_L2_stix-aux-ephemeris_20221109...   \n",
       "2  ./aux_data/solo_L2_stix-aux-ephemeris_20221109...   \n",
       "3  ./aux_data/solo_L2_stix-aux-ephemeris_20221109...   \n",
       "4  ./aux_data/solo_L2_stix-aux-ephemeris_20221109...   \n",
       "\n",
       "                                         pixel_paths  \n",
       "0  ./pixel_data/solo_L1_stix-sci-xray-cpd_2022110...  \n",
       "1  ./pixel_data/solo_L1_stix-sci-xray-cpd_2022110...  \n",
       "2  ./pixel_data/solo_L1_stix-sci-xray-cpd_2022110...  \n",
       "3  ./pixel_data/solo_L1_stix-sci-xray-cpd_2022110...  \n",
       "4  ./pixel_data/solo_L1_stix-sci-xray-cpd_2022110...  "
      ]
     },
     "execution_count": 25,
     "metadata": {},
     "output_type": "execute_result"
    }
   ],
   "source": [
    "stix_flare_w_files.head()"
   ]
  },
  {
   "cell_type": "code",
   "execution_count": 30,
   "id": "1138808a",
   "metadata": {},
   "outputs": [
    {
     "data": {
      "text/plain": [
       "flare_id                                   2211112315\n",
       "duration                                         1564\n",
       "att_in                                          False\n",
       "peak_UTC                      2022-11-11 23:15:11.946\n",
       "LC0_BKG                                    230.049349\n",
       "_id                                             18428\n",
       "GOES_class                                       B9.6\n",
       "GOES_flux                                    0.000001\n",
       "CFL_X_arcsec                                      NaN\n",
       "CFL_Y_arcsec                                      NaN\n",
       "start_UTC                     2022-11-11T23:00:47.944\n",
       "end_UTC                       2022-11-11T23:26:51.947\n",
       "4-10 keV                                          735\n",
       "LC0_BKG_COUNTS_4S                               247.0\n",
       "10-15 keV                                          75\n",
       "LC1_BKG_COUNTS_4S                                45.0\n",
       "15-25 keV                                          83\n",
       "LC2_BKG_COUNTS_4S                                57.0\n",
       "25-50 keV                                         863\n",
       "LC3_BKG_COUNTS_4S                               735.0\n",
       "50-84 keV                                         463\n",
       "LC4_BKG_COUNTS_4S                               399.0\n",
       "number_available_files                              1\n",
       "available_file_request_IDs               [2211118361]\n",
       "solo_lat                                     9.108746\n",
       "solo_lon                                   -21.777321\n",
       "solo_AU_distance                             0.625384\n",
       "Name: 163, dtype: object"
      ]
     },
     "execution_count": 30,
     "metadata": {},
     "output_type": "execute_result"
    }
   ],
   "source": [
    "stix_big_flares.iloc[-1]"
   ]
  },
  {
   "cell_type": "code",
   "execution_count": 24,
   "id": "b1e70334",
   "metadata": {},
   "outputs": [],
   "source": [
    "# stix_flare_w_files[\"15-25 keV\"] = stix_big_flares['15-25 keV']\n",
    "# stix_flare_w_files['25-50 keV'] = stix_big_flares['25-50 keV']\n",
    "# stix_flare_w_files['50-84 keV'] = stix_big_flares['50-84 keV']\n",
    "# stix_flare_w_files['GOES_class'] = stix_big_flares['GOES_class']"
   ]
  },
  {
   "cell_type": "code",
   "execution_count": 26,
   "id": "4432d8bc",
   "metadata": {},
   "outputs": [
    {
     "data": {
      "text/html": [
       "<div>\n",
       "<style scoped>\n",
       "    .dataframe tbody tr th:only-of-type {\n",
       "        vertical-align: middle;\n",
       "    }\n",
       "\n",
       "    .dataframe tbody tr th {\n",
       "        vertical-align: top;\n",
       "    }\n",
       "\n",
       "    .dataframe thead th {\n",
       "        text-align: right;\n",
       "    }\n",
       "</style>\n",
       "<table border=\"1\" class=\"dataframe\">\n",
       "  <thead>\n",
       "    <tr style=\"text-align: right;\">\n",
       "      <th></th>\n",
       "      <th>flare_id</th>\n",
       "      <th>att_in</th>\n",
       "      <th>GOES_flux</th>\n",
       "      <th>start_UTC</th>\n",
       "      <th>peak_UTC</th>\n",
       "      <th>end_UTC</th>\n",
       "      <th>4-10 keV</th>\n",
       "      <th>10-15 keV</th>\n",
       "      <th>number_available_files</th>\n",
       "      <th>available_file_request_IDs</th>\n",
       "      <th>solo_lat</th>\n",
       "      <th>solo_lon</th>\n",
       "      <th>solo_AU_distance</th>\n",
       "      <th>15-25 keV</th>\n",
       "      <th>25-50 keV</th>\n",
       "      <th>50-84 keV</th>\n",
       "      <th>GOES_class</th>\n",
       "      <th>Request IDs</th>\n",
       "      <th>aux_paths</th>\n",
       "      <th>pixel_paths</th>\n",
       "    </tr>\n",
       "  </thead>\n",
       "  <tbody>\n",
       "    <tr>\n",
       "      <th>0</th>\n",
       "      <td>2211090050</td>\n",
       "      <td>False</td>\n",
       "      <td>6.073233e-07</td>\n",
       "      <td>2022-11-09T00:44:44.012</td>\n",
       "      <td>2022-11-09 00:50:20.013</td>\n",
       "      <td>2022-11-09T00:52:56.013</td>\n",
       "      <td>1215</td>\n",
       "      <td>271</td>\n",
       "      <td>1</td>\n",
       "      <td>[2211090305]</td>\n",
       "      <td>9.180063</td>\n",
       "      <td>-24.156920</td>\n",
       "      <td>0.590873</td>\n",
       "      <td>135</td>\n",
       "      <td>799</td>\n",
       "      <td>463</td>\n",
       "      <td>B6.1</td>\n",
       "      <td>2211090305</td>\n",
       "      <td>./aux_data/solo_L2_stix-aux-ephemeris_20221109...</td>\n",
       "      <td>./pixel_data/solo_L1_stix-sci-xray-cpd_2022110...</td>\n",
       "    </tr>\n",
       "    <tr>\n",
       "      <th>1</th>\n",
       "      <td>2211090720</td>\n",
       "      <td>False</td>\n",
       "      <td>9.645386e-07</td>\n",
       "      <td>2022-11-09T07:18:12.052</td>\n",
       "      <td>2022-11-09 07:20:44.052</td>\n",
       "      <td>2022-11-09T07:28:40.053</td>\n",
       "      <td>2431</td>\n",
       "      <td>247</td>\n",
       "      <td>1</td>\n",
       "      <td>[2211091049]</td>\n",
       "      <td>9.176525</td>\n",
       "      <td>-23.910781</td>\n",
       "      <td>0.594137</td>\n",
       "      <td>115</td>\n",
       "      <td>799</td>\n",
       "      <td>463</td>\n",
       "      <td>B9.6</td>\n",
       "      <td>2211091049</td>\n",
       "      <td>./aux_data/solo_L2_stix-aux-ephemeris_20221109...</td>\n",
       "      <td>./pixel_data/solo_L1_stix-sci-xray-cpd_2022110...</td>\n",
       "    </tr>\n",
       "    <tr>\n",
       "      <th>2</th>\n",
       "      <td>2211090908</td>\n",
       "      <td>False</td>\n",
       "      <td>6.582638e-07</td>\n",
       "      <td>2022-11-09T08:58:40.062</td>\n",
       "      <td>2022-11-09 09:08:44.063</td>\n",
       "      <td>2022-11-09T09:14:56.064</td>\n",
       "      <td>607</td>\n",
       "      <td>135</td>\n",
       "      <td>1</td>\n",
       "      <td>[2211096407]</td>\n",
       "      <td>9.175424</td>\n",
       "      <td>-23.843695</td>\n",
       "      <td>0.595037</td>\n",
       "      <td>107</td>\n",
       "      <td>863</td>\n",
       "      <td>463</td>\n",
       "      <td>B6.6</td>\n",
       "      <td>2211096407</td>\n",
       "      <td>./aux_data/solo_L2_stix-aux-ephemeris_20221109...</td>\n",
       "      <td>./pixel_data/solo_L1_stix-sci-xray-cpd_2022110...</td>\n",
       "    </tr>\n",
       "    <tr>\n",
       "      <th>3</th>\n",
       "      <td>2211090958</td>\n",
       "      <td>False</td>\n",
       "      <td>6.191904e-07</td>\n",
       "      <td>2022-11-09T09:55:28.068</td>\n",
       "      <td>2022-11-09 09:58:44.069</td>\n",
       "      <td>2022-11-09T10:06:04.069</td>\n",
       "      <td>607</td>\n",
       "      <td>75</td>\n",
       "      <td>1</td>\n",
       "      <td>[2211091409]</td>\n",
       "      <td>9.174897</td>\n",
       "      <td>-23.812783</td>\n",
       "      <td>0.595453</td>\n",
       "      <td>75</td>\n",
       "      <td>799</td>\n",
       "      <td>463</td>\n",
       "      <td>B6.2</td>\n",
       "      <td>2211091409</td>\n",
       "      <td>./aux_data/solo_L2_stix-aux-ephemeris_20221109...</td>\n",
       "      <td>./pixel_data/solo_L1_stix-sci-xray-cpd_2022110...</td>\n",
       "    </tr>\n",
       "    <tr>\n",
       "      <th>4</th>\n",
       "      <td>2211091013</td>\n",
       "      <td>False</td>\n",
       "      <td>6.162408e-07</td>\n",
       "      <td>2022-11-09T10:11:28.070</td>\n",
       "      <td>2022-11-09 10:13:24.070</td>\n",
       "      <td>2022-11-09T10:16:24.070</td>\n",
       "      <td>735</td>\n",
       "      <td>115</td>\n",
       "      <td>1</td>\n",
       "      <td>[2211091673]</td>\n",
       "      <td>9.174741</td>\n",
       "      <td>-23.803733</td>\n",
       "      <td>0.595575</td>\n",
       "      <td>75</td>\n",
       "      <td>799</td>\n",
       "      <td>463</td>\n",
       "      <td>B6.2</td>\n",
       "      <td>2211091673</td>\n",
       "      <td>./aux_data/solo_L2_stix-aux-ephemeris_20221109...</td>\n",
       "      <td>./pixel_data/solo_L1_stix-sci-xray-cpd_2022110...</td>\n",
       "    </tr>\n",
       "    <tr>\n",
       "      <th>...</th>\n",
       "      <td>...</td>\n",
       "      <td>...</td>\n",
       "      <td>...</td>\n",
       "      <td>...</td>\n",
       "      <td>...</td>\n",
       "      <td>...</td>\n",
       "      <td>...</td>\n",
       "      <td>...</td>\n",
       "      <td>...</td>\n",
       "      <td>...</td>\n",
       "      <td>...</td>\n",
       "      <td>...</td>\n",
       "      <td>...</td>\n",
       "      <td>...</td>\n",
       "      <td>...</td>\n",
       "      <td>...</td>\n",
       "      <td>...</td>\n",
       "      <td>...</td>\n",
       "      <td>...</td>\n",
       "      <td>...</td>\n",
       "    </tr>\n",
       "    <tr>\n",
       "      <th>180</th>\n",
       "      <td>2211142151</td>\n",
       "      <td>False</td>\n",
       "      <td>4.388000e-06</td>\n",
       "      <td>2022-11-14T21:29:48.099</td>\n",
       "      <td>2022-11-14 21:51:20.101</td>\n",
       "      <td>2022-11-14T22:08:04.103</td>\n",
       "      <td>29695</td>\n",
       "      <td>2943</td>\n",
       "      <td>2</td>\n",
       "      <td>[2211145517, 2211140731]</td>\n",
       "      <td>8.978725</td>\n",
       "      <td>-19.941204</td>\n",
       "      <td>0.658157</td>\n",
       "      <td>335</td>\n",
       "      <td>863</td>\n",
       "      <td>463</td>\n",
       "      <td>C4.4</td>\n",
       "      <td>2211145517</td>\n",
       "      <td>./aux_data/solo_L2_stix-aux-ephemeris_20221114...</td>\n",
       "      <td>./pixel_data/solo_L1_stix-sci-xray-cpd_2022111...</td>\n",
       "    </tr>\n",
       "    <tr>\n",
       "      <th>181</th>\n",
       "      <td>2211142250</td>\n",
       "      <td>False</td>\n",
       "      <td>2.930119e-06</td>\n",
       "      <td>2022-11-14T22:19:44.104</td>\n",
       "      <td>2022-11-14 22:50:36.107</td>\n",
       "      <td>2022-11-14T23:08:28.109</td>\n",
       "      <td>6399</td>\n",
       "      <td>463</td>\n",
       "      <td>2</td>\n",
       "      <td>[2211147867, 2211143309]</td>\n",
       "      <td>8.976581</td>\n",
       "      <td>-19.918901</td>\n",
       "      <td>0.658602</td>\n",
       "      <td>123</td>\n",
       "      <td>799</td>\n",
       "      <td>463</td>\n",
       "      <td>C2.9</td>\n",
       "      <td>2211147867</td>\n",
       "      <td>./aux_data/solo_L2_stix-aux-ephemeris_20221114...</td>\n",
       "      <td>./pixel_data/solo_L1_stix-sci-xray-cpd_2022111...</td>\n",
       "    </tr>\n",
       "    <tr>\n",
       "      <th>182</th>\n",
       "      <td>2211142310</td>\n",
       "      <td>False</td>\n",
       "      <td>2.244843e-06</td>\n",
       "      <td>2022-11-14T23:09:56.109</td>\n",
       "      <td>2022-11-14 23:10:52.110</td>\n",
       "      <td>2022-11-14T23:11:48.110</td>\n",
       "      <td>543</td>\n",
       "      <td>67</td>\n",
       "      <td>1</td>\n",
       "      <td>[2211147867]</td>\n",
       "      <td>8.975846</td>\n",
       "      <td>-19.911295</td>\n",
       "      <td>0.658754</td>\n",
       "      <td>75</td>\n",
       "      <td>799</td>\n",
       "      <td>431</td>\n",
       "      <td>C2.2</td>\n",
       "      <td>2211147867</td>\n",
       "      <td>./aux_data/solo_L2_stix-aux-ephemeris_20221114...</td>\n",
       "      <td>./pixel_data/solo_L1_stix-sci-xray-cpd_2022111...</td>\n",
       "    </tr>\n",
       "    <tr>\n",
       "      <th>183</th>\n",
       "      <td>2211142324</td>\n",
       "      <td>False</td>\n",
       "      <td>1.959793e-06</td>\n",
       "      <td>2022-11-14T23:23:56.111</td>\n",
       "      <td>2022-11-14 23:24:48.111</td>\n",
       "      <td>2022-11-14T23:25:48.111</td>\n",
       "      <td>735</td>\n",
       "      <td>91</td>\n",
       "      <td>1</td>\n",
       "      <td>[2211141248]</td>\n",
       "      <td>8.975340</td>\n",
       "      <td>-19.906072</td>\n",
       "      <td>0.658859</td>\n",
       "      <td>91</td>\n",
       "      <td>799</td>\n",
       "      <td>431</td>\n",
       "      <td>C2.0</td>\n",
       "      <td>2211141248</td>\n",
       "      <td>./aux_data/solo_L2_stix-aux-ephemeris_20221114...</td>\n",
       "      <td>./pixel_data/solo_L1_stix-sci-xray-cpd_2022111...</td>\n",
       "    </tr>\n",
       "    <tr>\n",
       "      <th>184</th>\n",
       "      <td>2211142339</td>\n",
       "      <td>False</td>\n",
       "      <td>2.253802e-06</td>\n",
       "      <td>2022-11-14T23:23:56.111</td>\n",
       "      <td>2022-11-14 23:39:36.113</td>\n",
       "      <td>2022-11-14T23:59:36.115</td>\n",
       "      <td>3711</td>\n",
       "      <td>303</td>\n",
       "      <td>1</td>\n",
       "      <td>[2211141248]</td>\n",
       "      <td>8.974802</td>\n",
       "      <td>-19.900528</td>\n",
       "      <td>0.658970</td>\n",
       "      <td>99</td>\n",
       "      <td>863</td>\n",
       "      <td>463</td>\n",
       "      <td>C2.3</td>\n",
       "      <td>2211141248</td>\n",
       "      <td>./aux_data/solo_L2_stix-aux-ephemeris_20221114...</td>\n",
       "      <td>./pixel_data/solo_L1_stix-sci-xray-cpd_2022111...</td>\n",
       "    </tr>\n",
       "  </tbody>\n",
       "</table>\n",
       "<p>185 rows × 20 columns</p>\n",
       "</div>"
      ],
      "text/plain": [
       "       flare_id  att_in     GOES_flux                start_UTC  \\\n",
       "0    2211090050   False  6.073233e-07  2022-11-09T00:44:44.012   \n",
       "1    2211090720   False  9.645386e-07  2022-11-09T07:18:12.052   \n",
       "2    2211090908   False  6.582638e-07  2022-11-09T08:58:40.062   \n",
       "3    2211090958   False  6.191904e-07  2022-11-09T09:55:28.068   \n",
       "4    2211091013   False  6.162408e-07  2022-11-09T10:11:28.070   \n",
       "..          ...     ...           ...                      ...   \n",
       "180  2211142151   False  4.388000e-06  2022-11-14T21:29:48.099   \n",
       "181  2211142250   False  2.930119e-06  2022-11-14T22:19:44.104   \n",
       "182  2211142310   False  2.244843e-06  2022-11-14T23:09:56.109   \n",
       "183  2211142324   False  1.959793e-06  2022-11-14T23:23:56.111   \n",
       "184  2211142339   False  2.253802e-06  2022-11-14T23:23:56.111   \n",
       "\n",
       "                    peak_UTC                  end_UTC  4-10 keV  10-15 keV  \\\n",
       "0    2022-11-09 00:50:20.013  2022-11-09T00:52:56.013      1215        271   \n",
       "1    2022-11-09 07:20:44.052  2022-11-09T07:28:40.053      2431        247   \n",
       "2    2022-11-09 09:08:44.063  2022-11-09T09:14:56.064       607        135   \n",
       "3    2022-11-09 09:58:44.069  2022-11-09T10:06:04.069       607         75   \n",
       "4    2022-11-09 10:13:24.070  2022-11-09T10:16:24.070       735        115   \n",
       "..                       ...                      ...       ...        ...   \n",
       "180  2022-11-14 21:51:20.101  2022-11-14T22:08:04.103     29695       2943   \n",
       "181  2022-11-14 22:50:36.107  2022-11-14T23:08:28.109      6399        463   \n",
       "182  2022-11-14 23:10:52.110  2022-11-14T23:11:48.110       543         67   \n",
       "183  2022-11-14 23:24:48.111  2022-11-14T23:25:48.111       735         91   \n",
       "184  2022-11-14 23:39:36.113  2022-11-14T23:59:36.115      3711        303   \n",
       "\n",
       "     number_available_files available_file_request_IDs  solo_lat   solo_lon  \\\n",
       "0                         1               [2211090305]  9.180063 -24.156920   \n",
       "1                         1               [2211091049]  9.176525 -23.910781   \n",
       "2                         1               [2211096407]  9.175424 -23.843695   \n",
       "3                         1               [2211091409]  9.174897 -23.812783   \n",
       "4                         1               [2211091673]  9.174741 -23.803733   \n",
       "..                      ...                        ...       ...        ...   \n",
       "180                       2   [2211145517, 2211140731]  8.978725 -19.941204   \n",
       "181                       2   [2211147867, 2211143309]  8.976581 -19.918901   \n",
       "182                       1               [2211147867]  8.975846 -19.911295   \n",
       "183                       1               [2211141248]  8.975340 -19.906072   \n",
       "184                       1               [2211141248]  8.974802 -19.900528   \n",
       "\n",
       "     solo_AU_distance  15-25 keV  25-50 keV  50-84 keV GOES_class Request IDs  \\\n",
       "0            0.590873        135        799        463       B6.1  2211090305   \n",
       "1            0.594137        115        799        463       B9.6  2211091049   \n",
       "2            0.595037        107        863        463       B6.6  2211096407   \n",
       "3            0.595453         75        799        463       B6.2  2211091409   \n",
       "4            0.595575         75        799        463       B6.2  2211091673   \n",
       "..                ...        ...        ...        ...        ...         ...   \n",
       "180          0.658157        335        863        463       C4.4  2211145517   \n",
       "181          0.658602        123        799        463       C2.9  2211147867   \n",
       "182          0.658754         75        799        431       C2.2  2211147867   \n",
       "183          0.658859         91        799        431       C2.0  2211141248   \n",
       "184          0.658970         99        863        463       C2.3  2211141248   \n",
       "\n",
       "                                             aux_paths  \\\n",
       "0    ./aux_data/solo_L2_stix-aux-ephemeris_20221109...   \n",
       "1    ./aux_data/solo_L2_stix-aux-ephemeris_20221109...   \n",
       "2    ./aux_data/solo_L2_stix-aux-ephemeris_20221109...   \n",
       "3    ./aux_data/solo_L2_stix-aux-ephemeris_20221109...   \n",
       "4    ./aux_data/solo_L2_stix-aux-ephemeris_20221109...   \n",
       "..                                                 ...   \n",
       "180  ./aux_data/solo_L2_stix-aux-ephemeris_20221114...   \n",
       "181  ./aux_data/solo_L2_stix-aux-ephemeris_20221114...   \n",
       "182  ./aux_data/solo_L2_stix-aux-ephemeris_20221114...   \n",
       "183  ./aux_data/solo_L2_stix-aux-ephemeris_20221114...   \n",
       "184  ./aux_data/solo_L2_stix-aux-ephemeris_20221114...   \n",
       "\n",
       "                                           pixel_paths  \n",
       "0    ./pixel_data/solo_L1_stix-sci-xray-cpd_2022110...  \n",
       "1    ./pixel_data/solo_L1_stix-sci-xray-cpd_2022110...  \n",
       "2    ./pixel_data/solo_L1_stix-sci-xray-cpd_2022110...  \n",
       "3    ./pixel_data/solo_L1_stix-sci-xray-cpd_2022110...  \n",
       "4    ./pixel_data/solo_L1_stix-sci-xray-cpd_2022110...  \n",
       "..                                                 ...  \n",
       "180  ./pixel_data/solo_L1_stix-sci-xray-cpd_2022111...  \n",
       "181  ./pixel_data/solo_L1_stix-sci-xray-cpd_2022111...  \n",
       "182  ./pixel_data/solo_L1_stix-sci-xray-cpd_2022111...  \n",
       "183  ./pixel_data/solo_L1_stix-sci-xray-cpd_2022111...  \n",
       "184  ./pixel_data/solo_L1_stix-sci-xray-cpd_2022111...  \n",
       "\n",
       "[185 rows x 20 columns]"
      ]
     },
     "execution_count": 26,
     "metadata": {},
     "output_type": "execute_result"
    }
   ],
   "source": [
    "stix_flare_w_files"
   ]
  },
  {
   "cell_type": "code",
   "execution_count": 27,
   "id": "2905dff5-c7db-410d-8190-ac0157b893cb",
   "metadata": {},
   "outputs": [],
   "source": [
    "stix_flare_w_files.to_csv(\"full_flarelist_with_paths.csv\", index=False, index_label=False)"
   ]
  },
  {
   "cell_type": "code",
   "execution_count": null,
   "id": "d543c98d",
   "metadata": {},
   "outputs": [],
   "source": []
  },
  {
   "cell_type": "code",
   "execution_count": 1,
   "id": "c4d4a231-8d00-48e3-86bd-ad8f3a09991a",
   "metadata": {},
   "outputs": [],
   "source": [
    "import pandas as pd"
   ]
  },
  {
   "cell_type": "code",
   "execution_count": 28,
   "id": "7a6f6fcc-982f-4803-a9a8-a135b18b4910",
   "metadata": {},
   "outputs": [],
   "source": [
    "final_flares = pd.read_csv(\"full_flarelist_with_paths.csv\")"
   ]
  },
  {
   "cell_type": "code",
   "execution_count": 29,
   "id": "bc8a55fb-39f2-41d6-80ad-3ca7eb03d6d4",
   "metadata": {},
   "outputs": [
    {
     "data": {
      "text/html": [
       "<div>\n",
       "<style scoped>\n",
       "    .dataframe tbody tr th:only-of-type {\n",
       "        vertical-align: middle;\n",
       "    }\n",
       "\n",
       "    .dataframe tbody tr th {\n",
       "        vertical-align: top;\n",
       "    }\n",
       "\n",
       "    .dataframe thead th {\n",
       "        text-align: right;\n",
       "    }\n",
       "</style>\n",
       "<table border=\"1\" class=\"dataframe\">\n",
       "  <thead>\n",
       "    <tr style=\"text-align: right;\">\n",
       "      <th></th>\n",
       "      <th>flare_id</th>\n",
       "      <th>att_in</th>\n",
       "      <th>GOES_flux</th>\n",
       "      <th>start_UTC</th>\n",
       "      <th>peak_UTC</th>\n",
       "      <th>end_UTC</th>\n",
       "      <th>4-10 keV</th>\n",
       "      <th>10-15 keV</th>\n",
       "      <th>number_available_files</th>\n",
       "      <th>available_file_request_IDs</th>\n",
       "      <th>solo_lat</th>\n",
       "      <th>solo_lon</th>\n",
       "      <th>solo_AU_distance</th>\n",
       "      <th>15-25 keV</th>\n",
       "      <th>25-50 keV</th>\n",
       "      <th>50-84 keV</th>\n",
       "      <th>GOES_class</th>\n",
       "      <th>Request IDs</th>\n",
       "      <th>aux_paths</th>\n",
       "      <th>pixel_paths</th>\n",
       "    </tr>\n",
       "  </thead>\n",
       "  <tbody>\n",
       "    <tr>\n",
       "      <th>0</th>\n",
       "      <td>2211090050</td>\n",
       "      <td>False</td>\n",
       "      <td>6.073233e-07</td>\n",
       "      <td>2022-11-09T00:44:44.012</td>\n",
       "      <td>2022-11-09 00:50:20.013</td>\n",
       "      <td>2022-11-09T00:52:56.013</td>\n",
       "      <td>1215</td>\n",
       "      <td>271</td>\n",
       "      <td>1</td>\n",
       "      <td>[2211090305]</td>\n",
       "      <td>9.180063</td>\n",
       "      <td>-24.156920</td>\n",
       "      <td>0.590873</td>\n",
       "      <td>135</td>\n",
       "      <td>799</td>\n",
       "      <td>463</td>\n",
       "      <td>B6.1</td>\n",
       "      <td>2211090305</td>\n",
       "      <td>./aux_data/solo_L2_stix-aux-ephemeris_20221109...</td>\n",
       "      <td>./pixel_data/solo_L1_stix-sci-xray-cpd_2022110...</td>\n",
       "    </tr>\n",
       "    <tr>\n",
       "      <th>1</th>\n",
       "      <td>2211090720</td>\n",
       "      <td>False</td>\n",
       "      <td>9.645386e-07</td>\n",
       "      <td>2022-11-09T07:18:12.052</td>\n",
       "      <td>2022-11-09 07:20:44.052</td>\n",
       "      <td>2022-11-09T07:28:40.053</td>\n",
       "      <td>2431</td>\n",
       "      <td>247</td>\n",
       "      <td>1</td>\n",
       "      <td>[2211091049]</td>\n",
       "      <td>9.176525</td>\n",
       "      <td>-23.910781</td>\n",
       "      <td>0.594137</td>\n",
       "      <td>115</td>\n",
       "      <td>799</td>\n",
       "      <td>463</td>\n",
       "      <td>B9.6</td>\n",
       "      <td>2211091049</td>\n",
       "      <td>./aux_data/solo_L2_stix-aux-ephemeris_20221109...</td>\n",
       "      <td>./pixel_data/solo_L1_stix-sci-xray-cpd_2022110...</td>\n",
       "    </tr>\n",
       "    <tr>\n",
       "      <th>2</th>\n",
       "      <td>2211090908</td>\n",
       "      <td>False</td>\n",
       "      <td>6.582638e-07</td>\n",
       "      <td>2022-11-09T08:58:40.062</td>\n",
       "      <td>2022-11-09 09:08:44.063</td>\n",
       "      <td>2022-11-09T09:14:56.064</td>\n",
       "      <td>607</td>\n",
       "      <td>135</td>\n",
       "      <td>1</td>\n",
       "      <td>[2211096407]</td>\n",
       "      <td>9.175424</td>\n",
       "      <td>-23.843695</td>\n",
       "      <td>0.595037</td>\n",
       "      <td>107</td>\n",
       "      <td>863</td>\n",
       "      <td>463</td>\n",
       "      <td>B6.6</td>\n",
       "      <td>2211096407</td>\n",
       "      <td>./aux_data/solo_L2_stix-aux-ephemeris_20221109...</td>\n",
       "      <td>./pixel_data/solo_L1_stix-sci-xray-cpd_2022110...</td>\n",
       "    </tr>\n",
       "    <tr>\n",
       "      <th>3</th>\n",
       "      <td>2211090958</td>\n",
       "      <td>False</td>\n",
       "      <td>6.191904e-07</td>\n",
       "      <td>2022-11-09T09:55:28.068</td>\n",
       "      <td>2022-11-09 09:58:44.069</td>\n",
       "      <td>2022-11-09T10:06:04.069</td>\n",
       "      <td>607</td>\n",
       "      <td>75</td>\n",
       "      <td>1</td>\n",
       "      <td>[2211091409]</td>\n",
       "      <td>9.174897</td>\n",
       "      <td>-23.812783</td>\n",
       "      <td>0.595453</td>\n",
       "      <td>75</td>\n",
       "      <td>799</td>\n",
       "      <td>463</td>\n",
       "      <td>B6.2</td>\n",
       "      <td>2211091409</td>\n",
       "      <td>./aux_data/solo_L2_stix-aux-ephemeris_20221109...</td>\n",
       "      <td>./pixel_data/solo_L1_stix-sci-xray-cpd_2022110...</td>\n",
       "    </tr>\n",
       "    <tr>\n",
       "      <th>4</th>\n",
       "      <td>2211091013</td>\n",
       "      <td>False</td>\n",
       "      <td>6.162408e-07</td>\n",
       "      <td>2022-11-09T10:11:28.070</td>\n",
       "      <td>2022-11-09 10:13:24.070</td>\n",
       "      <td>2022-11-09T10:16:24.070</td>\n",
       "      <td>735</td>\n",
       "      <td>115</td>\n",
       "      <td>1</td>\n",
       "      <td>[2211091673]</td>\n",
       "      <td>9.174741</td>\n",
       "      <td>-23.803733</td>\n",
       "      <td>0.595575</td>\n",
       "      <td>75</td>\n",
       "      <td>799</td>\n",
       "      <td>463</td>\n",
       "      <td>B6.2</td>\n",
       "      <td>2211091673</td>\n",
       "      <td>./aux_data/solo_L2_stix-aux-ephemeris_20221109...</td>\n",
       "      <td>./pixel_data/solo_L1_stix-sci-xray-cpd_2022110...</td>\n",
       "    </tr>\n",
       "  </tbody>\n",
       "</table>\n",
       "</div>"
      ],
      "text/plain": [
       "     flare_id  att_in     GOES_flux                start_UTC  \\\n",
       "0  2211090050   False  6.073233e-07  2022-11-09T00:44:44.012   \n",
       "1  2211090720   False  9.645386e-07  2022-11-09T07:18:12.052   \n",
       "2  2211090908   False  6.582638e-07  2022-11-09T08:58:40.062   \n",
       "3  2211090958   False  6.191904e-07  2022-11-09T09:55:28.068   \n",
       "4  2211091013   False  6.162408e-07  2022-11-09T10:11:28.070   \n",
       "\n",
       "                  peak_UTC                  end_UTC  4-10 keV  10-15 keV  \\\n",
       "0  2022-11-09 00:50:20.013  2022-11-09T00:52:56.013      1215        271   \n",
       "1  2022-11-09 07:20:44.052  2022-11-09T07:28:40.053      2431        247   \n",
       "2  2022-11-09 09:08:44.063  2022-11-09T09:14:56.064       607        135   \n",
       "3  2022-11-09 09:58:44.069  2022-11-09T10:06:04.069       607         75   \n",
       "4  2022-11-09 10:13:24.070  2022-11-09T10:16:24.070       735        115   \n",
       "\n",
       "   number_available_files available_file_request_IDs  solo_lat   solo_lon  \\\n",
       "0                       1               [2211090305]  9.180063 -24.156920   \n",
       "1                       1               [2211091049]  9.176525 -23.910781   \n",
       "2                       1               [2211096407]  9.175424 -23.843695   \n",
       "3                       1               [2211091409]  9.174897 -23.812783   \n",
       "4                       1               [2211091673]  9.174741 -23.803733   \n",
       "\n",
       "   solo_AU_distance  15-25 keV  25-50 keV  50-84 keV GOES_class  Request IDs  \\\n",
       "0          0.590873        135        799        463       B6.1   2211090305   \n",
       "1          0.594137        115        799        463       B9.6   2211091049   \n",
       "2          0.595037        107        863        463       B6.6   2211096407   \n",
       "3          0.595453         75        799        463       B6.2   2211091409   \n",
       "4          0.595575         75        799        463       B6.2   2211091673   \n",
       "\n",
       "                                           aux_paths  \\\n",
       "0  ./aux_data/solo_L2_stix-aux-ephemeris_20221109...   \n",
       "1  ./aux_data/solo_L2_stix-aux-ephemeris_20221109...   \n",
       "2  ./aux_data/solo_L2_stix-aux-ephemeris_20221109...   \n",
       "3  ./aux_data/solo_L2_stix-aux-ephemeris_20221109...   \n",
       "4  ./aux_data/solo_L2_stix-aux-ephemeris_20221109...   \n",
       "\n",
       "                                         pixel_paths  \n",
       "0  ./pixel_data/solo_L1_stix-sci-xray-cpd_2022110...  \n",
       "1  ./pixel_data/solo_L1_stix-sci-xray-cpd_2022110...  \n",
       "2  ./pixel_data/solo_L1_stix-sci-xray-cpd_2022110...  \n",
       "3  ./pixel_data/solo_L1_stix-sci-xray-cpd_2022110...  \n",
       "4  ./pixel_data/solo_L1_stix-sci-xray-cpd_2022110...  "
      ]
     },
     "execution_count": 29,
     "metadata": {},
     "output_type": "execute_result"
    }
   ],
   "source": [
    "final_flares.head()"
   ]
  },
  {
   "cell_type": "code",
   "execution_count": 30,
   "id": "5d045730",
   "metadata": {},
   "outputs": [
    {
     "data": {
      "text/plain": [
       "185"
      ]
     },
     "execution_count": 30,
     "metadata": {},
     "output_type": "execute_result"
    }
   ],
   "source": [
    "len(final_flares)"
   ]
  },
  {
   "cell_type": "code",
   "execution_count": 31,
   "id": "a36fc362-ca83-4b52-b367-0b129170c6bb",
   "metadata": {},
   "outputs": [
    {
     "data": {
      "text/plain": [
       "(array([64., 43., 23., 15., 16.,  8.,  3.,  7.,  2.,  4.]),\n",
       " array([2.73479983, 2.98053392, 3.22626801, 3.47200211, 3.7177362 ,\n",
       "        3.96347029, 4.20920438, 4.45493848, 4.70067257, 4.94640666,\n",
       "        5.19214075]),\n",
       " <BarContainer object of 10 artists>)"
      ]
     },
     "execution_count": 31,
     "metadata": {},
     "output_type": "execute_result"
    },
    {
     "data": {
      "image/png": "[encoded data removed]",
      "text/plain": [
       "<Figure size 432x288 with 1 Axes>"
      ]
     },
     "metadata": {
      "needs_background": "light"
     },
     "output_type": "display_data"
    }
   ],
   "source": [
    "plt.hist(np.log10(final_flares[\"4-10 keV\"]))"
   ]
  },
  {
   "cell_type": "markdown",
   "id": "511488c9",
   "metadata": {},
   "source": [
    "# Demonstrate Incorrect File Finding Issue"
   ]
  },
  {
   "cell_type": "code",
   "execution_count": 46,
   "id": "0e1a58c7",
   "metadata": {},
   "outputs": [],
   "source": [
    "i=40\n",
    "tstart = stix_flare_w_files.iloc[i]['start_UTC']\n",
    "tend = stix_flare_w_files.iloc[i]['end_UTC']\n",
    "req_id = stix_flare_w_files.iloc[i]['Request IDs']"
   ]
  },
  {
   "cell_type": "code",
   "execution_count": 47,
   "id": "1b266d3e",
   "metadata": {},
   "outputs": [
    {
     "data": {
      "text/plain": [
       "'2211110132'"
      ]
     },
     "execution_count": 47,
     "metadata": {},
     "output_type": "execute_result"
    }
   ],
   "source": [
    "req_id"
   ]
  },
  {
   "cell_type": "code",
   "execution_count": 48,
   "id": "eb9b69d0",
   "metadata": {},
   "outputs": [],
   "source": [
    "res = Fido.search(a.Time(tstart, tend), a.Instrument.stix, a.stix.DataProduct.sci_xray_cpd)\n"
   ]
  },
  {
   "cell_type": "code",
   "execution_count": 49,
   "id": "d7d066fe",
   "metadata": {},
   "outputs": [
    {
     "data": {
      "text/html": [
       "Results from 1 Provider:</br></br>3 Results from the STIXClient:</br><div><i>QueryResponse length=3</i>\n",
       "<table id=\"table6522394544\" class=\"table-striped table-bordered table-condensed\">\n",
       "<thead><tr><th>Start Time</th><th>End Time</th><th>Instrument</th><th>Level</th><th>DataType</th><th>DataProduct</th><th>Ver</th><th>Request ID</th></tr></thead>\n",
       "<thead><tr><th>str23</th><th>str23</th><th>str4</th><th>str2</th><th>str3</th><th>str12</th><th>str3</th><th>int64</th></tr></thead>\n",
       "<tr><td>2022-11-11 13:30:50.000</td><td>2022-11-11 13:45:04.000</td><td>STIX</td><td>L1</td><td>SCI</td><td>sci-xray-cpd</td><td>V01</td><td>2211115723</td></tr>\n",
       "<tr><td>2022-11-11 13:44:13.000</td><td>2022-11-11 13:50:19.000</td><td>STIX</td><td>L1</td><td>SCI</td><td>sci-xray-cpd</td><td>V01</td><td>2211110132</td></tr>\n",
       "<tr><td>2022-11-11 13:54:39.000</td><td>2022-11-11 14:00:21.000</td><td>STIX</td><td>L1</td><td>SCI</td><td>sci-xray-cpd</td><td>V01</td><td>2211118828</td></tr>\n",
       "</table></div></br>"
      ],
      "text/plain": [
       "<sunpy.net.fido_factory.UnifiedResponse object at 0x1844c8970>\n",
       "Results from 1 Provider:\n",
       "\n",
       "3 Results from the STIXClient:\n",
       "\n",
       "       Start Time               End Time        Instrument Level DataType DataProduct  Ver Request ID\n",
       "----------------------- ----------------------- ---------- ----- -------- ------------ --- ----------\n",
       "2022-11-11 13:30:50.000 2022-11-11 13:45:04.000       STIX    L1      SCI sci-xray-cpd V01 2211115723\n",
       "2022-11-11 13:44:13.000 2022-11-11 13:50:19.000       STIX    L1      SCI sci-xray-cpd V01 2211110132\n",
       "2022-11-11 13:54:39.000 2022-11-11 14:00:21.000       STIX    L1      SCI sci-xray-cpd V01 2211118828\n"
      ]
     },
     "execution_count": 49,
     "metadata": {},
     "output_type": "execute_result"
    }
   ],
   "source": [
    "res"
   ]
  },
  {
   "cell_type": "code",
   "execution_count": 50,
   "id": "72f26bbb",
   "metadata": {},
   "outputs": [
    {
     "name": "stderr",
     "output_type": "stream",
     "text": [
      "/opt/anaconda3/envs/stix_conda/lib/python3.10/site-packages/astropy/table/column.py:330: FutureWarning: elementwise comparison failed; returning scalar instead, but in the future will perform elementwise comparison\n",
      "  result = getattr(super(Column, self), op)(other)\n"
     ]
    }
   ],
   "source": [
    "res_filtered = res[\"stix\"][res[\"stix\"][\"Request ID\"] == req_id]"
   ]
  },
  {
   "cell_type": "code",
   "execution_count": 51,
   "id": "8e19a294",
   "metadata": {},
   "outputs": [
    {
     "data": {
      "text/html": [
       "<i>QueryResponseRow index=0</i>\n",
       "<table id=\"table6517490400\">\n",
       "<thead><tr><th>Start Time</th><th>End Time</th><th>Instrument</th><th>Level</th><th>DataType</th><th>DataProduct</th><th>Ver</th><th>url</th><th>Request ID</th></tr></thead>\n",
       "<thead><tr><th>str23</th><th>str23</th><th>str4</th><th>str2</th><th>str3</th><th>str12</th><th>str3</th><th>str144</th><th>int64</th></tr></thead>\n",
       "<tr><td>2022-11-11 13:30:50.000</td><td>2022-11-11 13:45:04.000</td><td>STIX</td><td>L1</td><td>SCI</td><td>sci-xray-cpd</td><td>V01</td><td>http://pub099.cs.technik.fhnw.ch/data/fits/L1/2022/11/11/SCI/solo_L1_stix-sci-xray-cpd_20221111T133050-20221111T134504_V01_2211115723-54718.fits</td><td>2211115723</td></tr>\n",
       "</table>"
      ],
      "text/plain": [
       "<QueryResponseRow index=0>\n",
       "       Start Time               End Time        Instrument Level DataType DataProduct  Ver                                                                        url                                                                        Request ID\n",
       "         str23                   str23             str4     str2   str3      str12     str3                                                                      str144                                                                        int64   \n",
       "----------------------- ----------------------- ---------- ----- -------- ------------ ---- ------------------------------------------------------------------------------------------------------------------------------------------------ ----------\n",
       "2022-11-11 13:30:50.000 2022-11-11 13:45:04.000       STIX    L1      SCI sci-xray-cpd  V01 http://pub099.cs.technik.fhnw.ch/data/fits/L1/2022/11/11/SCI/solo_L1_stix-sci-xray-cpd_20221111T133050-20221111T134504_V01_2211115723-54718.fits 2211115723"
      ]
     },
     "execution_count": 51,
     "metadata": {},
     "output_type": "execute_result"
    }
   ],
   "source": [
    "res[\"stix\"][res[\"stix\"][\"Request ID\"] == req_id]"
   ]
  },
  {
   "cell_type": "code",
   "execution_count": 43,
   "id": "a3ab4483",
   "metadata": {},
   "outputs": [
    {
     "data": {
      "text/html": [
       "<i>QueryResponseRow index=0</i>\n",
       "<table id=\"table6247911424\">\n",
       "<thead><tr><th>Start Time</th><th>End Time</th><th>Instrument</th><th>Level</th><th>DataType</th><th>DataProduct</th><th>Ver</th><th>url</th><th>Request ID</th></tr></thead>\n",
       "<thead><tr><th>str23</th><th>str23</th><th>str4</th><th>str2</th><th>str3</th><th>str12</th><th>str3</th><th>str144</th><th>int64</th></tr></thead>\n",
       "<tr><td>2022-11-11 10:39:32.000</td><td>2022-11-11 10:51:20.000</td><td>STIX</td><td>L1</td><td>SCI</td><td>sci-xray-cpd</td><td>V01</td><td>http://pub099.cs.technik.fhnw.ch/data/fits/L1/2022/11/11/SCI/solo_L1_stix-sci-xray-cpd_20221111T103932-20221111T105120_V01_2211112382-54715.fits</td><td>2211112382</td></tr>\n",
       "</table>"
      ],
      "text/plain": [
       "<QueryResponseRow index=0>\n",
       "       Start Time               End Time        Instrument Level DataType DataProduct  Ver                                                                        url                                                                        Request ID\n",
       "         str23                   str23             str4     str2   str3      str12     str3                                                                      str144                                                                        int64   \n",
       "----------------------- ----------------------- ---------- ----- -------- ------------ ---- ------------------------------------------------------------------------------------------------------------------------------------------------ ----------\n",
       "2022-11-11 10:39:32.000 2022-11-11 10:51:20.000       STIX    L1      SCI sci-xray-cpd  V01 http://pub099.cs.technik.fhnw.ch/data/fits/L1/2022/11/11/SCI/solo_L1_stix-sci-xray-cpd_20221111T103932-20221111T105120_V01_2211112382-54715.fits 2211112382"
      ]
     },
     "execution_count": 43,
     "metadata": {},
     "output_type": "execute_result"
    }
   ],
   "source": [
    "res_filtered"
   ]
  },
  {
   "cell_type": "code",
   "execution_count": 39,
   "id": "01f32756",
   "metadata": {},
   "outputs": [],
   "source": [
    "res_filtered2 = res[\"stix\"][res[\"stix\"][\"Request ID\"] == int(req_id)]"
   ]
  },
  {
   "cell_type": "code",
   "execution_count": 40,
   "id": "3b74a8b4",
   "metadata": {},
   "outputs": [
    {
     "data": {
      "text/html": [
       "<div><i>QueryResponse length=1</i>\n",
       "<table id=\"table6522398720\" class=\"table-striped table-bordered table-condensed\">\n",
       "<thead><tr><th>Start Time</th><th>End Time</th><th>Instrument</th><th>Level</th><th>DataType</th><th>DataProduct</th><th>Ver</th><th>Request ID</th></tr></thead>\n",
       "<thead><tr><th>str23</th><th>str23</th><th>str4</th><th>str2</th><th>str3</th><th>str12</th><th>str3</th><th>int64</th></tr></thead>\n",
       "<tr><td>2022-11-11 10:50:03.000</td><td>2022-11-11 11:00:22.000</td><td>STIX</td><td>L1</td><td>SCI</td><td>sci-xray-cpd</td><td>V01</td><td>2211117066</td></tr>\n",
       "</table></div>"
      ],
      "text/plain": [
       "<sunpy.net.dataretriever.client.QueryResponse object at 0x184c4f1c0>\n",
       "       Start Time               End Time        Instrument Level DataType DataProduct  Ver Request ID\n",
       "----------------------- ----------------------- ---------- ----- -------- ------------ --- ----------\n",
       "2022-11-11 10:50:03.000 2022-11-11 11:00:22.000       STIX    L1      SCI sci-xray-cpd V01 2211117066"
      ]
     },
     "execution_count": 40,
     "metadata": {},
     "output_type": "execute_result"
    }
   ],
   "source": [
    "res_filtered2"
   ]
  },
  {
   "cell_type": "code",
   "execution_count": 41,
   "id": "23ae3829",
   "metadata": {},
   "outputs": [
    {
     "data": {
      "text/plain": [
       "['Fido',\n",
       " 'In',\n",
       " 'Out',\n",
       " 'STIXClient',\n",
       " 'Time',\n",
       " '_',\n",
       " '_10',\n",
       " '_12',\n",
       " '_15',\n",
       " '_18',\n",
       " '_21',\n",
       " '_23',\n",
       " '_24',\n",
       " '_25',\n",
       " '_26',\n",
       " '_28',\n",
       " '_29',\n",
       " '_30',\n",
       " '_31',\n",
       " '_32',\n",
       " '_34',\n",
       " '_36',\n",
       " '_38',\n",
       " '_40',\n",
       " '__',\n",
       " '___',\n",
       " '__builtin__',\n",
       " '__builtins__',\n",
       " '__doc__',\n",
       " '__loader__',\n",
       " '__name__',\n",
       " '__package__',\n",
       " '__spec__',\n",
       " '_dh',\n",
       " '_i',\n",
       " '_i1',\n",
       " '_i10',\n",
       " '_i11',\n",
       " '_i12',\n",
       " '_i13',\n",
       " '_i14',\n",
       " '_i15',\n",
       " '_i16',\n",
       " '_i17',\n",
       " '_i18',\n",
       " '_i19',\n",
       " '_i2',\n",
       " '_i20',\n",
       " '_i21',\n",
       " '_i22',\n",
       " '_i23',\n",
       " '_i24',\n",
       " '_i25',\n",
       " '_i26',\n",
       " '_i27',\n",
       " '_i28',\n",
       " '_i29',\n",
       " '_i3',\n",
       " '_i30',\n",
       " '_i31',\n",
       " '_i32',\n",
       " '_i33',\n",
       " '_i34',\n",
       " '_i35',\n",
       " '_i36',\n",
       " '_i37',\n",
       " '_i38',\n",
       " '_i39',\n",
       " '_i4',\n",
       " '_i40',\n",
       " '_i41',\n",
       " '_i5',\n",
       " '_i6',\n",
       " '_i7',\n",
       " '_i8',\n",
       " '_i9',\n",
       " '_ih',\n",
       " '_ii',\n",
       " '_iii',\n",
       " '_oh',\n",
       " 'a',\n",
       " 'astrospice',\n",
       " 'columns',\n",
       " 'earth_coords',\n",
       " 'exit',\n",
       " 'flare_peak_times',\n",
       " 'frames',\n",
       " 'get_aux_data',\n",
       " 'get_ipython',\n",
       " 'get_pixel_data',\n",
       " 'i',\n",
       " 'kernals',\n",
       " 'mask',\n",
       " 'np',\n",
       " 'pd',\n",
       " 'plt',\n",
       " 'quit',\n",
       " 'req_id',\n",
       " 'res',\n",
       " 'res_filtered',\n",
       " 'res_filtered2',\n",
       " 'solo_coords',\n",
       " 'stix_big_flares',\n",
       " 'stix_flare_w_files',\n",
       " 'stix_flares_tidy',\n",
       " 'tend',\n",
       " 'tstart',\n",
       " 'u']"
      ]
     },
     "execution_count": 41,
     "metadata": {},
     "output_type": "execute_result"
    }
   ],
   "source": [
    "dir()"
   ]
  },
  {
   "cell_type": "code",
   "execution_count": 31,
   "id": "5f3fd135",
   "metadata": {},
   "outputs": [
    {
     "data": {
      "text/plain": [
       "2211110132"
      ]
     },
     "execution_count": 31,
     "metadata": {},
     "output_type": "execute_result"
    }
   ],
   "source": [
    "int(req_id)"
   ]
  },
  {
   "cell_type": "code",
   "execution_count": 30,
   "id": "b39d2116",
   "metadata": {},
   "outputs": [
    {
     "data": {
      "text/plain": [
       "int"
      ]
     },
     "execution_count": 30,
     "metadata": {},
     "output_type": "execute_result"
    }
   ],
   "source": [
    "type(2211110132)"
   ]
  },
  {
   "cell_type": "code",
   "execution_count": 32,
   "id": "e86c04e7",
   "metadata": {},
   "outputs": [
    {
     "data": {
      "text/plain": [
       "array([False,  True, False])"
      ]
     },
     "execution_count": 32,
     "metadata": {},
     "output_type": "execute_result"
    }
   ],
   "source": [
    "res[\"stix\"][\"Request ID\"] == int(req_id)"
   ]
  },
  {
   "cell_type": "code",
   "execution_count": 27,
   "id": "ba100112",
   "metadata": {},
   "outputs": [],
   "source": [
    "mask = res['stix'][\"Request ID\"] == 2211110132"
   ]
  },
  {
   "cell_type": "code",
   "execution_count": 28,
   "id": "8e987bae",
   "metadata": {},
   "outputs": [
    {
     "data": {
      "text/plain": [
       "array([False,  True, False])"
      ]
     },
     "execution_count": 28,
     "metadata": {},
     "output_type": "execute_result"
    }
   ],
   "source": [
    "mask"
   ]
  },
  {
   "cell_type": "code",
   "execution_count": 23,
   "id": "54980d21",
   "metadata": {},
   "outputs": [
    {
     "data": {
      "text/html": [
       "<i>QueryResponseRow index=0</i>\n",
       "<table id=\"table6507876352\">\n",
       "<thead><tr><th>Start Time</th><th>End Time</th><th>Instrument</th><th>Level</th><th>DataType</th><th>DataProduct</th><th>Ver</th><th>url</th><th>Request ID</th></tr></thead>\n",
       "<thead><tr><th>str23</th><th>str23</th><th>str4</th><th>str2</th><th>str3</th><th>str12</th><th>str3</th><th>str144</th><th>int64</th></tr></thead>\n",
       "<tr><td>2022-11-11 13:30:50.000</td><td>2022-11-11 13:45:04.000</td><td>STIX</td><td>L1</td><td>SCI</td><td>sci-xray-cpd</td><td>V01</td><td>http://pub099.cs.technik.fhnw.ch/data/fits/L1/2022/11/11/SCI/solo_L1_stix-sci-xray-cpd_20221111T133050-20221111T134504_V01_2211115723-54718.fits</td><td>2211115723</td></tr>\n",
       "</table>"
      ],
      "text/plain": [
       "<QueryResponseRow index=0>\n",
       "       Start Time               End Time        Instrument Level DataType DataProduct  Ver                                                                        url                                                                        Request ID\n",
       "         str23                   str23             str4     str2   str3      str12     str3                                                                      str144                                                                        int64   \n",
       "----------------------- ----------------------- ---------- ----- -------- ------------ ---- ------------------------------------------------------------------------------------------------------------------------------------------------ ----------\n",
       "2022-11-11 13:30:50.000 2022-11-11 13:45:04.000       STIX    L1      SCI sci-xray-cpd  V01 http://pub099.cs.technik.fhnw.ch/data/fits/L1/2022/11/11/SCI/solo_L1_stix-sci-xray-cpd_20221111T133050-20221111T134504_V01_2211115723-54718.fits 2211115723"
      ]
     },
     "execution_count": 23,
     "metadata": {},
     "output_type": "execute_result"
    }
   ],
   "source": [
    "res_filtered"
   ]
  },
  {
   "cell_type": "code",
   "execution_count": null,
   "id": "622f7b50",
   "metadata": {},
   "outputs": [],
   "source": []
  },
  {
   "cell_type": "code",
   "execution_count": null,
   "id": "3e08ad08",
   "metadata": {},
   "outputs": [],
   "source": []
  },
  {
   "cell_type": "code",
   "execution_count": 83,
   "id": "b8cb90f2",
   "metadata": {},
   "outputs": [
    {
     "data": {
      "text/plain": [
       "flare_id                                                             2211111346\n",
       "att_in                                                                    False\n",
       "GOES_flux                                                              0.000001\n",
       "start_UTC                                               2022-11-11T13:32:56.086\n",
       "peak_UTC                                                2022-11-11 13:46:32.087\n",
       "end_UTC                                                 2022-11-11T13:55:48.088\n",
       "4-10 keV                                                                  12799\n",
       "10-15 keV                                                                  3199\n",
       "number_available_files                                                        1\n",
       "available_file_request_IDs                                         [2211110132]\n",
       "solo_lat                                                               9.122204\n",
       "solo_lon                                                             -22.063143\n",
       "solo_AU_distance                                                       0.620844\n",
       "Request IDs                                                          2211110132\n",
       "aux_paths                     ./aux_data/solo_L2_stix-aux-ephemeris_20221111...\n",
       "pixel_paths                   ./pixel_data/solo_L1_stix-sci-xray-cpd_2022111...\n",
       "15-25 keV                                                                    75\n",
       "25-50 keV                                                                   799\n",
       "50-84 keV                                                                   431\n",
       "GOES_class                                                                 B6.7\n",
       "Name: 40, dtype: object"
      ]
     },
     "execution_count": 83,
     "metadata": {},
     "output_type": "execute_result"
    }
   ],
   "source": [
    "final_flares.iloc[i]"
   ]
  },
  {
   "cell_type": "code",
   "execution_count": 82,
   "id": "91e8eff0",
   "metadata": {},
   "outputs": [],
   "source": [
    "i=40\n",
    "tstart = final_flares.iloc[i]['start_UTC']\n",
    "tend = final_flares.iloc[i]['end_UTC']\n",
    "req_id = final_flares.iloc[i]['Request IDs']"
   ]
  },
  {
   "cell_type": "code",
   "execution_count": 67,
   "id": "bd66bd60",
   "metadata": {},
   "outputs": [
    {
     "name": "stdout",
     "output_type": "stream",
     "text": [
      "2022-11-11T10:49:48.069 2022-11-11T11:00:04.070\n"
     ]
    }
   ],
   "source": [
    "print(tstart,tend)"
   ]
  },
  {
   "cell_type": "code",
   "execution_count": 84,
   "id": "a4def3ed-536b-4d77-88ca-9eccf0fe39ba",
   "metadata": {},
   "outputs": [],
   "source": [
    "res = Fido.search(a.Time(tstart, tend), a.Instrument.stix, a.stix.DataProduct.sci_xray_cpd)\n"
   ]
  },
  {
   "cell_type": "code",
   "execution_count": 76,
   "id": "ed836516",
   "metadata": {},
   "outputs": [
    {
     "data": {
      "text/html": [
       "Results from 1 Provider:</br></br>2 Results from the STIXClient:</br><div><i>QueryResponse length=2</i>\n",
       "<table id=\"table6499994544\" class=\"table-striped table-bordered table-condensed\">\n",
       "<thead><tr><th>Start Time</th><th>End Time</th><th>Instrument</th><th>Level</th><th>DataType</th><th>DataProduct</th><th>Ver</th><th>Request ID</th></tr></thead>\n",
       "<thead><tr><th>str23</th><th>str23</th><th>str4</th><th>str2</th><th>str3</th><th>str12</th><th>str3</th><th>int64</th></tr></thead>\n",
       "<tr><td>2022-11-11 10:39:32.000</td><td>2022-11-11 10:51:20.000</td><td>STIX</td><td>L1</td><td>SCI</td><td>sci-xray-cpd</td><td>V01</td><td>2211112382</td></tr>\n",
       "<tr><td>2022-11-11 10:50:03.000</td><td>2022-11-11 11:00:22.000</td><td>STIX</td><td>L1</td><td>SCI</td><td>sci-xray-cpd</td><td>V01</td><td>2211117066</td></tr>\n",
       "</table></div></br>"
      ],
      "text/plain": [
       "<sunpy.net.fido_factory.UnifiedResponse object at 0x1834e40d0>\n",
       "Results from 1 Provider:\n",
       "\n",
       "2 Results from the STIXClient:\n",
       "\n",
       "       Start Time               End Time        Instrument Level DataType DataProduct  Ver Request ID\n",
       "----------------------- ----------------------- ---------- ----- -------- ------------ --- ----------\n",
       "2022-11-11 10:39:32.000 2022-11-11 10:51:20.000       STIX    L1      SCI sci-xray-cpd V01 2211112382\n",
       "2022-11-11 10:50:03.000 2022-11-11 11:00:22.000       STIX    L1      SCI sci-xray-cpd V01 2211117066\n"
      ]
     },
     "execution_count": 76,
     "metadata": {},
     "output_type": "execute_result"
    }
   ],
   "source": [
    "res"
   ]
  },
  {
   "cell_type": "code",
   "execution_count": 70,
   "id": "574e63dc",
   "metadata": {},
   "outputs": [
    {
     "data": {
      "text/plain": [
       "2211117066"
      ]
     },
     "execution_count": 70,
     "metadata": {},
     "output_type": "execute_result"
    }
   ],
   "source": [
    "req_id"
   ]
  },
  {
   "cell_type": "code",
   "execution_count": 56,
   "id": "eeaf4618",
   "metadata": {},
   "outputs": [
    {
     "data": {
      "text/html": [
       "<div><i>QueryResponse length=2</i>\n",
       "<table id=\"table6500005008\" class=\"table-striped table-bordered table-condensed\">\n",
       "<thead><tr><th>Start Time</th><th>End Time</th><th>Instrument</th><th>Level</th><th>DataType</th><th>DataProduct</th><th>Ver</th><th>Request ID</th></tr></thead>\n",
       "<thead><tr><th>str23</th><th>str23</th><th>str4</th><th>str2</th><th>str3</th><th>str12</th><th>str3</th><th>int64</th></tr></thead>\n",
       "<tr><td>2022-11-11 01:24:58.000</td><td>2022-11-11 01:40:12.000</td><td>STIX</td><td>L1</td><td>SCI</td><td>sci-xray-cpd</td><td>V01</td><td>2211113411</td></tr>\n",
       "<tr><td>2022-11-11 01:44:45.000</td><td>2022-11-11 01:55:45.000</td><td>STIX</td><td>L1</td><td>SCI</td><td>sci-xray-cpd</td><td>V01</td><td>2211118377</td></tr>\n",
       "</table></div>"
      ],
      "text/plain": [
       "<sunpy.net.dataretriever.client.QueryResponse object at 0x1783d9030>\n",
       "       Start Time               End Time        Instrument Level DataType DataProduct  Ver Request ID\n",
       "----------------------- ----------------------- ---------- ----- -------- ------------ --- ----------\n",
       "2022-11-11 01:24:58.000 2022-11-11 01:40:12.000       STIX    L1      SCI sci-xray-cpd V01 2211113411\n",
       "2022-11-11 01:44:45.000 2022-11-11 01:55:45.000       STIX    L1      SCI sci-xray-cpd V01 2211118377"
      ]
     },
     "execution_count": 56,
     "metadata": {},
     "output_type": "execute_result"
    }
   ],
   "source": [
    "res['stix']"
   ]
  },
  {
   "cell_type": "code",
   "execution_count": 85,
   "id": "045e06ea",
   "metadata": {},
   "outputs": [],
   "source": [
    "res_filtered = res[\"stix\"][res[\"stix\"][\"Request ID\"] == req_id]"
   ]
  },
  {
   "cell_type": "code",
   "execution_count": 86,
   "id": "2a271d36",
   "metadata": {},
   "outputs": [
    {
     "data": {
      "text/html": [
       "Results from 1 Provider:</br></br>3 Results from the STIXClient:</br><div><i>QueryResponse length=3</i>\n",
       "<table id=\"table6495872256\" class=\"table-striped table-bordered table-condensed\">\n",
       "<thead><tr><th>Start Time</th><th>End Time</th><th>Instrument</th><th>Level</th><th>DataType</th><th>DataProduct</th><th>Ver</th><th>Request ID</th></tr></thead>\n",
       "<thead><tr><th>str23</th><th>str23</th><th>str4</th><th>str2</th><th>str3</th><th>str12</th><th>str3</th><th>int64</th></tr></thead>\n",
       "<tr><td>2022-11-11 13:30:50.000</td><td>2022-11-11 13:45:04.000</td><td>STIX</td><td>L1</td><td>SCI</td><td>sci-xray-cpd</td><td>V01</td><td>2211115723</td></tr>\n",
       "<tr><td>2022-11-11 13:44:13.000</td><td>2022-11-11 13:50:19.000</td><td>STIX</td><td>L1</td><td>SCI</td><td>sci-xray-cpd</td><td>V01</td><td>2211110132</td></tr>\n",
       "<tr><td>2022-11-11 13:54:39.000</td><td>2022-11-11 14:00:21.000</td><td>STIX</td><td>L1</td><td>SCI</td><td>sci-xray-cpd</td><td>V01</td><td>2211118828</td></tr>\n",
       "</table></div></br>"
      ],
      "text/plain": [
       "<sunpy.net.fido_factory.UnifiedResponse object at 0x1834e43d0>\n",
       "Results from 1 Provider:\n",
       "\n",
       "3 Results from the STIXClient:\n",
       "\n",
       "       Start Time               End Time        Instrument Level DataType DataProduct  Ver Request ID\n",
       "----------------------- ----------------------- ---------- ----- -------- ------------ --- ----------\n",
       "2022-11-11 13:30:50.000 2022-11-11 13:45:04.000       STIX    L1      SCI sci-xray-cpd V01 2211115723\n",
       "2022-11-11 13:44:13.000 2022-11-11 13:50:19.000       STIX    L1      SCI sci-xray-cpd V01 2211110132\n",
       "2022-11-11 13:54:39.000 2022-11-11 14:00:21.000       STIX    L1      SCI sci-xray-cpd V01 2211118828\n"
      ]
     },
     "execution_count": 86,
     "metadata": {},
     "output_type": "execute_result"
    }
   ],
   "source": [
    "res"
   ]
  },
  {
   "cell_type": "code",
   "execution_count": 88,
   "id": "b00fa22c",
   "metadata": {},
   "outputs": [],
   "source": [
    "res = res[\"stix\"][res[\"stix\"][\"Request ID\"] == req_id]"
   ]
  },
  {
   "cell_type": "code",
   "execution_count": 89,
   "id": "c61d2680",
   "metadata": {},
   "outputs": [
    {
     "data": {
      "text/html": [
       "<div><i>QueryResponse length=1</i>\n",
       "<table id=\"table6497463040\" class=\"table-striped table-bordered table-condensed\">\n",
       "<thead><tr><th>Start Time</th><th>End Time</th><th>Instrument</th><th>Level</th><th>DataType</th><th>DataProduct</th><th>Ver</th><th>Request ID</th></tr></thead>\n",
       "<thead><tr><th>str23</th><th>str23</th><th>str4</th><th>str2</th><th>str3</th><th>str12</th><th>str3</th><th>int64</th></tr></thead>\n",
       "<tr><td>2022-11-11 13:44:13.000</td><td>2022-11-11 13:50:19.000</td><td>STIX</td><td>L1</td><td>SCI</td><td>sci-xray-cpd</td><td>V01</td><td>2211110132</td></tr>\n",
       "</table></div>"
      ],
      "text/plain": [
       "<sunpy.net.dataretriever.client.QueryResponse object at 0x183476740>\n",
       "       Start Time               End Time        Instrument Level DataType DataProduct  Ver Request ID\n",
       "----------------------- ----------------------- ---------- ----- -------- ------------ --- ----------\n",
       "2022-11-11 13:44:13.000 2022-11-11 13:50:19.000       STIX    L1      SCI sci-xray-cpd V01 2211110132"
      ]
     },
     "execution_count": 89,
     "metadata": {},
     "output_type": "execute_result"
    }
   ],
   "source": [
    "res"
   ]
  },
  {
   "cell_type": "code",
   "execution_count": 87,
   "id": "4d6009ec",
   "metadata": {},
   "outputs": [
    {
     "data": {
      "text/html": [
       "<div><i>QueryResponse length=1</i>\n",
       "<table id=\"table6505895664\" class=\"table-striped table-bordered table-condensed\">\n",
       "<thead><tr><th>Start Time</th><th>End Time</th><th>Instrument</th><th>Level</th><th>DataType</th><th>DataProduct</th><th>Ver</th><th>Request ID</th></tr></thead>\n",
       "<thead><tr><th>str23</th><th>str23</th><th>str4</th><th>str2</th><th>str3</th><th>str12</th><th>str3</th><th>int64</th></tr></thead>\n",
       "<tr><td>2022-11-11 13:44:13.000</td><td>2022-11-11 13:50:19.000</td><td>STIX</td><td>L1</td><td>SCI</td><td>sci-xray-cpd</td><td>V01</td><td>2211110132</td></tr>\n",
       "</table></div>"
      ],
      "text/plain": [
       "<sunpy.net.dataretriever.client.QueryResponse object at 0x18361c070>\n",
       "       Start Time               End Time        Instrument Level DataType DataProduct  Ver Request ID\n",
       "----------------------- ----------------------- ---------- ----- -------- ------------ --- ----------\n",
       "2022-11-11 13:44:13.000 2022-11-11 13:50:19.000       STIX    L1      SCI sci-xray-cpd V01 2211110132"
      ]
     },
     "execution_count": 87,
     "metadata": {},
     "output_type": "execute_result"
    }
   ],
   "source": [
    "res_filtered"
   ]
  },
  {
   "cell_type": "markdown",
   "id": "de1ee88f",
   "metadata": {},
   "source": [
    "# Test (Shane)"
   ]
  },
  {
   "cell_type": "code",
   "execution_count": 1,
   "id": "698d05a6",
   "metadata": {},
   "outputs": [],
   "source": [
    "from sunpy.net import Fido, attrs as a\n",
    "from stixpy.net import client\n"
   ]
  },
  {
   "cell_type": "code",
   "execution_count": 2,
   "id": "edb88127",
   "metadata": {},
   "outputs": [
    {
     "name": "stdout",
     "output_type": "stream",
     "text": [
      "Results from 1 Provider:\n",
      "\n",
      "3 Results from the STIXClient:\n",
      "\n",
      "       Start Time               End Time        Instrument Level DataType DataProduct  Ver Request ID\n",
      "----------------------- ----------------------- ---------- ----- -------- ------------ --- ----------\n",
      "2022-11-11 13:30:50.000 2022-11-11 13:45:04.000       STIX    L1      SCI sci-xray-cpd V01 2211115723\n",
      "2022-11-11 13:44:13.000 2022-11-11 13:50:19.000       STIX    L1      SCI sci-xray-cpd V01 2211110132\n",
      "2022-11-11 13:54:39.000 2022-11-11 14:00:21.000       STIX    L1      SCI sci-xray-cpd V01 2211118828\n",
      "\n",
      "\n"
     ]
    }
   ],
   "source": [
    "\n",
    "query = Fido.search(a.Time('2022-11-11T13:32:56.086', '2022-11-11T13:55:48.088'), \n",
    "                    a.Instrument.stix, a.stix.DataProduct.sci_xray_cpd)\n",
    "print(query)\n"
   ]
  },
  {
   "cell_type": "code",
   "execution_count": 3,
   "id": "80859734",
   "metadata": {},
   "outputs": [
    {
     "name": "stdout",
     "output_type": "stream",
     "text": [
      "[False  True False]\n"
     ]
    }
   ],
   "source": [
    "mask = query['stix'][\"Request ID\"] == 2211110132\n",
    "print(mask)"
   ]
  },
  {
   "cell_type": "code",
   "execution_count": 4,
   "id": "bba9e70b",
   "metadata": {},
   "outputs": [
    {
     "data": {
      "application/vnd.jupyter.widget-view+json": {
       "model_id": "6b925c3db0a24d3da85a215bd3eadb80",
       "version_major": 2,
       "version_minor": 0
      },
      "text/plain": [
       "Files Downloaded:   0%|          | 0/1 [00:00<?, ?file/s]"
      ]
     },
     "metadata": {},
     "output_type": "display_data"
    },
    {
     "data": {
      "application/vnd.jupyter.widget-view+json": {
       "model_id": "",
       "version_major": 2,
       "version_minor": 0
      },
      "text/plain": [
       "solo_L1_stix-sci-xray-cpd_20221111T134413-20221111T135019_V01_2211110132-50214.fits:   0%|          | 0.00/2.8…"
      ]
     },
     "metadata": {},
     "output_type": "display_data"
    },
    {
     "name": "stdout",
     "output_type": "stream",
     "text": [
      "['/Users/hannahcollier/sunpy/data/solo_L1_stix-sci-xray-cpd_20221111T134413-20221111T135019_V01_2211110132-50214.fits']\n"
     ]
    }
   ],
   "source": [
    "file = Fido.fetch(query['stix'][mask])\n",
    "print(file)"
   ]
  },
  {
   "cell_type": "code",
   "execution_count": 8,
   "id": "9fef37b6",
   "metadata": {},
   "outputs": [],
   "source": [
    "res2 = query[\"stix\"][query[\"stix\"][\"Request ID\"] == 2211110132]"
   ]
  },
  {
   "cell_type": "code",
   "execution_count": 10,
   "id": "26c044e1",
   "metadata": {},
   "outputs": [
    {
     "data": {
      "text/html": [
       "<div><i>QueryResponse length=1</i>\n",
       "<table id=\"table6312769712\" class=\"table-striped table-bordered table-condensed\">\n",
       "<thead><tr><th>Start Time</th><th>End Time</th><th>Instrument</th><th>Level</th><th>DataType</th><th>DataProduct</th><th>Ver</th><th>Request ID</th></tr></thead>\n",
       "<thead><tr><th>str23</th><th>str23</th><th>str4</th><th>str2</th><th>str3</th><th>str12</th><th>str3</th><th>int64</th></tr></thead>\n",
       "<tr><td>2022-11-11 13:44:13.000</td><td>2022-11-11 13:50:19.000</td><td>STIX</td><td>L1</td><td>SCI</td><td>sci-xray-cpd</td><td>V01</td><td>2211110132</td></tr>\n",
       "</table></div>"
      ],
      "text/plain": [
       "<sunpy.net.dataretriever.client.QueryResponse object at 0x178437b20>\n",
       "       Start Time               End Time        Instrument Level DataType DataProduct  Ver Request ID\n",
       "----------------------- ----------------------- ---------- ----- -------- ------------ --- ----------\n",
       "2022-11-11 13:44:13.000 2022-11-11 13:50:19.000       STIX    L1      SCI sci-xray-cpd V01 2211110132"
      ]
     },
     "execution_count": 10,
     "metadata": {},
     "output_type": "execute_result"
    }
   ],
   "source": [
    "res2"
   ]
  },
  {
   "cell_type": "code",
   "execution_count": 6,
   "id": "8c631e71",
   "metadata": {},
   "outputs": [],
   "source": [
    "import stixpy"
   ]
  },
  {
   "cell_type": "code",
   "execution_count": 7,
   "id": "a01c97a4",
   "metadata": {},
   "outputs": [
    {
     "data": {
      "text/plain": [
       "'0.1.0rc2'"
      ]
     },
     "execution_count": 7,
     "metadata": {},
     "output_type": "execute_result"
    }
   ],
   "source": [
    "stixpy.__version__"
   ]
  }
 ],
 "metadata": {
  "kernelspec": {
   "display_name": "Python 3 (ipykernel)",
   "language": "python",
   "name": "python3"
  },
  "language_info": {
   "codemirror_mode": {
    "name": "ipython",
    "version": 3
   },
   "file_extension": ".py",
   "mimetype": "text/x-python",
   "name": "python",
   "nbconvert_exporter": "python",
   "pygments_lexer": "ipython3",
   "version": "3.10.2"
  }
 },
 "nbformat": 4,
 "nbformat_minor": 5
}
