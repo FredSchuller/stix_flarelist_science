{
 "cells": [
  {
   "cell_type": "code",
   "execution_count": 1,
   "id": "685943e2-509c-49b0-a61d-34ab31d70b0b",
   "metadata": {},
   "outputs": [],
   "source": [
    "import pandas as pd\n",
    "import matplotlib.pyplot as plt \n",
    "from astropy import units as u \n",
    "import astrospice\n",
    "from astropy.time import Time\n",
    "from sunpy.coordinates import frames\n",
    "from sunpy.net import Fido, attrs as a\n",
    "from stixpy.net.client import STIXClient\n",
    "import matplotlib.pyplot as plt\n",
    "import numpy as np "
   ]
  },
  {
   "cell_type": "code",
   "execution_count": 2,
   "id": "cd08dd67-628e-46bb-9a68-151af8e2c713",
   "metadata": {},
   "outputs": [],
   "source": [
    "stix_big_flares = pd.read_csv(\"stix_all_flare_list_20221109_20221111_with_files.csv\")"
   ]
  },
  {
   "cell_type": "code",
   "execution_count": 3,
   "id": "b42fd2e2-b8cb-45f6-8efb-daa83622939b",
   "metadata": {},
   "outputs": [
    {
     "data": {
      "text/html": [
       "<div>\n",
       "<style scoped>\n",
       "    .dataframe tbody tr th:only-of-type {\n",
       "        vertical-align: middle;\n",
       "    }\n",
       "\n",
       "    .dataframe tbody tr th {\n",
       "        vertical-align: top;\n",
       "    }\n",
       "\n",
       "    .dataframe thead th {\n",
       "        text-align: right;\n",
       "    }\n",
       "</style>\n",
       "<table border=\"1\" class=\"dataframe\">\n",
       "  <thead>\n",
       "    <tr style=\"text-align: right;\">\n",
       "      <th></th>\n",
       "      <th>flare_id</th>\n",
       "      <th>duration</th>\n",
       "      <th>att_in</th>\n",
       "      <th>peak_UTC</th>\n",
       "      <th>LC0_BKG</th>\n",
       "      <th>_id</th>\n",
       "      <th>GOES_class</th>\n",
       "      <th>GOES_flux</th>\n",
       "      <th>CFL_X_arcsec</th>\n",
       "      <th>CFL_Y_arcsec</th>\n",
       "      <th>...</th>\n",
       "      <th>LC1_PEAK_COUNTS_4S</th>\n",
       "      <th>LC1_BKG_COUNTS_4S</th>\n",
       "      <th>LC2_PEAK_COUNTS_4S</th>\n",
       "      <th>LC2_BKG_COUNTS_4S</th>\n",
       "      <th>LC3_PEAK_COUNTS_4S</th>\n",
       "      <th>LC3_BKG_COUNTS_4S</th>\n",
       "      <th>LC4_PEAK_COUNTS_4S</th>\n",
       "      <th>LC4_BKG_COUNTS_4S</th>\n",
       "      <th>number_available_files</th>\n",
       "      <th>available_file_request_IDs</th>\n",
       "    </tr>\n",
       "  </thead>\n",
       "  <tbody>\n",
       "    <tr>\n",
       "      <th>0</th>\n",
       "      <td>2211090050</td>\n",
       "      <td>492</td>\n",
       "      <td>False</td>\n",
       "      <td>2022-11-09 00:50:20.013</td>\n",
       "      <td>217.688788</td>\n",
       "      <td>18265</td>\n",
       "      <td>B6.1</td>\n",
       "      <td>6.073233e-07</td>\n",
       "      <td>NaN</td>\n",
       "      <td>NaN</td>\n",
       "      <td>...</td>\n",
       "      <td>271</td>\n",
       "      <td>41.0</td>\n",
       "      <td>135</td>\n",
       "      <td>57.0</td>\n",
       "      <td>799</td>\n",
       "      <td>735.0</td>\n",
       "      <td>463</td>\n",
       "      <td>399.0</td>\n",
       "      <td>1</td>\n",
       "      <td>[2211090305]</td>\n",
       "    </tr>\n",
       "    <tr>\n",
       "      <th>1</th>\n",
       "      <td>2211090134</td>\n",
       "      <td>132</td>\n",
       "      <td>False</td>\n",
       "      <td>2022-11-09 01:34:32.017</td>\n",
       "      <td>217.688788</td>\n",
       "      <td>18266</td>\n",
       "      <td>B4.5</td>\n",
       "      <td>4.459582e-07</td>\n",
       "      <td>NaN</td>\n",
       "      <td>NaN</td>\n",
       "      <td>...</td>\n",
       "      <td>57</td>\n",
       "      <td>41.0</td>\n",
       "      <td>67</td>\n",
       "      <td>57.0</td>\n",
       "      <td>799</td>\n",
       "      <td>735.0</td>\n",
       "      <td>431</td>\n",
       "      <td>399.0</td>\n",
       "      <td>0</td>\n",
       "      <td>[]</td>\n",
       "    </tr>\n",
       "    <tr>\n",
       "      <th>2</th>\n",
       "      <td>2211090222</td>\n",
       "      <td>224</td>\n",
       "      <td>False</td>\n",
       "      <td>2022-11-09 02:22:00.023</td>\n",
       "      <td>217.690166</td>\n",
       "      <td>18267</td>\n",
       "      <td>B4.6</td>\n",
       "      <td>4.598592e-07</td>\n",
       "      <td>NaN</td>\n",
       "      <td>NaN</td>\n",
       "      <td>...</td>\n",
       "      <td>57</td>\n",
       "      <td>45.0</td>\n",
       "      <td>83</td>\n",
       "      <td>57.0</td>\n",
       "      <td>799</td>\n",
       "      <td>735.0</td>\n",
       "      <td>463</td>\n",
       "      <td>399.0</td>\n",
       "      <td>0</td>\n",
       "      <td>[]</td>\n",
       "    </tr>\n",
       "    <tr>\n",
       "      <th>3</th>\n",
       "      <td>2211090403</td>\n",
       "      <td>108</td>\n",
       "      <td>False</td>\n",
       "      <td>2022-11-09 04:03:24.032</td>\n",
       "      <td>217.690166</td>\n",
       "      <td>18268</td>\n",
       "      <td>B5.4</td>\n",
       "      <td>5.429727e-07</td>\n",
       "      <td>NaN</td>\n",
       "      <td>NaN</td>\n",
       "      <td>...</td>\n",
       "      <td>61</td>\n",
       "      <td>45.0</td>\n",
       "      <td>75</td>\n",
       "      <td>57.0</td>\n",
       "      <td>799</td>\n",
       "      <td>735.0</td>\n",
       "      <td>431</td>\n",
       "      <td>399.0</td>\n",
       "      <td>0</td>\n",
       "      <td>[]</td>\n",
       "    </tr>\n",
       "    <tr>\n",
       "      <th>4</th>\n",
       "      <td>2211090428</td>\n",
       "      <td>312</td>\n",
       "      <td>False</td>\n",
       "      <td>2022-11-09 04:28:24.035</td>\n",
       "      <td>217.690166</td>\n",
       "      <td>18269</td>\n",
       "      <td>B6.1</td>\n",
       "      <td>6.059366e-07</td>\n",
       "      <td>NaN</td>\n",
       "      <td>NaN</td>\n",
       "      <td>...</td>\n",
       "      <td>57</td>\n",
       "      <td>45.0</td>\n",
       "      <td>83</td>\n",
       "      <td>57.0</td>\n",
       "      <td>863</td>\n",
       "      <td>735.0</td>\n",
       "      <td>463</td>\n",
       "      <td>399.0</td>\n",
       "      <td>0</td>\n",
       "      <td>[]</td>\n",
       "    </tr>\n",
       "  </tbody>\n",
       "</table>\n",
       "<p>5 rows × 24 columns</p>\n",
       "</div>"
      ],
      "text/plain": [
       "     flare_id  duration  att_in                 peak_UTC     LC0_BKG    _id  \\\n",
       "0  2211090050       492   False  2022-11-09 00:50:20.013  217.688788  18265   \n",
       "1  2211090134       132   False  2022-11-09 01:34:32.017  217.688788  18266   \n",
       "2  2211090222       224   False  2022-11-09 02:22:00.023  217.690166  18267   \n",
       "3  2211090403       108   False  2022-11-09 04:03:24.032  217.690166  18268   \n",
       "4  2211090428       312   False  2022-11-09 04:28:24.035  217.690166  18269   \n",
       "\n",
       "  GOES_class     GOES_flux  CFL_X_arcsec  CFL_Y_arcsec  ...  \\\n",
       "0       B6.1  6.073233e-07           NaN           NaN  ...   \n",
       "1       B4.5  4.459582e-07           NaN           NaN  ...   \n",
       "2       B4.6  4.598592e-07           NaN           NaN  ...   \n",
       "3       B5.4  5.429727e-07           NaN           NaN  ...   \n",
       "4       B6.1  6.059366e-07           NaN           NaN  ...   \n",
       "\n",
       "  LC1_PEAK_COUNTS_4S LC1_BKG_COUNTS_4S  LC2_PEAK_COUNTS_4S  LC2_BKG_COUNTS_4S  \\\n",
       "0                271              41.0                 135               57.0   \n",
       "1                 57              41.0                  67               57.0   \n",
       "2                 57              45.0                  83               57.0   \n",
       "3                 61              45.0                  75               57.0   \n",
       "4                 57              45.0                  83               57.0   \n",
       "\n",
       "   LC3_PEAK_COUNTS_4S  LC3_BKG_COUNTS_4S  LC4_PEAK_COUNTS_4S  \\\n",
       "0                 799              735.0                 463   \n",
       "1                 799              735.0                 431   \n",
       "2                 799              735.0                 463   \n",
       "3                 799              735.0                 431   \n",
       "4                 863              735.0                 463   \n",
       "\n",
       "   LC4_BKG_COUNTS_4S  number_available_files  available_file_request_IDs  \n",
       "0              399.0                       1                [2211090305]  \n",
       "1              399.0                       0                          []  \n",
       "2              399.0                       0                          []  \n",
       "3              399.0                       0                          []  \n",
       "4              399.0                       0                          []  \n",
       "\n",
       "[5 rows x 24 columns]"
      ]
     },
     "execution_count": 3,
     "metadata": {},
     "output_type": "execute_result"
    }
   ],
   "source": [
    "stix_big_flares.head()"
   ]
  },
  {
   "cell_type": "code",
   "execution_count": 4,
   "id": "ff24bc69-2c01-4a01-a299-555ff2442ac0",
   "metadata": {},
   "outputs": [],
   "source": [
    "flare_peak_times = Time.strptime(stix_big_flares[\"peak_UTC\"].values.astype(str), format_string=\"%Y-%m-%d %H:%M:%S.%f\")"
   ]
  },
  {
   "cell_type": "code",
   "execution_count": 5,
   "id": "11f07a64-6ea1-4c61-8a65-95515ce9fbe0",
   "metadata": {},
   "outputs": [
    {
     "name": "stderr",
     "output_type": "stream",
     "text": [
      "/opt/anaconda3/envs/stix_conda/lib/python3.10/site-packages/erfa/core.py:154: ErfaWarning: ERFA function \"dtf2d\" yielded 1 of \"dubious year (Note 6)\"\n",
      "  warnings.warn('ERFA function \"{}\" yielded {}'.format(func_name, wmsg),\n"
     ]
    },
    {
     "data": {
      "application/vnd.jupyter.widget-view+json": {
       "model_id": "1e64fedf8aa54df9a82e89547cd59d06",
       "version_major": 2,
       "version_minor": 0
      },
      "text/plain": [
       "Files Downloaded:   0%|          | 0/1 [00:00<?, ?file/s]"
      ]
     },
     "metadata": {},
     "output_type": "display_data"
    }
   ],
   "source": [
    "kernals = astrospice.registry.get_kernels(\"solar orbiter\", \"predict\")"
   ]
  },
  {
   "cell_type": "code",
   "execution_count": 6,
   "id": "62f1a46c-826d-43d9-a6fd-ff4c729ee46e",
   "metadata": {},
   "outputs": [],
   "source": [
    "solo_coords = astrospice.generate_coords(\"SOLAR ORBITER\", flare_peak_times).heliographic_stonyhurst\n",
    "earth_coords = astrospice.generate_coords(\"earth\", flare_peak_times).heliographic_stonyhurst"
   ]
  },
  {
   "cell_type": "code",
   "execution_count": 7,
   "id": "19b83b68-3854-4525-a3aa-320465f04869",
   "metadata": {},
   "outputs": [],
   "source": [
    "stix_big_flares[\"solo_lat\"] = solo_coords.lat.value\n",
    "stix_big_flares[\"solo_lon\"] = solo_coords.lon.value\n",
    "stix_big_flares[\"solo_AU_distance\"] = solo_coords.radius.to(u.AU).value"
   ]
  },
  {
   "cell_type": "code",
   "execution_count": 8,
   "id": "99add5ac-2e80-4255-8ec2-7a83fdd8d935",
   "metadata": {},
   "outputs": [
    {
     "data": {
      "text/plain": [
       "Index(['flare_id', 'duration', 'att_in', 'peak_UTC', 'LC0_BKG', '_id',\n",
       "       'GOES_class', 'GOES_flux', 'CFL_X_arcsec', 'CFL_Y_arcsec', 'start_UTC',\n",
       "       'end_UTC', 'LC0_PEAK_COUNTS_4S', 'LC0_BKG_COUNTS_4S',\n",
       "       'LC1_PEAK_COUNTS_4S', 'LC1_BKG_COUNTS_4S', 'LC2_PEAK_COUNTS_4S',\n",
       "       'LC2_BKG_COUNTS_4S', 'LC3_PEAK_COUNTS_4S', 'LC3_BKG_COUNTS_4S',\n",
       "       'LC4_PEAK_COUNTS_4S', 'LC4_BKG_COUNTS_4S', 'number_available_files',\n",
       "       'available_file_request_IDs', 'solo_lat', 'solo_lon',\n",
       "       'solo_AU_distance'],\n",
       "      dtype='object')"
      ]
     },
     "execution_count": 8,
     "metadata": {},
     "output_type": "execute_result"
    }
   ],
   "source": [
    "stix_big_flares.keys()"
   ]
  },
  {
   "cell_type": "code",
   "execution_count": 9,
   "id": "6cabca7c-70c0-4607-876c-c159d96bd030",
   "metadata": {},
   "outputs": [],
   "source": [
    "stix_big_flares.rename(columns={'LC0_PEAK_COUNTS_4S': '4-10 keV', \n",
    "                                'LC1_PEAK_COUNTS_4S': \"10-15 keV\",\n",
    "                                'LC2_PEAK_COUNTS_4S': \"15-25 keV\", \n",
    "                                'LC3_PEAK_COUNTS_4S': \"25-50 keV\", \n",
    "                                'LC4_PEAK_COUNTS_4S': \"50-84 keV\"}, inplace=True)"
   ]
  },
  {
   "cell_type": "code",
   "execution_count": 10,
   "id": "21d14935-9e4c-4ec1-b0dc-0f66c1c8dc5d",
   "metadata": {},
   "outputs": [
    {
     "data": {
      "text/plain": [
       "Index(['flare_id', 'duration', 'att_in', 'peak_UTC', 'LC0_BKG', '_id',\n",
       "       'GOES_class', 'GOES_flux', 'CFL_X_arcsec', 'CFL_Y_arcsec', 'start_UTC',\n",
       "       'end_UTC', '4-10 keV', 'LC0_BKG_COUNTS_4S', '10-15 keV',\n",
       "       'LC1_BKG_COUNTS_4S', '15-25 keV', 'LC2_BKG_COUNTS_4S', '25-50 keV',\n",
       "       'LC3_BKG_COUNTS_4S', '50-84 keV', 'LC4_BKG_COUNTS_4S',\n",
       "       'number_available_files', 'available_file_request_IDs', 'solo_lat',\n",
       "       'solo_lon', 'solo_AU_distance'],\n",
       "      dtype='object')"
      ]
     },
     "execution_count": 10,
     "metadata": {},
     "output_type": "execute_result"
    }
   ],
   "source": [
    "stix_big_flares.keys()"
   ]
  },
  {
   "cell_type": "code",
   "execution_count": 11,
   "id": "4399b83e-2b26-49e8-a956-231bebf1ffad",
   "metadata": {},
   "outputs": [],
   "source": [
    "columns = ['flare_id', 'att_in','GOES_flux', 'start_UTC', 'peak_UTC', 'end_UTC', '4-10 keV', '10-15 keV',\n",
    "           'number_available_files', 'available_file_request_IDs', 'solo_lat', 'solo_lon',\n",
    "           'solo_AU_distance', '15-25 keV','25-50 keV', '50-84 keV', 'GOES_class']"
   ]
  },
  {
   "cell_type": "code",
   "execution_count": 12,
   "id": "09189a42-fe1f-4f18-9f3c-cb4ad80656e0",
   "metadata": {},
   "outputs": [],
   "source": [
    "stix_flares_tidy = stix_big_flares[columns]"
   ]
  },
  {
   "cell_type": "markdown",
   "id": "a86651df-ee0a-406c-a74a-edf8c5c365f6",
   "metadata": {},
   "source": [
    "## Lets find all flares with pixel data"
   ]
  },
  {
   "cell_type": "code",
   "execution_count": 14,
   "id": "8b98422a",
   "metadata": {},
   "outputs": [],
   "source": [
    "no_pixel_files = stix_flares_tidy[stix_flares_tidy[\"number_available_files\"]==0]\n",
    "no_pixel_files.to_csv('flares_apparently_without_pixel_data.csv') # (from Fido)"
   ]
  },
  {
   "cell_type": "code",
   "execution_count": 30,
   "id": "56319315",
   "metadata": {},
   "outputs": [
    {
     "data": {
      "text/plain": [
       "91"
      ]
     },
     "execution_count": 30,
     "metadata": {},
     "output_type": "execute_result"
    }
   ],
   "source": [
    "len(no_pixel_files)"
   ]
  },
  {
   "cell_type": "code",
   "execution_count": 16,
   "id": "4661cd31-ebbb-4c63-80c0-6f87b97f94a3",
   "metadata": {},
   "outputs": [],
   "source": [
    "stix_flare_w_files = stix_flares_tidy[stix_flares_tidy[\"number_available_files\"]>=1]\n",
    "stix_flare_w_files.reset_index(inplace=True, drop=True)"
   ]
  },
  {
   "cell_type": "code",
   "execution_count": 17,
   "id": "f2efecc5",
   "metadata": {},
   "outputs": [
    {
     "data": {
      "text/plain": [
       "(0.4451219512195122, 73, 164)"
      ]
     },
     "execution_count": 17,
     "metadata": {},
     "output_type": "execute_result"
    }
   ],
   "source": [
    "len(stix_flare_w_files)/len(stix_flares_tidy), len(stix_flare_w_files), len(stix_flares_tidy)"
   ]
  },
  {
   "cell_type": "code",
   "execution_count": 18,
   "id": "4e07c369",
   "metadata": {},
   "outputs": [],
   "source": [
    "pd.set_option('mode.chained_assignment', None)\n"
   ]
  },
  {
   "cell_type": "code",
   "execution_count": 19,
   "id": "a36bc2b4-3393-4a60-b4e4-879e4ce341da",
   "metadata": {},
   "outputs": [],
   "source": [
    "stix_flare_w_files.loc[:, \"Request IDs\"] = stix_flare_w_files[\"available_file_request_IDs\"].map(lambda x: x.strip('][').split(', ')[0])\n"
   ]
  },
  {
   "cell_type": "code",
   "execution_count": 20,
   "id": "acebce06-8c08-450e-8f0a-25b8aa661709",
   "metadata": {},
   "outputs": [
    {
     "data": {
      "text/html": [
       "<div>\n",
       "<style scoped>\n",
       "    .dataframe tbody tr th:only-of-type {\n",
       "        vertical-align: middle;\n",
       "    }\n",
       "\n",
       "    .dataframe tbody tr th {\n",
       "        vertical-align: top;\n",
       "    }\n",
       "\n",
       "    .dataframe thead th {\n",
       "        text-align: right;\n",
       "    }\n",
       "</style>\n",
       "<table border=\"1\" class=\"dataframe\">\n",
       "  <thead>\n",
       "    <tr style=\"text-align: right;\">\n",
       "      <th></th>\n",
       "      <th>flare_id</th>\n",
       "      <th>att_in</th>\n",
       "      <th>GOES_flux</th>\n",
       "      <th>start_UTC</th>\n",
       "      <th>peak_UTC</th>\n",
       "      <th>end_UTC</th>\n",
       "      <th>4-10 keV</th>\n",
       "      <th>10-15 keV</th>\n",
       "      <th>number_available_files</th>\n",
       "      <th>available_file_request_IDs</th>\n",
       "      <th>solo_lat</th>\n",
       "      <th>solo_lon</th>\n",
       "      <th>solo_AU_distance</th>\n",
       "      <th>15-25 keV</th>\n",
       "      <th>25-50 keV</th>\n",
       "      <th>50-84 keV</th>\n",
       "      <th>GOES_class</th>\n",
       "      <th>Request IDs</th>\n",
       "    </tr>\n",
       "  </thead>\n",
       "  <tbody>\n",
       "    <tr>\n",
       "      <th>0</th>\n",
       "      <td>2211090050</td>\n",
       "      <td>False</td>\n",
       "      <td>6.073233e-07</td>\n",
       "      <td>2022-11-09T00:44:44.012</td>\n",
       "      <td>2022-11-09 00:50:20.013</td>\n",
       "      <td>2022-11-09T00:52:56.013</td>\n",
       "      <td>1215</td>\n",
       "      <td>271</td>\n",
       "      <td>1</td>\n",
       "      <td>[2211090305]</td>\n",
       "      <td>9.180063</td>\n",
       "      <td>-24.156920</td>\n",
       "      <td>0.590873</td>\n",
       "      <td>135</td>\n",
       "      <td>799</td>\n",
       "      <td>463</td>\n",
       "      <td>B6.1</td>\n",
       "      <td>2211090305</td>\n",
       "    </tr>\n",
       "    <tr>\n",
       "      <th>1</th>\n",
       "      <td>2211090458</td>\n",
       "      <td>False</td>\n",
       "      <td>6.310129e-07</td>\n",
       "      <td>2022-11-09T04:52:52.037</td>\n",
       "      <td>2022-11-09 04:58:16.038</td>\n",
       "      <td>2022-11-09T05:06:20.039</td>\n",
       "      <td>335</td>\n",
       "      <td>75</td>\n",
       "      <td>1</td>\n",
       "      <td>[2211094607]</td>\n",
       "      <td>9.177897</td>\n",
       "      <td>-23.999941</td>\n",
       "      <td>0.592948</td>\n",
       "      <td>83</td>\n",
       "      <td>863</td>\n",
       "      <td>431</td>\n",
       "      <td>B6.3</td>\n",
       "      <td>2211094607</td>\n",
       "    </tr>\n",
       "    <tr>\n",
       "      <th>2</th>\n",
       "      <td>2211090551</td>\n",
       "      <td>False</td>\n",
       "      <td>7.278045e-07</td>\n",
       "      <td>2022-11-09T05:39:48.042</td>\n",
       "      <td>2022-11-09 05:51:40.043</td>\n",
       "      <td>2022-11-09T06:12:08.045</td>\n",
       "      <td>367</td>\n",
       "      <td>67</td>\n",
       "      <td>1</td>\n",
       "      <td>[2211090238]</td>\n",
       "      <td>9.177393</td>\n",
       "      <td>-23.966433</td>\n",
       "      <td>0.593394</td>\n",
       "      <td>83</td>\n",
       "      <td>863</td>\n",
       "      <td>463</td>\n",
       "      <td>B7.3</td>\n",
       "      <td>2211090238</td>\n",
       "    </tr>\n",
       "    <tr>\n",
       "      <th>3</th>\n",
       "      <td>2211090720</td>\n",
       "      <td>False</td>\n",
       "      <td>9.645386e-07</td>\n",
       "      <td>2022-11-09T07:18:12.052</td>\n",
       "      <td>2022-11-09 07:20:44.052</td>\n",
       "      <td>2022-11-09T07:28:40.053</td>\n",
       "      <td>2431</td>\n",
       "      <td>247</td>\n",
       "      <td>1</td>\n",
       "      <td>[2211091049]</td>\n",
       "      <td>9.176525</td>\n",
       "      <td>-23.910781</td>\n",
       "      <td>0.594137</td>\n",
       "      <td>115</td>\n",
       "      <td>799</td>\n",
       "      <td>463</td>\n",
       "      <td>B9.6</td>\n",
       "      <td>2211091049</td>\n",
       "    </tr>\n",
       "    <tr>\n",
       "      <th>4</th>\n",
       "      <td>2211090908</td>\n",
       "      <td>False</td>\n",
       "      <td>6.582638e-07</td>\n",
       "      <td>2022-11-09T08:58:40.062</td>\n",
       "      <td>2022-11-09 09:08:44.063</td>\n",
       "      <td>2022-11-09T09:14:56.064</td>\n",
       "      <td>607</td>\n",
       "      <td>135</td>\n",
       "      <td>1</td>\n",
       "      <td>[2211096407]</td>\n",
       "      <td>9.175424</td>\n",
       "      <td>-23.843695</td>\n",
       "      <td>0.595037</td>\n",
       "      <td>107</td>\n",
       "      <td>863</td>\n",
       "      <td>463</td>\n",
       "      <td>B6.6</td>\n",
       "      <td>2211096407</td>\n",
       "    </tr>\n",
       "    <tr>\n",
       "      <th>...</th>\n",
       "      <td>...</td>\n",
       "      <td>...</td>\n",
       "      <td>...</td>\n",
       "      <td>...</td>\n",
       "      <td>...</td>\n",
       "      <td>...</td>\n",
       "      <td>...</td>\n",
       "      <td>...</td>\n",
       "      <td>...</td>\n",
       "      <td>...</td>\n",
       "      <td>...</td>\n",
       "      <td>...</td>\n",
       "      <td>...</td>\n",
       "      <td>...</td>\n",
       "      <td>...</td>\n",
       "      <td>...</td>\n",
       "      <td>...</td>\n",
       "      <td>...</td>\n",
       "    </tr>\n",
       "    <tr>\n",
       "      <th>68</th>\n",
       "      <td>2211111825</td>\n",
       "      <td>False</td>\n",
       "      <td>8.307466e-07</td>\n",
       "      <td>2022-11-11T18:24:28.016</td>\n",
       "      <td>2022-11-11 18:25:16.016</td>\n",
       "      <td>2022-11-11T18:25:36.016</td>\n",
       "      <td>1599</td>\n",
       "      <td>367</td>\n",
       "      <td>1</td>\n",
       "      <td>[2211115828]</td>\n",
       "      <td>9.115741</td>\n",
       "      <td>-21.921795</td>\n",
       "      <td>0.623074</td>\n",
       "      <td>199</td>\n",
       "      <td>799</td>\n",
       "      <td>431</td>\n",
       "      <td>B8.3</td>\n",
       "      <td>2211115828</td>\n",
       "    </tr>\n",
       "    <tr>\n",
       "      <th>69</th>\n",
       "      <td>2211112006</td>\n",
       "      <td>False</td>\n",
       "      <td>8.048406e-07</td>\n",
       "      <td>2022-11-11T20:00:12.026</td>\n",
       "      <td>2022-11-11 20:06:04.026</td>\n",
       "      <td>2022-11-11T20:12:20.027</td>\n",
       "      <td>607</td>\n",
       "      <td>75</td>\n",
       "      <td>1</td>\n",
       "      <td>[2211119540]</td>\n",
       "      <td>9.113341</td>\n",
       "      <td>-21.871272</td>\n",
       "      <td>0.623878</td>\n",
       "      <td>83</td>\n",
       "      <td>799</td>\n",
       "      <td>431</td>\n",
       "      <td>B8.0</td>\n",
       "      <td>2211119540</td>\n",
       "    </tr>\n",
       "    <tr>\n",
       "      <th>70</th>\n",
       "      <td>2211112147</td>\n",
       "      <td>False</td>\n",
       "      <td>7.720208e-07</td>\n",
       "      <td>2022-11-11T21:43:11.936</td>\n",
       "      <td>2022-11-11 21:47:51.937</td>\n",
       "      <td>2022-11-11T21:56:07.937</td>\n",
       "      <td>735</td>\n",
       "      <td>99</td>\n",
       "      <td>1</td>\n",
       "      <td>[2211112507]</td>\n",
       "      <td>9.110882</td>\n",
       "      <td>-21.820568</td>\n",
       "      <td>0.624689</td>\n",
       "      <td>75</td>\n",
       "      <td>799</td>\n",
       "      <td>431</td>\n",
       "      <td>B7.7</td>\n",
       "      <td>2211112507</td>\n",
       "    </tr>\n",
       "    <tr>\n",
       "      <th>71</th>\n",
       "      <td>2211112226</td>\n",
       "      <td>False</td>\n",
       "      <td>1.154457e-06</td>\n",
       "      <td>2022-11-11T22:18:43.940</td>\n",
       "      <td>2022-11-11 22:26:51.941</td>\n",
       "      <td>2022-11-11T22:45:55.943</td>\n",
       "      <td>1471</td>\n",
       "      <td>115</td>\n",
       "      <td>1</td>\n",
       "      <td>[2211113044]</td>\n",
       "      <td>9.109931</td>\n",
       "      <td>-21.801226</td>\n",
       "      <td>0.625000</td>\n",
       "      <td>83</td>\n",
       "      <td>799</td>\n",
       "      <td>431</td>\n",
       "      <td>C1.2</td>\n",
       "      <td>2211113044</td>\n",
       "    </tr>\n",
       "    <tr>\n",
       "      <th>72</th>\n",
       "      <td>2211112315</td>\n",
       "      <td>False</td>\n",
       "      <td>9.577188e-07</td>\n",
       "      <td>2022-11-11T23:00:47.944</td>\n",
       "      <td>2022-11-11 23:15:11.946</td>\n",
       "      <td>2022-11-11T23:26:51.947</td>\n",
       "      <td>735</td>\n",
       "      <td>75</td>\n",
       "      <td>1</td>\n",
       "      <td>[2211118361]</td>\n",
       "      <td>9.108746</td>\n",
       "      <td>-21.777321</td>\n",
       "      <td>0.625384</td>\n",
       "      <td>83</td>\n",
       "      <td>863</td>\n",
       "      <td>463</td>\n",
       "      <td>B9.6</td>\n",
       "      <td>2211118361</td>\n",
       "    </tr>\n",
       "  </tbody>\n",
       "</table>\n",
       "<p>73 rows × 18 columns</p>\n",
       "</div>"
      ],
      "text/plain": [
       "      flare_id  att_in     GOES_flux                start_UTC  \\\n",
       "0   2211090050   False  6.073233e-07  2022-11-09T00:44:44.012   \n",
       "1   2211090458   False  6.310129e-07  2022-11-09T04:52:52.037   \n",
       "2   2211090551   False  7.278045e-07  2022-11-09T05:39:48.042   \n",
       "3   2211090720   False  9.645386e-07  2022-11-09T07:18:12.052   \n",
       "4   2211090908   False  6.582638e-07  2022-11-09T08:58:40.062   \n",
       "..         ...     ...           ...                      ...   \n",
       "68  2211111825   False  8.307466e-07  2022-11-11T18:24:28.016   \n",
       "69  2211112006   False  8.048406e-07  2022-11-11T20:00:12.026   \n",
       "70  2211112147   False  7.720208e-07  2022-11-11T21:43:11.936   \n",
       "71  2211112226   False  1.154457e-06  2022-11-11T22:18:43.940   \n",
       "72  2211112315   False  9.577188e-07  2022-11-11T23:00:47.944   \n",
       "\n",
       "                   peak_UTC                  end_UTC  4-10 keV  10-15 keV  \\\n",
       "0   2022-11-09 00:50:20.013  2022-11-09T00:52:56.013      1215        271   \n",
       "1   2022-11-09 04:58:16.038  2022-11-09T05:06:20.039       335         75   \n",
       "2   2022-11-09 05:51:40.043  2022-11-09T06:12:08.045       367         67   \n",
       "3   2022-11-09 07:20:44.052  2022-11-09T07:28:40.053      2431        247   \n",
       "4   2022-11-09 09:08:44.063  2022-11-09T09:14:56.064       607        135   \n",
       "..                      ...                      ...       ...        ...   \n",
       "68  2022-11-11 18:25:16.016  2022-11-11T18:25:36.016      1599        367   \n",
       "69  2022-11-11 20:06:04.026  2022-11-11T20:12:20.027       607         75   \n",
       "70  2022-11-11 21:47:51.937  2022-11-11T21:56:07.937       735         99   \n",
       "71  2022-11-11 22:26:51.941  2022-11-11T22:45:55.943      1471        115   \n",
       "72  2022-11-11 23:15:11.946  2022-11-11T23:26:51.947       735         75   \n",
       "\n",
       "    number_available_files available_file_request_IDs  solo_lat   solo_lon  \\\n",
       "0                        1               [2211090305]  9.180063 -24.156920   \n",
       "1                        1               [2211094607]  9.177897 -23.999941   \n",
       "2                        1               [2211090238]  9.177393 -23.966433   \n",
       "3                        1               [2211091049]  9.176525 -23.910781   \n",
       "4                        1               [2211096407]  9.175424 -23.843695   \n",
       "..                     ...                        ...       ...        ...   \n",
       "68                       1               [2211115828]  9.115741 -21.921795   \n",
       "69                       1               [2211119540]  9.113341 -21.871272   \n",
       "70                       1               [2211112507]  9.110882 -21.820568   \n",
       "71                       1               [2211113044]  9.109931 -21.801226   \n",
       "72                       1               [2211118361]  9.108746 -21.777321   \n",
       "\n",
       "    solo_AU_distance  15-25 keV  25-50 keV  50-84 keV GOES_class Request IDs  \n",
       "0           0.590873        135        799        463       B6.1  2211090305  \n",
       "1           0.592948         83        863        431       B6.3  2211094607  \n",
       "2           0.593394         83        863        463       B7.3  2211090238  \n",
       "3           0.594137        115        799        463       B9.6  2211091049  \n",
       "4           0.595037        107        863        463       B6.6  2211096407  \n",
       "..               ...        ...        ...        ...        ...         ...  \n",
       "68          0.623074        199        799        431       B8.3  2211115828  \n",
       "69          0.623878         83        799        431       B8.0  2211119540  \n",
       "70          0.624689         75        799        431       B7.7  2211112507  \n",
       "71          0.625000         83        799        431       C1.2  2211113044  \n",
       "72          0.625384         83        863        463       B9.6  2211118361  \n",
       "\n",
       "[73 rows x 18 columns]"
      ]
     },
     "execution_count": 20,
     "metadata": {},
     "output_type": "execute_result"
    }
   ],
   "source": [
    "stix_flare_w_files"
   ]
  },
  {
   "cell_type": "code",
   "execution_count": 21,
   "id": "1d12dae9-697e-409d-98c2-edbecf6bcae3",
   "metadata": {},
   "outputs": [],
   "source": [
    "def get_pixel_data(tstart, tend, request_id):\n",
    "    res = Fido.search(a.Time(tstart, tend), a.Instrument.stix, a.stix.DataProduct.sci_xray_cpd)\n",
    "    res = res[\"stix\"][res[\"stix\"][\"Request ID\"] == int(request_id)]\n",
    "    f = Fido.fetch(res, path=\"./pixel_data/{file}\")\n",
    "    if len(f)>0:\n",
    "        return \"./\"+f[0]\n",
    "    else:\n",
    "        return ''\n",
    "\n",
    "def get_aux_data(tstart, tend):\n",
    "    res = Fido.search(a.Time(tstart, tend), a.Instrument.stix, a.stix.DataProduct.aux_ephemeris)\n",
    "    f = Fido.fetch(res, path=\"./aux_data/{file}\")\n",
    "    if len(f)>0:\n",
    "        return \"./\"+f[0]\n",
    "    else:\n",
    "        return ''"
   ]
  },
  {
   "cell_type": "code",
   "execution_count": 22,
   "id": "04e6de01",
   "metadata": {},
   "outputs": [
    {
     "data": {
      "text/plain": [
       "73"
      ]
     },
     "execution_count": 22,
     "metadata": {},
     "output_type": "execute_result"
    }
   ],
   "source": [
    "len(stix_flare_w_files)"
   ]
  },
  {
   "cell_type": "code",
   "execution_count": 23,
   "id": "775cc9a8-0aa3-4c2b-ad81-5cbdf9d70272",
   "metadata": {},
   "outputs": [
    {
     "data": {
      "text/html": [
       "<div>\n",
       "<style scoped>\n",
       "    .dataframe tbody tr th:only-of-type {\n",
       "        vertical-align: middle;\n",
       "    }\n",
       "\n",
       "    .dataframe tbody tr th {\n",
       "        vertical-align: top;\n",
       "    }\n",
       "\n",
       "    .dataframe thead th {\n",
       "        text-align: right;\n",
       "    }\n",
       "</style>\n",
       "<table border=\"1\" class=\"dataframe\">\n",
       "  <thead>\n",
       "    <tr style=\"text-align: right;\">\n",
       "      <th></th>\n",
       "      <th>flare_id</th>\n",
       "      <th>att_in</th>\n",
       "      <th>GOES_flux</th>\n",
       "      <th>start_UTC</th>\n",
       "      <th>peak_UTC</th>\n",
       "      <th>end_UTC</th>\n",
       "      <th>4-10 keV</th>\n",
       "      <th>10-15 keV</th>\n",
       "      <th>number_available_files</th>\n",
       "      <th>available_file_request_IDs</th>\n",
       "      <th>solo_lat</th>\n",
       "      <th>solo_lon</th>\n",
       "      <th>solo_AU_distance</th>\n",
       "      <th>15-25 keV</th>\n",
       "      <th>25-50 keV</th>\n",
       "      <th>50-84 keV</th>\n",
       "      <th>GOES_class</th>\n",
       "      <th>Request IDs</th>\n",
       "    </tr>\n",
       "  </thead>\n",
       "  <tbody>\n",
       "    <tr>\n",
       "      <th>0</th>\n",
       "      <td>2211090050</td>\n",
       "      <td>False</td>\n",
       "      <td>6.073233e-07</td>\n",
       "      <td>2022-11-09T00:44:44.012</td>\n",
       "      <td>2022-11-09 00:50:20.013</td>\n",
       "      <td>2022-11-09T00:52:56.013</td>\n",
       "      <td>1215</td>\n",
       "      <td>271</td>\n",
       "      <td>1</td>\n",
       "      <td>[2211090305]</td>\n",
       "      <td>9.180063</td>\n",
       "      <td>-24.156920</td>\n",
       "      <td>0.590873</td>\n",
       "      <td>135</td>\n",
       "      <td>799</td>\n",
       "      <td>463</td>\n",
       "      <td>B6.1</td>\n",
       "      <td>2211090305</td>\n",
       "    </tr>\n",
       "    <tr>\n",
       "      <th>1</th>\n",
       "      <td>2211090458</td>\n",
       "      <td>False</td>\n",
       "      <td>6.310129e-07</td>\n",
       "      <td>2022-11-09T04:52:52.037</td>\n",
       "      <td>2022-11-09 04:58:16.038</td>\n",
       "      <td>2022-11-09T05:06:20.039</td>\n",
       "      <td>335</td>\n",
       "      <td>75</td>\n",
       "      <td>1</td>\n",
       "      <td>[2211094607]</td>\n",
       "      <td>9.177897</td>\n",
       "      <td>-23.999941</td>\n",
       "      <td>0.592948</td>\n",
       "      <td>83</td>\n",
       "      <td>863</td>\n",
       "      <td>431</td>\n",
       "      <td>B6.3</td>\n",
       "      <td>2211094607</td>\n",
       "    </tr>\n",
       "    <tr>\n",
       "      <th>2</th>\n",
       "      <td>2211090551</td>\n",
       "      <td>False</td>\n",
       "      <td>7.278045e-07</td>\n",
       "      <td>2022-11-09T05:39:48.042</td>\n",
       "      <td>2022-11-09 05:51:40.043</td>\n",
       "      <td>2022-11-09T06:12:08.045</td>\n",
       "      <td>367</td>\n",
       "      <td>67</td>\n",
       "      <td>1</td>\n",
       "      <td>[2211090238]</td>\n",
       "      <td>9.177393</td>\n",
       "      <td>-23.966433</td>\n",
       "      <td>0.593394</td>\n",
       "      <td>83</td>\n",
       "      <td>863</td>\n",
       "      <td>463</td>\n",
       "      <td>B7.3</td>\n",
       "      <td>2211090238</td>\n",
       "    </tr>\n",
       "    <tr>\n",
       "      <th>3</th>\n",
       "      <td>2211090720</td>\n",
       "      <td>False</td>\n",
       "      <td>9.645386e-07</td>\n",
       "      <td>2022-11-09T07:18:12.052</td>\n",
       "      <td>2022-11-09 07:20:44.052</td>\n",
       "      <td>2022-11-09T07:28:40.053</td>\n",
       "      <td>2431</td>\n",
       "      <td>247</td>\n",
       "      <td>1</td>\n",
       "      <td>[2211091049]</td>\n",
       "      <td>9.176525</td>\n",
       "      <td>-23.910781</td>\n",
       "      <td>0.594137</td>\n",
       "      <td>115</td>\n",
       "      <td>799</td>\n",
       "      <td>463</td>\n",
       "      <td>B9.6</td>\n",
       "      <td>2211091049</td>\n",
       "    </tr>\n",
       "    <tr>\n",
       "      <th>4</th>\n",
       "      <td>2211090908</td>\n",
       "      <td>False</td>\n",
       "      <td>6.582638e-07</td>\n",
       "      <td>2022-11-09T08:58:40.062</td>\n",
       "      <td>2022-11-09 09:08:44.063</td>\n",
       "      <td>2022-11-09T09:14:56.064</td>\n",
       "      <td>607</td>\n",
       "      <td>135</td>\n",
       "      <td>1</td>\n",
       "      <td>[2211096407]</td>\n",
       "      <td>9.175424</td>\n",
       "      <td>-23.843695</td>\n",
       "      <td>0.595037</td>\n",
       "      <td>107</td>\n",
       "      <td>863</td>\n",
       "      <td>463</td>\n",
       "      <td>B6.6</td>\n",
       "      <td>2211096407</td>\n",
       "    </tr>\n",
       "  </tbody>\n",
       "</table>\n",
       "</div>"
      ],
      "text/plain": [
       "     flare_id  att_in     GOES_flux                start_UTC  \\\n",
       "0  2211090050   False  6.073233e-07  2022-11-09T00:44:44.012   \n",
       "1  2211090458   False  6.310129e-07  2022-11-09T04:52:52.037   \n",
       "2  2211090551   False  7.278045e-07  2022-11-09T05:39:48.042   \n",
       "3  2211090720   False  9.645386e-07  2022-11-09T07:18:12.052   \n",
       "4  2211090908   False  6.582638e-07  2022-11-09T08:58:40.062   \n",
       "\n",
       "                  peak_UTC                  end_UTC  4-10 keV  10-15 keV  \\\n",
       "0  2022-11-09 00:50:20.013  2022-11-09T00:52:56.013      1215        271   \n",
       "1  2022-11-09 04:58:16.038  2022-11-09T05:06:20.039       335         75   \n",
       "2  2022-11-09 05:51:40.043  2022-11-09T06:12:08.045       367         67   \n",
       "3  2022-11-09 07:20:44.052  2022-11-09T07:28:40.053      2431        247   \n",
       "4  2022-11-09 09:08:44.063  2022-11-09T09:14:56.064       607        135   \n",
       "\n",
       "   number_available_files available_file_request_IDs  solo_lat   solo_lon  \\\n",
       "0                       1               [2211090305]  9.180063 -24.156920   \n",
       "1                       1               [2211094607]  9.177897 -23.999941   \n",
       "2                       1               [2211090238]  9.177393 -23.966433   \n",
       "3                       1               [2211091049]  9.176525 -23.910781   \n",
       "4                       1               [2211096407]  9.175424 -23.843695   \n",
       "\n",
       "   solo_AU_distance  15-25 keV  25-50 keV  50-84 keV GOES_class Request IDs  \n",
       "0          0.590873        135        799        463       B6.1  2211090305  \n",
       "1          0.592948         83        863        431       B6.3  2211094607  \n",
       "2          0.593394         83        863        463       B7.3  2211090238  \n",
       "3          0.594137        115        799        463       B9.6  2211091049  \n",
       "4          0.595037        107        863        463       B6.6  2211096407  "
      ]
     },
     "execution_count": 23,
     "metadata": {},
     "output_type": "execute_result"
    }
   ],
   "source": [
    "stix_flare_w_files.head()"
   ]
  },
  {
   "cell_type": "code",
   "execution_count": 24,
   "id": "054e8666-e223-412b-bfd3-6c6dbd5030ae",
   "metadata": {},
   "outputs": [
    {
     "data": {
      "application/vnd.jupyter.widget-view+json": {
       "model_id": "23f393448baf4fa8a576d4cb17dd20ff",
       "version_major": 2,
       "version_minor": 0
      },
      "text/plain": [
       "Files Downloaded:   0%|          | 0/1 [00:00<?, ?file/s]"
      ]
     },
     "metadata": {},
     "output_type": "display_data"
    },
    {
     "data": {
      "application/vnd.jupyter.widget-view+json": {
       "model_id": "3079c3964be04735a8a55b3f3fe44952",
       "version_major": 2,
       "version_minor": 0
      },
      "text/plain": [
       "Files Downloaded:   0%|          | 0/1 [00:00<?, ?file/s]"
      ]
     },
     "metadata": {},
     "output_type": "display_data"
    },
    {
     "data": {
      "application/vnd.jupyter.widget-view+json": {
       "model_id": "fa43c84298f245bf8c5d916a27b90944",
       "version_major": 2,
       "version_minor": 0
      },
      "text/plain": [
       "Files Downloaded:   0%|          | 0/1 [00:00<?, ?file/s]"
      ]
     },
     "metadata": {},
     "output_type": "display_data"
    },
    {
     "data": {
      "application/vnd.jupyter.widget-view+json": {
       "model_id": "",
       "version_major": 2,
       "version_minor": 0
      },
      "text/plain": [
       "solo_L1_stix-sci-xray-cpd_20221109T045251-20221109T050631_V01_2211094607-54679.fits:   0%|          | 0.00/66.…"
      ]
     },
     "metadata": {},
     "output_type": "display_data"
    },
    {
     "data": {
      "application/vnd.jupyter.widget-view+json": {
       "model_id": "ef66aef0661840e5ae778e2aef45e6ab",
       "version_major": 2,
       "version_minor": 0
      },
      "text/plain": [
       "Files Downloaded:   0%|          | 0/1 [00:00<?, ?file/s]"
      ]
     },
     "metadata": {},
     "output_type": "display_data"
    },
    {
     "data": {
      "application/vnd.jupyter.widget-view+json": {
       "model_id": "30c882d2f54b42ccaff1b9f557b08f2f",
       "version_major": 2,
       "version_minor": 0
      },
      "text/plain": [
       "Files Downloaded:   0%|          | 0/1 [00:00<?, ?file/s]"
      ]
     },
     "metadata": {},
     "output_type": "display_data"
    },
    {
     "data": {
      "application/vnd.jupyter.widget-view+json": {
       "model_id": "e3529fa2fbf34a22a0edaa0aea563c23",
       "version_major": 2,
       "version_minor": 0
      },
      "text/plain": [
       "Files Downloaded:   0%|          | 0/1 [00:00<?, ?file/s]"
      ]
     },
     "metadata": {},
     "output_type": "display_data"
    },
    {
     "data": {
      "application/vnd.jupyter.widget-view+json": {
       "model_id": "f63242df41124da49a74de0732a71a46",
       "version_major": 2,
       "version_minor": 0
      },
      "text/plain": [
       "Files Downloaded:   0%|          | 0/1 [00:00<?, ?file/s]"
      ]
     },
     "metadata": {},
     "output_type": "display_data"
    },
    {
     "data": {
      "application/vnd.jupyter.widget-view+json": {
       "model_id": "",
       "version_major": 2,
       "version_minor": 0
      },
      "text/plain": [
       "solo_L1_stix-sci-xray-cpd_20221109T071623-20221109T073054_V01_2211091049-54681.fits:   0%|          | 0.00/418…"
      ]
     },
     "metadata": {},
     "output_type": "display_data"
    },
    {
     "data": {
      "application/vnd.jupyter.widget-view+json": {
       "model_id": "b5637b1c48fa487bab3bbfb7c1845f2e",
       "version_major": 2,
       "version_minor": 0
      },
      "text/plain": [
       "Files Downloaded:   0%|          | 0/1 [00:00<?, ?file/s]"
      ]
     },
     "metadata": {},
     "output_type": "display_data"
    },
    {
     "data": {
      "application/vnd.jupyter.widget-view+json": {
       "model_id": "7e423473fc984152af777b2d18b2388c",
       "version_major": 2,
       "version_minor": 0
      },
      "text/plain": [
       "Files Downloaded:   0%|          | 0/1 [00:00<?, ?file/s]"
      ]
     },
     "metadata": {},
     "output_type": "display_data"
    },
    {
     "name": "stderr",
     "output_type": "stream",
     "text": [
      "Exception ignored in: <function BaseEventLoop.__del__ at 0x10a0f8b80>\n",
      "Traceback (most recent call last):\n",
      "  File \"/opt/anaconda3/envs/stix_conda/lib/python3.10/asyncio/base_events.py\", line 682, in __del__\n",
      "    self.close()\n",
      "  File \"/opt/anaconda3/envs/stix_conda/lib/python3.10/asyncio/unix_events.py\", line 71, in close\n",
      "    self.remove_signal_handler(sig)\n",
      "  File \"/opt/anaconda3/envs/stix_conda/lib/python3.10/asyncio/unix_events.py\", line 160, in remove_signal_handler\n",
      "    signal.signal(sig, handler)\n",
      "  File \"/opt/anaconda3/envs/stix_conda/lib/python3.10/signal.py\", line 56, in signal\n",
      "    handler = _signal.signal(_enum_to_int(signalnum), _enum_to_int(handler))\n",
      "ValueError: signal only works in main thread of the main interpreter\n",
      "Exception ignored in: <function BaseEventLoop.__del__ at 0x10a0f8b80>\n",
      "Traceback (most recent call last):\n",
      "  File \"/opt/anaconda3/envs/stix_conda/lib/python3.10/asyncio/base_events.py\", line 682, in __del__\n",
      "    self.close()\n",
      "  File \"/opt/anaconda3/envs/stix_conda/lib/python3.10/asyncio/unix_events.py\", line 71, in close\n",
      "    self.remove_signal_handler(sig)\n",
      "  File \"/opt/anaconda3/envs/stix_conda/lib/python3.10/asyncio/unix_events.py\", line 160, in remove_signal_handler\n",
      "    signal.signal(sig, handler)\n",
      "  File \"/opt/anaconda3/envs/stix_conda/lib/python3.10/signal.py\", line 56, in signal\n",
      "    handler = _signal.signal(_enum_to_int(signalnum), _enum_to_int(handler))\n",
      "ValueError: signal only works in main thread of the main interpreter\n",
      "Exception ignored in: <function BaseEventLoop.__del__ at 0x10a0f8b80>\n",
      "Traceback (most recent call last):\n",
      "  File \"/opt/anaconda3/envs/stix_conda/lib/python3.10/asyncio/base_events.py\", line 682, in __del__\n",
      "    self.close()\n",
      "  File \"/opt/anaconda3/envs/stix_conda/lib/python3.10/asyncio/unix_events.py\", line 71, in close\n",
      "    self.remove_signal_handler(sig)\n",
      "  File \"/opt/anaconda3/envs/stix_conda/lib/python3.10/asyncio/unix_events.py\", line 160, in remove_signal_handler\n",
      "    signal.signal(sig, handler)\n",
      "  File \"/opt/anaconda3/envs/stix_conda/lib/python3.10/signal.py\", line 56, in signal\n",
      "    handler = _signal.signal(_enum_to_int(signalnum), _enum_to_int(handler))\n",
      "ValueError: signal only works in main thread of the main interpreter\n",
      "Exception ignored in: <function BaseEventLoop.__del__ at 0x10a0f8b80>\n",
      "Traceback (most recent call last):\n",
      "  File \"/opt/anaconda3/envs/stix_conda/lib/python3.10/asyncio/base_events.py\", line 682, in __del__\n",
      "    self.close()\n",
      "  File \"/opt/anaconda3/envs/stix_conda/lib/python3.10/asyncio/unix_events.py\", line 71, in close\n",
      "    self.remove_signal_handler(sig)\n",
      "  File \"/opt/anaconda3/envs/stix_conda/lib/python3.10/asyncio/unix_events.py\", line 160, in remove_signal_handler\n",
      "    signal.signal(sig, handler)\n",
      "  File \"/opt/anaconda3/envs/stix_conda/lib/python3.10/signal.py\", line 56, in signal\n",
      "    handler = _signal.signal(_enum_to_int(signalnum), _enum_to_int(handler))\n",
      "ValueError: signal only works in main thread of the main interpreter\n",
      "Exception ignored in: <function BaseEventLoop.__del__ at 0x10a0f8b80>\n",
      "Traceback (most recent call last):\n",
      "  File \"/opt/anaconda3/envs/stix_conda/lib/python3.10/asyncio/base_events.py\", line 682, in __del__\n",
      "    self.close()\n",
      "  File \"/opt/anaconda3/envs/stix_conda/lib/python3.10/asyncio/unix_events.py\", line 71, in close\n",
      "    self.remove_signal_handler(sig)\n",
      "  File \"/opt/anaconda3/envs/stix_conda/lib/python3.10/asyncio/unix_events.py\", line 160, in remove_signal_handler\n",
      "    signal.signal(sig, handler)\n",
      "  File \"/opt/anaconda3/envs/stix_conda/lib/python3.10/signal.py\", line 56, in signal\n",
      "    handler = _signal.signal(_enum_to_int(signalnum), _enum_to_int(handler))\n",
      "ValueError: signal only works in main thread of the main interpreter\n"
     ]
    },
    {
     "data": {
      "application/vnd.jupyter.widget-view+json": {
       "model_id": "4c691ed9cec24632aa350fbf77ce508d",
       "version_major": 2,
       "version_minor": 0
      },
      "text/plain": [
       "Files Downloaded:   0%|          | 0/1 [00:00<?, ?file/s]"
      ]
     },
     "metadata": {},
     "output_type": "display_data"
    },
    {
     "data": {
      "application/vnd.jupyter.widget-view+json": {
       "model_id": "893bf003dfe2463eaeca638ba7f05940",
       "version_major": 2,
       "version_minor": 0
      },
      "text/plain": [
       "Files Downloaded:   0%|          | 0/1 [00:00<?, ?file/s]"
      ]
     },
     "metadata": {},
     "output_type": "display_data"
    },
    {
     "data": {
      "application/vnd.jupyter.widget-view+json": {
       "model_id": "0e03f7ceb64946f78a8a2f8111b4af32",
       "version_major": 2,
       "version_minor": 0
      },
      "text/plain": [
       "Files Downloaded:   0%|          | 0/1 [00:00<?, ?file/s]"
      ]
     },
     "metadata": {},
     "output_type": "display_data"
    },
    {
     "data": {
      "application/vnd.jupyter.widget-view+json": {
       "model_id": "2f5a5eac06f34064a344e19971ed5c3b",
       "version_major": 2,
       "version_minor": 0
      },
      "text/plain": [
       "Files Downloaded:   0%|          | 0/1 [00:00<?, ?file/s]"
      ]
     },
     "metadata": {},
     "output_type": "display_data"
    },
    {
     "data": {
      "application/vnd.jupyter.widget-view+json": {
       "model_id": "",
       "version_major": 2,
       "version_minor": 0
      },
      "text/plain": [
       "solo_L1_stix-sci-xray-cpd_20221109T101108-20221109T101659_V01_2211091673-54684.fits:   0%|          | 0.00/66.…"
      ]
     },
     "metadata": {},
     "output_type": "display_data"
    },
    {
     "data": {
      "application/vnd.jupyter.widget-view+json": {
       "model_id": "ba8440d20ec746adaf425a6bd1569699",
       "version_major": 2,
       "version_minor": 0
      },
      "text/plain": [
       "Files Downloaded:   0%|          | 0/1 [00:00<?, ?file/s]"
      ]
     },
     "metadata": {},
     "output_type": "display_data"
    },
    {
     "name": "stderr",
     "output_type": "stream",
     "text": [
      "Exception ignored in: <function BaseEventLoop.__del__ at 0x10a0f8b80>\n",
      "Traceback (most recent call last):\n",
      "  File \"/opt/anaconda3/envs/stix_conda/lib/python3.10/asyncio/base_events.py\", line 682, in __del__\n",
      "    self.close()\n",
      "  File \"/opt/anaconda3/envs/stix_conda/lib/python3.10/asyncio/unix_events.py\", line 71, in close\n",
      "    self.remove_signal_handler(sig)\n",
      "  File \"/opt/anaconda3/envs/stix_conda/lib/python3.10/asyncio/unix_events.py\", line 160, in remove_signal_handler\n",
      "    signal.signal(sig, handler)\n",
      "  File \"/opt/anaconda3/envs/stix_conda/lib/python3.10/signal.py\", line 56, in signal\n",
      "    handler = _signal.signal(_enum_to_int(signalnum), _enum_to_int(handler))\n",
      "ValueError: signal only works in main thread of the main interpreter\n",
      "Exception ignored in: <function BaseEventLoop.__del__ at 0x10a0f8b80>\n",
      "Traceback (most recent call last):\n",
      "  File \"/opt/anaconda3/envs/stix_conda/lib/python3.10/asyncio/base_events.py\", line 682, in __del__\n",
      "    self.close()\n",
      "  File \"/opt/anaconda3/envs/stix_conda/lib/python3.10/asyncio/unix_events.py\", line 71, in close\n",
      "    self.remove_signal_handler(sig)\n",
      "  File \"/opt/anaconda3/envs/stix_conda/lib/python3.10/asyncio/unix_events.py\", line 160, in remove_signal_handler\n",
      "    signal.signal(sig, handler)\n",
      "  File \"/opt/anaconda3/envs/stix_conda/lib/python3.10/signal.py\", line 56, in signal\n",
      "    handler = _signal.signal(_enum_to_int(signalnum), _enum_to_int(handler))\n",
      "ValueError: signal only works in main thread of the main interpreter\n",
      "Exception ignored in: <function BaseEventLoop.__del__ at 0x10a0f8b80>\n",
      "Traceback (most recent call last):\n",
      "  File \"/opt/anaconda3/envs/stix_conda/lib/python3.10/asyncio/base_events.py\", line 682, in __del__\n",
      "    self.close()\n",
      "  File \"/opt/anaconda3/envs/stix_conda/lib/python3.10/asyncio/unix_events.py\", line 71, in close\n",
      "    self.remove_signal_handler(sig)\n",
      "  File \"/opt/anaconda3/envs/stix_conda/lib/python3.10/asyncio/unix_events.py\", line 160, in remove_signal_handler\n",
      "    signal.signal(sig, handler)\n",
      "  File \"/opt/anaconda3/envs/stix_conda/lib/python3.10/signal.py\", line 56, in signal\n",
      "    handler = _signal.signal(_enum_to_int(signalnum), _enum_to_int(handler))\n",
      "ValueError: signal only works in main thread of the main interpreter\n",
      "Exception ignored in: <function BaseEventLoop.__del__ at 0x10a0f8b80>\n",
      "Traceback (most recent call last):\n",
      "  File \"/opt/anaconda3/envs/stix_conda/lib/python3.10/asyncio/base_events.py\", line 682, in __del__\n",
      "    self.close()\n",
      "  File \"/opt/anaconda3/envs/stix_conda/lib/python3.10/asyncio/unix_events.py\", line 71, in close\n",
      "    self.remove_signal_handler(sig)\n",
      "  File \"/opt/anaconda3/envs/stix_conda/lib/python3.10/asyncio/unix_events.py\", line 160, in remove_signal_handler\n",
      "    signal.signal(sig, handler)\n",
      "  File \"/opt/anaconda3/envs/stix_conda/lib/python3.10/signal.py\", line 56, in signal\n",
      "    handler = _signal.signal(_enum_to_int(signalnum), _enum_to_int(handler))\n",
      "ValueError: signal only works in main thread of the main interpreter\n"
     ]
    },
    {
     "data": {
      "application/vnd.jupyter.widget-view+json": {
       "model_id": "3ca1ff996a6e48aeacdb46e378009615",
       "version_major": 2,
       "version_minor": 0
      },
      "text/plain": [
       "Files Downloaded:   0%|          | 0/1 [00:00<?, ?file/s]"
      ]
     },
     "metadata": {},
     "output_type": "display_data"
    },
    {
     "data": {
      "application/vnd.jupyter.widget-view+json": {
       "model_id": "",
       "version_major": 2,
       "version_minor": 0
      },
      "text/plain": [
       "solo_L1_stix-sci-xray-cpd_20221109T104319-20221109T105623_V01_2211095700-50784.fits:   0%|          | 0.00/2.1…"
      ]
     },
     "metadata": {},
     "output_type": "display_data"
    },
    {
     "data": {
      "application/vnd.jupyter.widget-view+json": {
       "model_id": "aaad384c51f04fd8bbc57f2bb9c1e025",
       "version_major": 2,
       "version_minor": 0
      },
      "text/plain": [
       "Files Downloaded:   0%|          | 0/1 [00:00<?, ?file/s]"
      ]
     },
     "metadata": {},
     "output_type": "display_data"
    },
    {
     "data": {
      "application/vnd.jupyter.widget-view+json": {
       "model_id": "7065b8f0725b48579b6f1ed8d704ee2d",
       "version_major": 2,
       "version_minor": 0
      },
      "text/plain": [
       "Files Downloaded:   0%|          | 0/1 [00:00<?, ?file/s]"
      ]
     },
     "metadata": {},
     "output_type": "display_data"
    },
    {
     "data": {
      "application/vnd.jupyter.widget-view+json": {
       "model_id": "",
       "version_major": 2,
       "version_minor": 0
      },
      "text/plain": [
       "solo_L1_stix-sci-xray-cpd_20221109T121730-20221109T131050_V01_2211098157-52648.fits:   0%|          | 0.00/121…"
      ]
     },
     "metadata": {},
     "output_type": "display_data"
    },
    {
     "data": {
      "application/vnd.jupyter.widget-view+json": {
       "model_id": "6d7dfa51f0824556b94c3171095ffb53",
       "version_major": 2,
       "version_minor": 0
      },
      "text/plain": [
       "Files Downloaded:   0%|          | 0/1 [00:00<?, ?file/s]"
      ]
     },
     "metadata": {},
     "output_type": "display_data"
    },
    {
     "data": {
      "application/vnd.jupyter.widget-view+json": {
       "model_id": "9f2dbcd013e14b7e90fae8a086c3a4ad",
       "version_major": 2,
       "version_minor": 0
      },
      "text/plain": [
       "Files Downloaded:   0%|          | 0/1 [00:00<?, ?file/s]"
      ]
     },
     "metadata": {},
     "output_type": "display_data"
    },
    {
     "data": {
      "application/vnd.jupyter.widget-view+json": {
       "model_id": "",
       "version_major": 2,
       "version_minor": 0
      },
      "text/plain": [
       "solo_L1_stix-sci-xray-cpd_20221109T132350-20221109T133655_V01_2211095251-54685.fits:   0%|          | 0.00/1.1…"
      ]
     },
     "metadata": {},
     "output_type": "display_data"
    },
    {
     "name": "stderr",
     "output_type": "stream",
     "text": [
      "Exception ignored in: <function BaseEventLoop.__del__ at 0x10a0f8b80>\n",
      "Traceback (most recent call last):\n",
      "  File \"/opt/anaconda3/envs/stix_conda/lib/python3.10/asyncio/base_events.py\", line 682, in __del__\n",
      "    self.close()\n",
      "  File \"/opt/anaconda3/envs/stix_conda/lib/python3.10/asyncio/unix_events.py\", line 71, in close\n",
      "    self.remove_signal_handler(sig)\n",
      "  File \"/opt/anaconda3/envs/stix_conda/lib/python3.10/asyncio/unix_events.py\", line 160, in remove_signal_handler\n",
      "    signal.signal(sig, handler)\n",
      "  File \"/opt/anaconda3/envs/stix_conda/lib/python3.10/signal.py\", line 56, in signal\n",
      "    handler = _signal.signal(_enum_to_int(signalnum), _enum_to_int(handler))\n",
      "ValueError: signal only works in main thread of the main interpreter\n",
      "Exception ignored in: <function BaseEventLoop.__del__ at 0x10a0f8b80>\n",
      "Traceback (most recent call last):\n",
      "  File \"/opt/anaconda3/envs/stix_conda/lib/python3.10/asyncio/base_events.py\", line 682, in __del__\n",
      "    self.close()\n",
      "  File \"/opt/anaconda3/envs/stix_conda/lib/python3.10/asyncio/unix_events.py\", line 71, in close\n",
      "    self.remove_signal_handler(sig)\n",
      "  File \"/opt/anaconda3/envs/stix_conda/lib/python3.10/asyncio/unix_events.py\", line 160, in remove_signal_handler\n",
      "    signal.signal(sig, handler)\n",
      "  File \"/opt/anaconda3/envs/stix_conda/lib/python3.10/signal.py\", line 56, in signal\n",
      "    handler = _signal.signal(_enum_to_int(signalnum), _enum_to_int(handler))\n",
      "ValueError: signal only works in main thread of the main interpreter\n",
      "Exception ignored in: <function BaseEventLoop.__del__ at 0x10a0f8b80>\n",
      "Traceback (most recent call last):\n",
      "  File \"/opt/anaconda3/envs/stix_conda/lib/python3.10/asyncio/base_events.py\", line 682, in __del__\n",
      "    self.close()\n",
      "  File \"/opt/anaconda3/envs/stix_conda/lib/python3.10/asyncio/unix_events.py\", line 71, in close\n",
      "    self.remove_signal_handler(sig)\n",
      "  File \"/opt/anaconda3/envs/stix_conda/lib/python3.10/asyncio/unix_events.py\", line 160, in remove_signal_handler\n",
      "    signal.signal(sig, handler)\n",
      "  File \"/opt/anaconda3/envs/stix_conda/lib/python3.10/signal.py\", line 56, in signal\n",
      "    handler = _signal.signal(_enum_to_int(signalnum), _enum_to_int(handler))\n",
      "ValueError: signal only works in main thread of the main interpreter\n",
      "Exception ignored in: <function BaseEventLoop.__del__ at 0x10a0f8b80>\n",
      "Traceback (most recent call last):\n",
      "  File \"/opt/anaconda3/envs/stix_conda/lib/python3.10/asyncio/base_events.py\", line 682, in __del__\n",
      "    self.close()\n",
      "  File \"/opt/anaconda3/envs/stix_conda/lib/python3.10/asyncio/unix_events.py\", line 71, in close\n",
      "    self.remove_signal_handler(sig)\n",
      "  File \"/opt/anaconda3/envs/stix_conda/lib/python3.10/asyncio/unix_events.py\", line 160, in remove_signal_handler\n",
      "    signal.signal(sig, handler)\n",
      "  File \"/opt/anaconda3/envs/stix_conda/lib/python3.10/signal.py\", line 56, in signal\n",
      "    handler = _signal.signal(_enum_to_int(signalnum), _enum_to_int(handler))\n",
      "ValueError: signal only works in main thread of the main interpreter\n"
     ]
    },
    {
     "data": {
      "application/vnd.jupyter.widget-view+json": {
       "model_id": "e896f29cbdb34d28ba85a3714f9a0720",
       "version_major": 2,
       "version_minor": 0
      },
      "text/plain": [
       "Files Downloaded:   0%|          | 0/1 [00:00<?, ?file/s]"
      ]
     },
     "metadata": {},
     "output_type": "display_data"
    },
    {
     "data": {
      "application/vnd.jupyter.widget-view+json": {
       "model_id": "06e20142515f48a0ae6e3e1760b35475",
       "version_major": 2,
       "version_minor": 0
      },
      "text/plain": [
       "Files Downloaded:   0%|          | 0/1 [00:00<?, ?file/s]"
      ]
     },
     "metadata": {},
     "output_type": "display_data"
    },
    {
     "data": {
      "application/vnd.jupyter.widget-view+json": {
       "model_id": "dc2c4e69f0404649b63c3ead7d3834a0",
       "version_major": 2,
       "version_minor": 0
      },
      "text/plain": [
       "Files Downloaded:   0%|          | 0/1 [00:00<?, ?file/s]"
      ]
     },
     "metadata": {},
     "output_type": "display_data"
    },
    {
     "data": {
      "application/vnd.jupyter.widget-view+json": {
       "model_id": "e6f3448865124fe4a120b1a1f5c34099",
       "version_major": 2,
       "version_minor": 0
      },
      "text/plain": [
       "Files Downloaded:   0%|          | 0/1 [00:00<?, ?file/s]"
      ]
     },
     "metadata": {},
     "output_type": "display_data"
    },
    {
     "data": {
      "application/vnd.jupyter.widget-view+json": {
       "model_id": "259142d697aa4d678fedf6db6e8301b7",
       "version_major": 2,
       "version_minor": 0
      },
      "text/plain": [
       "Files Downloaded:   0%|          | 0/1 [00:00<?, ?file/s]"
      ]
     },
     "metadata": {},
     "output_type": "display_data"
    },
    {
     "data": {
      "application/vnd.jupyter.widget-view+json": {
       "model_id": "f7e41c70f4644cf3ba3f28e51b9338e1",
       "version_major": 2,
       "version_minor": 0
      },
      "text/plain": [
       "Files Downloaded:   0%|          | 0/1 [00:00<?, ?file/s]"
      ]
     },
     "metadata": {},
     "output_type": "display_data"
    },
    {
     "name": "stderr",
     "output_type": "stream",
     "text": [
      "Exception ignored in: <function BaseEventLoop.__del__ at 0x10a0f8b80>\n",
      "Traceback (most recent call last):\n",
      "  File \"/opt/anaconda3/envs/stix_conda/lib/python3.10/asyncio/base_events.py\", line 682, in __del__\n",
      "    self.close()\n",
      "  File \"/opt/anaconda3/envs/stix_conda/lib/python3.10/asyncio/unix_events.py\", line 71, in close\n",
      "    self.remove_signal_handler(sig)\n",
      "  File \"/opt/anaconda3/envs/stix_conda/lib/python3.10/asyncio/unix_events.py\", line 160, in remove_signal_handler\n",
      "    signal.signal(sig, handler)\n",
      "  File \"/opt/anaconda3/envs/stix_conda/lib/python3.10/signal.py\", line 56, in signal\n",
      "    handler = _signal.signal(_enum_to_int(signalnum), _enum_to_int(handler))\n",
      "ValueError: signal only works in main thread of the main interpreter\n",
      "Exception ignored in: <function BaseEventLoop.__del__ at 0x10a0f8b80>\n",
      "Traceback (most recent call last):\n",
      "  File \"/opt/anaconda3/envs/stix_conda/lib/python3.10/asyncio/base_events.py\", line 682, in __del__\n",
      "    self.close()\n",
      "  File \"/opt/anaconda3/envs/stix_conda/lib/python3.10/asyncio/unix_events.py\", line 71, in close\n",
      "    self.remove_signal_handler(sig)\n",
      "  File \"/opt/anaconda3/envs/stix_conda/lib/python3.10/asyncio/unix_events.py\", line 160, in remove_signal_handler\n",
      "    signal.signal(sig, handler)\n",
      "  File \"/opt/anaconda3/envs/stix_conda/lib/python3.10/signal.py\", line 56, in signal\n",
      "    handler = _signal.signal(_enum_to_int(signalnum), _enum_to_int(handler))\n",
      "ValueError: signal only works in main thread of the main interpreter\n",
      "Exception ignored in: <function BaseEventLoop.__del__ at 0x10a0f8b80>\n",
      "Traceback (most recent call last):\n",
      "  File \"/opt/anaconda3/envs/stix_conda/lib/python3.10/asyncio/base_events.py\", line 682, in __del__\n",
      "    self.close()\n",
      "  File \"/opt/anaconda3/envs/stix_conda/lib/python3.10/asyncio/unix_events.py\", line 71, in close\n",
      "    self.remove_signal_handler(sig)\n",
      "  File \"/opt/anaconda3/envs/stix_conda/lib/python3.10/asyncio/unix_events.py\", line 160, in remove_signal_handler\n",
      "    signal.signal(sig, handler)\n",
      "  File \"/opt/anaconda3/envs/stix_conda/lib/python3.10/signal.py\", line 56, in signal\n",
      "    handler = _signal.signal(_enum_to_int(signalnum), _enum_to_int(handler))\n",
      "ValueError: signal only works in main thread of the main interpreter\n",
      "Exception ignored in: <function BaseEventLoop.__del__ at 0x10a0f8b80>\n",
      "Traceback (most recent call last):\n",
      "  File \"/opt/anaconda3/envs/stix_conda/lib/python3.10/asyncio/base_events.py\", line 682, in __del__\n",
      "    self.close()\n",
      "  File \"/opt/anaconda3/envs/stix_conda/lib/python3.10/asyncio/unix_events.py\", line 71, in close\n",
      "    self.remove_signal_handler(sig)\n",
      "  File \"/opt/anaconda3/envs/stix_conda/lib/python3.10/asyncio/unix_events.py\", line 160, in remove_signal_handler\n",
      "    signal.signal(sig, handler)\n",
      "  File \"/opt/anaconda3/envs/stix_conda/lib/python3.10/signal.py\", line 56, in signal\n",
      "    handler = _signal.signal(_enum_to_int(signalnum), _enum_to_int(handler))\n",
      "ValueError: signal only works in main thread of the main interpreter\n",
      "Exception ignored in: <function BaseEventLoop.__del__ at 0x10a0f8b80>\n",
      "Traceback (most recent call last):\n",
      "  File \"/opt/anaconda3/envs/stix_conda/lib/python3.10/asyncio/base_events.py\", line 682, in __del__\n",
      "    self.close()\n",
      "  File \"/opt/anaconda3/envs/stix_conda/lib/python3.10/asyncio/unix_events.py\", line 71, in close\n",
      "    self.remove_signal_handler(sig)\n",
      "  File \"/opt/anaconda3/envs/stix_conda/lib/python3.10/asyncio/unix_events.py\", line 160, in remove_signal_handler\n",
      "    signal.signal(sig, handler)\n",
      "  File \"/opt/anaconda3/envs/stix_conda/lib/python3.10/signal.py\", line 56, in signal\n",
      "    handler = _signal.signal(_enum_to_int(signalnum), _enum_to_int(handler))\n",
      "ValueError: signal only works in main thread of the main interpreter\n"
     ]
    },
    {
     "data": {
      "application/vnd.jupyter.widget-view+json": {
       "model_id": "c571ad073a7e4ce9a149a6c9cd771f18",
       "version_major": 2,
       "version_minor": 0
      },
      "text/plain": [
       "Files Downloaded:   0%|          | 0/1 [00:00<?, ?file/s]"
      ]
     },
     "metadata": {},
     "output_type": "display_data"
    },
    {
     "data": {
      "application/vnd.jupyter.widget-view+json": {
       "model_id": "e2397839d67840329f2fc37832bc0f77",
       "version_major": 2,
       "version_minor": 0
      },
      "text/plain": [
       "Files Downloaded:   0%|          | 0/1 [00:00<?, ?file/s]"
      ]
     },
     "metadata": {},
     "output_type": "display_data"
    },
    {
     "data": {
      "application/vnd.jupyter.widget-view+json": {
       "model_id": "8be915fe69c14c93b371963256521f5b",
       "version_major": 2,
       "version_minor": 0
      },
      "text/plain": [
       "Files Downloaded:   0%|          | 0/1 [00:00<?, ?file/s]"
      ]
     },
     "metadata": {},
     "output_type": "display_data"
    },
    {
     "data": {
      "application/vnd.jupyter.widget-view+json": {
       "model_id": "a076185e9acd4aeea31d5a8ec529067e",
       "version_major": 2,
       "version_minor": 0
      },
      "text/plain": [
       "Files Downloaded:   0%|          | 0/1 [00:00<?, ?file/s]"
      ]
     },
     "metadata": {},
     "output_type": "display_data"
    },
    {
     "data": {
      "application/vnd.jupyter.widget-view+json": {
       "model_id": "ee7f71bc348d4938bc5fe3a59be2057d",
       "version_major": 2,
       "version_minor": 0
      },
      "text/plain": [
       "Files Downloaded:   0%|          | 0/1 [00:00<?, ?file/s]"
      ]
     },
     "metadata": {},
     "output_type": "display_data"
    },
    {
     "data": {
      "application/vnd.jupyter.widget-view+json": {
       "model_id": "f1a637f805a84788bb1bcf627db1c569",
       "version_major": 2,
       "version_minor": 0
      },
      "text/plain": [
       "Files Downloaded:   0%|          | 0/1 [00:00<?, ?file/s]"
      ]
     },
     "metadata": {},
     "output_type": "display_data"
    },
    {
     "name": "stderr",
     "output_type": "stream",
     "text": [
      "Exception ignored in: <function BaseEventLoop.__del__ at 0x10a0f8b80>\n",
      "Traceback (most recent call last):\n",
      "  File \"/opt/anaconda3/envs/stix_conda/lib/python3.10/asyncio/base_events.py\", line 682, in __del__\n",
      "    self.close()\n",
      "  File \"/opt/anaconda3/envs/stix_conda/lib/python3.10/asyncio/unix_events.py\", line 71, in close\n",
      "    self.remove_signal_handler(sig)\n",
      "  File \"/opt/anaconda3/envs/stix_conda/lib/python3.10/asyncio/unix_events.py\", line 160, in remove_signal_handler\n",
      "    signal.signal(sig, handler)\n",
      "  File \"/opt/anaconda3/envs/stix_conda/lib/python3.10/signal.py\", line 56, in signal\n",
      "    handler = _signal.signal(_enum_to_int(signalnum), _enum_to_int(handler))\n",
      "ValueError: signal only works in main thread of the main interpreter\n",
      "Exception ignored in: <function BaseEventLoop.__del__ at 0x10a0f8b80>\n",
      "Traceback (most recent call last):\n",
      "  File \"/opt/anaconda3/envs/stix_conda/lib/python3.10/asyncio/base_events.py\", line 682, in __del__\n",
      "    self.close()\n",
      "  File \"/opt/anaconda3/envs/stix_conda/lib/python3.10/asyncio/unix_events.py\", line 71, in close\n",
      "    self.remove_signal_handler(sig)\n",
      "  File \"/opt/anaconda3/envs/stix_conda/lib/python3.10/asyncio/unix_events.py\", line 160, in remove_signal_handler\n",
      "    signal.signal(sig, handler)\n",
      "  File \"/opt/anaconda3/envs/stix_conda/lib/python3.10/signal.py\", line 56, in signal\n",
      "    handler = _signal.signal(_enum_to_int(signalnum), _enum_to_int(handler))\n",
      "ValueError: signal only works in main thread of the main interpreter\n",
      "Exception ignored in: <function BaseEventLoop.__del__ at 0x10a0f8b80>\n",
      "Traceback (most recent call last):\n",
      "  File \"/opt/anaconda3/envs/stix_conda/lib/python3.10/asyncio/base_events.py\", line 682, in __del__\n",
      "    self.close()\n",
      "  File \"/opt/anaconda3/envs/stix_conda/lib/python3.10/asyncio/unix_events.py\", line 71, in close\n",
      "    self.remove_signal_handler(sig)\n",
      "  File \"/opt/anaconda3/envs/stix_conda/lib/python3.10/asyncio/unix_events.py\", line 160, in remove_signal_handler\n",
      "    signal.signal(sig, handler)\n",
      "  File \"/opt/anaconda3/envs/stix_conda/lib/python3.10/signal.py\", line 56, in signal\n",
      "    handler = _signal.signal(_enum_to_int(signalnum), _enum_to_int(handler))\n",
      "ValueError: signal only works in main thread of the main interpreter\n",
      "Exception ignored in: <function BaseEventLoop.__del__ at 0x10a0f8b80>\n",
      "Traceback (most recent call last):\n",
      "  File \"/opt/anaconda3/envs/stix_conda/lib/python3.10/asyncio/base_events.py\", line 682, in __del__\n",
      "    self.close()\n",
      "  File \"/opt/anaconda3/envs/stix_conda/lib/python3.10/asyncio/unix_events.py\", line 71, in close\n",
      "    self.remove_signal_handler(sig)\n",
      "  File \"/opt/anaconda3/envs/stix_conda/lib/python3.10/asyncio/unix_events.py\", line 160, in remove_signal_handler\n",
      "    signal.signal(sig, handler)\n",
      "  File \"/opt/anaconda3/envs/stix_conda/lib/python3.10/signal.py\", line 56, in signal\n",
      "    handler = _signal.signal(_enum_to_int(signalnum), _enum_to_int(handler))\n",
      "ValueError: signal only works in main thread of the main interpreter\n",
      "Exception ignored in: <function BaseEventLoop.__del__ at 0x10a0f8b80>\n",
      "Traceback (most recent call last):\n",
      "  File \"/opt/anaconda3/envs/stix_conda/lib/python3.10/asyncio/base_events.py\", line 682, in __del__\n",
      "    self.close()\n",
      "  File \"/opt/anaconda3/envs/stix_conda/lib/python3.10/asyncio/unix_events.py\", line 71, in close\n",
      "    self.remove_signal_handler(sig)\n",
      "  File \"/opt/anaconda3/envs/stix_conda/lib/python3.10/asyncio/unix_events.py\", line 160, in remove_signal_handler\n",
      "    signal.signal(sig, handler)\n",
      "  File \"/opt/anaconda3/envs/stix_conda/lib/python3.10/signal.py\", line 56, in signal\n",
      "    handler = _signal.signal(_enum_to_int(signalnum), _enum_to_int(handler))\n",
      "ValueError: signal only works in main thread of the main interpreter\n"
     ]
    },
    {
     "data": {
      "application/vnd.jupyter.widget-view+json": {
       "model_id": "17df924abed141a5b6bbf3acef224251",
       "version_major": 2,
       "version_minor": 0
      },
      "text/plain": [
       "Files Downloaded:   0%|          | 0/1 [00:00<?, ?file/s]"
      ]
     },
     "metadata": {},
     "output_type": "display_data"
    },
    {
     "data": {
      "application/vnd.jupyter.widget-view+json": {
       "model_id": "a4ade22ff1e843989970e8226a825260",
       "version_major": 2,
       "version_minor": 0
      },
      "text/plain": [
       "Files Downloaded:   0%|          | 0/1 [00:00<?, ?file/s]"
      ]
     },
     "metadata": {},
     "output_type": "display_data"
    },
    {
     "data": {
      "application/vnd.jupyter.widget-view+json": {
       "model_id": "",
       "version_major": 2,
       "version_minor": 0
      },
      "text/plain": [
       "solo_L1_stix-sci-xray-cpd_20221110T004528-20221110T005408_V01_2211106008-50222.fits:   0%|          | 0.00/1.9…"
      ]
     },
     "metadata": {},
     "output_type": "display_data"
    },
    {
     "data": {
      "application/vnd.jupyter.widget-view+json": {
       "model_id": "642924cc8bad4587b2d160ba401e19fb",
       "version_major": 2,
       "version_minor": 0
      },
      "text/plain": [
       "Files Downloaded:   0%|          | 0/1 [00:00<?, ?file/s]"
      ]
     },
     "metadata": {},
     "output_type": "display_data"
    },
    {
     "data": {
      "application/vnd.jupyter.widget-view+json": {
       "model_id": "6ac107fb66af4c68a0ba21c03bd5a2c9",
       "version_major": 2,
       "version_minor": 0
      },
      "text/plain": [
       "Files Downloaded:   0%|          | 0/1 [00:00<?, ?file/s]"
      ]
     },
     "metadata": {},
     "output_type": "display_data"
    },
    {
     "data": {
      "application/vnd.jupyter.widget-view+json": {
       "model_id": "",
       "version_major": 2,
       "version_minor": 0
      },
      "text/plain": [
       "solo_L1_stix-sci-xray-cpd_20221110T012128-20221110T012726_V01_2211109024-54649.fits:   0%|          | 0.00/904…"
      ]
     },
     "metadata": {},
     "output_type": "display_data"
    },
    {
     "data": {
      "application/vnd.jupyter.widget-view+json": {
       "model_id": "b3a9062e2d894d63b3067932bf9ed2cb",
       "version_major": 2,
       "version_minor": 0
      },
      "text/plain": [
       "Files Downloaded:   0%|          | 0/1 [00:00<?, ?file/s]"
      ]
     },
     "metadata": {},
     "output_type": "display_data"
    },
    {
     "data": {
      "application/vnd.jupyter.widget-view+json": {
       "model_id": "ea116266b24d431aa2e08af5930ecfd7",
       "version_major": 2,
       "version_minor": 0
      },
      "text/plain": [
       "Files Downloaded:   0%|          | 0/1 [00:00<?, ?file/s]"
      ]
     },
     "metadata": {},
     "output_type": "display_data"
    },
    {
     "data": {
      "application/vnd.jupyter.widget-view+json": {
       "model_id": "2a4e45deb2b54836b1371288727e50b4",
       "version_major": 2,
       "version_minor": 0
      },
      "text/plain": [
       "Files Downloaded:   0%|          | 0/1 [00:00<?, ?file/s]"
      ]
     },
     "metadata": {},
     "output_type": "display_data"
    },
    {
     "data": {
      "application/vnd.jupyter.widget-view+json": {
       "model_id": "f3776a1f0ddb49b49830c923fd90f1ac",
       "version_major": 2,
       "version_minor": 0
      },
      "text/plain": [
       "Files Downloaded:   0%|          | 0/1 [00:00<?, ?file/s]"
      ]
     },
     "metadata": {},
     "output_type": "display_data"
    },
    {
     "data": {
      "application/vnd.jupyter.widget-view+json": {
       "model_id": "",
       "version_major": 2,
       "version_minor": 0
      },
      "text/plain": [
       "solo_L1_stix-sci-xray-cpd_20221110T030452-20221110T032506_V01_2211105395-54651.fits:   0%|          | 0.00/369…"
      ]
     },
     "metadata": {},
     "output_type": "display_data"
    },
    {
     "data": {
      "application/vnd.jupyter.widget-view+json": {
       "model_id": "07ac8feb38b442de95cdbbd31807d6a0",
       "version_major": 2,
       "version_minor": 0
      },
      "text/plain": [
       "Files Downloaded:   0%|          | 0/1 [00:00<?, ?file/s]"
      ]
     },
     "metadata": {},
     "output_type": "display_data"
    },
    {
     "data": {
      "application/vnd.jupyter.widget-view+json": {
       "model_id": "0346967f913d4059ad0cd4d5d339bef8",
       "version_major": 2,
       "version_minor": 0
      },
      "text/plain": [
       "Files Downloaded:   0%|          | 0/1 [00:00<?, ?file/s]"
      ]
     },
     "metadata": {},
     "output_type": "display_data"
    },
    {
     "data": {
      "application/vnd.jupyter.widget-view+json": {
       "model_id": "",
       "version_major": 2,
       "version_minor": 0
      },
      "text/plain": [
       "solo_L1_stix-sci-xray-cpd_20221110T041024-20221110T042211_V01_2211100028-54691.fits:   0%|          | 0.00/66.…"
      ]
     },
     "metadata": {},
     "output_type": "display_data"
    },
    {
     "name": "stderr",
     "output_type": "stream",
     "text": [
      "Exception ignored in: <function BaseEventLoop.__del__ at 0x10a0f8b80>\n",
      "Traceback (most recent call last):\n",
      "  File \"/opt/anaconda3/envs/stix_conda/lib/python3.10/asyncio/base_events.py\", line 682, in __del__\n",
      "    self.close()\n",
      "  File \"/opt/anaconda3/envs/stix_conda/lib/python3.10/asyncio/unix_events.py\", line 71, in close\n",
      "    self.remove_signal_handler(sig)\n",
      "  File \"/opt/anaconda3/envs/stix_conda/lib/python3.10/asyncio/unix_events.py\", line 160, in remove_signal_handler\n",
      "    signal.signal(sig, handler)\n",
      "  File \"/opt/anaconda3/envs/stix_conda/lib/python3.10/signal.py\", line 56, in signal\n",
      "    handler = _signal.signal(_enum_to_int(signalnum), _enum_to_int(handler))\n",
      "ValueError: signal only works in main thread of the main interpreter\n",
      "Exception ignored in: <function BaseEventLoop.__del__ at 0x10a0f8b80>\n",
      "Traceback (most recent call last):\n",
      "  File \"/opt/anaconda3/envs/stix_conda/lib/python3.10/asyncio/base_events.py\", line 682, in __del__\n",
      "    self.close()\n",
      "  File \"/opt/anaconda3/envs/stix_conda/lib/python3.10/asyncio/unix_events.py\", line 71, in close\n",
      "    self.remove_signal_handler(sig)\n",
      "  File \"/opt/anaconda3/envs/stix_conda/lib/python3.10/asyncio/unix_events.py\", line 160, in remove_signal_handler\n",
      "    signal.signal(sig, handler)\n",
      "  File \"/opt/anaconda3/envs/stix_conda/lib/python3.10/signal.py\", line 56, in signal\n",
      "    handler = _signal.signal(_enum_to_int(signalnum), _enum_to_int(handler))\n",
      "ValueError: signal only works in main thread of the main interpreter\n",
      "Exception ignored in: <function BaseEventLoop.__del__ at 0x10a0f8b80>\n",
      "Traceback (most recent call last):\n",
      "  File \"/opt/anaconda3/envs/stix_conda/lib/python3.10/asyncio/base_events.py\", line 682, in __del__\n",
      "    self.close()\n",
      "  File \"/opt/anaconda3/envs/stix_conda/lib/python3.10/asyncio/unix_events.py\", line 71, in close\n",
      "    self.remove_signal_handler(sig)\n",
      "  File \"/opt/anaconda3/envs/stix_conda/lib/python3.10/asyncio/unix_events.py\", line 160, in remove_signal_handler\n",
      "    signal.signal(sig, handler)\n",
      "  File \"/opt/anaconda3/envs/stix_conda/lib/python3.10/signal.py\", line 56, in signal\n",
      "    handler = _signal.signal(_enum_to_int(signalnum), _enum_to_int(handler))\n",
      "ValueError: signal only works in main thread of the main interpreter\n",
      "Exception ignored in: <function BaseEventLoop.__del__ at 0x10a0f8b80>\n",
      "Traceback (most recent call last):\n",
      "  File \"/opt/anaconda3/envs/stix_conda/lib/python3.10/asyncio/base_events.py\", line 682, in __del__\n",
      "    self.close()\n",
      "  File \"/opt/anaconda3/envs/stix_conda/lib/python3.10/asyncio/unix_events.py\", line 71, in close\n",
      "    self.remove_signal_handler(sig)\n",
      "  File \"/opt/anaconda3/envs/stix_conda/lib/python3.10/asyncio/unix_events.py\", line 160, in remove_signal_handler\n",
      "    signal.signal(sig, handler)\n",
      "  File \"/opt/anaconda3/envs/stix_conda/lib/python3.10/signal.py\", line 56, in signal\n",
      "    handler = _signal.signal(_enum_to_int(signalnum), _enum_to_int(handler))\n",
      "ValueError: signal only works in main thread of the main interpreter\n",
      "Exception ignored in: <function BaseEventLoop.__del__ at 0x10a0f8b80>\n",
      "Traceback (most recent call last):\n",
      "  File \"/opt/anaconda3/envs/stix_conda/lib/python3.10/asyncio/base_events.py\", line 682, in __del__\n",
      "    self.close()\n",
      "  File \"/opt/anaconda3/envs/stix_conda/lib/python3.10/asyncio/unix_events.py\", line 71, in close\n",
      "    self.remove_signal_handler(sig)\n",
      "  File \"/opt/anaconda3/envs/stix_conda/lib/python3.10/asyncio/unix_events.py\", line 160, in remove_signal_handler\n",
      "    signal.signal(sig, handler)\n",
      "  File \"/opt/anaconda3/envs/stix_conda/lib/python3.10/signal.py\", line 56, in signal\n",
      "    handler = _signal.signal(_enum_to_int(signalnum), _enum_to_int(handler))\n",
      "ValueError: signal only works in main thread of the main interpreter\n"
     ]
    },
    {
     "data": {
      "application/vnd.jupyter.widget-view+json": {
       "model_id": "bcd6d619926745bfa61e1459be15a644",
       "version_major": 2,
       "version_minor": 0
      },
      "text/plain": [
       "Files Downloaded:   0%|          | 0/1 [00:00<?, ?file/s]"
      ]
     },
     "metadata": {},
     "output_type": "display_data"
    },
    {
     "data": {
      "application/vnd.jupyter.widget-view+json": {
       "model_id": "07a6629f9c1e43c8b97f159b5a16a9e3",
       "version_major": 2,
       "version_minor": 0
      },
      "text/plain": [
       "Files Downloaded:   0%|          | 0/1 [00:00<?, ?file/s]"
      ]
     },
     "metadata": {},
     "output_type": "display_data"
    },
    {
     "data": {
      "application/vnd.jupyter.widget-view+json": {
       "model_id": "",
       "version_major": 2,
       "version_minor": 0
      },
      "text/plain": [
       "solo_L1_stix-sci-xray-cpd_20221110T051049-20221110T062823_V01_2211109000-54692.fits:   0%|          | 0.00/815…"
      ]
     },
     "metadata": {},
     "output_type": "display_data"
    },
    {
     "data": {
      "application/vnd.jupyter.widget-view+json": {
       "model_id": "ecc016c16aa149a0ab8d63e1a738ec91",
       "version_major": 2,
       "version_minor": 0
      },
      "text/plain": [
       "Files Downloaded:   0%|          | 0/1 [00:00<?, ?file/s]"
      ]
     },
     "metadata": {},
     "output_type": "display_data"
    },
    {
     "data": {
      "application/vnd.jupyter.widget-view+json": {
       "model_id": "6e35362b6f754ebba8e9b59bf1b979c7",
       "version_major": 2,
       "version_minor": 0
      },
      "text/plain": [
       "Files Downloaded:   0%|          | 0/1 [00:00<?, ?file/s]"
      ]
     },
     "metadata": {},
     "output_type": "display_data"
    },
    {
     "data": {
      "application/vnd.jupyter.widget-view+json": {
       "model_id": "dd62870027214b10b847ff0cdc4730e4",
       "version_major": 2,
       "version_minor": 0
      },
      "text/plain": [
       "Files Downloaded:   0%|          | 0/1 [00:00<?, ?file/s]"
      ]
     },
     "metadata": {},
     "output_type": "display_data"
    },
    {
     "data": {
      "application/vnd.jupyter.widget-view+json": {
       "model_id": "35cb4347428c4b429f8c620552b79e3b",
       "version_major": 2,
       "version_minor": 0
      },
      "text/plain": [
       "Files Downloaded:   0%|          | 0/1 [00:00<?, ?file/s]"
      ]
     },
     "metadata": {},
     "output_type": "display_data"
    },
    {
     "data": {
      "application/vnd.jupyter.widget-view+json": {
       "model_id": "1035e3f199114bc587ca4c8322fb68e2",
       "version_major": 2,
       "version_minor": 0
      },
      "text/plain": [
       "Files Downloaded:   0%|          | 0/1 [00:00<?, ?file/s]"
      ]
     },
     "metadata": {},
     "output_type": "display_data"
    },
    {
     "data": {
      "application/vnd.jupyter.widget-view+json": {
       "model_id": "b460f65e8b274ab7bd7563184c97bceb",
       "version_major": 2,
       "version_minor": 0
      },
      "text/plain": [
       "Files Downloaded:   0%|          | 0/1 [00:00<?, ?file/s]"
      ]
     },
     "metadata": {},
     "output_type": "display_data"
    },
    {
     "data": {
      "application/vnd.jupyter.widget-view+json": {
       "model_id": "bfaa4aaf2b6b4cd8afd50f611d739eaa",
       "version_major": 2,
       "version_minor": 0
      },
      "text/plain": [
       "Files Downloaded:   0%|          | 0/1 [00:00<?, ?file/s]"
      ]
     },
     "metadata": {},
     "output_type": "display_data"
    },
    {
     "data": {
      "application/vnd.jupyter.widget-view+json": {
       "model_id": "cae3541715624645a6435b07d4fd9613",
       "version_major": 2,
       "version_minor": 0
      },
      "text/plain": [
       "Files Downloaded:   0%|          | 0/1 [00:00<?, ?file/s]"
      ]
     },
     "metadata": {},
     "output_type": "display_data"
    },
    {
     "data": {
      "application/vnd.jupyter.widget-view+json": {
       "model_id": "4c6d0a64ce824f87900aad357c70cf4f",
       "version_major": 2,
       "version_minor": 0
      },
      "text/plain": [
       "Files Downloaded:   0%|          | 0/1 [00:00<?, ?file/s]"
      ]
     },
     "metadata": {},
     "output_type": "display_data"
    },
    {
     "data": {
      "application/vnd.jupyter.widget-view+json": {
       "model_id": "323503421d294db99d446f872e4c5025",
       "version_major": 2,
       "version_minor": 0
      },
      "text/plain": [
       "Files Downloaded:   0%|          | 0/1 [00:00<?, ?file/s]"
      ]
     },
     "metadata": {},
     "output_type": "display_data"
    },
    {
     "data": {
      "application/vnd.jupyter.widget-view+json": {
       "model_id": "b0ccdb5d11d7417f8dad4375f877da00",
       "version_major": 2,
       "version_minor": 0
      },
      "text/plain": [
       "Files Downloaded:   0%|          | 0/1 [00:00<?, ?file/s]"
      ]
     },
     "metadata": {},
     "output_type": "display_data"
    },
    {
     "data": {
      "application/vnd.jupyter.widget-view+json": {
       "model_id": "a3f5595dda45453da42662dde71d1360",
       "version_major": 2,
       "version_minor": 0
      },
      "text/plain": [
       "Files Downloaded:   0%|          | 0/1 [00:00<?, ?file/s]"
      ]
     },
     "metadata": {},
     "output_type": "display_data"
    },
    {
     "data": {
      "application/vnd.jupyter.widget-view+json": {
       "model_id": "",
       "version_major": 2,
       "version_minor": 0
      },
      "text/plain": [
       "solo_L1_stix-sci-xray-cpd_20221110T115540-20221110T123420_V01_2211100219-54697.fits:   0%|          | 0.00/1.0…"
      ]
     },
     "metadata": {},
     "output_type": "display_data"
    },
    {
     "data": {
      "application/vnd.jupyter.widget-view+json": {
       "model_id": "c3facf62fb30491b8c641661a5cc28a5",
       "version_major": 2,
       "version_minor": 0
      },
      "text/plain": [
       "Files Downloaded:   0%|          | 0/1 [00:00<?, ?file/s]"
      ]
     },
     "metadata": {},
     "output_type": "display_data"
    },
    {
     "data": {
      "application/vnd.jupyter.widget-view+json": {
       "model_id": "166977e39fd74e09b0409ede1c4fe580",
       "version_major": 2,
       "version_minor": 0
      },
      "text/plain": [
       "Files Downloaded:   0%|          | 0/1 [00:00<?, ?file/s]"
      ]
     },
     "metadata": {},
     "output_type": "display_data"
    },
    {
     "data": {
      "application/vnd.jupyter.widget-view+json": {
       "model_id": "d88958e000614619a1bcdfa0f2289f7c",
       "version_major": 2,
       "version_minor": 0
      },
      "text/plain": [
       "Files Downloaded:   0%|          | 0/1 [00:00<?, ?file/s]"
      ]
     },
     "metadata": {},
     "output_type": "display_data"
    },
    {
     "data": {
      "application/vnd.jupyter.widget-view+json": {
       "model_id": "18b0a46f67f74abdb6f1b32c4e129d1d",
       "version_major": 2,
       "version_minor": 0
      },
      "text/plain": [
       "Files Downloaded:   0%|          | 0/1 [00:00<?, ?file/s]"
      ]
     },
     "metadata": {},
     "output_type": "display_data"
    },
    {
     "data": {
      "application/vnd.jupyter.widget-view+json": {
       "model_id": "b13a32ebc82c4f6c99005304e1199942",
       "version_major": 2,
       "version_minor": 0
      },
      "text/plain": [
       "Files Downloaded:   0%|          | 0/1 [00:00<?, ?file/s]"
      ]
     },
     "metadata": {},
     "output_type": "display_data"
    },
    {
     "data": {
      "application/vnd.jupyter.widget-view+json": {
       "model_id": "77dcacfd7f86403fa528db7ec97eda24",
       "version_major": 2,
       "version_minor": 0
      },
      "text/plain": [
       "Files Downloaded:   0%|          | 0/1 [00:00<?, ?file/s]"
      ]
     },
     "metadata": {},
     "output_type": "display_data"
    },
    {
     "data": {
      "application/vnd.jupyter.widget-view+json": {
       "model_id": "562aae7881bc4789b22e217c674f2e44",
       "version_major": 2,
       "version_minor": 0
      },
      "text/plain": [
       "Files Downloaded:   0%|          | 0/1 [00:00<?, ?file/s]"
      ]
     },
     "metadata": {},
     "output_type": "display_data"
    },
    {
     "data": {
      "application/vnd.jupyter.widget-view+json": {
       "model_id": "096fda5272474bf3b953104e7dafb12a",
       "version_major": 2,
       "version_minor": 0
      },
      "text/plain": [
       "Files Downloaded:   0%|          | 0/1 [00:00<?, ?file/s]"
      ]
     },
     "metadata": {},
     "output_type": "display_data"
    },
    {
     "data": {
      "application/vnd.jupyter.widget-view+json": {
       "model_id": "",
       "version_major": 2,
       "version_minor": 0
      },
      "text/plain": [
       "solo_L1_stix-sci-xray-cpd_20221110T170932-20221110T171726_V01_2211107586-54652.fits:   0%|          | 0.00/2.1…"
      ]
     },
     "metadata": {},
     "output_type": "display_data"
    },
    {
     "name": "stderr",
     "output_type": "stream",
     "text": [
      "Exception ignored in: <function BaseEventLoop.__del__ at 0x10a0f8b80>\n",
      "Traceback (most recent call last):\n",
      "  File \"/opt/anaconda3/envs/stix_conda/lib/python3.10/asyncio/base_events.py\", line 682, in __del__\n",
      "    self.close()\n",
      "  File \"/opt/anaconda3/envs/stix_conda/lib/python3.10/asyncio/unix_events.py\", line 71, in close\n",
      "    self.remove_signal_handler(sig)\n",
      "  File \"/opt/anaconda3/envs/stix_conda/lib/python3.10/asyncio/unix_events.py\", line 160, in remove_signal_handler\n",
      "    signal.signal(sig, handler)\n",
      "  File \"/opt/anaconda3/envs/stix_conda/lib/python3.10/signal.py\", line 56, in signal\n",
      "    handler = _signal.signal(_enum_to_int(signalnum), _enum_to_int(handler))\n",
      "ValueError: signal only works in main thread of the main interpreter\n",
      "Exception ignored in: <function BaseEventLoop.__del__ at 0x10a0f8b80>\n",
      "Traceback (most recent call last):\n",
      "  File \"/opt/anaconda3/envs/stix_conda/lib/python3.10/asyncio/base_events.py\", line 682, in __del__\n",
      "    self.close()\n",
      "  File \"/opt/anaconda3/envs/stix_conda/lib/python3.10/asyncio/unix_events.py\", line 71, in close\n",
      "    self.remove_signal_handler(sig)\n",
      "  File \"/opt/anaconda3/envs/stix_conda/lib/python3.10/asyncio/unix_events.py\", line 160, in remove_signal_handler\n",
      "    signal.signal(sig, handler)\n",
      "  File \"/opt/anaconda3/envs/stix_conda/lib/python3.10/signal.py\", line 56, in signal\n",
      "    handler = _signal.signal(_enum_to_int(signalnum), _enum_to_int(handler))\n",
      "ValueError: signal only works in main thread of the main interpreter\n",
      "Exception ignored in: <function BaseEventLoop.__del__ at 0x10a0f8b80>\n",
      "Traceback (most recent call last):\n",
      "  File \"/opt/anaconda3/envs/stix_conda/lib/python3.10/asyncio/base_events.py\", line 682, in __del__\n",
      "    self.close()\n",
      "  File \"/opt/anaconda3/envs/stix_conda/lib/python3.10/asyncio/unix_events.py\", line 71, in close\n",
      "    self.remove_signal_handler(sig)\n",
      "  File \"/opt/anaconda3/envs/stix_conda/lib/python3.10/asyncio/unix_events.py\", line 160, in remove_signal_handler\n",
      "    signal.signal(sig, handler)\n",
      "  File \"/opt/anaconda3/envs/stix_conda/lib/python3.10/signal.py\", line 56, in signal\n",
      "    handler = _signal.signal(_enum_to_int(signalnum), _enum_to_int(handler))\n",
      "ValueError: signal only works in main thread of the main interpreter\n",
      "Exception ignored in: <function BaseEventLoop.__del__ at 0x10a0f8b80>\n",
      "Traceback (most recent call last):\n",
      "  File \"/opt/anaconda3/envs/stix_conda/lib/python3.10/asyncio/base_events.py\", line 682, in __del__\n",
      "    self.close()\n",
      "  File \"/opt/anaconda3/envs/stix_conda/lib/python3.10/asyncio/unix_events.py\", line 71, in close\n",
      "    self.remove_signal_handler(sig)\n",
      "  File \"/opt/anaconda3/envs/stix_conda/lib/python3.10/asyncio/unix_events.py\", line 160, in remove_signal_handler\n",
      "    signal.signal(sig, handler)\n",
      "  File \"/opt/anaconda3/envs/stix_conda/lib/python3.10/signal.py\", line 56, in signal\n",
      "    handler = _signal.signal(_enum_to_int(signalnum), _enum_to_int(handler))\n",
      "ValueError: signal only works in main thread of the main interpreter\n",
      "Exception ignored in: <function BaseEventLoop.__del__ at 0x10a0f8b80>\n",
      "Traceback (most recent call last):\n",
      "  File \"/opt/anaconda3/envs/stix_conda/lib/python3.10/asyncio/base_events.py\", line 682, in __del__\n",
      "    self.close()\n",
      "  File \"/opt/anaconda3/envs/stix_conda/lib/python3.10/asyncio/unix_events.py\", line 71, in close\n",
      "    self.remove_signal_handler(sig)\n",
      "  File \"/opt/anaconda3/envs/stix_conda/lib/python3.10/asyncio/unix_events.py\", line 160, in remove_signal_handler\n",
      "    signal.signal(sig, handler)\n",
      "  File \"/opt/anaconda3/envs/stix_conda/lib/python3.10/signal.py\", line 56, in signal\n",
      "    handler = _signal.signal(_enum_to_int(signalnum), _enum_to_int(handler))\n",
      "ValueError: signal only works in main thread of the main interpreter\n"
     ]
    },
    {
     "data": {
      "application/vnd.jupyter.widget-view+json": {
       "model_id": "9238d740808446e288f0732ea87f8da1",
       "version_major": 2,
       "version_minor": 0
      },
      "text/plain": [
       "Files Downloaded:   0%|          | 0/1 [00:00<?, ?file/s]"
      ]
     },
     "metadata": {},
     "output_type": "display_data"
    },
    {
     "data": {
      "application/vnd.jupyter.widget-view+json": {
       "model_id": "5e55667a58d947099ab19a0b632fee11",
       "version_major": 2,
       "version_minor": 0
      },
      "text/plain": [
       "Files Downloaded:   0%|          | 0/1 [00:00<?, ?file/s]"
      ]
     },
     "metadata": {},
     "output_type": "display_data"
    },
    {
     "data": {
      "application/vnd.jupyter.widget-view+json": {
       "model_id": "",
       "version_major": 2,
       "version_minor": 0
      },
      "text/plain": [
       "solo_L1_stix-sci-xray-cpd_20221110T180722-20221110T181622_V01_2211102195-54653.fits:   0%|          | 0.00/1.4…"
      ]
     },
     "metadata": {},
     "output_type": "display_data"
    },
    {
     "data": {
      "application/vnd.jupyter.widget-view+json": {
       "model_id": "5fd291cae4dc4b0cb8163b73544fa3aa",
       "version_major": 2,
       "version_minor": 0
      },
      "text/plain": [
       "Files Downloaded:   0%|          | 0/1 [00:00<?, ?file/s]"
      ]
     },
     "metadata": {},
     "output_type": "display_data"
    },
    {
     "data": {
      "application/vnd.jupyter.widget-view+json": {
       "model_id": "202dfd63e7e146f68c19a0542a1cfee7",
       "version_major": 2,
       "version_minor": 0
      },
      "text/plain": [
       "Files Downloaded:   0%|          | 0/1 [00:00<?, ?file/s]"
      ]
     },
     "metadata": {},
     "output_type": "display_data"
    },
    {
     "data": {
      "application/vnd.jupyter.widget-view+json": {
       "model_id": "7a285df9edab455cbaba5665decc0f15",
       "version_major": 2,
       "version_minor": 0
      },
      "text/plain": [
       "Files Downloaded:   0%|          | 0/1 [00:00<?, ?file/s]"
      ]
     },
     "metadata": {},
     "output_type": "display_data"
    },
    {
     "data": {
      "application/vnd.jupyter.widget-view+json": {
       "model_id": "1e7fdc641a724802b0a3f1cb94c0efbc",
       "version_major": 2,
       "version_minor": 0
      },
      "text/plain": [
       "Files Downloaded:   0%|          | 0/1 [00:00<?, ?file/s]"
      ]
     },
     "metadata": {},
     "output_type": "display_data"
    },
    {
     "data": {
      "application/vnd.jupyter.widget-view+json": {
       "model_id": "b918259dc50749dcb155e738b195c8dd",
       "version_major": 2,
       "version_minor": 0
      },
      "text/plain": [
       "Files Downloaded:   0%|          | 0/1 [00:00<?, ?file/s]"
      ]
     },
     "metadata": {},
     "output_type": "display_data"
    },
    {
     "data": {
      "application/vnd.jupyter.widget-view+json": {
       "model_id": "7209d983016b4bc0bb37f12af638c17d",
       "version_major": 2,
       "version_minor": 0
      },
      "text/plain": [
       "Files Downloaded:   0%|          | 0/1 [00:00<?, ?file/s]"
      ]
     },
     "metadata": {},
     "output_type": "display_data"
    },
    {
     "data": {
      "application/vnd.jupyter.widget-view+json": {
       "model_id": "b0c48a0f341947fd88229e8317c085c1",
       "version_major": 2,
       "version_minor": 0
      },
      "text/plain": [
       "Files Downloaded:   0%|          | 0/1 [00:00<?, ?file/s]"
      ]
     },
     "metadata": {},
     "output_type": "display_data"
    },
    {
     "data": {
      "application/vnd.jupyter.widget-view+json": {
       "model_id": "b604cbd3190d4bb6aaaea3356480a994",
       "version_major": 2,
       "version_minor": 0
      },
      "text/plain": [
       "Files Downloaded:   0%|          | 0/1 [00:00<?, ?file/s]"
      ]
     },
     "metadata": {},
     "output_type": "display_data"
    },
    {
     "data": {
      "application/vnd.jupyter.widget-view+json": {
       "model_id": "",
       "version_major": 2,
       "version_minor": 0
      },
      "text/plain": [
       "solo_L1_stix-sci-xray-cpd_20221110T212555-20221110T215029_V01_2211105208-54657.fits:   0%|          | 0.00/654…"
      ]
     },
     "metadata": {},
     "output_type": "display_data"
    },
    {
     "data": {
      "application/vnd.jupyter.widget-view+json": {
       "model_id": "ef60be63b6ef4142a78ab915ad6289c8",
       "version_major": 2,
       "version_minor": 0
      },
      "text/plain": [
       "Files Downloaded:   0%|          | 0/1 [00:00<?, ?file/s]"
      ]
     },
     "metadata": {},
     "output_type": "display_data"
    },
    {
     "data": {
      "application/vnd.jupyter.widget-view+json": {
       "model_id": "bf56c3d8b3984c158aef03dbe8782e52",
       "version_major": 2,
       "version_minor": 0
      },
      "text/plain": [
       "Files Downloaded:   0%|          | 0/1 [00:00<?, ?file/s]"
      ]
     },
     "metadata": {},
     "output_type": "display_data"
    },
    {
     "data": {
      "application/vnd.jupyter.widget-view+json": {
       "model_id": "218b6ad32d294e58990d5b5986be8ba3",
       "version_major": 2,
       "version_minor": 0
      },
      "text/plain": [
       "Files Downloaded:   0%|          | 0/1 [00:00<?, ?file/s]"
      ]
     },
     "metadata": {},
     "output_type": "display_data"
    },
    {
     "data": {
      "application/vnd.jupyter.widget-view+json": {
       "model_id": "5f57daa9c7274077bf3df9e13ecad3d8",
       "version_major": 2,
       "version_minor": 0
      },
      "text/plain": [
       "Files Downloaded:   0%|          | 0/1 [00:00<?, ?file/s]"
      ]
     },
     "metadata": {},
     "output_type": "display_data"
    },
    {
     "data": {
      "application/vnd.jupyter.widget-view+json": {
       "model_id": "5eaa63fb4f10445489dc56050a396b81",
       "version_major": 2,
       "version_minor": 0
      },
      "text/plain": [
       "Files Downloaded:   0%|          | 0/1 [00:00<?, ?file/s]"
      ]
     },
     "metadata": {},
     "output_type": "display_data"
    },
    {
     "data": {
      "application/vnd.jupyter.widget-view+json": {
       "model_id": "0c8a4b4ba45b49fb980605e8d35748be",
       "version_major": 2,
       "version_minor": 0
      },
      "text/plain": [
       "Files Downloaded:   0%|          | 0/1 [00:00<?, ?file/s]"
      ]
     },
     "metadata": {},
     "output_type": "display_data"
    },
    {
     "data": {
      "application/vnd.jupyter.widget-view+json": {
       "model_id": "ad69ae983de84a13b1a4e7d654dfe36b",
       "version_major": 2,
       "version_minor": 0
      },
      "text/plain": [
       "Files Downloaded:   0%|          | 0/2 [00:00<?, ?file/s]"
      ]
     },
     "metadata": {},
     "output_type": "display_data"
    },
    {
     "data": {
      "application/vnd.jupyter.widget-view+json": {
       "model_id": "0ff28a404c72499b90a5cff606b6719d",
       "version_major": 2,
       "version_minor": 0
      },
      "text/plain": [
       "Files Downloaded:   0%|          | 0/1 [00:00<?, ?file/s]"
      ]
     },
     "metadata": {},
     "output_type": "display_data"
    },
    {
     "data": {
      "application/vnd.jupyter.widget-view+json": {
       "model_id": "9473ba38465a4e18bbb075159d6972b0",
       "version_major": 2,
       "version_minor": 0
      },
      "text/plain": [
       "Files Downloaded:   0%|          | 0/1 [00:00<?, ?file/s]"
      ]
     },
     "metadata": {},
     "output_type": "display_data"
    },
    {
     "data": {
      "application/vnd.jupyter.widget-view+json": {
       "model_id": "98c37852532b4a86924ace28ab395a0f",
       "version_major": 2,
       "version_minor": 0
      },
      "text/plain": [
       "Files Downloaded:   0%|          | 0/1 [00:00<?, ?file/s]"
      ]
     },
     "metadata": {},
     "output_type": "display_data"
    },
    {
     "data": {
      "application/vnd.jupyter.widget-view+json": {
       "model_id": "ce5e8ff7f0164c779ec7e05268738cf9",
       "version_major": 2,
       "version_minor": 0
      },
      "text/plain": [
       "Files Downloaded:   0%|          | 0/1 [00:00<?, ?file/s]"
      ]
     },
     "metadata": {},
     "output_type": "display_data"
    },
    {
     "data": {
      "application/vnd.jupyter.widget-view+json": {
       "model_id": "c734513b3b4a47859fcbd77dba781482",
       "version_major": 2,
       "version_minor": 0
      },
      "text/plain": [
       "Files Downloaded:   0%|          | 0/1 [00:00<?, ?file/s]"
      ]
     },
     "metadata": {},
     "output_type": "display_data"
    },
    {
     "data": {
      "application/vnd.jupyter.widget-view+json": {
       "model_id": "",
       "version_major": 2,
       "version_minor": 0
      },
      "text/plain": [
       "solo_L1_stix-sci-xray-cpd_20221111T012418-20221111T020633_V01_2211116520-50211.fits:   0%|          | 0.00/5.1…"
      ]
     },
     "metadata": {},
     "output_type": "display_data"
    },
    {
     "data": {
      "application/vnd.jupyter.widget-view+json": {
       "model_id": "76d60b68bce64a5a86c0fdbd82638849",
       "version_major": 2,
       "version_minor": 0
      },
      "text/plain": [
       "Files Downloaded:   0%|          | 0/1 [00:00<?, ?file/s]"
      ]
     },
     "metadata": {},
     "output_type": "display_data"
    },
    {
     "data": {
      "application/vnd.jupyter.widget-view+json": {
       "model_id": "97fed1efe69f4578854619d0e5ae0a21",
       "version_major": 2,
       "version_minor": 0
      },
      "text/plain": [
       "Files Downloaded:   0%|          | 0/1 [00:00<?, ?file/s]"
      ]
     },
     "metadata": {},
     "output_type": "display_data"
    },
    {
     "data": {
      "application/vnd.jupyter.widget-view+json": {
       "model_id": "",
       "version_major": 2,
       "version_minor": 0
      },
      "text/plain": [
       "solo_L1_stix-sci-xray-cpd_20221111T024055-20221111T034747_V01_2211119603-50212.fits:   0%|          | 0.00/1.6…"
      ]
     },
     "metadata": {},
     "output_type": "display_data"
    },
    {
     "data": {
      "application/vnd.jupyter.widget-view+json": {
       "model_id": "a5ad32e30e104b91b3e594633ab7291e",
       "version_major": 2,
       "version_minor": 0
      },
      "text/plain": [
       "Files Downloaded:   0%|          | 0/1 [00:00<?, ?file/s]"
      ]
     },
     "metadata": {},
     "output_type": "display_data"
    },
    {
     "data": {
      "application/vnd.jupyter.widget-view+json": {
       "model_id": "4f1c336859944c1bb2a9046d6b7bd7e9",
       "version_major": 2,
       "version_minor": 0
      },
      "text/plain": [
       "Files Downloaded:   0%|          | 0/1 [00:00<?, ?file/s]"
      ]
     },
     "metadata": {},
     "output_type": "display_data"
    },
    {
     "data": {
      "application/vnd.jupyter.widget-view+json": {
       "model_id": "db258f2687664b8f9f3766f87270ac3f",
       "version_major": 2,
       "version_minor": 0
      },
      "text/plain": [
       "Files Downloaded:   0%|          | 0/1 [00:00<?, ?file/s]"
      ]
     },
     "metadata": {},
     "output_type": "display_data"
    },
    {
     "data": {
      "application/vnd.jupyter.widget-view+json": {
       "model_id": "f14ddabada1348f88ba3ef232eb9a200",
       "version_major": 2,
       "version_minor": 0
      },
      "text/plain": [
       "Files Downloaded:   0%|          | 0/1 [00:00<?, ?file/s]"
      ]
     },
     "metadata": {},
     "output_type": "display_data"
    },
    {
     "data": {
      "application/vnd.jupyter.widget-view+json": {
       "model_id": "5eabb0a3b537434ab5ede89a2e6f6a0c",
       "version_major": 2,
       "version_minor": 0
      },
      "text/plain": [
       "Files Downloaded:   0%|          | 0/1 [00:00<?, ?file/s]"
      ]
     },
     "metadata": {},
     "output_type": "display_data"
    },
    {
     "data": {
      "application/vnd.jupyter.widget-view+json": {
       "model_id": "7905e86c485e451797baca56d5758f49",
       "version_major": 2,
       "version_minor": 0
      },
      "text/plain": [
       "Files Downloaded:   0%|          | 0/1 [00:00<?, ?file/s]"
      ]
     },
     "metadata": {},
     "output_type": "display_data"
    },
    {
     "data": {
      "application/vnd.jupyter.widget-view+json": {
       "model_id": "",
       "version_major": 2,
       "version_minor": 0
      },
      "text/plain": [
       "solo_L1_stix-sci-xray-cpd_20221111T052100-20221111T052813_V01_2211116049-54706.fits:   0%|          | 0.00/570…"
      ]
     },
     "metadata": {},
     "output_type": "display_data"
    },
    {
     "name": "stderr",
     "output_type": "stream",
     "text": [
      "Exception ignored in: <function BaseEventLoop.__del__ at 0x10a0f8b80>\n",
      "Traceback (most recent call last):\n",
      "  File \"/opt/anaconda3/envs/stix_conda/lib/python3.10/asyncio/base_events.py\", line 682, in __del__\n",
      "    self.close()\n",
      "  File \"/opt/anaconda3/envs/stix_conda/lib/python3.10/asyncio/unix_events.py\", line 71, in close\n",
      "    self.remove_signal_handler(sig)\n",
      "  File \"/opt/anaconda3/envs/stix_conda/lib/python3.10/asyncio/unix_events.py\", line 160, in remove_signal_handler\n",
      "    signal.signal(sig, handler)\n",
      "  File \"/opt/anaconda3/envs/stix_conda/lib/python3.10/signal.py\", line 56, in signal\n",
      "    handler = _signal.signal(_enum_to_int(signalnum), _enum_to_int(handler))\n",
      "ValueError: signal only works in main thread of the main interpreter\n",
      "Exception ignored in: <function BaseEventLoop.__del__ at 0x10a0f8b80>\n",
      "Traceback (most recent call last):\n",
      "  File \"/opt/anaconda3/envs/stix_conda/lib/python3.10/asyncio/base_events.py\", line 682, in __del__\n",
      "    self.close()\n",
      "  File \"/opt/anaconda3/envs/stix_conda/lib/python3.10/asyncio/unix_events.py\", line 71, in close\n",
      "    self.remove_signal_handler(sig)\n",
      "  File \"/opt/anaconda3/envs/stix_conda/lib/python3.10/asyncio/unix_events.py\", line 160, in remove_signal_handler\n",
      "    signal.signal(sig, handler)\n",
      "  File \"/opt/anaconda3/envs/stix_conda/lib/python3.10/signal.py\", line 56, in signal\n",
      "    handler = _signal.signal(_enum_to_int(signalnum), _enum_to_int(handler))\n",
      "ValueError: signal only works in main thread of the main interpreter\n",
      "Exception ignored in: <function BaseEventLoop.__del__ at 0x10a0f8b80>\n",
      "Traceback (most recent call last):\n",
      "  File \"/opt/anaconda3/envs/stix_conda/lib/python3.10/asyncio/base_events.py\", line 682, in __del__\n",
      "    self.close()\n",
      "  File \"/opt/anaconda3/envs/stix_conda/lib/python3.10/asyncio/unix_events.py\", line 71, in close\n",
      "    self.remove_signal_handler(sig)\n",
      "  File \"/opt/anaconda3/envs/stix_conda/lib/python3.10/asyncio/unix_events.py\", line 160, in remove_signal_handler\n",
      "    signal.signal(sig, handler)\n",
      "  File \"/opt/anaconda3/envs/stix_conda/lib/python3.10/signal.py\", line 56, in signal\n",
      "    handler = _signal.signal(_enum_to_int(signalnum), _enum_to_int(handler))\n",
      "ValueError: signal only works in main thread of the main interpreter\n"
     ]
    },
    {
     "data": {
      "application/vnd.jupyter.widget-view+json": {
       "model_id": "38ad5924e37044b28fff9232129ddf79",
       "version_major": 2,
       "version_minor": 0
      },
      "text/plain": [
       "Files Downloaded:   0%|          | 0/1 [00:00<?, ?file/s]"
      ]
     },
     "metadata": {},
     "output_type": "display_data"
    },
    {
     "data": {
      "application/vnd.jupyter.widget-view+json": {
       "model_id": "9e1278f362c544f7a571803812ff0470",
       "version_major": 2,
       "version_minor": 0
      },
      "text/plain": [
       "Files Downloaded:   0%|          | 0/1 [00:00<?, ?file/s]"
      ]
     },
     "metadata": {},
     "output_type": "display_data"
    },
    {
     "data": {
      "application/vnd.jupyter.widget-view+json": {
       "model_id": "acc1641de8ea431b9882ec8b6111a6d2",
       "version_major": 2,
       "version_minor": 0
      },
      "text/plain": [
       "Files Downloaded:   0%|          | 0/1 [00:00<?, ?file/s]"
      ]
     },
     "metadata": {},
     "output_type": "display_data"
    },
    {
     "data": {
      "application/vnd.jupyter.widget-view+json": {
       "model_id": "ec3b50010b48429784f1e4f88b67b643",
       "version_major": 2,
       "version_minor": 0
      },
      "text/plain": [
       "Files Downloaded:   0%|          | 0/1 [00:00<?, ?file/s]"
      ]
     },
     "metadata": {},
     "output_type": "display_data"
    },
    {
     "name": "stderr",
     "output_type": "stream",
     "text": [
      "Exception ignored in: <function BaseEventLoop.__del__ at 0x10a0f8b80>\n",
      "Traceback (most recent call last):\n",
      "  File \"/opt/anaconda3/envs/stix_conda/lib/python3.10/asyncio/base_events.py\", line 682, in __del__\n",
      "    self.close()\n",
      "  File \"/opt/anaconda3/envs/stix_conda/lib/python3.10/asyncio/unix_events.py\", line 71, in close\n",
      "    self.remove_signal_handler(sig)\n",
      "  File \"/opt/anaconda3/envs/stix_conda/lib/python3.10/asyncio/unix_events.py\", line 160, in remove_signal_handler\n",
      "    signal.signal(sig, handler)\n",
      "  File \"/opt/anaconda3/envs/stix_conda/lib/python3.10/signal.py\", line 56, in signal\n",
      "    handler = _signal.signal(_enum_to_int(signalnum), _enum_to_int(handler))\n",
      "ValueError: signal only works in main thread of the main interpreter\n",
      "Exception ignored in: <function BaseEventLoop.__del__ at 0x10a0f8b80>\n",
      "Traceback (most recent call last):\n",
      "  File \"/opt/anaconda3/envs/stix_conda/lib/python3.10/asyncio/base_events.py\", line 682, in __del__\n",
      "    self.close()\n",
      "  File \"/opt/anaconda3/envs/stix_conda/lib/python3.10/asyncio/unix_events.py\", line 71, in close\n",
      "    self.remove_signal_handler(sig)\n",
      "  File \"/opt/anaconda3/envs/stix_conda/lib/python3.10/asyncio/unix_events.py\", line 160, in remove_signal_handler\n",
      "    signal.signal(sig, handler)\n",
      "  File \"/opt/anaconda3/envs/stix_conda/lib/python3.10/signal.py\", line 56, in signal\n",
      "    handler = _signal.signal(_enum_to_int(signalnum), _enum_to_int(handler))\n",
      "ValueError: signal only works in main thread of the main interpreter\n",
      "Exception ignored in: <function BaseEventLoop.__del__ at 0x10a0f8b80>\n",
      "Traceback (most recent call last):\n",
      "  File \"/opt/anaconda3/envs/stix_conda/lib/python3.10/asyncio/base_events.py\", line 682, in __del__\n",
      "    self.close()\n",
      "  File \"/opt/anaconda3/envs/stix_conda/lib/python3.10/asyncio/unix_events.py\", line 71, in close\n",
      "    self.remove_signal_handler(sig)\n",
      "  File \"/opt/anaconda3/envs/stix_conda/lib/python3.10/asyncio/unix_events.py\", line 160, in remove_signal_handler\n",
      "    signal.signal(sig, handler)\n",
      "  File \"/opt/anaconda3/envs/stix_conda/lib/python3.10/signal.py\", line 56, in signal\n",
      "    handler = _signal.signal(_enum_to_int(signalnum), _enum_to_int(handler))\n",
      "ValueError: signal only works in main thread of the main interpreter\n"
     ]
    },
    {
     "data": {
      "application/vnd.jupyter.widget-view+json": {
       "model_id": "484f1930d233442c97b79e4d1b01e2c0",
       "version_major": 2,
       "version_minor": 0
      },
      "text/plain": [
       "Files Downloaded:   0%|          | 0/1 [00:00<?, ?file/s]"
      ]
     },
     "metadata": {},
     "output_type": "display_data"
    },
    {
     "data": {
      "application/vnd.jupyter.widget-view+json": {
       "model_id": "39d6dd7bf381435f8d69e4ea9983b74b",
       "version_major": 2,
       "version_minor": 0
      },
      "text/plain": [
       "Files Downloaded:   0%|          | 0/1 [00:00<?, ?file/s]"
      ]
     },
     "metadata": {},
     "output_type": "display_data"
    },
    {
     "data": {
      "application/vnd.jupyter.widget-view+json": {
       "model_id": "d86c2d057d1c49eab7a62c43d17939f3",
       "version_major": 2,
       "version_minor": 0
      },
      "text/plain": [
       "Files Downloaded:   0%|          | 0/1 [00:00<?, ?file/s]"
      ]
     },
     "metadata": {},
     "output_type": "display_data"
    },
    {
     "data": {
      "application/vnd.jupyter.widget-view+json": {
       "model_id": "d02c447f12bf46d6a8937a60c0de86ec",
       "version_major": 2,
       "version_minor": 0
      },
      "text/plain": [
       "Files Downloaded:   0%|          | 0/1 [00:00<?, ?file/s]"
      ]
     },
     "metadata": {},
     "output_type": "display_data"
    },
    {
     "name": "stderr",
     "output_type": "stream",
     "text": [
      "Exception ignored in: <function BaseEventLoop.__del__ at 0x10a0f8b80>\n",
      "Traceback (most recent call last):\n",
      "  File \"/opt/anaconda3/envs/stix_conda/lib/python3.10/asyncio/base_events.py\", line 682, in __del__\n",
      "    self.close()\n",
      "  File \"/opt/anaconda3/envs/stix_conda/lib/python3.10/asyncio/unix_events.py\", line 71, in close\n",
      "    self.remove_signal_handler(sig)\n",
      "  File \"/opt/anaconda3/envs/stix_conda/lib/python3.10/asyncio/unix_events.py\", line 160, in remove_signal_handler\n",
      "    signal.signal(sig, handler)\n",
      "  File \"/opt/anaconda3/envs/stix_conda/lib/python3.10/signal.py\", line 56, in signal\n",
      "    handler = _signal.signal(_enum_to_int(signalnum), _enum_to_int(handler))\n",
      "ValueError: signal only works in main thread of the main interpreter\n",
      "Exception ignored in: <function BaseEventLoop.__del__ at 0x10a0f8b80>\n",
      "Traceback (most recent call last):\n",
      "  File \"/opt/anaconda3/envs/stix_conda/lib/python3.10/asyncio/base_events.py\", line 682, in __del__\n",
      "    self.close()\n",
      "  File \"/opt/anaconda3/envs/stix_conda/lib/python3.10/asyncio/unix_events.py\", line 71, in close\n",
      "    self.remove_signal_handler(sig)\n",
      "  File \"/opt/anaconda3/envs/stix_conda/lib/python3.10/asyncio/unix_events.py\", line 160, in remove_signal_handler\n",
      "    signal.signal(sig, handler)\n",
      "  File \"/opt/anaconda3/envs/stix_conda/lib/python3.10/signal.py\", line 56, in signal\n",
      "    handler = _signal.signal(_enum_to_int(signalnum), _enum_to_int(handler))\n",
      "ValueError: signal only works in main thread of the main interpreter\n",
      "Exception ignored in: <function BaseEventLoop.__del__ at 0x10a0f8b80>\n",
      "Traceback (most recent call last):\n",
      "  File \"/opt/anaconda3/envs/stix_conda/lib/python3.10/asyncio/base_events.py\", line 682, in __del__\n",
      "    self.close()\n",
      "  File \"/opt/anaconda3/envs/stix_conda/lib/python3.10/asyncio/unix_events.py\", line 71, in close\n",
      "    self.remove_signal_handler(sig)\n",
      "  File \"/opt/anaconda3/envs/stix_conda/lib/python3.10/asyncio/unix_events.py\", line 160, in remove_signal_handler\n",
      "    signal.signal(sig, handler)\n",
      "  File \"/opt/anaconda3/envs/stix_conda/lib/python3.10/signal.py\", line 56, in signal\n",
      "    handler = _signal.signal(_enum_to_int(signalnum), _enum_to_int(handler))\n",
      "ValueError: signal only works in main thread of the main interpreter\n"
     ]
    },
    {
     "data": {
      "application/vnd.jupyter.widget-view+json": {
       "model_id": "59b59feeee734f13bae8021970c518df",
       "version_major": 2,
       "version_minor": 0
      },
      "text/plain": [
       "Files Downloaded:   0%|          | 0/1 [00:00<?, ?file/s]"
      ]
     },
     "metadata": {},
     "output_type": "display_data"
    },
    {
     "data": {
      "application/vnd.jupyter.widget-view+json": {
       "model_id": "d9c4a7eb047c40a881d7a8cd68e5d9f3",
       "version_major": 2,
       "version_minor": 0
      },
      "text/plain": [
       "Files Downloaded:   0%|          | 0/1 [00:00<?, ?file/s]"
      ]
     },
     "metadata": {},
     "output_type": "display_data"
    },
    {
     "data": {
      "application/vnd.jupyter.widget-view+json": {
       "model_id": "f08f22c2df2d4433874c5196c797d07e",
       "version_major": 2,
       "version_minor": 0
      },
      "text/plain": [
       "Files Downloaded:   0%|          | 0/1 [00:00<?, ?file/s]"
      ]
     },
     "metadata": {},
     "output_type": "display_data"
    },
    {
     "data": {
      "application/vnd.jupyter.widget-view+json": {
       "model_id": "bd4e8a565627468480efdab3e7e73f4f",
       "version_major": 2,
       "version_minor": 0
      },
      "text/plain": [
       "Files Downloaded:   0%|          | 0/1 [00:00<?, ?file/s]"
      ]
     },
     "metadata": {},
     "output_type": "display_data"
    },
    {
     "name": "stderr",
     "output_type": "stream",
     "text": [
      "Exception ignored in: <function BaseEventLoop.__del__ at 0x10a0f8b80>\n",
      "Traceback (most recent call last):\n",
      "  File \"/opt/anaconda3/envs/stix_conda/lib/python3.10/asyncio/base_events.py\", line 682, in __del__\n",
      "    self.close()\n",
      "  File \"/opt/anaconda3/envs/stix_conda/lib/python3.10/asyncio/unix_events.py\", line 71, in close\n",
      "    self.remove_signal_handler(sig)\n",
      "  File \"/opt/anaconda3/envs/stix_conda/lib/python3.10/asyncio/unix_events.py\", line 160, in remove_signal_handler\n",
      "    signal.signal(sig, handler)\n",
      "  File \"/opt/anaconda3/envs/stix_conda/lib/python3.10/signal.py\", line 56, in signal\n",
      "    handler = _signal.signal(_enum_to_int(signalnum), _enum_to_int(handler))\n",
      "ValueError: signal only works in main thread of the main interpreter\n",
      "Exception ignored in: <function BaseEventLoop.__del__ at 0x10a0f8b80>\n",
      "Traceback (most recent call last):\n",
      "  File \"/opt/anaconda3/envs/stix_conda/lib/python3.10/asyncio/base_events.py\", line 682, in __del__\n",
      "    self.close()\n",
      "  File \"/opt/anaconda3/envs/stix_conda/lib/python3.10/asyncio/unix_events.py\", line 71, in close\n",
      "    self.remove_signal_handler(sig)\n",
      "  File \"/opt/anaconda3/envs/stix_conda/lib/python3.10/asyncio/unix_events.py\", line 160, in remove_signal_handler\n",
      "    signal.signal(sig, handler)\n",
      "  File \"/opt/anaconda3/envs/stix_conda/lib/python3.10/signal.py\", line 56, in signal\n",
      "    handler = _signal.signal(_enum_to_int(signalnum), _enum_to_int(handler))\n",
      "ValueError: signal only works in main thread of the main interpreter\n",
      "Exception ignored in: <function BaseEventLoop.__del__ at 0x10a0f8b80>\n",
      "Traceback (most recent call last):\n",
      "  File \"/opt/anaconda3/envs/stix_conda/lib/python3.10/asyncio/base_events.py\", line 682, in __del__\n",
      "    self.close()\n",
      "  File \"/opt/anaconda3/envs/stix_conda/lib/python3.10/asyncio/unix_events.py\", line 71, in close\n",
      "    self.remove_signal_handler(sig)\n",
      "  File \"/opt/anaconda3/envs/stix_conda/lib/python3.10/asyncio/unix_events.py\", line 160, in remove_signal_handler\n",
      "    signal.signal(sig, handler)\n",
      "  File \"/opt/anaconda3/envs/stix_conda/lib/python3.10/signal.py\", line 56, in signal\n",
      "    handler = _signal.signal(_enum_to_int(signalnum), _enum_to_int(handler))\n",
      "ValueError: signal only works in main thread of the main interpreter\n"
     ]
    },
    {
     "data": {
      "application/vnd.jupyter.widget-view+json": {
       "model_id": "d7a645031fc3473a82eb7dd71490e290",
       "version_major": 2,
       "version_minor": 0
      },
      "text/plain": [
       "Files Downloaded:   0%|          | 0/1 [00:00<?, ?file/s]"
      ]
     },
     "metadata": {},
     "output_type": "display_data"
    },
    {
     "data": {
      "application/vnd.jupyter.widget-view+json": {
       "model_id": "6231d0e9858f4e28931418cabac0efa4",
       "version_major": 2,
       "version_minor": 0
      },
      "text/plain": [
       "Files Downloaded:   0%|          | 0/1 [00:00<?, ?file/s]"
      ]
     },
     "metadata": {},
     "output_type": "display_data"
    },
    {
     "data": {
      "application/vnd.jupyter.widget-view+json": {
       "model_id": "",
       "version_major": 2,
       "version_minor": 0
      },
      "text/plain": [
       "solo_L1_stix-sci-xray-cpd_20221111T074239-20221111T080742_V01_2211118346-54709.fits:   0%|          | 0.00/654…"
      ]
     },
     "metadata": {},
     "output_type": "display_data"
    },
    {
     "data": {
      "application/vnd.jupyter.widget-view+json": {
       "model_id": "20ce77c751a14efdafc6edadb8a1f27f",
       "version_major": 2,
       "version_minor": 0
      },
      "text/plain": [
       "Files Downloaded:   0%|          | 0/1 [00:00<?, ?file/s]"
      ]
     },
     "metadata": {},
     "output_type": "display_data"
    },
    {
     "name": "stderr",
     "output_type": "stream",
     "text": [
      "Exception ignored in: <function BaseEventLoop.__del__ at 0x10a0f8b80>\n",
      "Traceback (most recent call last):\n",
      "  File \"/opt/anaconda3/envs/stix_conda/lib/python3.10/asyncio/base_events.py\", line 682, in __del__\n",
      "    self.close()\n",
      "  File \"/opt/anaconda3/envs/stix_conda/lib/python3.10/asyncio/unix_events.py\", line 71, in close\n",
      "    self.remove_signal_handler(sig)\n",
      "  File \"/opt/anaconda3/envs/stix_conda/lib/python3.10/asyncio/unix_events.py\", line 160, in remove_signal_handler\n",
      "    signal.signal(sig, handler)\n",
      "  File \"/opt/anaconda3/envs/stix_conda/lib/python3.10/signal.py\", line 56, in signal\n",
      "    handler = _signal.signal(_enum_to_int(signalnum), _enum_to_int(handler))\n",
      "ValueError: signal only works in main thread of the main interpreter\n",
      "Exception ignored in: <function BaseEventLoop.__del__ at 0x10a0f8b80>\n",
      "Traceback (most recent call last):\n",
      "  File \"/opt/anaconda3/envs/stix_conda/lib/python3.10/asyncio/base_events.py\", line 682, in __del__\n",
      "    self.close()\n",
      "  File \"/opt/anaconda3/envs/stix_conda/lib/python3.10/asyncio/unix_events.py\", line 71, in close\n",
      "    self.remove_signal_handler(sig)\n",
      "  File \"/opt/anaconda3/envs/stix_conda/lib/python3.10/asyncio/unix_events.py\", line 160, in remove_signal_handler\n",
      "    signal.signal(sig, handler)\n",
      "  File \"/opt/anaconda3/envs/stix_conda/lib/python3.10/signal.py\", line 56, in signal\n",
      "    handler = _signal.signal(_enum_to_int(signalnum), _enum_to_int(handler))\n",
      "ValueError: signal only works in main thread of the main interpreter\n"
     ]
    },
    {
     "data": {
      "application/vnd.jupyter.widget-view+json": {
       "model_id": "64bb13f64e6d42989acdd0e02fb2b7a2",
       "version_major": 2,
       "version_minor": 0
      },
      "text/plain": [
       "Files Downloaded:   0%|          | 0/1 [00:00<?, ?file/s]"
      ]
     },
     "metadata": {},
     "output_type": "display_data"
    },
    {
     "data": {
      "application/vnd.jupyter.widget-view+json": {
       "model_id": "4731aa18f5fe4cbaae8e9ffc6fd8ed1f",
       "version_major": 2,
       "version_minor": 0
      },
      "text/plain": [
       "Files Downloaded:   0%|          | 0/1 [00:00<?, ?file/s]"
      ]
     },
     "metadata": {},
     "output_type": "display_data"
    },
    {
     "data": {
      "application/vnd.jupyter.widget-view+json": {
       "model_id": "5cd32ae29c894da4b31d1c782749924d",
       "version_major": 2,
       "version_minor": 0
      },
      "text/plain": [
       "Files Downloaded:   0%|          | 0/1 [00:00<?, ?file/s]"
      ]
     },
     "metadata": {},
     "output_type": "display_data"
    },
    {
     "data": {
      "application/vnd.jupyter.widget-view+json": {
       "model_id": "2243e9fcd39d43fabe9b0c8f72cec0d4",
       "version_major": 2,
       "version_minor": 0
      },
      "text/plain": [
       "Files Downloaded:   0%|          | 0/1 [00:00<?, ?file/s]"
      ]
     },
     "metadata": {},
     "output_type": "display_data"
    },
    {
     "name": "stderr",
     "output_type": "stream",
     "text": [
      "Exception ignored in: <function BaseEventLoop.__del__ at 0x10a0f8b80>\n",
      "Traceback (most recent call last):\n",
      "  File \"/opt/anaconda3/envs/stix_conda/lib/python3.10/asyncio/base_events.py\", line 682, in __del__\n",
      "    self.close()\n",
      "  File \"/opt/anaconda3/envs/stix_conda/lib/python3.10/asyncio/unix_events.py\", line 71, in close\n",
      "    self.remove_signal_handler(sig)\n",
      "  File \"/opt/anaconda3/envs/stix_conda/lib/python3.10/asyncio/unix_events.py\", line 160, in remove_signal_handler\n",
      "    signal.signal(sig, handler)\n",
      "  File \"/opt/anaconda3/envs/stix_conda/lib/python3.10/signal.py\", line 56, in signal\n",
      "    handler = _signal.signal(_enum_to_int(signalnum), _enum_to_int(handler))\n",
      "ValueError: signal only works in main thread of the main interpreter\n",
      "Exception ignored in: <function BaseEventLoop.__del__ at 0x10a0f8b80>\n",
      "Traceback (most recent call last):\n",
      "  File \"/opt/anaconda3/envs/stix_conda/lib/python3.10/asyncio/base_events.py\", line 682, in __del__\n",
      "    self.close()\n",
      "  File \"/opt/anaconda3/envs/stix_conda/lib/python3.10/asyncio/unix_events.py\", line 71, in close\n",
      "    self.remove_signal_handler(sig)\n",
      "  File \"/opt/anaconda3/envs/stix_conda/lib/python3.10/asyncio/unix_events.py\", line 160, in remove_signal_handler\n",
      "    signal.signal(sig, handler)\n",
      "  File \"/opt/anaconda3/envs/stix_conda/lib/python3.10/signal.py\", line 56, in signal\n",
      "    handler = _signal.signal(_enum_to_int(signalnum), _enum_to_int(handler))\n",
      "ValueError: signal only works in main thread of the main interpreter\n",
      "Exception ignored in: <function BaseEventLoop.__del__ at 0x10a0f8b80>\n",
      "Traceback (most recent call last):\n",
      "  File \"/opt/anaconda3/envs/stix_conda/lib/python3.10/asyncio/base_events.py\", line 682, in __del__\n",
      "    self.close()\n",
      "  File \"/opt/anaconda3/envs/stix_conda/lib/python3.10/asyncio/unix_events.py\", line 71, in close\n",
      "    self.remove_signal_handler(sig)\n",
      "  File \"/opt/anaconda3/envs/stix_conda/lib/python3.10/asyncio/unix_events.py\", line 160, in remove_signal_handler\n",
      "    signal.signal(sig, handler)\n",
      "  File \"/opt/anaconda3/envs/stix_conda/lib/python3.10/signal.py\", line 56, in signal\n",
      "    handler = _signal.signal(_enum_to_int(signalnum), _enum_to_int(handler))\n",
      "ValueError: signal only works in main thread of the main interpreter\n"
     ]
    },
    {
     "data": {
      "application/vnd.jupyter.widget-view+json": {
       "model_id": "8c5d76a6c92b4cb198b3ef966ef80f40",
       "version_major": 2,
       "version_minor": 0
      },
      "text/plain": [
       "Files Downloaded:   0%|          | 0/1 [00:00<?, ?file/s]"
      ]
     },
     "metadata": {},
     "output_type": "display_data"
    },
    {
     "data": {
      "application/vnd.jupyter.widget-view+json": {
       "model_id": "",
       "version_major": 2,
       "version_minor": 0
      },
      "text/plain": [
       "solo_L1_stix-sci-xray-cpd_20221111T085618-20221111T092155_V01_2211118567-54712.fits:   0%|          | 0.00/2.7…"
      ]
     },
     "metadata": {},
     "output_type": "display_data"
    },
    {
     "data": {
      "application/vnd.jupyter.widget-view+json": {
       "model_id": "95f0380b7ef0496f91a716f3b2124d70",
       "version_major": 2,
       "version_minor": 0
      },
      "text/plain": [
       "Files Downloaded:   0%|          | 0/1 [00:00<?, ?file/s]"
      ]
     },
     "metadata": {},
     "output_type": "display_data"
    },
    {
     "data": {
      "application/vnd.jupyter.widget-view+json": {
       "model_id": "9be23f6c6baa4d6caf41abd2f6c32e4c",
       "version_major": 2,
       "version_minor": 0
      },
      "text/plain": [
       "Files Downloaded:   0%|          | 0/1 [00:00<?, ?file/s]"
      ]
     },
     "metadata": {},
     "output_type": "display_data"
    },
    {
     "data": {
      "application/vnd.jupyter.widget-view+json": {
       "model_id": "9b9dc496b85a46969ae19e6ad3408934",
       "version_major": 2,
       "version_minor": 0
      },
      "text/plain": [
       "Files Downloaded:   0%|          | 0/1 [00:00<?, ?file/s]"
      ]
     },
     "metadata": {},
     "output_type": "display_data"
    },
    {
     "data": {
      "application/vnd.jupyter.widget-view+json": {
       "model_id": "01c09fe289944a189bc11b55842992eb",
       "version_major": 2,
       "version_minor": 0
      },
      "text/plain": [
       "Files Downloaded:   0%|          | 0/1 [00:00<?, ?file/s]"
      ]
     },
     "metadata": {},
     "output_type": "display_data"
    },
    {
     "data": {
      "application/vnd.jupyter.widget-view+json": {
       "model_id": "",
       "version_major": 2,
       "version_minor": 0
      },
      "text/plain": [
       "solo_L1_stix-sci-xray-cpd_20221111T092038-20221111T095419_V01_2211114687-54713.fits:   0%|          | 0.00/3.4…"
      ]
     },
     "metadata": {},
     "output_type": "display_data"
    },
    {
     "data": {
      "application/vnd.jupyter.widget-view+json": {
       "model_id": "583aad0a75d6404f9780fdf1ba73bf8e",
       "version_major": 2,
       "version_minor": 0
      },
      "text/plain": [
       "Files Downloaded:   0%|          | 0/1 [00:00<?, ?file/s]"
      ]
     },
     "metadata": {},
     "output_type": "display_data"
    },
    {
     "data": {
      "application/vnd.jupyter.widget-view+json": {
       "model_id": "8deca14c4aeb4f8c9bc84879cdef1ea6",
       "version_major": 2,
       "version_minor": 0
      },
      "text/plain": [
       "Files Downloaded:   0%|          | 0/1 [00:00<?, ?file/s]"
      ]
     },
     "metadata": {},
     "output_type": "display_data"
    },
    {
     "data": {
      "application/vnd.jupyter.widget-view+json": {
       "model_id": "a3eb4c602be14b2bbad299ba4a53436e",
       "version_major": 2,
       "version_minor": 0
      },
      "text/plain": [
       "Files Downloaded:   0%|          | 0/1 [00:00<?, ?file/s]"
      ]
     },
     "metadata": {},
     "output_type": "display_data"
    },
    {
     "data": {
      "application/vnd.jupyter.widget-view+json": {
       "model_id": "d528523641bf436da531c6c63b73f345",
       "version_major": 2,
       "version_minor": 0
      },
      "text/plain": [
       "Files Downloaded:   0%|          | 0/1 [00:00<?, ?file/s]"
      ]
     },
     "metadata": {},
     "output_type": "display_data"
    },
    {
     "data": {
      "application/vnd.jupyter.widget-view+json": {
       "model_id": "6836f8ac19644b0b9ab8ea1285496614",
       "version_major": 2,
       "version_minor": 0
      },
      "text/plain": [
       "Files Downloaded:   0%|          | 0/1 [00:00<?, ?file/s]"
      ]
     },
     "metadata": {},
     "output_type": "display_data"
    },
    {
     "data": {
      "application/vnd.jupyter.widget-view+json": {
       "model_id": "dc7151f348b34c3cb3fc2186bb5af0f3",
       "version_major": 2,
       "version_minor": 0
      },
      "text/plain": [
       "Files Downloaded:   0%|          | 0/1 [00:00<?, ?file/s]"
      ]
     },
     "metadata": {},
     "output_type": "display_data"
    },
    {
     "data": {
      "application/vnd.jupyter.widget-view+json": {
       "model_id": "cff511476cbb4e80853bd10e39ee9b20",
       "version_major": 2,
       "version_minor": 0
      },
      "text/plain": [
       "Files Downloaded:   0%|          | 0/1 [00:00<?, ?file/s]"
      ]
     },
     "metadata": {},
     "output_type": "display_data"
    },
    {
     "data": {
      "application/vnd.jupyter.widget-view+json": {
       "model_id": "1af70c91997845e593aadba1739c21c4",
       "version_major": 2,
       "version_minor": 0
      },
      "text/plain": [
       "Files Downloaded:   0%|          | 0/1 [00:00<?, ?file/s]"
      ]
     },
     "metadata": {},
     "output_type": "display_data"
    },
    {
     "data": {
      "application/vnd.jupyter.widget-view+json": {
       "model_id": "23c0121a26dc42d19764274bffb39bc7",
       "version_major": 2,
       "version_minor": 0
      },
      "text/plain": [
       "Files Downloaded:   0%|          | 0/1 [00:00<?, ?file/s]"
      ]
     },
     "metadata": {},
     "output_type": "display_data"
    },
    {
     "data": {
      "application/vnd.jupyter.widget-view+json": {
       "model_id": "4fac934119c94b7492e793dcc7bcc0c9",
       "version_major": 2,
       "version_minor": 0
      },
      "text/plain": [
       "Files Downloaded:   0%|          | 0/1 [00:00<?, ?file/s]"
      ]
     },
     "metadata": {},
     "output_type": "display_data"
    },
    {
     "data": {
      "application/vnd.jupyter.widget-view+json": {
       "model_id": "",
       "version_major": 2,
       "version_minor": 0
      },
      "text/plain": [
       "solo_L1_stix-sci-xray-cpd_20221111T111102-20221111T121212_V01_2211116471-54717.fits:   0%|          | 0.00/1.6…"
      ]
     },
     "metadata": {},
     "output_type": "display_data"
    },
    {
     "data": {
      "application/vnd.jupyter.widget-view+json": {
       "model_id": "c12d8cdfb94e4c21bdd82ad4ca6ebc59",
       "version_major": 2,
       "version_minor": 0
      },
      "text/plain": [
       "Files Downloaded:   0%|          | 0/1 [00:00<?, ?file/s]"
      ]
     },
     "metadata": {},
     "output_type": "display_data"
    },
    {
     "data": {
      "application/vnd.jupyter.widget-view+json": {
       "model_id": "af52c0c84e5a4071a5c664cc71b419d1",
       "version_major": 2,
       "version_minor": 0
      },
      "text/plain": [
       "Files Downloaded:   0%|          | 0/1 [00:00<?, ?file/s]"
      ]
     },
     "metadata": {},
     "output_type": "display_data"
    },
    {
     "data": {
      "application/vnd.jupyter.widget-view+json": {
       "model_id": "9dd3280c8f474499848f7cb5de7cebd9",
       "version_major": 2,
       "version_minor": 0
      },
      "text/plain": [
       "Files Downloaded:   0%|          | 0/1 [00:00<?, ?file/s]"
      ]
     },
     "metadata": {},
     "output_type": "display_data"
    },
    {
     "data": {
      "application/vnd.jupyter.widget-view+json": {
       "model_id": "68dbc4ea4c0c4c4dba6256cfdfce5c87",
       "version_major": 2,
       "version_minor": 0
      },
      "text/plain": [
       "Files Downloaded:   0%|          | 0/1 [00:00<?, ?file/s]"
      ]
     },
     "metadata": {},
     "output_type": "display_data"
    },
    {
     "data": {
      "application/vnd.jupyter.widget-view+json": {
       "model_id": "3972f0c68f3e47c48f0b4cef27a6da10",
       "version_major": 2,
       "version_minor": 0
      },
      "text/plain": [
       "Files Downloaded:   0%|          | 0/1 [00:00<?, ?file/s]"
      ]
     },
     "metadata": {},
     "output_type": "display_data"
    },
    {
     "data": {
      "application/vnd.jupyter.widget-view+json": {
       "model_id": "491c7b1cdc83440793b04a2a37bae571",
       "version_major": 2,
       "version_minor": 0
      },
      "text/plain": [
       "Files Downloaded:   0%|          | 0/1 [00:00<?, ?file/s]"
      ]
     },
     "metadata": {},
     "output_type": "display_data"
    },
    {
     "data": {
      "application/vnd.jupyter.widget-view+json": {
       "model_id": "2e2a8f813f1d4b2898c3f0b95ee5338d",
       "version_major": 2,
       "version_minor": 0
      },
      "text/plain": [
       "Files Downloaded:   0%|          | 0/1 [00:00<?, ?file/s]"
      ]
     },
     "metadata": {},
     "output_type": "display_data"
    },
    {
     "data": {
      "application/vnd.jupyter.widget-view+json": {
       "model_id": "94332be808ad44d9a32c6ebaf68d89e9",
       "version_major": 2,
       "version_minor": 0
      },
      "text/plain": [
       "Files Downloaded:   0%|          | 0/1 [00:00<?, ?file/s]"
      ]
     },
     "metadata": {},
     "output_type": "display_data"
    },
    {
     "data": {
      "application/vnd.jupyter.widget-view+json": {
       "model_id": "",
       "version_major": 2,
       "version_minor": 0
      },
      "text/plain": [
       "solo_L1_stix-sci-xray-cpd_20221111T180128-20221111T181642_V01_2211118056-54721.fits:   0%|          | 0.00/444…"
      ]
     },
     "metadata": {},
     "output_type": "display_data"
    },
    {
     "data": {
      "application/vnd.jupyter.widget-view+json": {
       "model_id": "ed59d71022ad418f91a0d5e03608f59b",
       "version_major": 2,
       "version_minor": 0
      },
      "text/plain": [
       "Files Downloaded:   0%|          | 0/1 [00:00<?, ?file/s]"
      ]
     },
     "metadata": {},
     "output_type": "display_data"
    },
    {
     "data": {
      "application/vnd.jupyter.widget-view+json": {
       "model_id": "9bc2c60cc7a04342ab8e6a861a5ad2ea",
       "version_major": 2,
       "version_minor": 0
      },
      "text/plain": [
       "Files Downloaded:   0%|          | 0/1 [00:00<?, ?file/s]"
      ]
     },
     "metadata": {},
     "output_type": "display_data"
    },
    {
     "data": {
      "application/vnd.jupyter.widget-view+json": {
       "model_id": "",
       "version_major": 2,
       "version_minor": 0
      },
      "text/plain": [
       "solo_L1_stix-sci-xray-cpd_20221111T181742-20221111T185917_V01_2211115828-54722.fits:   0%|          | 0.00/1.0…"
      ]
     },
     "metadata": {},
     "output_type": "display_data"
    },
    {
     "data": {
      "application/vnd.jupyter.widget-view+json": {
       "model_id": "56987d135bf94e4ebdc97a6ec3e5e438",
       "version_major": 2,
       "version_minor": 0
      },
      "text/plain": [
       "Files Downloaded:   0%|          | 0/1 [00:00<?, ?file/s]"
      ]
     },
     "metadata": {},
     "output_type": "display_data"
    },
    {
     "data": {
      "application/vnd.jupyter.widget-view+json": {
       "model_id": "225a6a54005e49efb73dd5f66e85d994",
       "version_major": 2,
       "version_minor": 0
      },
      "text/plain": [
       "Files Downloaded:   0%|          | 0/1 [00:00<?, ?file/s]"
      ]
     },
     "metadata": {},
     "output_type": "display_data"
    },
    {
     "data": {
      "application/vnd.jupyter.widget-view+json": {
       "model_id": "f121289759ea436bbbc6ef33715bfad3",
       "version_major": 2,
       "version_minor": 0
      },
      "text/plain": [
       "Files Downloaded:   0%|          | 0/1 [00:00<?, ?file/s]"
      ]
     },
     "metadata": {},
     "output_type": "display_data"
    },
    {
     "data": {
      "application/vnd.jupyter.widget-view+json": {
       "model_id": "9615f09df1cf43848e9e2b1f9b81a386",
       "version_major": 2,
       "version_minor": 0
      },
      "text/plain": [
       "Files Downloaded:   0%|          | 0/1 [00:00<?, ?file/s]"
      ]
     },
     "metadata": {},
     "output_type": "display_data"
    },
    {
     "data": {
      "application/vnd.jupyter.widget-view+json": {
       "model_id": "fc786a5a4b774a2293dac5856d5302da",
       "version_major": 2,
       "version_minor": 0
      },
      "text/plain": [
       "Files Downloaded:   0%|          | 0/1 [00:00<?, ?file/s]"
      ]
     },
     "metadata": {},
     "output_type": "display_data"
    },
    {
     "data": {
      "application/vnd.jupyter.widget-view+json": {
       "model_id": "2b0968070da54346ac8d97637d510f4b",
       "version_major": 2,
       "version_minor": 0
      },
      "text/plain": [
       "Files Downloaded:   0%|          | 0/1 [00:00<?, ?file/s]"
      ]
     },
     "metadata": {},
     "output_type": "display_data"
    },
    {
     "data": {
      "application/vnd.jupyter.widget-view+json": {
       "model_id": "44172535d83b43da85ccb3ff3b52178e",
       "version_major": 2,
       "version_minor": 0
      },
      "text/plain": [
       "Files Downloaded:   0%|          | 0/1 [00:00<?, ?file/s]"
      ]
     },
     "metadata": {},
     "output_type": "display_data"
    },
    {
     "data": {
      "application/vnd.jupyter.widget-view+json": {
       "model_id": "17d496b1fd98459c943a78a9d1a27a49",
       "version_major": 2,
       "version_minor": 0
      },
      "text/plain": [
       "Files Downloaded:   0%|          | 0/1 [00:00<?, ?file/s]"
      ]
     },
     "metadata": {},
     "output_type": "display_data"
    },
    {
     "data": {
      "application/vnd.jupyter.widget-view+json": {
       "model_id": "9ad19b67ecf843608e57bb0177ec8845",
       "version_major": 2,
       "version_minor": 0
      },
      "text/plain": [
       "Files Downloaded:   0%|          | 0/1 [00:00<?, ?file/s]"
      ]
     },
     "metadata": {},
     "output_type": "display_data"
    }
   ],
   "source": [
    "aux_paths = []\n",
    "pixel_paths = []\n",
    "for i in range(len(stix_flare_w_files)):\n",
    "    row = stix_flare_w_files.iloc[i]\n",
    "    tstart, tend, request_id = row[\"start_UTC\"], row[\"end_UTC\"], row[\"Request IDs\"]\n",
    "    pixel_paths.append(get_pixel_data(tstart, tend, request_id))\n",
    "    aux_paths.append(get_aux_data(tstart, tend))\n",
    "    "
   ]
  },
  {
   "cell_type": "code",
   "execution_count": 25,
   "id": "e7313a56-d883-4697-b17a-d0856a1b5770",
   "metadata": {},
   "outputs": [],
   "source": [
    "stix_flare_w_files[\"aux_paths\"] = aux_paths\n",
    "stix_flare_w_files[\"pixel_paths\"] = pixel_paths"
   ]
  },
  {
   "cell_type": "code",
   "execution_count": 26,
   "id": "d55688f9",
   "metadata": {},
   "outputs": [
    {
     "data": {
      "text/html": [
       "<div>\n",
       "<style scoped>\n",
       "    .dataframe tbody tr th:only-of-type {\n",
       "        vertical-align: middle;\n",
       "    }\n",
       "\n",
       "    .dataframe tbody tr th {\n",
       "        vertical-align: top;\n",
       "    }\n",
       "\n",
       "    .dataframe thead th {\n",
       "        text-align: right;\n",
       "    }\n",
       "</style>\n",
       "<table border=\"1\" class=\"dataframe\">\n",
       "  <thead>\n",
       "    <tr style=\"text-align: right;\">\n",
       "      <th></th>\n",
       "      <th>flare_id</th>\n",
       "      <th>att_in</th>\n",
       "      <th>GOES_flux</th>\n",
       "      <th>start_UTC</th>\n",
       "      <th>peak_UTC</th>\n",
       "      <th>end_UTC</th>\n",
       "      <th>4-10 keV</th>\n",
       "      <th>10-15 keV</th>\n",
       "      <th>number_available_files</th>\n",
       "      <th>available_file_request_IDs</th>\n",
       "      <th>solo_lat</th>\n",
       "      <th>solo_lon</th>\n",
       "      <th>solo_AU_distance</th>\n",
       "      <th>15-25 keV</th>\n",
       "      <th>25-50 keV</th>\n",
       "      <th>50-84 keV</th>\n",
       "      <th>GOES_class</th>\n",
       "      <th>Request IDs</th>\n",
       "      <th>aux_paths</th>\n",
       "      <th>pixel_paths</th>\n",
       "    </tr>\n",
       "  </thead>\n",
       "  <tbody>\n",
       "    <tr>\n",
       "      <th>0</th>\n",
       "      <td>2211090050</td>\n",
       "      <td>False</td>\n",
       "      <td>6.073233e-07</td>\n",
       "      <td>2022-11-09T00:44:44.012</td>\n",
       "      <td>2022-11-09 00:50:20.013</td>\n",
       "      <td>2022-11-09T00:52:56.013</td>\n",
       "      <td>1215</td>\n",
       "      <td>271</td>\n",
       "      <td>1</td>\n",
       "      <td>[2211090305]</td>\n",
       "      <td>9.180063</td>\n",
       "      <td>-24.156920</td>\n",
       "      <td>0.590873</td>\n",
       "      <td>135</td>\n",
       "      <td>799</td>\n",
       "      <td>463</td>\n",
       "      <td>B6.1</td>\n",
       "      <td>2211090305</td>\n",
       "      <td>./aux_data/solo_L2_stix-aux-ephemeris_20221109...</td>\n",
       "      <td>./pixel_data/solo_L1_stix-sci-xray-cpd_2022110...</td>\n",
       "    </tr>\n",
       "    <tr>\n",
       "      <th>1</th>\n",
       "      <td>2211090458</td>\n",
       "      <td>False</td>\n",
       "      <td>6.310129e-07</td>\n",
       "      <td>2022-11-09T04:52:52.037</td>\n",
       "      <td>2022-11-09 04:58:16.038</td>\n",
       "      <td>2022-11-09T05:06:20.039</td>\n",
       "      <td>335</td>\n",
       "      <td>75</td>\n",
       "      <td>1</td>\n",
       "      <td>[2211094607]</td>\n",
       "      <td>9.177897</td>\n",
       "      <td>-23.999941</td>\n",
       "      <td>0.592948</td>\n",
       "      <td>83</td>\n",
       "      <td>863</td>\n",
       "      <td>431</td>\n",
       "      <td>B6.3</td>\n",
       "      <td>2211094607</td>\n",
       "      <td>./aux_data/solo_L2_stix-aux-ephemeris_20221109...</td>\n",
       "      <td>./pixel_data/solo_L1_stix-sci-xray-cpd_2022110...</td>\n",
       "    </tr>\n",
       "    <tr>\n",
       "      <th>2</th>\n",
       "      <td>2211090551</td>\n",
       "      <td>False</td>\n",
       "      <td>7.278045e-07</td>\n",
       "      <td>2022-11-09T05:39:48.042</td>\n",
       "      <td>2022-11-09 05:51:40.043</td>\n",
       "      <td>2022-11-09T06:12:08.045</td>\n",
       "      <td>367</td>\n",
       "      <td>67</td>\n",
       "      <td>1</td>\n",
       "      <td>[2211090238]</td>\n",
       "      <td>9.177393</td>\n",
       "      <td>-23.966433</td>\n",
       "      <td>0.593394</td>\n",
       "      <td>83</td>\n",
       "      <td>863</td>\n",
       "      <td>463</td>\n",
       "      <td>B7.3</td>\n",
       "      <td>2211090238</td>\n",
       "      <td>./aux_data/solo_L2_stix-aux-ephemeris_20221109...</td>\n",
       "      <td>./pixel_data/solo_L1_stix-sci-xray-cpd_2022110...</td>\n",
       "    </tr>\n",
       "    <tr>\n",
       "      <th>3</th>\n",
       "      <td>2211090720</td>\n",
       "      <td>False</td>\n",
       "      <td>9.645386e-07</td>\n",
       "      <td>2022-11-09T07:18:12.052</td>\n",
       "      <td>2022-11-09 07:20:44.052</td>\n",
       "      <td>2022-11-09T07:28:40.053</td>\n",
       "      <td>2431</td>\n",
       "      <td>247</td>\n",
       "      <td>1</td>\n",
       "      <td>[2211091049]</td>\n",
       "      <td>9.176525</td>\n",
       "      <td>-23.910781</td>\n",
       "      <td>0.594137</td>\n",
       "      <td>115</td>\n",
       "      <td>799</td>\n",
       "      <td>463</td>\n",
       "      <td>B9.6</td>\n",
       "      <td>2211091049</td>\n",
       "      <td>./aux_data/solo_L2_stix-aux-ephemeris_20221109...</td>\n",
       "      <td>./pixel_data/solo_L1_stix-sci-xray-cpd_2022110...</td>\n",
       "    </tr>\n",
       "    <tr>\n",
       "      <th>4</th>\n",
       "      <td>2211090908</td>\n",
       "      <td>False</td>\n",
       "      <td>6.582638e-07</td>\n",
       "      <td>2022-11-09T08:58:40.062</td>\n",
       "      <td>2022-11-09 09:08:44.063</td>\n",
       "      <td>2022-11-09T09:14:56.064</td>\n",
       "      <td>607</td>\n",
       "      <td>135</td>\n",
       "      <td>1</td>\n",
       "      <td>[2211096407]</td>\n",
       "      <td>9.175424</td>\n",
       "      <td>-23.843695</td>\n",
       "      <td>0.595037</td>\n",
       "      <td>107</td>\n",
       "      <td>863</td>\n",
       "      <td>463</td>\n",
       "      <td>B6.6</td>\n",
       "      <td>2211096407</td>\n",
       "      <td>./aux_data/solo_L2_stix-aux-ephemeris_20221109...</td>\n",
       "      <td>./pixel_data/solo_L1_stix-sci-xray-cpd_2022110...</td>\n",
       "    </tr>\n",
       "  </tbody>\n",
       "</table>\n",
       "</div>"
      ],
      "text/plain": [
       "     flare_id  att_in     GOES_flux                start_UTC  \\\n",
       "0  2211090050   False  6.073233e-07  2022-11-09T00:44:44.012   \n",
       "1  2211090458   False  6.310129e-07  2022-11-09T04:52:52.037   \n",
       "2  2211090551   False  7.278045e-07  2022-11-09T05:39:48.042   \n",
       "3  2211090720   False  9.645386e-07  2022-11-09T07:18:12.052   \n",
       "4  2211090908   False  6.582638e-07  2022-11-09T08:58:40.062   \n",
       "\n",
       "                  peak_UTC                  end_UTC  4-10 keV  10-15 keV  \\\n",
       "0  2022-11-09 00:50:20.013  2022-11-09T00:52:56.013      1215        271   \n",
       "1  2022-11-09 04:58:16.038  2022-11-09T05:06:20.039       335         75   \n",
       "2  2022-11-09 05:51:40.043  2022-11-09T06:12:08.045       367         67   \n",
       "3  2022-11-09 07:20:44.052  2022-11-09T07:28:40.053      2431        247   \n",
       "4  2022-11-09 09:08:44.063  2022-11-09T09:14:56.064       607        135   \n",
       "\n",
       "   number_available_files available_file_request_IDs  solo_lat   solo_lon  \\\n",
       "0                       1               [2211090305]  9.180063 -24.156920   \n",
       "1                       1               [2211094607]  9.177897 -23.999941   \n",
       "2                       1               [2211090238]  9.177393 -23.966433   \n",
       "3                       1               [2211091049]  9.176525 -23.910781   \n",
       "4                       1               [2211096407]  9.175424 -23.843695   \n",
       "\n",
       "   solo_AU_distance  15-25 keV  25-50 keV  50-84 keV GOES_class Request IDs  \\\n",
       "0          0.590873        135        799        463       B6.1  2211090305   \n",
       "1          0.592948         83        863        431       B6.3  2211094607   \n",
       "2          0.593394         83        863        463       B7.3  2211090238   \n",
       "3          0.594137        115        799        463       B9.6  2211091049   \n",
       "4          0.595037        107        863        463       B6.6  2211096407   \n",
       "\n",
       "                                           aux_paths  \\\n",
       "0  ./aux_data/solo_L2_stix-aux-ephemeris_20221109...   \n",
       "1  ./aux_data/solo_L2_stix-aux-ephemeris_20221109...   \n",
       "2  ./aux_data/solo_L2_stix-aux-ephemeris_20221109...   \n",
       "3  ./aux_data/solo_L2_stix-aux-ephemeris_20221109...   \n",
       "4  ./aux_data/solo_L2_stix-aux-ephemeris_20221109...   \n",
       "\n",
       "                                         pixel_paths  \n",
       "0  ./pixel_data/solo_L1_stix-sci-xray-cpd_2022110...  \n",
       "1  ./pixel_data/solo_L1_stix-sci-xray-cpd_2022110...  \n",
       "2  ./pixel_data/solo_L1_stix-sci-xray-cpd_2022110...  \n",
       "3  ./pixel_data/solo_L1_stix-sci-xray-cpd_2022110...  \n",
       "4  ./pixel_data/solo_L1_stix-sci-xray-cpd_2022110...  "
      ]
     },
     "execution_count": 26,
     "metadata": {},
     "output_type": "execute_result"
    }
   ],
   "source": [
    "stix_flare_w_files.head()"
   ]
  },
  {
   "cell_type": "code",
   "execution_count": 30,
   "id": "1138808a",
   "metadata": {},
   "outputs": [
    {
     "data": {
      "text/plain": [
       "flare_id                                   2211112315\n",
       "duration                                         1564\n",
       "att_in                                          False\n",
       "peak_UTC                      2022-11-11 23:15:11.946\n",
       "LC0_BKG                                    230.049349\n",
       "_id                                             18428\n",
       "GOES_class                                       B9.6\n",
       "GOES_flux                                    0.000001\n",
       "CFL_X_arcsec                                      NaN\n",
       "CFL_Y_arcsec                                      NaN\n",
       "start_UTC                     2022-11-11T23:00:47.944\n",
       "end_UTC                       2022-11-11T23:26:51.947\n",
       "4-10 keV                                          735\n",
       "LC0_BKG_COUNTS_4S                               247.0\n",
       "10-15 keV                                          75\n",
       "LC1_BKG_COUNTS_4S                                45.0\n",
       "15-25 keV                                          83\n",
       "LC2_BKG_COUNTS_4S                                57.0\n",
       "25-50 keV                                         863\n",
       "LC3_BKG_COUNTS_4S                               735.0\n",
       "50-84 keV                                         463\n",
       "LC4_BKG_COUNTS_4S                               399.0\n",
       "number_available_files                              1\n",
       "available_file_request_IDs               [2211118361]\n",
       "solo_lat                                     9.108746\n",
       "solo_lon                                   -21.777321\n",
       "solo_AU_distance                             0.625384\n",
       "Name: 163, dtype: object"
      ]
     },
     "execution_count": 30,
     "metadata": {},
     "output_type": "execute_result"
    }
   ],
   "source": [
    "stix_big_flares.iloc[-1]"
   ]
  },
  {
   "cell_type": "code",
   "execution_count": 24,
   "id": "b1e70334",
   "metadata": {},
   "outputs": [],
   "source": [
    "# stix_flare_w_files[\"15-25 keV\"] = stix_big_flares['15-25 keV']\n",
    "# stix_flare_w_files['25-50 keV'] = stix_big_flares['25-50 keV']\n",
    "# stix_flare_w_files['50-84 keV'] = stix_big_flares['50-84 keV']\n",
    "# stix_flare_w_files['GOES_class'] = stix_big_flares['GOES_class']"
   ]
  },
  {
   "cell_type": "code",
   "execution_count": 47,
   "id": "4432d8bc",
   "metadata": {},
   "outputs": [
    {
     "data": {
      "text/html": [
       "<div>\n",
       "<style scoped>\n",
       "    .dataframe tbody tr th:only-of-type {\n",
       "        vertical-align: middle;\n",
       "    }\n",
       "\n",
       "    .dataframe tbody tr th {\n",
       "        vertical-align: top;\n",
       "    }\n",
       "\n",
       "    .dataframe thead th {\n",
       "        text-align: right;\n",
       "    }\n",
       "</style>\n",
       "<table border=\"1\" class=\"dataframe\">\n",
       "  <thead>\n",
       "    <tr style=\"text-align: right;\">\n",
       "      <th></th>\n",
       "      <th>flare_id</th>\n",
       "      <th>att_in</th>\n",
       "      <th>GOES_flux</th>\n",
       "      <th>start_UTC</th>\n",
       "      <th>peak_UTC</th>\n",
       "      <th>end_UTC</th>\n",
       "      <th>4-10 keV</th>\n",
       "      <th>10-15 keV</th>\n",
       "      <th>number_available_files</th>\n",
       "      <th>available_file_request_IDs</th>\n",
       "      <th>solo_lat</th>\n",
       "      <th>solo_lon</th>\n",
       "      <th>solo_AU_distance</th>\n",
       "      <th>15-25 keV</th>\n",
       "      <th>25-50 keV</th>\n",
       "      <th>50-84 keV</th>\n",
       "      <th>GOES_class</th>\n",
       "      <th>Request IDs</th>\n",
       "      <th>aux_paths</th>\n",
       "      <th>pixel_paths</th>\n",
       "    </tr>\n",
       "  </thead>\n",
       "  <tbody>\n",
       "    <tr>\n",
       "      <th>0</th>\n",
       "      <td>2211090050</td>\n",
       "      <td>False</td>\n",
       "      <td>6.073233e-07</td>\n",
       "      <td>2022-11-09T00:44:44.012</td>\n",
       "      <td>2022-11-09 00:50:20.013</td>\n",
       "      <td>2022-11-09T00:52:56.013</td>\n",
       "      <td>1215</td>\n",
       "      <td>271</td>\n",
       "      <td>1</td>\n",
       "      <td>[2211090305]</td>\n",
       "      <td>9.180063</td>\n",
       "      <td>-24.156920</td>\n",
       "      <td>0.590873</td>\n",
       "      <td>135</td>\n",
       "      <td>799</td>\n",
       "      <td>463</td>\n",
       "      <td>B6.1</td>\n",
       "      <td>2211090305</td>\n",
       "      <td>./aux_data/solo_L2_stix-aux-ephemeris_20221109...</td>\n",
       "      <td>./pixel_data/solo_L1_stix-sci-xray-cpd_2022110...</td>\n",
       "    </tr>\n",
       "    <tr>\n",
       "      <th>1</th>\n",
       "      <td>2211090551</td>\n",
       "      <td>False</td>\n",
       "      <td>7.278045e-07</td>\n",
       "      <td>2022-11-09T05:39:48.042</td>\n",
       "      <td>2022-11-09 05:51:40.043</td>\n",
       "      <td>2022-11-09T06:12:08.045</td>\n",
       "      <td>367</td>\n",
       "      <td>67</td>\n",
       "      <td>1</td>\n",
       "      <td>[2211090238]</td>\n",
       "      <td>9.177393</td>\n",
       "      <td>-23.966433</td>\n",
       "      <td>0.593394</td>\n",
       "      <td>83</td>\n",
       "      <td>863</td>\n",
       "      <td>463</td>\n",
       "      <td>B7.3</td>\n",
       "      <td>2211090238</td>\n",
       "      <td>./aux_data/solo_L2_stix-aux-ephemeris_20221109...</td>\n",
       "      <td>./pixel_data/solo_L1_stix-sci-xray-cpd_2022110...</td>\n",
       "    </tr>\n",
       "    <tr>\n",
       "      <th>2</th>\n",
       "      <td>2211090908</td>\n",
       "      <td>False</td>\n",
       "      <td>6.582638e-07</td>\n",
       "      <td>2022-11-09T08:58:40.062</td>\n",
       "      <td>2022-11-09 09:08:44.063</td>\n",
       "      <td>2022-11-09T09:14:56.064</td>\n",
       "      <td>607</td>\n",
       "      <td>135</td>\n",
       "      <td>1</td>\n",
       "      <td>[2211096407]</td>\n",
       "      <td>9.175424</td>\n",
       "      <td>-23.843695</td>\n",
       "      <td>0.595037</td>\n",
       "      <td>107</td>\n",
       "      <td>863</td>\n",
       "      <td>463</td>\n",
       "      <td>B6.6</td>\n",
       "      <td>2211096407</td>\n",
       "      <td>./aux_data/solo_L2_stix-aux-ephemeris_20221109...</td>\n",
       "      <td>./pixel_data/solo_L1_stix-sci-xray-cpd_2022110...</td>\n",
       "    </tr>\n",
       "    <tr>\n",
       "      <th>3</th>\n",
       "      <td>2211090958</td>\n",
       "      <td>False</td>\n",
       "      <td>6.191904e-07</td>\n",
       "      <td>2022-11-09T09:55:28.068</td>\n",
       "      <td>2022-11-09 09:58:44.069</td>\n",
       "      <td>2022-11-09T10:06:04.069</td>\n",
       "      <td>607</td>\n",
       "      <td>75</td>\n",
       "      <td>1</td>\n",
       "      <td>[2211091409]</td>\n",
       "      <td>9.174897</td>\n",
       "      <td>-23.812783</td>\n",
       "      <td>0.595453</td>\n",
       "      <td>75</td>\n",
       "      <td>799</td>\n",
       "      <td>463</td>\n",
       "      <td>B6.2</td>\n",
       "      <td>2211091409</td>\n",
       "      <td>./aux_data/solo_L2_stix-aux-ephemeris_20221109...</td>\n",
       "      <td>./pixel_data/solo_L1_stix-sci-xray-cpd_2022110...</td>\n",
       "    </tr>\n",
       "    <tr>\n",
       "      <th>4</th>\n",
       "      <td>2211091515</td>\n",
       "      <td>False</td>\n",
       "      <td>1.004953e-06</td>\n",
       "      <td>2022-11-09T14:19:20.095</td>\n",
       "      <td>2022-11-09 15:15:20.102</td>\n",
       "      <td>2022-11-09T15:20:44.102</td>\n",
       "      <td>2687</td>\n",
       "      <td>231</td>\n",
       "      <td>1</td>\n",
       "      <td>[2211098407]</td>\n",
       "      <td>9.171304</td>\n",
       "      <td>-23.619178</td>\n",
       "      <td>0.598084</td>\n",
       "      <td>83</td>\n",
       "      <td>863</td>\n",
       "      <td>495</td>\n",
       "      <td>C1.0</td>\n",
       "      <td>2211098407</td>\n",
       "      <td>./aux_data/solo_L2_stix-aux-ephemeris_20221109...</td>\n",
       "      <td>./pixel_data/solo_L1_stix-sci-xray-cpd_2022110...</td>\n",
       "    </tr>\n",
       "    <tr>\n",
       "      <th>5</th>\n",
       "      <td>2211091554</td>\n",
       "      <td>False</td>\n",
       "      <td>7.068386e-07</td>\n",
       "      <td>2022-11-09T15:50:44.105</td>\n",
       "      <td>2022-11-09 15:54:32.105</td>\n",
       "      <td>2022-11-09T16:06:36.107</td>\n",
       "      <td>1087</td>\n",
       "      <td>135</td>\n",
       "      <td>1</td>\n",
       "      <td>[2211099586]</td>\n",
       "      <td>9.170829</td>\n",
       "      <td>-23.595461</td>\n",
       "      <td>0.598409</td>\n",
       "      <td>91</td>\n",
       "      <td>863</td>\n",
       "      <td>463</td>\n",
       "      <td>B7.1</td>\n",
       "      <td>2211099586</td>\n",
       "      <td>./aux_data/solo_L2_stix-aux-ephemeris_20221109...</td>\n",
       "      <td>./pixel_data/solo_L1_stix-sci-xray-cpd_2022110...</td>\n",
       "    </tr>\n",
       "    <tr>\n",
       "      <th>6</th>\n",
       "      <td>2211091713</td>\n",
       "      <td>False</td>\n",
       "      <td>5.433398e-07</td>\n",
       "      <td>2022-11-09T17:10:32.113</td>\n",
       "      <td>2022-11-09 17:13:48.113</td>\n",
       "      <td>2022-11-09T17:18:20.114</td>\n",
       "      <td>463</td>\n",
       "      <td>67</td>\n",
       "      <td>1</td>\n",
       "      <td>[2211098388]</td>\n",
       "      <td>9.169849</td>\n",
       "      <td>-23.547672</td>\n",
       "      <td>0.599066</td>\n",
       "      <td>75</td>\n",
       "      <td>863</td>\n",
       "      <td>463</td>\n",
       "      <td>B5.4</td>\n",
       "      <td>2211098388</td>\n",
       "      <td>./aux_data/solo_L2_stix-aux-ephemeris_20221109...</td>\n",
       "      <td>./pixel_data/solo_L1_stix-sci-xray-cpd_2022110...</td>\n",
       "    </tr>\n",
       "    <tr>\n",
       "      <th>7</th>\n",
       "      <td>2211091823</td>\n",
       "      <td>False</td>\n",
       "      <td>5.424671e-07</td>\n",
       "      <td>2022-11-09T18:20:20.120</td>\n",
       "      <td>2022-11-09 18:23:24.120</td>\n",
       "      <td>2022-11-09T18:29:44.121</td>\n",
       "      <td>671</td>\n",
       "      <td>83</td>\n",
       "      <td>1</td>\n",
       "      <td>[2211096527]</td>\n",
       "      <td>9.168965</td>\n",
       "      <td>-23.505898</td>\n",
       "      <td>0.599642</td>\n",
       "      <td>75</td>\n",
       "      <td>799</td>\n",
       "      <td>431</td>\n",
       "      <td>B5.4</td>\n",
       "      <td>2211096527</td>\n",
       "      <td>./aux_data/solo_L2_stix-aux-ephemeris_20221109...</td>\n",
       "      <td>./pixel_data/solo_L1_stix-sci-xray-cpd_2022110...</td>\n",
       "    </tr>\n",
       "    <tr>\n",
       "      <th>8</th>\n",
       "      <td>2211091958</td>\n",
       "      <td>False</td>\n",
       "      <td>4.366502e-06</td>\n",
       "      <td>2022-11-09T19:34:00.128</td>\n",
       "      <td>2022-11-09 19:58:36.130</td>\n",
       "      <td>2022-11-09T23:16:24.150</td>\n",
       "      <td>8703</td>\n",
       "      <td>495</td>\n",
       "      <td>1</td>\n",
       "      <td>[2211092397]</td>\n",
       "      <td>9.167724</td>\n",
       "      <td>-23.449040</td>\n",
       "      <td>0.600430</td>\n",
       "      <td>231</td>\n",
       "      <td>863</td>\n",
       "      <td>463</td>\n",
       "      <td>C4.4</td>\n",
       "      <td>2211092397</td>\n",
       "      <td>./aux_data/solo_L2_stix-aux-ephemeris_20221109...</td>\n",
       "      <td>./pixel_data/solo_L1_stix-sci-xray-cpd_2022110...</td>\n",
       "    </tr>\n",
       "    <tr>\n",
       "      <th>9</th>\n",
       "      <td>2211100208</td>\n",
       "      <td>False</td>\n",
       "      <td>6.083465e-07</td>\n",
       "      <td>2022-11-10T02:06:48.168</td>\n",
       "      <td>2022-11-10 02:08:36.168</td>\n",
       "      <td>2022-11-10T02:17:00.169</td>\n",
       "      <td>1087</td>\n",
       "      <td>271</td>\n",
       "      <td>1</td>\n",
       "      <td>[2211108453]</td>\n",
       "      <td>9.162540</td>\n",
       "      <td>-23.231119</td>\n",
       "      <td>0.603481</td>\n",
       "      <td>91</td>\n",
       "      <td>799</td>\n",
       "      <td>463</td>\n",
       "      <td>B6.1</td>\n",
       "      <td>2211108453</td>\n",
       "      <td>./aux_data/solo_L2_stix-aux-ephemeris_20221110...</td>\n",
       "      <td>./pixel_data/solo_L1_stix-sci-xray-cpd_2022111...</td>\n",
       "    </tr>\n",
       "    <tr>\n",
       "      <th>10</th>\n",
       "      <td>2211100737</td>\n",
       "      <td>False</td>\n",
       "      <td>6.977260e-07</td>\n",
       "      <td>2022-11-10T07:32:36.201</td>\n",
       "      <td>2022-11-10 07:37:32.202</td>\n",
       "      <td>2022-11-10T07:56:24.204</td>\n",
       "      <td>399</td>\n",
       "      <td>75</td>\n",
       "      <td>1</td>\n",
       "      <td>[2211108932]</td>\n",
       "      <td>9.157463</td>\n",
       "      <td>-23.041419</td>\n",
       "      <td>0.606182</td>\n",
       "      <td>91</td>\n",
       "      <td>799</td>\n",
       "      <td>463</td>\n",
       "      <td>B7.0</td>\n",
       "      <td>2211108932</td>\n",
       "      <td>./aux_data/solo_L2_stix-aux-ephemeris_20221110...</td>\n",
       "      <td>./pixel_data/solo_L1_stix-sci-xray-cpd_2022111...</td>\n",
       "    </tr>\n",
       "    <tr>\n",
       "      <th>11</th>\n",
       "      <td>2211100827</td>\n",
       "      <td>False</td>\n",
       "      <td>7.110360e-07</td>\n",
       "      <td>2022-11-10T08:24:52.207</td>\n",
       "      <td>2022-11-10 08:27:12.207</td>\n",
       "      <td>2022-11-10T08:37:08.208</td>\n",
       "      <td>367</td>\n",
       "      <td>75</td>\n",
       "      <td>1</td>\n",
       "      <td>[2211101244]</td>\n",
       "      <td>9.156659</td>\n",
       "      <td>-23.013101</td>\n",
       "      <td>0.606589</td>\n",
       "      <td>91</td>\n",
       "      <td>799</td>\n",
       "      <td>463</td>\n",
       "      <td>B7.1</td>\n",
       "      <td>2211101244</td>\n",
       "      <td>./aux_data/solo_L2_stix-aux-ephemeris_20221110...</td>\n",
       "      <td>./pixel_data/solo_L1_stix-sci-xray-cpd_2022111...</td>\n",
       "    </tr>\n",
       "    <tr>\n",
       "      <th>12</th>\n",
       "      <td>2211100844</td>\n",
       "      <td>False</td>\n",
       "      <td>8.130161e-07</td>\n",
       "      <td>2022-11-10T08:40:36.208</td>\n",
       "      <td>2022-11-10 08:44:52.209</td>\n",
       "      <td>2022-11-10T08:48:08.209</td>\n",
       "      <td>1087</td>\n",
       "      <td>167</td>\n",
       "      <td>1</td>\n",
       "      <td>[2211106426]</td>\n",
       "      <td>9.156370</td>\n",
       "      <td>-23.003049</td>\n",
       "      <td>0.606734</td>\n",
       "      <td>75</td>\n",
       "      <td>799</td>\n",
       "      <td>431</td>\n",
       "      <td>B8.1</td>\n",
       "      <td>2211106426</td>\n",
       "      <td>./aux_data/solo_L2_stix-aux-ephemeris_20221110...</td>\n",
       "      <td>./pixel_data/solo_L1_stix-sci-xray-cpd_2022111...</td>\n",
       "    </tr>\n",
       "    <tr>\n",
       "      <th>13</th>\n",
       "      <td>2211100859</td>\n",
       "      <td>False</td>\n",
       "      <td>8.015134e-07</td>\n",
       "      <td>2022-11-10T08:55:08.210</td>\n",
       "      <td>2022-11-10 08:59:12.110</td>\n",
       "      <td>2022-11-10T09:07:08.111</td>\n",
       "      <td>463</td>\n",
       "      <td>61</td>\n",
       "      <td>1</td>\n",
       "      <td>[2211102153]</td>\n",
       "      <td>9.156136</td>\n",
       "      <td>-22.994902</td>\n",
       "      <td>0.606851</td>\n",
       "      <td>83</td>\n",
       "      <td>863</td>\n",
       "      <td>431</td>\n",
       "      <td>B8.0</td>\n",
       "      <td>2211102153</td>\n",
       "      <td>./aux_data/solo_L2_stix-aux-ephemeris_20221110...</td>\n",
       "      <td>./pixel_data/solo_L1_stix-sci-xray-cpd_2022111...</td>\n",
       "    </tr>\n",
       "    <tr>\n",
       "      <th>14</th>\n",
       "      <td>2211101252</td>\n",
       "      <td>False</td>\n",
       "      <td>9.004963e-07</td>\n",
       "      <td>2022-11-10T12:43:04.033</td>\n",
       "      <td>2022-11-10 12:52:36.034</td>\n",
       "      <td>2022-11-10T13:08:08.036</td>\n",
       "      <td>735</td>\n",
       "      <td>91</td>\n",
       "      <td>1</td>\n",
       "      <td>[2211106153]</td>\n",
       "      <td>9.152199</td>\n",
       "      <td>-22.863215</td>\n",
       "      <td>0.608760</td>\n",
       "      <td>83</td>\n",
       "      <td>863</td>\n",
       "      <td>463</td>\n",
       "      <td>B9.0</td>\n",
       "      <td>2211106153</td>\n",
       "      <td>./aux_data/solo_L2_stix-aux-ephemeris_20221110...</td>\n",
       "      <td>./pixel_data/solo_L1_stix-sci-xray-cpd_2022111...</td>\n",
       "    </tr>\n",
       "    <tr>\n",
       "      <th>15</th>\n",
       "      <td>2211101536</td>\n",
       "      <td>False</td>\n",
       "      <td>7.520339e-07</td>\n",
       "      <td>2022-11-10T15:34:20.051</td>\n",
       "      <td>2022-11-10 15:36:28.051</td>\n",
       "      <td>2022-11-10T15:40:28.051</td>\n",
       "      <td>607</td>\n",
       "      <td>99</td>\n",
       "      <td>1</td>\n",
       "      <td>[2211106863]</td>\n",
       "      <td>9.149309</td>\n",
       "      <td>-22.771864</td>\n",
       "      <td>0.610096</td>\n",
       "      <td>75</td>\n",
       "      <td>799</td>\n",
       "      <td>431</td>\n",
       "      <td>B7.5</td>\n",
       "      <td>2211106863</td>\n",
       "      <td>./aux_data/solo_L2_stix-aux-ephemeris_20221110...</td>\n",
       "      <td>./pixel_data/solo_L1_stix-sci-xray-cpd_2022111...</td>\n",
       "    </tr>\n",
       "    <tr>\n",
       "      <th>16</th>\n",
       "      <td>2211101554</td>\n",
       "      <td>False</td>\n",
       "      <td>7.399987e-07</td>\n",
       "      <td>2022-11-10T15:46:12.052</td>\n",
       "      <td>2022-11-10 15:54:12.053</td>\n",
       "      <td>2022-11-10T16:01:04.053</td>\n",
       "      <td>463</td>\n",
       "      <td>91</td>\n",
       "      <td>1</td>\n",
       "      <td>[2211101482]</td>\n",
       "      <td>9.148990</td>\n",
       "      <td>-22.762032</td>\n",
       "      <td>0.610241</td>\n",
       "      <td>91</td>\n",
       "      <td>799</td>\n",
       "      <td>431</td>\n",
       "      <td>B7.4</td>\n",
       "      <td>2211101482</td>\n",
       "      <td>./aux_data/solo_L2_stix-aux-ephemeris_20221110...</td>\n",
       "      <td>./pixel_data/solo_L1_stix-sci-xray-cpd_2022111...</td>\n",
       "    </tr>\n",
       "    <tr>\n",
       "      <th>17</th>\n",
       "      <td>2211101859</td>\n",
       "      <td>False</td>\n",
       "      <td>7.608666e-07</td>\n",
       "      <td>2022-11-10T18:58:20.071</td>\n",
       "      <td>2022-11-10 18:59:48.072</td>\n",
       "      <td>2022-11-10T19:04:36.072</td>\n",
       "      <td>607</td>\n",
       "      <td>107</td>\n",
       "      <td>1</td>\n",
       "      <td>[2211109483]</td>\n",
       "      <td>9.145582</td>\n",
       "      <td>-22.659765</td>\n",
       "      <td>0.611751</td>\n",
       "      <td>83</td>\n",
       "      <td>863</td>\n",
       "      <td>431</td>\n",
       "      <td>B7.6</td>\n",
       "      <td>2211109483</td>\n",
       "      <td>./aux_data/solo_L2_stix-aux-ephemeris_20221110...</td>\n",
       "      <td>./pixel_data/solo_L1_stix-sci-xray-cpd_2022111...</td>\n",
       "    </tr>\n",
       "    <tr>\n",
       "      <th>18</th>\n",
       "      <td>2211101918</td>\n",
       "      <td>False</td>\n",
       "      <td>8.404254e-07</td>\n",
       "      <td>2022-11-10T19:10:32.073</td>\n",
       "      <td>2022-11-10 19:18:56.074</td>\n",
       "      <td>2022-11-10T19:37:16.076</td>\n",
       "      <td>735</td>\n",
       "      <td>115</td>\n",
       "      <td>1</td>\n",
       "      <td>[2211104239]</td>\n",
       "      <td>9.145223</td>\n",
       "      <td>-22.649288</td>\n",
       "      <td>0.611906</td>\n",
       "      <td>83</td>\n",
       "      <td>799</td>\n",
       "      <td>463</td>\n",
       "      <td>B8.4</td>\n",
       "      <td>2211104239</td>\n",
       "      <td>./aux_data/solo_L2_stix-aux-ephemeris_20221110...</td>\n",
       "      <td>./pixel_data/solo_L1_stix-sci-xray-cpd_2022111...</td>\n",
       "    </tr>\n",
       "    <tr>\n",
       "      <th>19</th>\n",
       "      <td>2211102118</td>\n",
       "      <td>False</td>\n",
       "      <td>7.122287e-07</td>\n",
       "      <td>2022-11-10T21:14:32.086</td>\n",
       "      <td>2022-11-10 21:18:40.086</td>\n",
       "      <td>2022-11-10T21:21:24.086</td>\n",
       "      <td>1087</td>\n",
       "      <td>199</td>\n",
       "      <td>1</td>\n",
       "      <td>[2211100333]</td>\n",
       "      <td>9.142947</td>\n",
       "      <td>-22.583999</td>\n",
       "      <td>0.612878</td>\n",
       "      <td>115</td>\n",
       "      <td>799</td>\n",
       "      <td>463</td>\n",
       "      <td>B7.1</td>\n",
       "      <td>2211100333</td>\n",
       "      <td>./aux_data/solo_L2_stix-aux-ephemeris_20221110...</td>\n",
       "      <td>./pixel_data/solo_L1_stix-sci-xray-cpd_2022111...</td>\n",
       "    </tr>\n",
       "    <tr>\n",
       "      <th>20</th>\n",
       "      <td>2211102254</td>\n",
       "      <td>False</td>\n",
       "      <td>7.896607e-07</td>\n",
       "      <td>2022-11-10T22:49:48.096</td>\n",
       "      <td>2022-11-10 22:54:20.096</td>\n",
       "      <td>2022-11-10T23:03:32.097</td>\n",
       "      <td>863</td>\n",
       "      <td>83</td>\n",
       "      <td>1</td>\n",
       "      <td>[2211108230]</td>\n",
       "      <td>9.141091</td>\n",
       "      <td>-22.532174</td>\n",
       "      <td>0.613654</td>\n",
       "      <td>75</td>\n",
       "      <td>863</td>\n",
       "      <td>463</td>\n",
       "      <td>B7.9</td>\n",
       "      <td>2211108230</td>\n",
       "      <td>./aux_data/solo_L2_stix-aux-ephemeris_20221110...</td>\n",
       "      <td>./pixel_data/solo_L1_stix-sci-xray-cpd_2022111...</td>\n",
       "    </tr>\n",
       "    <tr>\n",
       "      <th>21</th>\n",
       "      <td>2211102313</td>\n",
       "      <td>False</td>\n",
       "      <td>7.712210e-07</td>\n",
       "      <td>2022-11-10T23:09:44.097</td>\n",
       "      <td>2022-11-10 23:13:40.098</td>\n",
       "      <td>2022-11-10T23:21:16.098</td>\n",
       "      <td>607</td>\n",
       "      <td>99</td>\n",
       "      <td>1</td>\n",
       "      <td>[2211102795]</td>\n",
       "      <td>9.140712</td>\n",
       "      <td>-22.521737</td>\n",
       "      <td>0.613811</td>\n",
       "      <td>75</td>\n",
       "      <td>863</td>\n",
       "      <td>463</td>\n",
       "      <td>B7.7</td>\n",
       "      <td>2211102795</td>\n",
       "      <td>./aux_data/solo_L2_stix-aux-ephemeris_20221110...</td>\n",
       "      <td>./pixel_data/solo_L1_stix-sci-xray-cpd_2022111...</td>\n",
       "    </tr>\n",
       "    <tr>\n",
       "      <th>22</th>\n",
       "      <td>2211102357</td>\n",
       "      <td>False</td>\n",
       "      <td>8.913397e-07</td>\n",
       "      <td>2022-11-10T23:45:32.101</td>\n",
       "      <td>2022-11-10 23:57:12.103</td>\n",
       "      <td>2022-11-11T00:10:56.104</td>\n",
       "      <td>671</td>\n",
       "      <td>215</td>\n",
       "      <td>1</td>\n",
       "      <td>[2211105581]</td>\n",
       "      <td>9.139853</td>\n",
       "      <td>-22.498281</td>\n",
       "      <td>0.614163</td>\n",
       "      <td>135</td>\n",
       "      <td>799</td>\n",
       "      <td>463</td>\n",
       "      <td>B8.9</td>\n",
       "      <td>2211105581</td>\n",
       "      <td>./aux_data/solo_L2_stix-aux-ephemeris_20221110...</td>\n",
       "      <td>./pixel_data/solo_L1_stix-sci-xray-cpd_2022111...</td>\n",
       "    </tr>\n",
       "    <tr>\n",
       "      <th>23</th>\n",
       "      <td>2211110015</td>\n",
       "      <td>False</td>\n",
       "      <td>7.319871e-07</td>\n",
       "      <td>2022-11-11T00:13:08.104</td>\n",
       "      <td>2022-11-11 00:15:40.104</td>\n",
       "      <td>2022-11-11T00:18:40.105</td>\n",
       "      <td>927</td>\n",
       "      <td>199</td>\n",
       "      <td>1</td>\n",
       "      <td>[2211113481]</td>\n",
       "      <td>9.139487</td>\n",
       "      <td>-22.488350</td>\n",
       "      <td>0.614313</td>\n",
       "      <td>115</td>\n",
       "      <td>799</td>\n",
       "      <td>463</td>\n",
       "      <td>B7.3</td>\n",
       "      <td>2211113481</td>\n",
       "      <td>./aux_data/solo_L2_stix-aux-ephemeris_20221111...</td>\n",
       "      <td>./pixel_data/solo_L1_stix-sci-xray-cpd_2022111...</td>\n",
       "    </tr>\n",
       "    <tr>\n",
       "      <th>24</th>\n",
       "      <td>2211110040</td>\n",
       "      <td>False</td>\n",
       "      <td>9.795699e-07</td>\n",
       "      <td>2022-11-11T00:20:08.105</td>\n",
       "      <td>2022-11-11 00:40:20.107</td>\n",
       "      <td>2022-11-11T00:47:56.108</td>\n",
       "      <td>1343</td>\n",
       "      <td>231</td>\n",
       "      <td>1</td>\n",
       "      <td>[2211110188]</td>\n",
       "      <td>9.138995</td>\n",
       "      <td>-22.475102</td>\n",
       "      <td>0.614513</td>\n",
       "      <td>91</td>\n",
       "      <td>863</td>\n",
       "      <td>463</td>\n",
       "      <td>B9.8</td>\n",
       "      <td>2211110188</td>\n",
       "      <td>./aux_data/solo_L2_stix-aux-ephemeris_20221111...</td>\n",
       "      <td>./pixel_data/solo_L1_stix-sci-xray-cpd_2022111...</td>\n",
       "    </tr>\n",
       "    <tr>\n",
       "      <th>25</th>\n",
       "      <td>2211110147</td>\n",
       "      <td>False</td>\n",
       "      <td>4.596911e-06</td>\n",
       "      <td>2022-11-11T01:27:32.112</td>\n",
       "      <td>2022-11-11 01:47:20.113</td>\n",
       "      <td>2022-11-11T01:56:04.114</td>\n",
       "      <td>47103</td>\n",
       "      <td>7935</td>\n",
       "      <td>1</td>\n",
       "      <td>[2211118377]</td>\n",
       "      <td>9.137649</td>\n",
       "      <td>-22.439218</td>\n",
       "      <td>0.615055</td>\n",
       "      <td>3199</td>\n",
       "      <td>2431</td>\n",
       "      <td>735</td>\n",
       "      <td>C4.6</td>\n",
       "      <td>2211118377</td>\n",
       "      <td>./aux_data/solo_L2_stix-aux-ephemeris_20221111...</td>\n",
       "      <td>./pixel_data/solo_L1_stix-sci-xray-cpd_2022111...</td>\n",
       "    </tr>\n",
       "    <tr>\n",
       "      <th>26</th>\n",
       "      <td>2211110313</td>\n",
       "      <td>False</td>\n",
       "      <td>2.501505e-06</td>\n",
       "      <td>2022-11-11T02:42:40.119</td>\n",
       "      <td>2022-11-11 03:13:36.122</td>\n",
       "      <td>2022-11-11T03:45:32.026</td>\n",
       "      <td>23551</td>\n",
       "      <td>6399</td>\n",
       "      <td>1</td>\n",
       "      <td>[2211110829]</td>\n",
       "      <td>9.135893</td>\n",
       "      <td>-22.393231</td>\n",
       "      <td>0.615752</td>\n",
       "      <td>4351</td>\n",
       "      <td>2687</td>\n",
       "      <td>863</td>\n",
       "      <td>C2.5</td>\n",
       "      <td>2211110829</td>\n",
       "      <td>./aux_data/solo_L2_stix-aux-ephemeris_20221111...</td>\n",
       "      <td>./pixel_data/solo_L1_stix-sci-xray-cpd_2022111...</td>\n",
       "    </tr>\n",
       "    <tr>\n",
       "      <th>27</th>\n",
       "      <td>2211110437</td>\n",
       "      <td>False</td>\n",
       "      <td>3.313714e-06</td>\n",
       "      <td>2022-11-11T04:30:48.030</td>\n",
       "      <td>2022-11-11 04:37:16.031</td>\n",
       "      <td>2022-11-11T04:59:16.033</td>\n",
       "      <td>29695</td>\n",
       "      <td>3455</td>\n",
       "      <td>1</td>\n",
       "      <td>[2211117374]</td>\n",
       "      <td>9.134164</td>\n",
       "      <td>-22.348861</td>\n",
       "      <td>0.616427</td>\n",
       "      <td>991</td>\n",
       "      <td>1087</td>\n",
       "      <td>463</td>\n",
       "      <td>C3.3</td>\n",
       "      <td>2211117374</td>\n",
       "      <td>./aux_data/solo_L2_stix-aux-ephemeris_20221111...</td>\n",
       "      <td>./pixel_data/solo_L1_stix-sci-xray-cpd_2022111...</td>\n",
       "    </tr>\n",
       "    <tr>\n",
       "      <th>28</th>\n",
       "      <td>2211110510</td>\n",
       "      <td>False</td>\n",
       "      <td>7.821267e-07</td>\n",
       "      <td>2022-11-11T05:06:12.034</td>\n",
       "      <td>2022-11-11 05:10:24.034</td>\n",
       "      <td>2022-11-11T05:14:16.035</td>\n",
       "      <td>1343</td>\n",
       "      <td>367</td>\n",
       "      <td>1</td>\n",
       "      <td>[2211113005]</td>\n",
       "      <td>9.133472</td>\n",
       "      <td>-22.331352</td>\n",
       "      <td>0.616695</td>\n",
       "      <td>247</td>\n",
       "      <td>863</td>\n",
       "      <td>463</td>\n",
       "      <td>B7.8</td>\n",
       "      <td>2211113005</td>\n",
       "      <td>./aux_data/solo_L2_stix-aux-ephemeris_20221111...</td>\n",
       "      <td>./pixel_data/solo_L1_stix-sci-xray-cpd_2022111...</td>\n",
       "    </tr>\n",
       "    <tr>\n",
       "      <th>29</th>\n",
       "      <td>2211110539</td>\n",
       "      <td>False</td>\n",
       "      <td>6.726314e-07</td>\n",
       "      <td>2022-11-11T05:36:04.037</td>\n",
       "      <td>2022-11-11 05:39:12.037</td>\n",
       "      <td>2022-11-11T05:42:52.038</td>\n",
       "      <td>927</td>\n",
       "      <td>135</td>\n",
       "      <td>1</td>\n",
       "      <td>[2211113684]</td>\n",
       "      <td>9.132868</td>\n",
       "      <td>-22.316162</td>\n",
       "      <td>0.616927</td>\n",
       "      <td>83</td>\n",
       "      <td>799</td>\n",
       "      <td>463</td>\n",
       "      <td>B6.7</td>\n",
       "      <td>2211113684</td>\n",
       "      <td>./aux_data/solo_L2_stix-aux-ephemeris_20221111...</td>\n",
       "      <td>./pixel_data/solo_L1_stix-sci-xray-cpd_2022111...</td>\n",
       "    </tr>\n",
       "    <tr>\n",
       "      <th>30</th>\n",
       "      <td>2211110552</td>\n",
       "      <td>False</td>\n",
       "      <td>1.962345e-06</td>\n",
       "      <td>2022-11-11T05:43:48.038</td>\n",
       "      <td>2022-11-11 05:52:08.039</td>\n",
       "      <td>2022-11-11T06:11:48.041</td>\n",
       "      <td>9727</td>\n",
       "      <td>1727</td>\n",
       "      <td>2</td>\n",
       "      <td>[2211114587, 2211117466]</td>\n",
       "      <td>9.132596</td>\n",
       "      <td>-22.309349</td>\n",
       "      <td>0.617031</td>\n",
       "      <td>863</td>\n",
       "      <td>1087</td>\n",
       "      <td>463</td>\n",
       "      <td>C2.0</td>\n",
       "      <td>2211114587</td>\n",
       "      <td>./aux_data/solo_L2_stix-aux-ephemeris_20221111...</td>\n",
       "      <td>./pixel_data/solo_L1_stix-sci-xray-cpd_2022111...</td>\n",
       "    </tr>\n",
       "    <tr>\n",
       "      <th>31</th>\n",
       "      <td>2211110636</td>\n",
       "      <td>False</td>\n",
       "      <td>6.900528e-07</td>\n",
       "      <td>2022-11-11T06:34:36.043</td>\n",
       "      <td>2022-11-11 06:36:56.043</td>\n",
       "      <td>2022-11-11T06:41:48.044</td>\n",
       "      <td>607</td>\n",
       "      <td>83</td>\n",
       "      <td>1</td>\n",
       "      <td>[2211119787]</td>\n",
       "      <td>9.131648</td>\n",
       "      <td>-22.285792</td>\n",
       "      <td>0.617392</td>\n",
       "      <td>83</td>\n",
       "      <td>799</td>\n",
       "      <td>463</td>\n",
       "      <td>B6.9</td>\n",
       "      <td>2211119787</td>\n",
       "      <td>./aux_data/solo_L2_stix-aux-ephemeris_20221111...</td>\n",
       "      <td>./pixel_data/solo_L1_stix-sci-xray-cpd_2022111...</td>\n",
       "    </tr>\n",
       "    <tr>\n",
       "      <th>32</th>\n",
       "      <td>2211110709</td>\n",
       "      <td>False</td>\n",
       "      <td>1.246533e-05</td>\n",
       "      <td>2022-11-11T06:56:36.045</td>\n",
       "      <td>2022-11-11 07:09:24.047</td>\n",
       "      <td>2022-11-11T07:36:16.049</td>\n",
       "      <td>155647</td>\n",
       "      <td>15871</td>\n",
       "      <td>1</td>\n",
       "      <td>[2211112659]</td>\n",
       "      <td>9.130957</td>\n",
       "      <td>-22.268760</td>\n",
       "      <td>0.617654</td>\n",
       "      <td>3199</td>\n",
       "      <td>1343</td>\n",
       "      <td>463</td>\n",
       "      <td>M1.2</td>\n",
       "      <td>2211112659</td>\n",
       "      <td>./aux_data/solo_L2_stix-aux-ephemeris_20221111...</td>\n",
       "      <td>./pixel_data/solo_L1_stix-sci-xray-cpd_2022111...</td>\n",
       "    </tr>\n",
       "    <tr>\n",
       "      <th>33</th>\n",
       "      <td>2211110754</td>\n",
       "      <td>False</td>\n",
       "      <td>1.035035e-06</td>\n",
       "      <td>2022-11-11T07:44:28.050</td>\n",
       "      <td>2022-11-11 07:54:48.051</td>\n",
       "      <td>2022-11-11T08:05:24.052</td>\n",
       "      <td>3711</td>\n",
       "      <td>463</td>\n",
       "      <td>1</td>\n",
       "      <td>[2211114285]</td>\n",
       "      <td>9.129984</td>\n",
       "      <td>-22.245000</td>\n",
       "      <td>0.618019</td>\n",
       "      <td>167</td>\n",
       "      <td>863</td>\n",
       "      <td>463</td>\n",
       "      <td>C1.0</td>\n",
       "      <td>2211114285</td>\n",
       "      <td>./aux_data/solo_L2_stix-aux-ephemeris_20221111...</td>\n",
       "      <td>./pixel_data/solo_L1_stix-sci-xray-cpd_2022111...</td>\n",
       "    </tr>\n",
       "    <tr>\n",
       "      <th>34</th>\n",
       "      <td>2211110815</td>\n",
       "      <td>False</td>\n",
       "      <td>8.620145e-07</td>\n",
       "      <td>2022-11-11T08:13:16.053</td>\n",
       "      <td>2022-11-11 08:15:28.053</td>\n",
       "      <td>2022-11-11T08:21:20.054</td>\n",
       "      <td>1343</td>\n",
       "      <td>199</td>\n",
       "      <td>1</td>\n",
       "      <td>[2211111956]</td>\n",
       "      <td>9.129538</td>\n",
       "      <td>-22.234206</td>\n",
       "      <td>0.618186</td>\n",
       "      <td>83</td>\n",
       "      <td>799</td>\n",
       "      <td>463</td>\n",
       "      <td>B8.6</td>\n",
       "      <td>2211111956</td>\n",
       "      <td>./aux_data/solo_L2_stix-aux-ephemeris_20221111...</td>\n",
       "      <td>./pixel_data/solo_L1_stix-sci-xray-cpd_2022111...</td>\n",
       "    </tr>\n",
       "    <tr>\n",
       "      <th>35</th>\n",
       "      <td>2211110828</td>\n",
       "      <td>False</td>\n",
       "      <td>8.518235e-07</td>\n",
       "      <td>2022-11-11T08:24:08.054</td>\n",
       "      <td>2022-11-11 08:28:32.055</td>\n",
       "      <td>2022-11-11T08:35:12.055</td>\n",
       "      <td>863</td>\n",
       "      <td>135</td>\n",
       "      <td>1</td>\n",
       "      <td>[2211111289]</td>\n",
       "      <td>9.129256</td>\n",
       "      <td>-22.227388</td>\n",
       "      <td>0.618291</td>\n",
       "      <td>83</td>\n",
       "      <td>799</td>\n",
       "      <td>431</td>\n",
       "      <td>B8.5</td>\n",
       "      <td>2211111289</td>\n",
       "      <td>./aux_data/solo_L2_stix-aux-ephemeris_20221111...</td>\n",
       "      <td>./pixel_data/solo_L1_stix-sci-xray-cpd_2022111...</td>\n",
       "    </tr>\n",
       "    <tr>\n",
       "      <th>36</th>\n",
       "      <td>2211110906</td>\n",
       "      <td>False</td>\n",
       "      <td>5.953043e-06</td>\n",
       "      <td>2022-11-11T09:00:28.058</td>\n",
       "      <td>2022-11-11 09:06:16.058</td>\n",
       "      <td>2022-11-11T09:19:32.060</td>\n",
       "      <td>43007</td>\n",
       "      <td>3199</td>\n",
       "      <td>1</td>\n",
       "      <td>[2211110255]</td>\n",
       "      <td>9.128438</td>\n",
       "      <td>-22.207731</td>\n",
       "      <td>0.618594</td>\n",
       "      <td>1343</td>\n",
       "      <td>1215</td>\n",
       "      <td>463</td>\n",
       "      <td>C6.0</td>\n",
       "      <td>2211110255</td>\n",
       "      <td>./aux_data/solo_L2_stix-aux-ephemeris_20221111...</td>\n",
       "      <td>./pixel_data/solo_L1_stix-sci-xray-cpd_2022111...</td>\n",
       "    </tr>\n",
       "    <tr>\n",
       "      <th>37</th>\n",
       "      <td>2211111019</td>\n",
       "      <td>False</td>\n",
       "      <td>1.057933e-06</td>\n",
       "      <td>2022-11-11T10:16:52.066</td>\n",
       "      <td>2022-11-11 10:19:24.066</td>\n",
       "      <td>2022-11-11T10:22:04.066</td>\n",
       "      <td>1087</td>\n",
       "      <td>135</td>\n",
       "      <td>1</td>\n",
       "      <td>[2211113155]</td>\n",
       "      <td>9.126837</td>\n",
       "      <td>-22.169762</td>\n",
       "      <td>0.619182</td>\n",
       "      <td>83</td>\n",
       "      <td>799</td>\n",
       "      <td>463</td>\n",
       "      <td>C1.1</td>\n",
       "      <td>2211113155</td>\n",
       "      <td>./aux_data/solo_L2_stix-aux-ephemeris_20221111...</td>\n",
       "      <td>./pixel_data/solo_L1_stix-sci-xray-cpd_2022111...</td>\n",
       "    </tr>\n",
       "    <tr>\n",
       "      <th>38</th>\n",
       "      <td>2211111056</td>\n",
       "      <td>False</td>\n",
       "      <td>9.303309e-07</td>\n",
       "      <td>2022-11-11T10:49:48.069</td>\n",
       "      <td>2022-11-11 10:56:16.070</td>\n",
       "      <td>2022-11-11T11:00:04.070</td>\n",
       "      <td>543</td>\n",
       "      <td>123</td>\n",
       "      <td>1</td>\n",
       "      <td>[2211117066]</td>\n",
       "      <td>9.126023</td>\n",
       "      <td>-22.150686</td>\n",
       "      <td>0.619478</td>\n",
       "      <td>91</td>\n",
       "      <td>863</td>\n",
       "      <td>463</td>\n",
       "      <td>B9.3</td>\n",
       "      <td>2211117066</td>\n",
       "      <td>./aux_data/solo_L2_stix-aux-ephemeris_20221111...</td>\n",
       "      <td>./pixel_data/solo_L1_stix-sci-xray-cpd_2022111...</td>\n",
       "    </tr>\n",
       "    <tr>\n",
       "      <th>39</th>\n",
       "      <td>2211111136</td>\n",
       "      <td>False</td>\n",
       "      <td>1.225023e-05</td>\n",
       "      <td>2022-11-11T11:12:56.072</td>\n",
       "      <td>2022-11-11 11:36:56.074</td>\n",
       "      <td>2022-11-11T12:10:12.077</td>\n",
       "      <td>155647</td>\n",
       "      <td>23551</td>\n",
       "      <td>2</td>\n",
       "      <td>[2211114421, 2211112966]</td>\n",
       "      <td>9.125120</td>\n",
       "      <td>-22.129694</td>\n",
       "      <td>0.619805</td>\n",
       "      <td>6399</td>\n",
       "      <td>3199</td>\n",
       "      <td>863</td>\n",
       "      <td>M1.2</td>\n",
       "      <td>2211114421</td>\n",
       "      <td>./aux_data/solo_L2_stix-aux-ephemeris_20221111...</td>\n",
       "      <td>./pixel_data/solo_L1_stix-sci-xray-cpd_2022111...</td>\n",
       "    </tr>\n",
       "    <tr>\n",
       "      <th>40</th>\n",
       "      <td>2211111346</td>\n",
       "      <td>False</td>\n",
       "      <td>1.363731e-06</td>\n",
       "      <td>2022-11-11T13:32:56.086</td>\n",
       "      <td>2022-11-11 13:46:32.087</td>\n",
       "      <td>2022-11-11T13:55:48.088</td>\n",
       "      <td>12799</td>\n",
       "      <td>3199</td>\n",
       "      <td>1</td>\n",
       "      <td>[2211110132]</td>\n",
       "      <td>9.122204</td>\n",
       "      <td>-22.063143</td>\n",
       "      <td>0.620844</td>\n",
       "      <td>1215</td>\n",
       "      <td>991</td>\n",
       "      <td>463</td>\n",
       "      <td>C1.4</td>\n",
       "      <td>2211110132</td>\n",
       "      <td>./aux_data/solo_L2_stix-aux-ephemeris_20221111...</td>\n",
       "      <td>./pixel_data/solo_L1_stix-sci-xray-cpd_2022111...</td>\n",
       "    </tr>\n",
       "    <tr>\n",
       "      <th>41</th>\n",
       "      <td>2211111357</td>\n",
       "      <td>False</td>\n",
       "      <td>7.958663e-07</td>\n",
       "      <td>2022-11-11T13:55:48.088</td>\n",
       "      <td>2022-11-11 13:57:11.995</td>\n",
       "      <td>2022-11-11T14:07:07.996</td>\n",
       "      <td>991</td>\n",
       "      <td>335</td>\n",
       "      <td>1</td>\n",
       "      <td>[2211118828]</td>\n",
       "      <td>9.121962</td>\n",
       "      <td>-22.057690</td>\n",
       "      <td>0.620929</td>\n",
       "      <td>199</td>\n",
       "      <td>863</td>\n",
       "      <td>463</td>\n",
       "      <td>B8.0</td>\n",
       "      <td>2211118828</td>\n",
       "      <td>./aux_data/solo_L2_stix-aux-ephemeris_20221111...</td>\n",
       "      <td>./pixel_data/solo_L1_stix-sci-xray-cpd_2022111...</td>\n",
       "    </tr>\n",
       "    <tr>\n",
       "      <th>42</th>\n",
       "      <td>2211111747</td>\n",
       "      <td>False</td>\n",
       "      <td>1.576483e-06</td>\n",
       "      <td>2022-11-11T17:30:12.010</td>\n",
       "      <td>2022-11-11 17:47:24.012</td>\n",
       "      <td>2022-11-11T17:57:16.013</td>\n",
       "      <td>5375</td>\n",
       "      <td>671</td>\n",
       "      <td>1</td>\n",
       "      <td>[2211116710]</td>\n",
       "      <td>9.116635</td>\n",
       "      <td>-21.940855</td>\n",
       "      <td>0.622771</td>\n",
       "      <td>167</td>\n",
       "      <td>863</td>\n",
       "      <td>463</td>\n",
       "      <td>C1.6</td>\n",
       "      <td>2211116710</td>\n",
       "      <td>./aux_data/solo_L2_stix-aux-ephemeris_20221111...</td>\n",
       "      <td>./pixel_data/solo_L1_stix-sci-xray-cpd_2022111...</td>\n",
       "    </tr>\n",
       "    <tr>\n",
       "      <th>43</th>\n",
       "      <td>2211112006</td>\n",
       "      <td>False</td>\n",
       "      <td>8.048406e-07</td>\n",
       "      <td>2022-11-11T20:00:12.026</td>\n",
       "      <td>2022-11-11 20:06:04.026</td>\n",
       "      <td>2022-11-11T20:12:20.027</td>\n",
       "      <td>607</td>\n",
       "      <td>75</td>\n",
       "      <td>1</td>\n",
       "      <td>[2211119540]</td>\n",
       "      <td>9.113341</td>\n",
       "      <td>-21.871272</td>\n",
       "      <td>0.623878</td>\n",
       "      <td>83</td>\n",
       "      <td>799</td>\n",
       "      <td>431</td>\n",
       "      <td>B8.0</td>\n",
       "      <td>2211119540</td>\n",
       "      <td>./aux_data/solo_L2_stix-aux-ephemeris_20221111...</td>\n",
       "      <td>./pixel_data/solo_L1_stix-sci-xray-cpd_2022111...</td>\n",
       "    </tr>\n",
       "    <tr>\n",
       "      <th>44</th>\n",
       "      <td>2211112147</td>\n",
       "      <td>False</td>\n",
       "      <td>7.720208e-07</td>\n",
       "      <td>2022-11-11T21:43:11.936</td>\n",
       "      <td>2022-11-11 21:47:51.937</td>\n",
       "      <td>2022-11-11T21:56:07.937</td>\n",
       "      <td>735</td>\n",
       "      <td>99</td>\n",
       "      <td>1</td>\n",
       "      <td>[2211112507]</td>\n",
       "      <td>9.110882</td>\n",
       "      <td>-21.820568</td>\n",
       "      <td>0.624689</td>\n",
       "      <td>75</td>\n",
       "      <td>799</td>\n",
       "      <td>431</td>\n",
       "      <td>B7.7</td>\n",
       "      <td>2211112507</td>\n",
       "      <td>./aux_data/solo_L2_stix-aux-ephemeris_20221111...</td>\n",
       "      <td>./pixel_data/solo_L1_stix-sci-xray-cpd_2022111...</td>\n",
       "    </tr>\n",
       "    <tr>\n",
       "      <th>45</th>\n",
       "      <td>2211112226</td>\n",
       "      <td>False</td>\n",
       "      <td>1.154457e-06</td>\n",
       "      <td>2022-11-11T22:18:43.940</td>\n",
       "      <td>2022-11-11 22:26:51.941</td>\n",
       "      <td>2022-11-11T22:45:55.943</td>\n",
       "      <td>1471</td>\n",
       "      <td>115</td>\n",
       "      <td>1</td>\n",
       "      <td>[2211113044]</td>\n",
       "      <td>9.109931</td>\n",
       "      <td>-21.801226</td>\n",
       "      <td>0.625000</td>\n",
       "      <td>83</td>\n",
       "      <td>799</td>\n",
       "      <td>431</td>\n",
       "      <td>C1.2</td>\n",
       "      <td>2211113044</td>\n",
       "      <td>./aux_data/solo_L2_stix-aux-ephemeris_20221111...</td>\n",
       "      <td>./pixel_data/solo_L1_stix-sci-xray-cpd_2022111...</td>\n",
       "    </tr>\n",
       "    <tr>\n",
       "      <th>46</th>\n",
       "      <td>2211112315</td>\n",
       "      <td>False</td>\n",
       "      <td>9.577188e-07</td>\n",
       "      <td>2022-11-11T23:00:47.944</td>\n",
       "      <td>2022-11-11 23:15:11.946</td>\n",
       "      <td>2022-11-11T23:26:51.947</td>\n",
       "      <td>735</td>\n",
       "      <td>75</td>\n",
       "      <td>1</td>\n",
       "      <td>[2211118361]</td>\n",
       "      <td>9.108746</td>\n",
       "      <td>-21.777321</td>\n",
       "      <td>0.625384</td>\n",
       "      <td>83</td>\n",
       "      <td>863</td>\n",
       "      <td>463</td>\n",
       "      <td>B9.6</td>\n",
       "      <td>2211118361</td>\n",
       "      <td>./aux_data/solo_L2_stix-aux-ephemeris_20221111...</td>\n",
       "      <td>./pixel_data/solo_L1_stix-sci-xray-cpd_2022111...</td>\n",
       "    </tr>\n",
       "  </tbody>\n",
       "</table>\n",
       "</div>"
      ],
      "text/plain": [
       "      flare_id  att_in     GOES_flux                start_UTC  \\\n",
       "0   2211090050   False  6.073233e-07  2022-11-09T00:44:44.012   \n",
       "1   2211090551   False  7.278045e-07  2022-11-09T05:39:48.042   \n",
       "2   2211090908   False  6.582638e-07  2022-11-09T08:58:40.062   \n",
       "3   2211090958   False  6.191904e-07  2022-11-09T09:55:28.068   \n",
       "4   2211091515   False  1.004953e-06  2022-11-09T14:19:20.095   \n",
       "5   2211091554   False  7.068386e-07  2022-11-09T15:50:44.105   \n",
       "6   2211091713   False  5.433398e-07  2022-11-09T17:10:32.113   \n",
       "7   2211091823   False  5.424671e-07  2022-11-09T18:20:20.120   \n",
       "8   2211091958   False  4.366502e-06  2022-11-09T19:34:00.128   \n",
       "9   2211100208   False  6.083465e-07  2022-11-10T02:06:48.168   \n",
       "10  2211100737   False  6.977260e-07  2022-11-10T07:32:36.201   \n",
       "11  2211100827   False  7.110360e-07  2022-11-10T08:24:52.207   \n",
       "12  2211100844   False  8.130161e-07  2022-11-10T08:40:36.208   \n",
       "13  2211100859   False  8.015134e-07  2022-11-10T08:55:08.210   \n",
       "14  2211101252   False  9.004963e-07  2022-11-10T12:43:04.033   \n",
       "15  2211101536   False  7.520339e-07  2022-11-10T15:34:20.051   \n",
       "16  2211101554   False  7.399987e-07  2022-11-10T15:46:12.052   \n",
       "17  2211101859   False  7.608666e-07  2022-11-10T18:58:20.071   \n",
       "18  2211101918   False  8.404254e-07  2022-11-10T19:10:32.073   \n",
       "19  2211102118   False  7.122287e-07  2022-11-10T21:14:32.086   \n",
       "20  2211102254   False  7.896607e-07  2022-11-10T22:49:48.096   \n",
       "21  2211102313   False  7.712210e-07  2022-11-10T23:09:44.097   \n",
       "22  2211102357   False  8.913397e-07  2022-11-10T23:45:32.101   \n",
       "23  2211110015   False  7.319871e-07  2022-11-11T00:13:08.104   \n",
       "24  2211110040   False  9.795699e-07  2022-11-11T00:20:08.105   \n",
       "25  2211110147   False  4.596911e-06  2022-11-11T01:27:32.112   \n",
       "26  2211110313   False  2.501505e-06  2022-11-11T02:42:40.119   \n",
       "27  2211110437   False  3.313714e-06  2022-11-11T04:30:48.030   \n",
       "28  2211110510   False  7.821267e-07  2022-11-11T05:06:12.034   \n",
       "29  2211110539   False  6.726314e-07  2022-11-11T05:36:04.037   \n",
       "30  2211110552   False  1.962345e-06  2022-11-11T05:43:48.038   \n",
       "31  2211110636   False  6.900528e-07  2022-11-11T06:34:36.043   \n",
       "32  2211110709   False  1.246533e-05  2022-11-11T06:56:36.045   \n",
       "33  2211110754   False  1.035035e-06  2022-11-11T07:44:28.050   \n",
       "34  2211110815   False  8.620145e-07  2022-11-11T08:13:16.053   \n",
       "35  2211110828   False  8.518235e-07  2022-11-11T08:24:08.054   \n",
       "36  2211110906   False  5.953043e-06  2022-11-11T09:00:28.058   \n",
       "37  2211111019   False  1.057933e-06  2022-11-11T10:16:52.066   \n",
       "38  2211111056   False  9.303309e-07  2022-11-11T10:49:48.069   \n",
       "39  2211111136   False  1.225023e-05  2022-11-11T11:12:56.072   \n",
       "40  2211111346   False  1.363731e-06  2022-11-11T13:32:56.086   \n",
       "41  2211111357   False  7.958663e-07  2022-11-11T13:55:48.088   \n",
       "42  2211111747   False  1.576483e-06  2022-11-11T17:30:12.010   \n",
       "43  2211112006   False  8.048406e-07  2022-11-11T20:00:12.026   \n",
       "44  2211112147   False  7.720208e-07  2022-11-11T21:43:11.936   \n",
       "45  2211112226   False  1.154457e-06  2022-11-11T22:18:43.940   \n",
       "46  2211112315   False  9.577188e-07  2022-11-11T23:00:47.944   \n",
       "\n",
       "                   peak_UTC                  end_UTC  4-10 keV  10-15 keV  \\\n",
       "0   2022-11-09 00:50:20.013  2022-11-09T00:52:56.013      1215        271   \n",
       "1   2022-11-09 05:51:40.043  2022-11-09T06:12:08.045       367         67   \n",
       "2   2022-11-09 09:08:44.063  2022-11-09T09:14:56.064       607        135   \n",
       "3   2022-11-09 09:58:44.069  2022-11-09T10:06:04.069       607         75   \n",
       "4   2022-11-09 15:15:20.102  2022-11-09T15:20:44.102      2687        231   \n",
       "5   2022-11-09 15:54:32.105  2022-11-09T16:06:36.107      1087        135   \n",
       "6   2022-11-09 17:13:48.113  2022-11-09T17:18:20.114       463         67   \n",
       "7   2022-11-09 18:23:24.120  2022-11-09T18:29:44.121       671         83   \n",
       "8   2022-11-09 19:58:36.130  2022-11-09T23:16:24.150      8703        495   \n",
       "9   2022-11-10 02:08:36.168  2022-11-10T02:17:00.169      1087        271   \n",
       "10  2022-11-10 07:37:32.202  2022-11-10T07:56:24.204       399         75   \n",
       "11  2022-11-10 08:27:12.207  2022-11-10T08:37:08.208       367         75   \n",
       "12  2022-11-10 08:44:52.209  2022-11-10T08:48:08.209      1087        167   \n",
       "13  2022-11-10 08:59:12.110  2022-11-10T09:07:08.111       463         61   \n",
       "14  2022-11-10 12:52:36.034  2022-11-10T13:08:08.036       735         91   \n",
       "15  2022-11-10 15:36:28.051  2022-11-10T15:40:28.051       607         99   \n",
       "16  2022-11-10 15:54:12.053  2022-11-10T16:01:04.053       463         91   \n",
       "17  2022-11-10 18:59:48.072  2022-11-10T19:04:36.072       607        107   \n",
       "18  2022-11-10 19:18:56.074  2022-11-10T19:37:16.076       735        115   \n",
       "19  2022-11-10 21:18:40.086  2022-11-10T21:21:24.086      1087        199   \n",
       "20  2022-11-10 22:54:20.096  2022-11-10T23:03:32.097       863         83   \n",
       "21  2022-11-10 23:13:40.098  2022-11-10T23:21:16.098       607         99   \n",
       "22  2022-11-10 23:57:12.103  2022-11-11T00:10:56.104       671        215   \n",
       "23  2022-11-11 00:15:40.104  2022-11-11T00:18:40.105       927        199   \n",
       "24  2022-11-11 00:40:20.107  2022-11-11T00:47:56.108      1343        231   \n",
       "25  2022-11-11 01:47:20.113  2022-11-11T01:56:04.114     47103       7935   \n",
       "26  2022-11-11 03:13:36.122  2022-11-11T03:45:32.026     23551       6399   \n",
       "27  2022-11-11 04:37:16.031  2022-11-11T04:59:16.033     29695       3455   \n",
       "28  2022-11-11 05:10:24.034  2022-11-11T05:14:16.035      1343        367   \n",
       "29  2022-11-11 05:39:12.037  2022-11-11T05:42:52.038       927        135   \n",
       "30  2022-11-11 05:52:08.039  2022-11-11T06:11:48.041      9727       1727   \n",
       "31  2022-11-11 06:36:56.043  2022-11-11T06:41:48.044       607         83   \n",
       "32  2022-11-11 07:09:24.047  2022-11-11T07:36:16.049    155647      15871   \n",
       "33  2022-11-11 07:54:48.051  2022-11-11T08:05:24.052      3711        463   \n",
       "34  2022-11-11 08:15:28.053  2022-11-11T08:21:20.054      1343        199   \n",
       "35  2022-11-11 08:28:32.055  2022-11-11T08:35:12.055       863        135   \n",
       "36  2022-11-11 09:06:16.058  2022-11-11T09:19:32.060     43007       3199   \n",
       "37  2022-11-11 10:19:24.066  2022-11-11T10:22:04.066      1087        135   \n",
       "38  2022-11-11 10:56:16.070  2022-11-11T11:00:04.070       543        123   \n",
       "39  2022-11-11 11:36:56.074  2022-11-11T12:10:12.077    155647      23551   \n",
       "40  2022-11-11 13:46:32.087  2022-11-11T13:55:48.088     12799       3199   \n",
       "41  2022-11-11 13:57:11.995  2022-11-11T14:07:07.996       991        335   \n",
       "42  2022-11-11 17:47:24.012  2022-11-11T17:57:16.013      5375        671   \n",
       "43  2022-11-11 20:06:04.026  2022-11-11T20:12:20.027       607         75   \n",
       "44  2022-11-11 21:47:51.937  2022-11-11T21:56:07.937       735         99   \n",
       "45  2022-11-11 22:26:51.941  2022-11-11T22:45:55.943      1471        115   \n",
       "46  2022-11-11 23:15:11.946  2022-11-11T23:26:51.947       735         75   \n",
       "\n",
       "    number_available_files available_file_request_IDs  solo_lat   solo_lon  \\\n",
       "0                        1               [2211090305]  9.180063 -24.156920   \n",
       "1                        1               [2211090238]  9.177393 -23.966433   \n",
       "2                        1               [2211096407]  9.175424 -23.843695   \n",
       "3                        1               [2211091409]  9.174897 -23.812783   \n",
       "4                        1               [2211098407]  9.171304 -23.619178   \n",
       "5                        1               [2211099586]  9.170829 -23.595461   \n",
       "6                        1               [2211098388]  9.169849 -23.547672   \n",
       "7                        1               [2211096527]  9.168965 -23.505898   \n",
       "8                        1               [2211092397]  9.167724 -23.449040   \n",
       "9                        1               [2211108453]  9.162540 -23.231119   \n",
       "10                       1               [2211108932]  9.157463 -23.041419   \n",
       "11                       1               [2211101244]  9.156659 -23.013101   \n",
       "12                       1               [2211106426]  9.156370 -23.003049   \n",
       "13                       1               [2211102153]  9.156136 -22.994902   \n",
       "14                       1               [2211106153]  9.152199 -22.863215   \n",
       "15                       1               [2211106863]  9.149309 -22.771864   \n",
       "16                       1               [2211101482]  9.148990 -22.762032   \n",
       "17                       1               [2211109483]  9.145582 -22.659765   \n",
       "18                       1               [2211104239]  9.145223 -22.649288   \n",
       "19                       1               [2211100333]  9.142947 -22.583999   \n",
       "20                       1               [2211108230]  9.141091 -22.532174   \n",
       "21                       1               [2211102795]  9.140712 -22.521737   \n",
       "22                       1               [2211105581]  9.139853 -22.498281   \n",
       "23                       1               [2211113481]  9.139487 -22.488350   \n",
       "24                       1               [2211110188]  9.138995 -22.475102   \n",
       "25                       1               [2211118377]  9.137649 -22.439218   \n",
       "26                       1               [2211110829]  9.135893 -22.393231   \n",
       "27                       1               [2211117374]  9.134164 -22.348861   \n",
       "28                       1               [2211113005]  9.133472 -22.331352   \n",
       "29                       1               [2211113684]  9.132868 -22.316162   \n",
       "30                       2   [2211114587, 2211117466]  9.132596 -22.309349   \n",
       "31                       1               [2211119787]  9.131648 -22.285792   \n",
       "32                       1               [2211112659]  9.130957 -22.268760   \n",
       "33                       1               [2211114285]  9.129984 -22.245000   \n",
       "34                       1               [2211111956]  9.129538 -22.234206   \n",
       "35                       1               [2211111289]  9.129256 -22.227388   \n",
       "36                       1               [2211110255]  9.128438 -22.207731   \n",
       "37                       1               [2211113155]  9.126837 -22.169762   \n",
       "38                       1               [2211117066]  9.126023 -22.150686   \n",
       "39                       2   [2211114421, 2211112966]  9.125120 -22.129694   \n",
       "40                       1               [2211110132]  9.122204 -22.063143   \n",
       "41                       1               [2211118828]  9.121962 -22.057690   \n",
       "42                       1               [2211116710]  9.116635 -21.940855   \n",
       "43                       1               [2211119540]  9.113341 -21.871272   \n",
       "44                       1               [2211112507]  9.110882 -21.820568   \n",
       "45                       1               [2211113044]  9.109931 -21.801226   \n",
       "46                       1               [2211118361]  9.108746 -21.777321   \n",
       "\n",
       "    solo_AU_distance  15-25 keV  25-50 keV  50-84 keV GOES_class Request IDs  \\\n",
       "0           0.590873        135        799        463       B6.1  2211090305   \n",
       "1           0.593394         83        863        463       B7.3  2211090238   \n",
       "2           0.595037        107        863        463       B6.6  2211096407   \n",
       "3           0.595453         75        799        463       B6.2  2211091409   \n",
       "4           0.598084         83        863        495       C1.0  2211098407   \n",
       "5           0.598409         91        863        463       B7.1  2211099586   \n",
       "6           0.599066         75        863        463       B5.4  2211098388   \n",
       "7           0.599642         75        799        431       B5.4  2211096527   \n",
       "8           0.600430        231        863        463       C4.4  2211092397   \n",
       "9           0.603481         91        799        463       B6.1  2211108453   \n",
       "10          0.606182         91        799        463       B7.0  2211108932   \n",
       "11          0.606589         91        799        463       B7.1  2211101244   \n",
       "12          0.606734         75        799        431       B8.1  2211106426   \n",
       "13          0.606851         83        863        431       B8.0  2211102153   \n",
       "14          0.608760         83        863        463       B9.0  2211106153   \n",
       "15          0.610096         75        799        431       B7.5  2211106863   \n",
       "16          0.610241         91        799        431       B7.4  2211101482   \n",
       "17          0.611751         83        863        431       B7.6  2211109483   \n",
       "18          0.611906         83        799        463       B8.4  2211104239   \n",
       "19          0.612878        115        799        463       B7.1  2211100333   \n",
       "20          0.613654         75        863        463       B7.9  2211108230   \n",
       "21          0.613811         75        863        463       B7.7  2211102795   \n",
       "22          0.614163        135        799        463       B8.9  2211105581   \n",
       "23          0.614313        115        799        463       B7.3  2211113481   \n",
       "24          0.614513         91        863        463       B9.8  2211110188   \n",
       "25          0.615055       3199       2431        735       C4.6  2211118377   \n",
       "26          0.615752       4351       2687        863       C2.5  2211110829   \n",
       "27          0.616427        991       1087        463       C3.3  2211117374   \n",
       "28          0.616695        247        863        463       B7.8  2211113005   \n",
       "29          0.616927         83        799        463       B6.7  2211113684   \n",
       "30          0.617031        863       1087        463       C2.0  2211114587   \n",
       "31          0.617392         83        799        463       B6.9  2211119787   \n",
       "32          0.617654       3199       1343        463       M1.2  2211112659   \n",
       "33          0.618019        167        863        463       C1.0  2211114285   \n",
       "34          0.618186         83        799        463       B8.6  2211111956   \n",
       "35          0.618291         83        799        431       B8.5  2211111289   \n",
       "36          0.618594       1343       1215        463       C6.0  2211110255   \n",
       "37          0.619182         83        799        463       C1.1  2211113155   \n",
       "38          0.619478         91        863        463       B9.3  2211117066   \n",
       "39          0.619805       6399       3199        863       M1.2  2211114421   \n",
       "40          0.620844       1215        991        463       C1.4  2211110132   \n",
       "41          0.620929        199        863        463       B8.0  2211118828   \n",
       "42          0.622771        167        863        463       C1.6  2211116710   \n",
       "43          0.623878         83        799        431       B8.0  2211119540   \n",
       "44          0.624689         75        799        431       B7.7  2211112507   \n",
       "45          0.625000         83        799        431       C1.2  2211113044   \n",
       "46          0.625384         83        863        463       B9.6  2211118361   \n",
       "\n",
       "                                            aux_paths  \\\n",
       "0   ./aux_data/solo_L2_stix-aux-ephemeris_20221109...   \n",
       "1   ./aux_data/solo_L2_stix-aux-ephemeris_20221109...   \n",
       "2   ./aux_data/solo_L2_stix-aux-ephemeris_20221109...   \n",
       "3   ./aux_data/solo_L2_stix-aux-ephemeris_20221109...   \n",
       "4   ./aux_data/solo_L2_stix-aux-ephemeris_20221109...   \n",
       "5   ./aux_data/solo_L2_stix-aux-ephemeris_20221109...   \n",
       "6   ./aux_data/solo_L2_stix-aux-ephemeris_20221109...   \n",
       "7   ./aux_data/solo_L2_stix-aux-ephemeris_20221109...   \n",
       "8   ./aux_data/solo_L2_stix-aux-ephemeris_20221109...   \n",
       "9   ./aux_data/solo_L2_stix-aux-ephemeris_20221110...   \n",
       "10  ./aux_data/solo_L2_stix-aux-ephemeris_20221110...   \n",
       "11  ./aux_data/solo_L2_stix-aux-ephemeris_20221110...   \n",
       "12  ./aux_data/solo_L2_stix-aux-ephemeris_20221110...   \n",
       "13  ./aux_data/solo_L2_stix-aux-ephemeris_20221110...   \n",
       "14  ./aux_data/solo_L2_stix-aux-ephemeris_20221110...   \n",
       "15  ./aux_data/solo_L2_stix-aux-ephemeris_20221110...   \n",
       "16  ./aux_data/solo_L2_stix-aux-ephemeris_20221110...   \n",
       "17  ./aux_data/solo_L2_stix-aux-ephemeris_20221110...   \n",
       "18  ./aux_data/solo_L2_stix-aux-ephemeris_20221110...   \n",
       "19  ./aux_data/solo_L2_stix-aux-ephemeris_20221110...   \n",
       "20  ./aux_data/solo_L2_stix-aux-ephemeris_20221110...   \n",
       "21  ./aux_data/solo_L2_stix-aux-ephemeris_20221110...   \n",
       "22  ./aux_data/solo_L2_stix-aux-ephemeris_20221110...   \n",
       "23  ./aux_data/solo_L2_stix-aux-ephemeris_20221111...   \n",
       "24  ./aux_data/solo_L2_stix-aux-ephemeris_20221111...   \n",
       "25  ./aux_data/solo_L2_stix-aux-ephemeris_20221111...   \n",
       "26  ./aux_data/solo_L2_stix-aux-ephemeris_20221111...   \n",
       "27  ./aux_data/solo_L2_stix-aux-ephemeris_20221111...   \n",
       "28  ./aux_data/solo_L2_stix-aux-ephemeris_20221111...   \n",
       "29  ./aux_data/solo_L2_stix-aux-ephemeris_20221111...   \n",
       "30  ./aux_data/solo_L2_stix-aux-ephemeris_20221111...   \n",
       "31  ./aux_data/solo_L2_stix-aux-ephemeris_20221111...   \n",
       "32  ./aux_data/solo_L2_stix-aux-ephemeris_20221111...   \n",
       "33  ./aux_data/solo_L2_stix-aux-ephemeris_20221111...   \n",
       "34  ./aux_data/solo_L2_stix-aux-ephemeris_20221111...   \n",
       "35  ./aux_data/solo_L2_stix-aux-ephemeris_20221111...   \n",
       "36  ./aux_data/solo_L2_stix-aux-ephemeris_20221111...   \n",
       "37  ./aux_data/solo_L2_stix-aux-ephemeris_20221111...   \n",
       "38  ./aux_data/solo_L2_stix-aux-ephemeris_20221111...   \n",
       "39  ./aux_data/solo_L2_stix-aux-ephemeris_20221111...   \n",
       "40  ./aux_data/solo_L2_stix-aux-ephemeris_20221111...   \n",
       "41  ./aux_data/solo_L2_stix-aux-ephemeris_20221111...   \n",
       "42  ./aux_data/solo_L2_stix-aux-ephemeris_20221111...   \n",
       "43  ./aux_data/solo_L2_stix-aux-ephemeris_20221111...   \n",
       "44  ./aux_data/solo_L2_stix-aux-ephemeris_20221111...   \n",
       "45  ./aux_data/solo_L2_stix-aux-ephemeris_20221111...   \n",
       "46  ./aux_data/solo_L2_stix-aux-ephemeris_20221111...   \n",
       "\n",
       "                                          pixel_paths  \n",
       "0   ./pixel_data/solo_L1_stix-sci-xray-cpd_2022110...  \n",
       "1   ./pixel_data/solo_L1_stix-sci-xray-cpd_2022110...  \n",
       "2   ./pixel_data/solo_L1_stix-sci-xray-cpd_2022110...  \n",
       "3   ./pixel_data/solo_L1_stix-sci-xray-cpd_2022110...  \n",
       "4   ./pixel_data/solo_L1_stix-sci-xray-cpd_2022110...  \n",
       "5   ./pixel_data/solo_L1_stix-sci-xray-cpd_2022110...  \n",
       "6   ./pixel_data/solo_L1_stix-sci-xray-cpd_2022110...  \n",
       "7   ./pixel_data/solo_L1_stix-sci-xray-cpd_2022110...  \n",
       "8   ./pixel_data/solo_L1_stix-sci-xray-cpd_2022110...  \n",
       "9   ./pixel_data/solo_L1_stix-sci-xray-cpd_2022111...  \n",
       "10  ./pixel_data/solo_L1_stix-sci-xray-cpd_2022111...  \n",
       "11  ./pixel_data/solo_L1_stix-sci-xray-cpd_2022111...  \n",
       "12  ./pixel_data/solo_L1_stix-sci-xray-cpd_2022111...  \n",
       "13  ./pixel_data/solo_L1_stix-sci-xray-cpd_2022111...  \n",
       "14  ./pixel_data/solo_L1_stix-sci-xray-cpd_2022111...  \n",
       "15  ./pixel_data/solo_L1_stix-sci-xray-cpd_2022111...  \n",
       "16  ./pixel_data/solo_L1_stix-sci-xray-cpd_2022111...  \n",
       "17  ./pixel_data/solo_L1_stix-sci-xray-cpd_2022111...  \n",
       "18  ./pixel_data/solo_L1_stix-sci-xray-cpd_2022111...  \n",
       "19  ./pixel_data/solo_L1_stix-sci-xray-cpd_2022111...  \n",
       "20  ./pixel_data/solo_L1_stix-sci-xray-cpd_2022111...  \n",
       "21  ./pixel_data/solo_L1_stix-sci-xray-cpd_2022111...  \n",
       "22  ./pixel_data/solo_L1_stix-sci-xray-cpd_2022111...  \n",
       "23  ./pixel_data/solo_L1_stix-sci-xray-cpd_2022111...  \n",
       "24  ./pixel_data/solo_L1_stix-sci-xray-cpd_2022111...  \n",
       "25  ./pixel_data/solo_L1_stix-sci-xray-cpd_2022111...  \n",
       "26  ./pixel_data/solo_L1_stix-sci-xray-cpd_2022111...  \n",
       "27  ./pixel_data/solo_L1_stix-sci-xray-cpd_2022111...  \n",
       "28  ./pixel_data/solo_L1_stix-sci-xray-cpd_2022111...  \n",
       "29  ./pixel_data/solo_L1_stix-sci-xray-cpd_2022111...  \n",
       "30  ./pixel_data/solo_L1_stix-sci-xray-cpd_2022111...  \n",
       "31  ./pixel_data/solo_L1_stix-sci-xray-cpd_2022111...  \n",
       "32  ./pixel_data/solo_L1_stix-sci-xray-cpd_2022111...  \n",
       "33  ./pixel_data/solo_L1_stix-sci-xray-cpd_2022111...  \n",
       "34  ./pixel_data/solo_L1_stix-sci-xray-cpd_2022111...  \n",
       "35  ./pixel_data/solo_L1_stix-sci-xray-cpd_2022111...  \n",
       "36  ./pixel_data/solo_L1_stix-sci-xray-cpd_2022111...  \n",
       "37  ./pixel_data/solo_L1_stix-sci-xray-cpd_2022111...  \n",
       "38  ./pixel_data/solo_L1_stix-sci-xray-cpd_2022111...  \n",
       "39  ./pixel_data/solo_L1_stix-sci-xray-cpd_2022111...  \n",
       "40  ./pixel_data/solo_L1_stix-sci-xray-cpd_2022111...  \n",
       "41  ./pixel_data/solo_L1_stix-sci-xray-cpd_2022111...  \n",
       "42  ./pixel_data/solo_L1_stix-sci-xray-cpd_2022111...  \n",
       "43  ./pixel_data/solo_L1_stix-sci-xray-cpd_2022111...  \n",
       "44  ./pixel_data/solo_L1_stix-sci-xray-cpd_2022111...  \n",
       "45  ./pixel_data/solo_L1_stix-sci-xray-cpd_2022111...  \n",
       "46  ./pixel_data/solo_L1_stix-sci-xray-cpd_2022111...  "
      ]
     },
     "execution_count": 47,
     "metadata": {},
     "output_type": "execute_result"
    }
   ],
   "source": [
    "stix_flare_w_files"
   ]
  },
  {
   "cell_type": "code",
   "execution_count": 27,
   "id": "2905dff5-c7db-410d-8190-ac0157b893cb",
   "metadata": {},
   "outputs": [],
   "source": [
    "stix_flare_w_files.to_csv(\"full_flarelist_with_paths.csv\", index=False, index_label=False)"
   ]
  },
  {
   "cell_type": "code",
   "execution_count": null,
   "id": "d543c98d",
   "metadata": {},
   "outputs": [],
   "source": []
  },
  {
   "cell_type": "code",
   "execution_count": 1,
   "id": "c4d4a231-8d00-48e3-86bd-ad8f3a09991a",
   "metadata": {},
   "outputs": [],
   "source": [
    "import pandas as pd"
   ]
  },
  {
   "cell_type": "code",
   "execution_count": 28,
   "id": "7a6f6fcc-982f-4803-a9a8-a135b18b4910",
   "metadata": {},
   "outputs": [],
   "source": [
    "final_flares = pd.read_csv(\"full_flarelist_with_paths.csv\")"
   ]
  },
  {
   "cell_type": "code",
   "execution_count": 29,
   "id": "bc8a55fb-39f2-41d6-80ad-3ca7eb03d6d4",
   "metadata": {},
   "outputs": [
    {
     "data": {
      "text/html": [
       "<div>\n",
       "<style scoped>\n",
       "    .dataframe tbody tr th:only-of-type {\n",
       "        vertical-align: middle;\n",
       "    }\n",
       "\n",
       "    .dataframe tbody tr th {\n",
       "        vertical-align: top;\n",
       "    }\n",
       "\n",
       "    .dataframe thead th {\n",
       "        text-align: right;\n",
       "    }\n",
       "</style>\n",
       "<table border=\"1\" class=\"dataframe\">\n",
       "  <thead>\n",
       "    <tr style=\"text-align: right;\">\n",
       "      <th></th>\n",
       "      <th>flare_id</th>\n",
       "      <th>att_in</th>\n",
       "      <th>GOES_flux</th>\n",
       "      <th>start_UTC</th>\n",
       "      <th>peak_UTC</th>\n",
       "      <th>end_UTC</th>\n",
       "      <th>4-10 keV</th>\n",
       "      <th>10-15 keV</th>\n",
       "      <th>number_available_files</th>\n",
       "      <th>available_file_request_IDs</th>\n",
       "      <th>solo_lat</th>\n",
       "      <th>solo_lon</th>\n",
       "      <th>solo_AU_distance</th>\n",
       "      <th>15-25 keV</th>\n",
       "      <th>25-50 keV</th>\n",
       "      <th>50-84 keV</th>\n",
       "      <th>GOES_class</th>\n",
       "      <th>Request IDs</th>\n",
       "      <th>aux_paths</th>\n",
       "      <th>pixel_paths</th>\n",
       "    </tr>\n",
       "  </thead>\n",
       "  <tbody>\n",
       "    <tr>\n",
       "      <th>0</th>\n",
       "      <td>2211090050</td>\n",
       "      <td>False</td>\n",
       "      <td>6.073233e-07</td>\n",
       "      <td>2022-11-09T00:44:44.012</td>\n",
       "      <td>2022-11-09 00:50:20.013</td>\n",
       "      <td>2022-11-09T00:52:56.013</td>\n",
       "      <td>1215</td>\n",
       "      <td>271</td>\n",
       "      <td>1</td>\n",
       "      <td>[2211090305]</td>\n",
       "      <td>9.180063</td>\n",
       "      <td>-24.156920</td>\n",
       "      <td>0.590873</td>\n",
       "      <td>135</td>\n",
       "      <td>799</td>\n",
       "      <td>463</td>\n",
       "      <td>B6.1</td>\n",
       "      <td>2211090305</td>\n",
       "      <td>./aux_data/solo_L2_stix-aux-ephemeris_20221109...</td>\n",
       "      <td>./pixel_data/solo_L1_stix-sci-xray-cpd_2022110...</td>\n",
       "    </tr>\n",
       "    <tr>\n",
       "      <th>1</th>\n",
       "      <td>2211090458</td>\n",
       "      <td>False</td>\n",
       "      <td>6.310129e-07</td>\n",
       "      <td>2022-11-09T04:52:52.037</td>\n",
       "      <td>2022-11-09 04:58:16.038</td>\n",
       "      <td>2022-11-09T05:06:20.039</td>\n",
       "      <td>335</td>\n",
       "      <td>75</td>\n",
       "      <td>1</td>\n",
       "      <td>[2211094607]</td>\n",
       "      <td>9.177897</td>\n",
       "      <td>-23.999941</td>\n",
       "      <td>0.592948</td>\n",
       "      <td>83</td>\n",
       "      <td>863</td>\n",
       "      <td>431</td>\n",
       "      <td>B6.3</td>\n",
       "      <td>2211094607</td>\n",
       "      <td>./aux_data/solo_L2_stix-aux-ephemeris_20221109...</td>\n",
       "      <td>./pixel_data/solo_L1_stix-sci-xray-cpd_2022110...</td>\n",
       "    </tr>\n",
       "    <tr>\n",
       "      <th>2</th>\n",
       "      <td>2211090551</td>\n",
       "      <td>False</td>\n",
       "      <td>7.278045e-07</td>\n",
       "      <td>2022-11-09T05:39:48.042</td>\n",
       "      <td>2022-11-09 05:51:40.043</td>\n",
       "      <td>2022-11-09T06:12:08.045</td>\n",
       "      <td>367</td>\n",
       "      <td>67</td>\n",
       "      <td>1</td>\n",
       "      <td>[2211090238]</td>\n",
       "      <td>9.177393</td>\n",
       "      <td>-23.966433</td>\n",
       "      <td>0.593394</td>\n",
       "      <td>83</td>\n",
       "      <td>863</td>\n",
       "      <td>463</td>\n",
       "      <td>B7.3</td>\n",
       "      <td>2211090238</td>\n",
       "      <td>./aux_data/solo_L2_stix-aux-ephemeris_20221109...</td>\n",
       "      <td>./pixel_data/solo_L1_stix-sci-xray-cpd_2022110...</td>\n",
       "    </tr>\n",
       "    <tr>\n",
       "      <th>3</th>\n",
       "      <td>2211090720</td>\n",
       "      <td>False</td>\n",
       "      <td>9.645386e-07</td>\n",
       "      <td>2022-11-09T07:18:12.052</td>\n",
       "      <td>2022-11-09 07:20:44.052</td>\n",
       "      <td>2022-11-09T07:28:40.053</td>\n",
       "      <td>2431</td>\n",
       "      <td>247</td>\n",
       "      <td>1</td>\n",
       "      <td>[2211091049]</td>\n",
       "      <td>9.176525</td>\n",
       "      <td>-23.910781</td>\n",
       "      <td>0.594137</td>\n",
       "      <td>115</td>\n",
       "      <td>799</td>\n",
       "      <td>463</td>\n",
       "      <td>B9.6</td>\n",
       "      <td>2211091049</td>\n",
       "      <td>./aux_data/solo_L2_stix-aux-ephemeris_20221109...</td>\n",
       "      <td>./pixel_data/solo_L1_stix-sci-xray-cpd_2022110...</td>\n",
       "    </tr>\n",
       "    <tr>\n",
       "      <th>4</th>\n",
       "      <td>2211090908</td>\n",
       "      <td>False</td>\n",
       "      <td>6.582638e-07</td>\n",
       "      <td>2022-11-09T08:58:40.062</td>\n",
       "      <td>2022-11-09 09:08:44.063</td>\n",
       "      <td>2022-11-09T09:14:56.064</td>\n",
       "      <td>607</td>\n",
       "      <td>135</td>\n",
       "      <td>1</td>\n",
       "      <td>[2211096407]</td>\n",
       "      <td>9.175424</td>\n",
       "      <td>-23.843695</td>\n",
       "      <td>0.595037</td>\n",
       "      <td>107</td>\n",
       "      <td>863</td>\n",
       "      <td>463</td>\n",
       "      <td>B6.6</td>\n",
       "      <td>2211096407</td>\n",
       "      <td>./aux_data/solo_L2_stix-aux-ephemeris_20221109...</td>\n",
       "      <td>./pixel_data/solo_L1_stix-sci-xray-cpd_2022110...</td>\n",
       "    </tr>\n",
       "  </tbody>\n",
       "</table>\n",
       "</div>"
      ],
      "text/plain": [
       "     flare_id  att_in     GOES_flux                start_UTC  \\\n",
       "0  2211090050   False  6.073233e-07  2022-11-09T00:44:44.012   \n",
       "1  2211090458   False  6.310129e-07  2022-11-09T04:52:52.037   \n",
       "2  2211090551   False  7.278045e-07  2022-11-09T05:39:48.042   \n",
       "3  2211090720   False  9.645386e-07  2022-11-09T07:18:12.052   \n",
       "4  2211090908   False  6.582638e-07  2022-11-09T08:58:40.062   \n",
       "\n",
       "                  peak_UTC                  end_UTC  4-10 keV  10-15 keV  \\\n",
       "0  2022-11-09 00:50:20.013  2022-11-09T00:52:56.013      1215        271   \n",
       "1  2022-11-09 04:58:16.038  2022-11-09T05:06:20.039       335         75   \n",
       "2  2022-11-09 05:51:40.043  2022-11-09T06:12:08.045       367         67   \n",
       "3  2022-11-09 07:20:44.052  2022-11-09T07:28:40.053      2431        247   \n",
       "4  2022-11-09 09:08:44.063  2022-11-09T09:14:56.064       607        135   \n",
       "\n",
       "   number_available_files available_file_request_IDs  solo_lat   solo_lon  \\\n",
       "0                       1               [2211090305]  9.180063 -24.156920   \n",
       "1                       1               [2211094607]  9.177897 -23.999941   \n",
       "2                       1               [2211090238]  9.177393 -23.966433   \n",
       "3                       1               [2211091049]  9.176525 -23.910781   \n",
       "4                       1               [2211096407]  9.175424 -23.843695   \n",
       "\n",
       "   solo_AU_distance  15-25 keV  25-50 keV  50-84 keV GOES_class  Request IDs  \\\n",
       "0          0.590873        135        799        463       B6.1   2211090305   \n",
       "1          0.592948         83        863        431       B6.3   2211094607   \n",
       "2          0.593394         83        863        463       B7.3   2211090238   \n",
       "3          0.594137        115        799        463       B9.6   2211091049   \n",
       "4          0.595037        107        863        463       B6.6   2211096407   \n",
       "\n",
       "                                           aux_paths  \\\n",
       "0  ./aux_data/solo_L2_stix-aux-ephemeris_20221109...   \n",
       "1  ./aux_data/solo_L2_stix-aux-ephemeris_20221109...   \n",
       "2  ./aux_data/solo_L2_stix-aux-ephemeris_20221109...   \n",
       "3  ./aux_data/solo_L2_stix-aux-ephemeris_20221109...   \n",
       "4  ./aux_data/solo_L2_stix-aux-ephemeris_20221109...   \n",
       "\n",
       "                                         pixel_paths  \n",
       "0  ./pixel_data/solo_L1_stix-sci-xray-cpd_2022110...  \n",
       "1  ./pixel_data/solo_L1_stix-sci-xray-cpd_2022110...  \n",
       "2  ./pixel_data/solo_L1_stix-sci-xray-cpd_2022110...  \n",
       "3  ./pixel_data/solo_L1_stix-sci-xray-cpd_2022110...  \n",
       "4  ./pixel_data/solo_L1_stix-sci-xray-cpd_2022110...  "
      ]
     },
     "execution_count": 29,
     "metadata": {},
     "output_type": "execute_result"
    }
   ],
   "source": [
    "final_flares.head()"
   ]
  },
  {
   "cell_type": "code",
   "execution_count": 58,
   "id": "5d045730",
   "metadata": {},
   "outputs": [
    {
     "data": {
      "text/plain": [
       "47"
      ]
     },
     "execution_count": 58,
     "metadata": {},
     "output_type": "execute_result"
    }
   ],
   "source": [
    "len(final_flares)"
   ]
  },
  {
   "cell_type": "code",
   "execution_count": 12,
   "id": "a36fc362-ca83-4b52-b367-0b129170c6bb",
   "metadata": {},
   "outputs": [
    {
     "data": {
      "text/plain": [
       "(array([439., 283., 197., 167., 128.,  65.,  42.,  44.,  38.,  49.]),\n",
       " array([4.03144886, 4.25619175, 4.48093463, 4.70567751, 4.9304204 ,\n",
       "        5.15516328, 5.37990616, 5.60464905, 5.82939193, 6.05413482,\n",
       "        6.2788777 ]),\n",
       " <BarContainer object of 10 artists>)"
      ]
     },
     "execution_count": 12,
     "metadata": {},
     "output_type": "execute_result"
    },
    {
     "data": {
      "image/png": "[encoded data removed]",
      "text/plain": [
       "<Figure size 640x480 with 1 Axes>"
      ]
     },
     "metadata": {},
     "output_type": "display_data"
    }
   ],
   "source": [
    "plt.hist(np.log10(final_flares[\"4-10 keV\"]))"
   ]
  },
  {
   "cell_type": "markdown",
   "id": "511488c9",
   "metadata": {},
   "source": [
    "# Demonstrate Incorrect File Finding Issue"
   ]
  },
  {
   "cell_type": "code",
   "execution_count": 46,
   "id": "0e1a58c7",
   "metadata": {},
   "outputs": [],
   "source": [
    "i=40\n",
    "tstart = stix_flare_w_files.iloc[i]['start_UTC']\n",
    "tend = stix_flare_w_files.iloc[i]['end_UTC']\n",
    "req_id = stix_flare_w_files.iloc[i]['Request IDs']"
   ]
  },
  {
   "cell_type": "code",
   "execution_count": 47,
   "id": "1b266d3e",
   "metadata": {},
   "outputs": [
    {
     "data": {
      "text/plain": [
       "'2211110132'"
      ]
     },
     "execution_count": 47,
     "metadata": {},
     "output_type": "execute_result"
    }
   ],
   "source": [
    "req_id"
   ]
  },
  {
   "cell_type": "code",
   "execution_count": 48,
   "id": "eb9b69d0",
   "metadata": {},
   "outputs": [],
   "source": [
    "res = Fido.search(a.Time(tstart, tend), a.Instrument.stix, a.stix.DataProduct.sci_xray_cpd)\n"
   ]
  },
  {
   "cell_type": "code",
   "execution_count": 49,
   "id": "d7d066fe",
   "metadata": {},
   "outputs": [
    {
     "data": {
      "text/html": [
       "Results from 1 Provider:</br></br>3 Results from the STIXClient:</br><div><i>QueryResponse length=3</i>\n",
       "<table id=\"table6522394544\" class=\"table-striped table-bordered table-condensed\">\n",
       "<thead><tr><th>Start Time</th><th>End Time</th><th>Instrument</th><th>Level</th><th>DataType</th><th>DataProduct</th><th>Ver</th><th>Request ID</th></tr></thead>\n",
       "<thead><tr><th>str23</th><th>str23</th><th>str4</th><th>str2</th><th>str3</th><th>str12</th><th>str3</th><th>int64</th></tr></thead>\n",
       "<tr><td>2022-11-11 13:30:50.000</td><td>2022-11-11 13:45:04.000</td><td>STIX</td><td>L1</td><td>SCI</td><td>sci-xray-cpd</td><td>V01</td><td>2211115723</td></tr>\n",
       "<tr><td>2022-11-11 13:44:13.000</td><td>2022-11-11 13:50:19.000</td><td>STIX</td><td>L1</td><td>SCI</td><td>sci-xray-cpd</td><td>V01</td><td>2211110132</td></tr>\n",
       "<tr><td>2022-11-11 13:54:39.000</td><td>2022-11-11 14:00:21.000</td><td>STIX</td><td>L1</td><td>SCI</td><td>sci-xray-cpd</td><td>V01</td><td>2211118828</td></tr>\n",
       "</table></div></br>"
      ],
      "text/plain": [
       "<sunpy.net.fido_factory.UnifiedResponse object at 0x1844c8970>\n",
       "Results from 1 Provider:\n",
       "\n",
       "3 Results from the STIXClient:\n",
       "\n",
       "       Start Time               End Time        Instrument Level DataType DataProduct  Ver Request ID\n",
       "----------------------- ----------------------- ---------- ----- -------- ------------ --- ----------\n",
       "2022-11-11 13:30:50.000 2022-11-11 13:45:04.000       STIX    L1      SCI sci-xray-cpd V01 2211115723\n",
       "2022-11-11 13:44:13.000 2022-11-11 13:50:19.000       STIX    L1      SCI sci-xray-cpd V01 2211110132\n",
       "2022-11-11 13:54:39.000 2022-11-11 14:00:21.000       STIX    L1      SCI sci-xray-cpd V01 2211118828\n"
      ]
     },
     "execution_count": 49,
     "metadata": {},
     "output_type": "execute_result"
    }
   ],
   "source": [
    "res"
   ]
  },
  {
   "cell_type": "code",
   "execution_count": 50,
   "id": "72f26bbb",
   "metadata": {},
   "outputs": [
    {
     "name": "stderr",
     "output_type": "stream",
     "text": [
      "/opt/anaconda3/envs/stix_conda/lib/python3.10/site-packages/astropy/table/column.py:330: FutureWarning: elementwise comparison failed; returning scalar instead, but in the future will perform elementwise comparison\n",
      "  result = getattr(super(Column, self), op)(other)\n"
     ]
    }
   ],
   "source": [
    "res_filtered = res[\"stix\"][res[\"stix\"][\"Request ID\"] == req_id]"
   ]
  },
  {
   "cell_type": "code",
   "execution_count": 51,
   "id": "8e19a294",
   "metadata": {},
   "outputs": [
    {
     "data": {
      "text/html": [
       "<i>QueryResponseRow index=0</i>\n",
       "<table id=\"table6517490400\">\n",
       "<thead><tr><th>Start Time</th><th>End Time</th><th>Instrument</th><th>Level</th><th>DataType</th><th>DataProduct</th><th>Ver</th><th>url</th><th>Request ID</th></tr></thead>\n",
       "<thead><tr><th>str23</th><th>str23</th><th>str4</th><th>str2</th><th>str3</th><th>str12</th><th>str3</th><th>str144</th><th>int64</th></tr></thead>\n",
       "<tr><td>2022-11-11 13:30:50.000</td><td>2022-11-11 13:45:04.000</td><td>STIX</td><td>L1</td><td>SCI</td><td>sci-xray-cpd</td><td>V01</td><td>http://pub099.cs.technik.fhnw.ch/data/fits/L1/2022/11/11/SCI/solo_L1_stix-sci-xray-cpd_20221111T133050-20221111T134504_V01_2211115723-54718.fits</td><td>2211115723</td></tr>\n",
       "</table>"
      ],
      "text/plain": [
       "<QueryResponseRow index=0>\n",
       "       Start Time               End Time        Instrument Level DataType DataProduct  Ver                                                                        url                                                                        Request ID\n",
       "         str23                   str23             str4     str2   str3      str12     str3                                                                      str144                                                                        int64   \n",
       "----------------------- ----------------------- ---------- ----- -------- ------------ ---- ------------------------------------------------------------------------------------------------------------------------------------------------ ----------\n",
       "2022-11-11 13:30:50.000 2022-11-11 13:45:04.000       STIX    L1      SCI sci-xray-cpd  V01 http://pub099.cs.technik.fhnw.ch/data/fits/L1/2022/11/11/SCI/solo_L1_stix-sci-xray-cpd_20221111T133050-20221111T134504_V01_2211115723-54718.fits 2211115723"
      ]
     },
     "execution_count": 51,
     "metadata": {},
     "output_type": "execute_result"
    }
   ],
   "source": [
    "res[\"stix\"][res[\"stix\"][\"Request ID\"] == req_id]"
   ]
  },
  {
   "cell_type": "code",
   "execution_count": 43,
   "id": "a3ab4483",
   "metadata": {},
   "outputs": [
    {
     "data": {
      "text/html": [
       "<i>QueryResponseRow index=0</i>\n",
       "<table id=\"table6247911424\">\n",
       "<thead><tr><th>Start Time</th><th>End Time</th><th>Instrument</th><th>Level</th><th>DataType</th><th>DataProduct</th><th>Ver</th><th>url</th><th>Request ID</th></tr></thead>\n",
       "<thead><tr><th>str23</th><th>str23</th><th>str4</th><th>str2</th><th>str3</th><th>str12</th><th>str3</th><th>str144</th><th>int64</th></tr></thead>\n",
       "<tr><td>2022-11-11 10:39:32.000</td><td>2022-11-11 10:51:20.000</td><td>STIX</td><td>L1</td><td>SCI</td><td>sci-xray-cpd</td><td>V01</td><td>http://pub099.cs.technik.fhnw.ch/data/fits/L1/2022/11/11/SCI/solo_L1_stix-sci-xray-cpd_20221111T103932-20221111T105120_V01_2211112382-54715.fits</td><td>2211112382</td></tr>\n",
       "</table>"
      ],
      "text/plain": [
       "<QueryResponseRow index=0>\n",
       "       Start Time               End Time        Instrument Level DataType DataProduct  Ver                                                                        url                                                                        Request ID\n",
       "         str23                   str23             str4     str2   str3      str12     str3                                                                      str144                                                                        int64   \n",
       "----------------------- ----------------------- ---------- ----- -------- ------------ ---- ------------------------------------------------------------------------------------------------------------------------------------------------ ----------\n",
       "2022-11-11 10:39:32.000 2022-11-11 10:51:20.000       STIX    L1      SCI sci-xray-cpd  V01 http://pub099.cs.technik.fhnw.ch/data/fits/L1/2022/11/11/SCI/solo_L1_stix-sci-xray-cpd_20221111T103932-20221111T105120_V01_2211112382-54715.fits 2211112382"
      ]
     },
     "execution_count": 43,
     "metadata": {},
     "output_type": "execute_result"
    }
   ],
   "source": [
    "res_filtered"
   ]
  },
  {
   "cell_type": "code",
   "execution_count": 39,
   "id": "01f32756",
   "metadata": {},
   "outputs": [],
   "source": [
    "res_filtered2 = res[\"stix\"][res[\"stix\"][\"Request ID\"] == int(req_id)]"
   ]
  },
  {
   "cell_type": "code",
   "execution_count": 40,
   "id": "3b74a8b4",
   "metadata": {},
   "outputs": [
    {
     "data": {
      "text/html": [
       "<div><i>QueryResponse length=1</i>\n",
       "<table id=\"table6522398720\" class=\"table-striped table-bordered table-condensed\">\n",
       "<thead><tr><th>Start Time</th><th>End Time</th><th>Instrument</th><th>Level</th><th>DataType</th><th>DataProduct</th><th>Ver</th><th>Request ID</th></tr></thead>\n",
       "<thead><tr><th>str23</th><th>str23</th><th>str4</th><th>str2</th><th>str3</th><th>str12</th><th>str3</th><th>int64</th></tr></thead>\n",
       "<tr><td>2022-11-11 10:50:03.000</td><td>2022-11-11 11:00:22.000</td><td>STIX</td><td>L1</td><td>SCI</td><td>sci-xray-cpd</td><td>V01</td><td>2211117066</td></tr>\n",
       "</table></div>"
      ],
      "text/plain": [
       "<sunpy.net.dataretriever.client.QueryResponse object at 0x184c4f1c0>\n",
       "       Start Time               End Time        Instrument Level DataType DataProduct  Ver Request ID\n",
       "----------------------- ----------------------- ---------- ----- -------- ------------ --- ----------\n",
       "2022-11-11 10:50:03.000 2022-11-11 11:00:22.000       STIX    L1      SCI sci-xray-cpd V01 2211117066"
      ]
     },
     "execution_count": 40,
     "metadata": {},
     "output_type": "execute_result"
    }
   ],
   "source": [
    "res_filtered2"
   ]
  },
  {
   "cell_type": "code",
   "execution_count": 41,
   "id": "23ae3829",
   "metadata": {},
   "outputs": [
    {
     "data": {
      "text/plain": [
       "['Fido',\n",
       " 'In',\n",
       " 'Out',\n",
       " 'STIXClient',\n",
       " 'Time',\n",
       " '_',\n",
       " '_10',\n",
       " '_12',\n",
       " '_15',\n",
       " '_18',\n",
       " '_21',\n",
       " '_23',\n",
       " '_24',\n",
       " '_25',\n",
       " '_26',\n",
       " '_28',\n",
       " '_29',\n",
       " '_30',\n",
       " '_31',\n",
       " '_32',\n",
       " '_34',\n",
       " '_36',\n",
       " '_38',\n",
       " '_40',\n",
       " '__',\n",
       " '___',\n",
       " '__builtin__',\n",
       " '__builtins__',\n",
       " '__doc__',\n",
       " '__loader__',\n",
       " '__name__',\n",
       " '__package__',\n",
       " '__spec__',\n",
       " '_dh',\n",
       " '_i',\n",
       " '_i1',\n",
       " '_i10',\n",
       " '_i11',\n",
       " '_i12',\n",
       " '_i13',\n",
       " '_i14',\n",
       " '_i15',\n",
       " '_i16',\n",
       " '_i17',\n",
       " '_i18',\n",
       " '_i19',\n",
       " '_i2',\n",
       " '_i20',\n",
       " '_i21',\n",
       " '_i22',\n",
       " '_i23',\n",
       " '_i24',\n",
       " '_i25',\n",
       " '_i26',\n",
       " '_i27',\n",
       " '_i28',\n",
       " '_i29',\n",
       " '_i3',\n",
       " '_i30',\n",
       " '_i31',\n",
       " '_i32',\n",
       " '_i33',\n",
       " '_i34',\n",
       " '_i35',\n",
       " '_i36',\n",
       " '_i37',\n",
       " '_i38',\n",
       " '_i39',\n",
       " '_i4',\n",
       " '_i40',\n",
       " '_i41',\n",
       " '_i5',\n",
       " '_i6',\n",
       " '_i7',\n",
       " '_i8',\n",
       " '_i9',\n",
       " '_ih',\n",
       " '_ii',\n",
       " '_iii',\n",
       " '_oh',\n",
       " 'a',\n",
       " 'astrospice',\n",
       " 'columns',\n",
       " 'earth_coords',\n",
       " 'exit',\n",
       " 'flare_peak_times',\n",
       " 'frames',\n",
       " 'get_aux_data',\n",
       " 'get_ipython',\n",
       " 'get_pixel_data',\n",
       " 'i',\n",
       " 'kernals',\n",
       " 'mask',\n",
       " 'np',\n",
       " 'pd',\n",
       " 'plt',\n",
       " 'quit',\n",
       " 'req_id',\n",
       " 'res',\n",
       " 'res_filtered',\n",
       " 'res_filtered2',\n",
       " 'solo_coords',\n",
       " 'stix_big_flares',\n",
       " 'stix_flare_w_files',\n",
       " 'stix_flares_tidy',\n",
       " 'tend',\n",
       " 'tstart',\n",
       " 'u']"
      ]
     },
     "execution_count": 41,
     "metadata": {},
     "output_type": "execute_result"
    }
   ],
   "source": [
    "dir()"
   ]
  },
  {
   "cell_type": "code",
   "execution_count": 31,
   "id": "5f3fd135",
   "metadata": {},
   "outputs": [
    {
     "data": {
      "text/plain": [
       "2211110132"
      ]
     },
     "execution_count": 31,
     "metadata": {},
     "output_type": "execute_result"
    }
   ],
   "source": [
    "int(req_id)"
   ]
  },
  {
   "cell_type": "code",
   "execution_count": 30,
   "id": "b39d2116",
   "metadata": {},
   "outputs": [
    {
     "data": {
      "text/plain": [
       "int"
      ]
     },
     "execution_count": 30,
     "metadata": {},
     "output_type": "execute_result"
    }
   ],
   "source": [
    "type(2211110132)"
   ]
  },
  {
   "cell_type": "code",
   "execution_count": 32,
   "id": "e86c04e7",
   "metadata": {},
   "outputs": [
    {
     "data": {
      "text/plain": [
       "array([False,  True, False])"
      ]
     },
     "execution_count": 32,
     "metadata": {},
     "output_type": "execute_result"
    }
   ],
   "source": [
    "res[\"stix\"][\"Request ID\"] == int(req_id)"
   ]
  },
  {
   "cell_type": "code",
   "execution_count": 27,
   "id": "ba100112",
   "metadata": {},
   "outputs": [],
   "source": [
    "mask = res['stix'][\"Request ID\"] == 2211110132"
   ]
  },
  {
   "cell_type": "code",
   "execution_count": 28,
   "id": "8e987bae",
   "metadata": {},
   "outputs": [
    {
     "data": {
      "text/plain": [
       "array([False,  True, False])"
      ]
     },
     "execution_count": 28,
     "metadata": {},
     "output_type": "execute_result"
    }
   ],
   "source": [
    "mask"
   ]
  },
  {
   "cell_type": "code",
   "execution_count": 23,
   "id": "54980d21",
   "metadata": {},
   "outputs": [
    {
     "data": {
      "text/html": [
       "<i>QueryResponseRow index=0</i>\n",
       "<table id=\"table6507876352\">\n",
       "<thead><tr><th>Start Time</th><th>End Time</th><th>Instrument</th><th>Level</th><th>DataType</th><th>DataProduct</th><th>Ver</th><th>url</th><th>Request ID</th></tr></thead>\n",
       "<thead><tr><th>str23</th><th>str23</th><th>str4</th><th>str2</th><th>str3</th><th>str12</th><th>str3</th><th>str144</th><th>int64</th></tr></thead>\n",
       "<tr><td>2022-11-11 13:30:50.000</td><td>2022-11-11 13:45:04.000</td><td>STIX</td><td>L1</td><td>SCI</td><td>sci-xray-cpd</td><td>V01</td><td>http://pub099.cs.technik.fhnw.ch/data/fits/L1/2022/11/11/SCI/solo_L1_stix-sci-xray-cpd_20221111T133050-20221111T134504_V01_2211115723-54718.fits</td><td>2211115723</td></tr>\n",
       "</table>"
      ],
      "text/plain": [
       "<QueryResponseRow index=0>\n",
       "       Start Time               End Time        Instrument Level DataType DataProduct  Ver                                                                        url                                                                        Request ID\n",
       "         str23                   str23             str4     str2   str3      str12     str3                                                                      str144                                                                        int64   \n",
       "----------------------- ----------------------- ---------- ----- -------- ------------ ---- ------------------------------------------------------------------------------------------------------------------------------------------------ ----------\n",
       "2022-11-11 13:30:50.000 2022-11-11 13:45:04.000       STIX    L1      SCI sci-xray-cpd  V01 http://pub099.cs.technik.fhnw.ch/data/fits/L1/2022/11/11/SCI/solo_L1_stix-sci-xray-cpd_20221111T133050-20221111T134504_V01_2211115723-54718.fits 2211115723"
      ]
     },
     "execution_count": 23,
     "metadata": {},
     "output_type": "execute_result"
    }
   ],
   "source": [
    "res_filtered"
   ]
  },
  {
   "cell_type": "code",
   "execution_count": null,
   "id": "622f7b50",
   "metadata": {},
   "outputs": [],
   "source": []
  },
  {
   "cell_type": "code",
   "execution_count": null,
   "id": "3e08ad08",
   "metadata": {},
   "outputs": [],
   "source": []
  },
  {
   "cell_type": "code",
   "execution_count": 83,
   "id": "b8cb90f2",
   "metadata": {},
   "outputs": [
    {
     "data": {
      "text/plain": [
       "flare_id                                                             2211111346\n",
       "att_in                                                                    False\n",
       "GOES_flux                                                              0.000001\n",
       "start_UTC                                               2022-11-11T13:32:56.086\n",
       "peak_UTC                                                2022-11-11 13:46:32.087\n",
       "end_UTC                                                 2022-11-11T13:55:48.088\n",
       "4-10 keV                                                                  12799\n",
       "10-15 keV                                                                  3199\n",
       "number_available_files                                                        1\n",
       "available_file_request_IDs                                         [2211110132]\n",
       "solo_lat                                                               9.122204\n",
       "solo_lon                                                             -22.063143\n",
       "solo_AU_distance                                                       0.620844\n",
       "Request IDs                                                          2211110132\n",
       "aux_paths                     ./aux_data/solo_L2_stix-aux-ephemeris_20221111...\n",
       "pixel_paths                   ./pixel_data/solo_L1_stix-sci-xray-cpd_2022111...\n",
       "15-25 keV                                                                    75\n",
       "25-50 keV                                                                   799\n",
       "50-84 keV                                                                   431\n",
       "GOES_class                                                                 B6.7\n",
       "Name: 40, dtype: object"
      ]
     },
     "execution_count": 83,
     "metadata": {},
     "output_type": "execute_result"
    }
   ],
   "source": [
    "final_flares.iloc[i]"
   ]
  },
  {
   "cell_type": "code",
   "execution_count": 82,
   "id": "91e8eff0",
   "metadata": {},
   "outputs": [],
   "source": [
    "i=40\n",
    "tstart = final_flares.iloc[i]['start_UTC']\n",
    "tend = final_flares.iloc[i]['end_UTC']\n",
    "req_id = final_flares.iloc[i]['Request IDs']"
   ]
  },
  {
   "cell_type": "code",
   "execution_count": 67,
   "id": "bd66bd60",
   "metadata": {},
   "outputs": [
    {
     "name": "stdout",
     "output_type": "stream",
     "text": [
      "2022-11-11T10:49:48.069 2022-11-11T11:00:04.070\n"
     ]
    }
   ],
   "source": [
    "print(tstart,tend)"
   ]
  },
  {
   "cell_type": "code",
   "execution_count": 84,
   "id": "a4def3ed-536b-4d77-88ca-9eccf0fe39ba",
   "metadata": {},
   "outputs": [],
   "source": [
    "res = Fido.search(a.Time(tstart, tend), a.Instrument.stix, a.stix.DataProduct.sci_xray_cpd)\n"
   ]
  },
  {
   "cell_type": "code",
   "execution_count": 76,
   "id": "ed836516",
   "metadata": {},
   "outputs": [
    {
     "data": {
      "text/html": [
       "Results from 1 Provider:</br></br>2 Results from the STIXClient:</br><div><i>QueryResponse length=2</i>\n",
       "<table id=\"table6499994544\" class=\"table-striped table-bordered table-condensed\">\n",
       "<thead><tr><th>Start Time</th><th>End Time</th><th>Instrument</th><th>Level</th><th>DataType</th><th>DataProduct</th><th>Ver</th><th>Request ID</th></tr></thead>\n",
       "<thead><tr><th>str23</th><th>str23</th><th>str4</th><th>str2</th><th>str3</th><th>str12</th><th>str3</th><th>int64</th></tr></thead>\n",
       "<tr><td>2022-11-11 10:39:32.000</td><td>2022-11-11 10:51:20.000</td><td>STIX</td><td>L1</td><td>SCI</td><td>sci-xray-cpd</td><td>V01</td><td>2211112382</td></tr>\n",
       "<tr><td>2022-11-11 10:50:03.000</td><td>2022-11-11 11:00:22.000</td><td>STIX</td><td>L1</td><td>SCI</td><td>sci-xray-cpd</td><td>V01</td><td>2211117066</td></tr>\n",
       "</table></div></br>"
      ],
      "text/plain": [
       "<sunpy.net.fido_factory.UnifiedResponse object at 0x1834e40d0>\n",
       "Results from 1 Provider:\n",
       "\n",
       "2 Results from the STIXClient:\n",
       "\n",
       "       Start Time               End Time        Instrument Level DataType DataProduct  Ver Request ID\n",
       "----------------------- ----------------------- ---------- ----- -------- ------------ --- ----------\n",
       "2022-11-11 10:39:32.000 2022-11-11 10:51:20.000       STIX    L1      SCI sci-xray-cpd V01 2211112382\n",
       "2022-11-11 10:50:03.000 2022-11-11 11:00:22.000       STIX    L1      SCI sci-xray-cpd V01 2211117066\n"
      ]
     },
     "execution_count": 76,
     "metadata": {},
     "output_type": "execute_result"
    }
   ],
   "source": [
    "res"
   ]
  },
  {
   "cell_type": "code",
   "execution_count": 70,
   "id": "574e63dc",
   "metadata": {},
   "outputs": [
    {
     "data": {
      "text/plain": [
       "2211117066"
      ]
     },
     "execution_count": 70,
     "metadata": {},
     "output_type": "execute_result"
    }
   ],
   "source": [
    "req_id"
   ]
  },
  {
   "cell_type": "code",
   "execution_count": 56,
   "id": "eeaf4618",
   "metadata": {},
   "outputs": [
    {
     "data": {
      "text/html": [
       "<div><i>QueryResponse length=2</i>\n",
       "<table id=\"table6500005008\" class=\"table-striped table-bordered table-condensed\">\n",
       "<thead><tr><th>Start Time</th><th>End Time</th><th>Instrument</th><th>Level</th><th>DataType</th><th>DataProduct</th><th>Ver</th><th>Request ID</th></tr></thead>\n",
       "<thead><tr><th>str23</th><th>str23</th><th>str4</th><th>str2</th><th>str3</th><th>str12</th><th>str3</th><th>int64</th></tr></thead>\n",
       "<tr><td>2022-11-11 01:24:58.000</td><td>2022-11-11 01:40:12.000</td><td>STIX</td><td>L1</td><td>SCI</td><td>sci-xray-cpd</td><td>V01</td><td>2211113411</td></tr>\n",
       "<tr><td>2022-11-11 01:44:45.000</td><td>2022-11-11 01:55:45.000</td><td>STIX</td><td>L1</td><td>SCI</td><td>sci-xray-cpd</td><td>V01</td><td>2211118377</td></tr>\n",
       "</table></div>"
      ],
      "text/plain": [
       "<sunpy.net.dataretriever.client.QueryResponse object at 0x1783d9030>\n",
       "       Start Time               End Time        Instrument Level DataType DataProduct  Ver Request ID\n",
       "----------------------- ----------------------- ---------- ----- -------- ------------ --- ----------\n",
       "2022-11-11 01:24:58.000 2022-11-11 01:40:12.000       STIX    L1      SCI sci-xray-cpd V01 2211113411\n",
       "2022-11-11 01:44:45.000 2022-11-11 01:55:45.000       STIX    L1      SCI sci-xray-cpd V01 2211118377"
      ]
     },
     "execution_count": 56,
     "metadata": {},
     "output_type": "execute_result"
    }
   ],
   "source": [
    "res['stix']"
   ]
  },
  {
   "cell_type": "code",
   "execution_count": 85,
   "id": "045e06ea",
   "metadata": {},
   "outputs": [],
   "source": [
    "res_filtered = res[\"stix\"][res[\"stix\"][\"Request ID\"] == req_id]"
   ]
  },
  {
   "cell_type": "code",
   "execution_count": 86,
   "id": "2a271d36",
   "metadata": {},
   "outputs": [
    {
     "data": {
      "text/html": [
       "Results from 1 Provider:</br></br>3 Results from the STIXClient:</br><div><i>QueryResponse length=3</i>\n",
       "<table id=\"table6495872256\" class=\"table-striped table-bordered table-condensed\">\n",
       "<thead><tr><th>Start Time</th><th>End Time</th><th>Instrument</th><th>Level</th><th>DataType</th><th>DataProduct</th><th>Ver</th><th>Request ID</th></tr></thead>\n",
       "<thead><tr><th>str23</th><th>str23</th><th>str4</th><th>str2</th><th>str3</th><th>str12</th><th>str3</th><th>int64</th></tr></thead>\n",
       "<tr><td>2022-11-11 13:30:50.000</td><td>2022-11-11 13:45:04.000</td><td>STIX</td><td>L1</td><td>SCI</td><td>sci-xray-cpd</td><td>V01</td><td>2211115723</td></tr>\n",
       "<tr><td>2022-11-11 13:44:13.000</td><td>2022-11-11 13:50:19.000</td><td>STIX</td><td>L1</td><td>SCI</td><td>sci-xray-cpd</td><td>V01</td><td>2211110132</td></tr>\n",
       "<tr><td>2022-11-11 13:54:39.000</td><td>2022-11-11 14:00:21.000</td><td>STIX</td><td>L1</td><td>SCI</td><td>sci-xray-cpd</td><td>V01</td><td>2211118828</td></tr>\n",
       "</table></div></br>"
      ],
      "text/plain": [
       "<sunpy.net.fido_factory.UnifiedResponse object at 0x1834e43d0>\n",
       "Results from 1 Provider:\n",
       "\n",
       "3 Results from the STIXClient:\n",
       "\n",
       "       Start Time               End Time        Instrument Level DataType DataProduct  Ver Request ID\n",
       "----------------------- ----------------------- ---------- ----- -------- ------------ --- ----------\n",
       "2022-11-11 13:30:50.000 2022-11-11 13:45:04.000       STIX    L1      SCI sci-xray-cpd V01 2211115723\n",
       "2022-11-11 13:44:13.000 2022-11-11 13:50:19.000       STIX    L1      SCI sci-xray-cpd V01 2211110132\n",
       "2022-11-11 13:54:39.000 2022-11-11 14:00:21.000       STIX    L1      SCI sci-xray-cpd V01 2211118828\n"
      ]
     },
     "execution_count": 86,
     "metadata": {},
     "output_type": "execute_result"
    }
   ],
   "source": [
    "res"
   ]
  },
  {
   "cell_type": "code",
   "execution_count": 88,
   "id": "b00fa22c",
   "metadata": {},
   "outputs": [],
   "source": [
    "res = res[\"stix\"][res[\"stix\"][\"Request ID\"] == req_id]"
   ]
  },
  {
   "cell_type": "code",
   "execution_count": 89,
   "id": "c61d2680",
   "metadata": {},
   "outputs": [
    {
     "data": {
      "text/html": [
       "<div><i>QueryResponse length=1</i>\n",
       "<table id=\"table6497463040\" class=\"table-striped table-bordered table-condensed\">\n",
       "<thead><tr><th>Start Time</th><th>End Time</th><th>Instrument</th><th>Level</th><th>DataType</th><th>DataProduct</th><th>Ver</th><th>Request ID</th></tr></thead>\n",
       "<thead><tr><th>str23</th><th>str23</th><th>str4</th><th>str2</th><th>str3</th><th>str12</th><th>str3</th><th>int64</th></tr></thead>\n",
       "<tr><td>2022-11-11 13:44:13.000</td><td>2022-11-11 13:50:19.000</td><td>STIX</td><td>L1</td><td>SCI</td><td>sci-xray-cpd</td><td>V01</td><td>2211110132</td></tr>\n",
       "</table></div>"
      ],
      "text/plain": [
       "<sunpy.net.dataretriever.client.QueryResponse object at 0x183476740>\n",
       "       Start Time               End Time        Instrument Level DataType DataProduct  Ver Request ID\n",
       "----------------------- ----------------------- ---------- ----- -------- ------------ --- ----------\n",
       "2022-11-11 13:44:13.000 2022-11-11 13:50:19.000       STIX    L1      SCI sci-xray-cpd V01 2211110132"
      ]
     },
     "execution_count": 89,
     "metadata": {},
     "output_type": "execute_result"
    }
   ],
   "source": [
    "res"
   ]
  },
  {
   "cell_type": "code",
   "execution_count": 87,
   "id": "4d6009ec",
   "metadata": {},
   "outputs": [
    {
     "data": {
      "text/html": [
       "<div><i>QueryResponse length=1</i>\n",
       "<table id=\"table6505895664\" class=\"table-striped table-bordered table-condensed\">\n",
       "<thead><tr><th>Start Time</th><th>End Time</th><th>Instrument</th><th>Level</th><th>DataType</th><th>DataProduct</th><th>Ver</th><th>Request ID</th></tr></thead>\n",
       "<thead><tr><th>str23</th><th>str23</th><th>str4</th><th>str2</th><th>str3</th><th>str12</th><th>str3</th><th>int64</th></tr></thead>\n",
       "<tr><td>2022-11-11 13:44:13.000</td><td>2022-11-11 13:50:19.000</td><td>STIX</td><td>L1</td><td>SCI</td><td>sci-xray-cpd</td><td>V01</td><td>2211110132</td></tr>\n",
       "</table></div>"
      ],
      "text/plain": [
       "<sunpy.net.dataretriever.client.QueryResponse object at 0x18361c070>\n",
       "       Start Time               End Time        Instrument Level DataType DataProduct  Ver Request ID\n",
       "----------------------- ----------------------- ---------- ----- -------- ------------ --- ----------\n",
       "2022-11-11 13:44:13.000 2022-11-11 13:50:19.000       STIX    L1      SCI sci-xray-cpd V01 2211110132"
      ]
     },
     "execution_count": 87,
     "metadata": {},
     "output_type": "execute_result"
    }
   ],
   "source": [
    "res_filtered"
   ]
  },
  {
   "cell_type": "markdown",
   "id": "de1ee88f",
   "metadata": {},
   "source": [
    "# Test (Shane)"
   ]
  },
  {
   "cell_type": "code",
   "execution_count": 1,
   "id": "698d05a6",
   "metadata": {},
   "outputs": [],
   "source": [
    "from sunpy.net import Fido, attrs as a\n",
    "from stixpy.net import client\n"
   ]
  },
  {
   "cell_type": "code",
   "execution_count": 2,
   "id": "edb88127",
   "metadata": {},
   "outputs": [
    {
     "name": "stdout",
     "output_type": "stream",
     "text": [
      "Results from 1 Provider:\n",
      "\n",
      "3 Results from the STIXClient:\n",
      "\n",
      "       Start Time               End Time        Instrument Level DataType DataProduct  Ver Request ID\n",
      "----------------------- ----------------------- ---------- ----- -------- ------------ --- ----------\n",
      "2022-11-11 13:30:50.000 2022-11-11 13:45:04.000       STIX    L1      SCI sci-xray-cpd V01 2211115723\n",
      "2022-11-11 13:44:13.000 2022-11-11 13:50:19.000       STIX    L1      SCI sci-xray-cpd V01 2211110132\n",
      "2022-11-11 13:54:39.000 2022-11-11 14:00:21.000       STIX    L1      SCI sci-xray-cpd V01 2211118828\n",
      "\n",
      "\n"
     ]
    }
   ],
   "source": [
    "\n",
    "query = Fido.search(a.Time('2022-11-11T13:32:56.086', '2022-11-11T13:55:48.088'), \n",
    "                    a.Instrument.stix, a.stix.DataProduct.sci_xray_cpd)\n",
    "print(query)\n"
   ]
  },
  {
   "cell_type": "code",
   "execution_count": 3,
   "id": "80859734",
   "metadata": {},
   "outputs": [
    {
     "name": "stdout",
     "output_type": "stream",
     "text": [
      "[False  True False]\n"
     ]
    }
   ],
   "source": [
    "mask = query['stix'][\"Request ID\"] == 2211110132\n",
    "print(mask)"
   ]
  },
  {
   "cell_type": "code",
   "execution_count": 4,
   "id": "bba9e70b",
   "metadata": {},
   "outputs": [
    {
     "data": {
      "application/vnd.jupyter.widget-view+json": {
       "model_id": "6b925c3db0a24d3da85a215bd3eadb80",
       "version_major": 2,
       "version_minor": 0
      },
      "text/plain": [
       "Files Downloaded:   0%|          | 0/1 [00:00<?, ?file/s]"
      ]
     },
     "metadata": {},
     "output_type": "display_data"
    },
    {
     "data": {
      "application/vnd.jupyter.widget-view+json": {
       "model_id": "",
       "version_major": 2,
       "version_minor": 0
      },
      "text/plain": [
       "solo_L1_stix-sci-xray-cpd_20221111T134413-20221111T135019_V01_2211110132-50214.fits:   0%|          | 0.00/2.8…"
      ]
     },
     "metadata": {},
     "output_type": "display_data"
    },
    {
     "name": "stdout",
     "output_type": "stream",
     "text": [
      "['/Users/hannahcollier/sunpy/data/solo_L1_stix-sci-xray-cpd_20221111T134413-20221111T135019_V01_2211110132-50214.fits']\n"
     ]
    }
   ],
   "source": [
    "file = Fido.fetch(query['stix'][mask])\n",
    "print(file)"
   ]
  },
  {
   "cell_type": "code",
   "execution_count": 8,
   "id": "9fef37b6",
   "metadata": {},
   "outputs": [],
   "source": [
    "res2 = query[\"stix\"][query[\"stix\"][\"Request ID\"] == 2211110132]"
   ]
  },
  {
   "cell_type": "code",
   "execution_count": 10,
   "id": "26c044e1",
   "metadata": {},
   "outputs": [
    {
     "data": {
      "text/html": [
       "<div><i>QueryResponse length=1</i>\n",
       "<table id=\"table6312769712\" class=\"table-striped table-bordered table-condensed\">\n",
       "<thead><tr><th>Start Time</th><th>End Time</th><th>Instrument</th><th>Level</th><th>DataType</th><th>DataProduct</th><th>Ver</th><th>Request ID</th></tr></thead>\n",
       "<thead><tr><th>str23</th><th>str23</th><th>str4</th><th>str2</th><th>str3</th><th>str12</th><th>str3</th><th>int64</th></tr></thead>\n",
       "<tr><td>2022-11-11 13:44:13.000</td><td>2022-11-11 13:50:19.000</td><td>STIX</td><td>L1</td><td>SCI</td><td>sci-xray-cpd</td><td>V01</td><td>2211110132</td></tr>\n",
       "</table></div>"
      ],
      "text/plain": [
       "<sunpy.net.dataretriever.client.QueryResponse object at 0x178437b20>\n",
       "       Start Time               End Time        Instrument Level DataType DataProduct  Ver Request ID\n",
       "----------------------- ----------------------- ---------- ----- -------- ------------ --- ----------\n",
       "2022-11-11 13:44:13.000 2022-11-11 13:50:19.000       STIX    L1      SCI sci-xray-cpd V01 2211110132"
      ]
     },
     "execution_count": 10,
     "metadata": {},
     "output_type": "execute_result"
    }
   ],
   "source": [
    "res2"
   ]
  },
  {
   "cell_type": "code",
   "execution_count": 6,
   "id": "8c631e71",
   "metadata": {},
   "outputs": [],
   "source": [
    "import stixpy"
   ]
  },
  {
   "cell_type": "code",
   "execution_count": 7,
   "id": "a01c97a4",
   "metadata": {},
   "outputs": [
    {
     "data": {
      "text/plain": [
       "'0.1.0rc2'"
      ]
     },
     "execution_count": 7,
     "metadata": {},
     "output_type": "execute_result"
    }
   ],
   "source": [
    "stixpy.__version__"
   ]
  }
 ],
 "metadata": {
  "kernelspec": {
   "display_name": "Python 3 (ipykernel)",
   "language": "python",
   "name": "python3"
  },
  "language_info": {
   "codemirror_mode": {
    "name": "ipython",
    "version": 3
   },
   "file_extension": ".py",
   "mimetype": "text/x-python",
   "name": "python",
   "nbconvert_exporter": "python",
   "pygments_lexer": "ipython3",
   "version": "3.10.2"
  }
 },
 "nbformat": 4,
 "nbformat_minor": 5
}
